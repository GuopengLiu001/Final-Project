{
 "cells": [
  {
   "cell_type": "code",
   "execution_count": 0,
   "metadata": {
    "application/vnd.databricks.v1+cell": {
     "inputWidgets": {},
     "nuid": "1514d989-4d53-473a-b561-c61ce4afca47",
     "showTitle": false,
     "title": ""
    }
   },
   "outputs": [
    {
     "data": {
      "text/html": [
       "<style scoped>\n",
       "  .table-result-container {\n",
       "    max-height: 300px;\n",
       "    overflow: auto;\n",
       "  }\n",
       "  table, th, td {\n",
       "    border: 1px solid black;\n",
       "    border-collapse: collapse;\n",
       "  }\n",
       "  th, td {\n",
       "    padding: 5px;\n",
       "  }\n",
       "  th {\n",
       "    text-align: left;\n",
       "  }\n",
       "</style><div class='table-result-container'><table class='table-result'><thead style='background-color: white'><tr><th>SEX</th><th>Default</th><th>count(ID)</th></tr></thead><tbody><tr><td>1</td><td>0</td><td>8795</td></tr><tr><td>1</td><td>1</td><td>2821</td></tr><tr><td>2</td><td>0</td><td>13967</td></tr><tr><td>2</td><td>1</td><td>3700</td></tr></tbody></table></div>"
      ]
     },
     "metadata": {
      "application/vnd.databricks.v1+output": {
       "addedWidgets": {},
       "aggData": [],
       "aggError": "",
       "aggOverflow": false,
       "aggSchema": [],
       "aggSeriesLimitReached": false,
       "aggType": "",
       "arguments": {},
       "columnCustomDisplayInfos": {},
       "data": [
        [
         "1",
         0,
         8795
        ],
        [
         "1",
         1,
         2821
        ],
        [
         "2",
         0,
         13967
        ],
        [
         "2",
         1,
         3700
        ]
       ],
       "datasetInfos": [],
       "dbfsResultPath": null,
       "isJsonSchema": true,
       "overflow": false,
       "plotOptions": {
        "customPlotOptions": {},
        "displayType": "table",
        "pivotAggregation": null,
        "pivotColumns": null,
        "xColumns": null,
        "yColumns": null
       },
       "removedWidgets": [],
       "schema": [
        {
         "metadata": "{}",
         "name": "SEX",
         "type": "\"string\""
        },
        {
         "metadata": "{}",
         "name": "Default",
         "type": "\"integer\""
        },
        {
         "metadata": "{}",
         "name": "count(ID)",
         "type": "\"long\""
        }
       ],
       "type": "table"
      }
     },
     "output_type": "display_data"
    }
   ],
   "source": [
    "df.select(\"SEX\",\"Default\",\"ID\").groupBy(\"SEX\",\"Default\").agg(count(\"ID\")).display()"
   ]
  },
  {
   "cell_type": "code",
   "execution_count": 0,
   "metadata": {
    "application/vnd.databricks.v1+cell": {
     "inputWidgets": {},
     "nuid": "9f923162-c1ee-457f-8db6-882ddd102c37",
     "showTitle": false,
     "title": ""
    }
   },
   "outputs": [
    {
     "data": {
      "text/html": [
       "<style scoped>\n",
       "  .table-result-container {\n",
       "    max-height: 300px;\n",
       "    overflow: auto;\n",
       "  }\n",
       "  table, th, td {\n",
       "    border: 1px solid black;\n",
       "    border-collapse: collapse;\n",
       "  }\n",
       "  th, td {\n",
       "    padding: 5px;\n",
       "  }\n",
       "  th {\n",
       "    text-align: left;\n",
       "  }\n",
       "</style><div class='table-result-container'><table class='table-result'><thead style='background-color: white'><tr><th>AGE</th><th>Default</th><th>count(ID)</th></tr></thead><tbody><tr><td>21</td><td>1</td><td>14</td></tr><tr><td>21</td><td>0</td><td>50</td></tr><tr><td>22</td><td>0</td><td>383</td></tr><tr><td>22</td><td>1</td><td>164</td></tr><tr><td>23</td><td>1</td><td>246</td></tr><tr><td>23</td><td>0</td><td>669</td></tr><tr><td>24</td><td>0</td><td>815</td></tr><tr><td>24</td><td>1</td><td>300</td></tr><tr><td>25</td><td>1</td><td>298</td></tr><tr><td>25</td><td>0</td><td>873</td></tr><tr><td>26</td><td>0</td><td>992</td></tr><tr><td>26</td><td>1</td><td>251</td></tr><tr><td>27</td><td>1</td><td>312</td></tr><tr><td>27</td><td>0</td><td>1136</td></tr><tr><td>28</td><td>1</td><td>283</td></tr><tr><td>28</td><td>0</td><td>1111</td></tr><tr><td>29</td><td>1</td><td>312</td></tr><tr><td>29</td><td>0</td><td>1274</td></tr><tr><td>30</td><td>0</td><td>1100</td></tr><tr><td>30</td><td>1</td><td>272</td></tr><tr><td>31</td><td>1</td><td>227</td></tr><tr><td>31</td><td>0</td><td>975</td></tr><tr><td>32</td><td>1</td><td>224</td></tr><tr><td>32</td><td>0</td><td>915</td></tr><tr><td>33</td><td>1</td><td>213</td></tr><tr><td>33</td><td>0</td><td>910</td></tr><tr><td>34</td><td>0</td><td>910</td></tr><tr><td>34</td><td>1</td><td>229</td></tr><tr><td>35</td><td>1</td><td>223</td></tr><tr><td>35</td><td>0</td><td>866</td></tr><tr><td>36</td><td>1</td><td>253</td></tr><tr><td>36</td><td>0</td><td>835</td></tr><tr><td>37</td><td>1</td><td>225</td></tr><tr><td>37</td><td>0</td><td>782</td></tr><tr><td>38</td><td>0</td><td>738</td></tr><tr><td>38</td><td>1</td><td>193</td></tr><tr><td>39</td><td>1</td><td>198</td></tr><tr><td>39</td><td>0</td><td>734</td></tr><tr><td>40</td><td>1</td><td>181</td></tr><tr><td>40</td><td>0</td><td>657</td></tr><tr><td>41</td><td>1</td><td>178</td></tr><tr><td>41</td><td>0</td><td>618</td></tr><tr><td>42</td><td>0</td><td>595</td></tr><tr><td>42</td><td>1</td><td>181</td></tr><tr><td>43</td><td>1</td><td>147</td></tr><tr><td>43</td><td>0</td><td>504</td></tr><tr><td>44</td><td>1</td><td>154</td></tr><tr><td>44</td><td>0</td><td>527</td></tr><tr><td>45</td><td>1</td><td>113</td></tr><tr><td>45</td><td>0</td><td>473</td></tr><tr><td>46</td><td>0</td><td>392</td></tr><tr><td>46</td><td>1</td><td>152</td></tr><tr><td>47</td><td>1</td><td>116</td></tr><tr><td>47</td><td>0</td><td>363</td></tr><tr><td>48</td><td>1</td><td>97</td></tr><tr><td>48</td><td>0</td><td>340</td></tr><tr><td>49</td><td>1</td><td>116</td></tr><tr><td>49</td><td>0</td><td>318</td></tr><tr><td>50</td><td>0</td><td>300</td></tr><tr><td>50</td><td>1</td><td>98</td></tr><tr><td>51</td><td>1</td><td>84</td></tr><tr><td>51</td><td>0</td><td>240</td></tr><tr><td>52</td><td>0</td><td>213</td></tr><tr><td>52</td><td>1</td><td>71</td></tr><tr><td>53</td><td>1</td><td>71</td></tr><tr><td>53</td><td>0</td><td>237</td></tr><tr><td>54</td><td>0</td><td>181</td></tr><tr><td>54</td><td>1</td><td>55</td></tr><tr><td>55</td><td>0</td><td>146</td></tr><tr><td>55</td><td>1</td><td>52</td></tr><tr><td>56</td><td>1</td><td>47</td></tr><tr><td>56</td><td>0</td><td>124</td></tr><tr><td>57</td><td>1</td><td>27</td></tr><tr><td>57</td><td>0</td><td>88</td></tr><tr><td>58</td><td>1</td><td>31</td></tr><tr><td>58</td><td>0</td><td>86</td></tr><tr><td>59</td><td>1</td><td>18</td></tr><tr><td>59</td><td>0</td><td>59</td></tr><tr><td>60</td><td>0</td><td>41</td></tr><tr><td>60</td><td>1</td><td>23</td></tr><tr><td>61</td><td>0</td><td>33</td></tr><tr><td>61</td><td>1</td><td>21</td></tr><tr><td>62</td><td>0</td><td>37</td></tr><tr><td>62</td><td>1</td><td>7</td></tr><tr><td>63</td><td>0</td><td>23</td></tr><tr><td>63</td><td>1</td><td>8</td></tr><tr><td>64</td><td>1</td><td>8</td></tr><tr><td>64</td><td>0</td><td>20</td></tr><tr><td>65</td><td>1</td><td>5</td></tr><tr><td>65</td><td>0</td><td>18</td></tr><tr><td>66</td><td>1</td><td>7</td></tr><tr><td>66</td><td>0</td><td>16</td></tr><tr><td>67</td><td>1</td><td>5</td></tr><tr><td>67</td><td>0</td><td>11</td></tr><tr><td>68</td><td>1</td><td>1</td></tr><tr><td>68</td><td>0</td><td>4</td></tr><tr><td>69</td><td>1</td><td>3</td></tr><tr><td>69</td><td>0</td><td>12</td></tr><tr><td>70</td><td>0</td><td>8</td></tr><tr><td>70</td><td>1</td><td>2</td></tr><tr><td>71</td><td>0</td><td>3</td></tr><tr><td>72</td><td>1</td><td>1</td></tr><tr><td>72</td><td>0</td><td>2</td></tr><tr><td>73</td><td>1</td><td>3</td></tr><tr><td>73</td><td>0</td><td>1</td></tr><tr><td>74</td><td>0</td><td>1</td></tr><tr><td>75</td><td>0</td><td>2</td></tr><tr><td>75</td><td>1</td><td>1</td></tr><tr><td>79</td><td>0</td><td>1</td></tr></tbody></table></div>"
      ]
     },
     "metadata": {
      "application/vnd.databricks.v1+output": {
       "addedWidgets": {},
       "aggData": [],
       "aggError": "",
       "aggOverflow": false,
       "aggSchema": [],
       "aggSeriesLimitReached": false,
       "aggType": "",
       "arguments": {},
       "columnCustomDisplayInfos": {},
       "data": [
        [
         21,
         1,
         14
        ],
        [
         21,
         0,
         50
        ],
        [
         22,
         0,
         383
        ],
        [
         22,
         1,
         164
        ],
        [
         23,
         1,
         246
        ],
        [
         23,
         0,
         669
        ],
        [
         24,
         0,
         815
        ],
        [
         24,
         1,
         300
        ],
        [
         25,
         1,
         298
        ],
        [
         25,
         0,
         873
        ],
        [
         26,
         0,
         992
        ],
        [
         26,
         1,
         251
        ],
        [
         27,
         1,
         312
        ],
        [
         27,
         0,
         1136
        ],
        [
         28,
         1,
         283
        ],
        [
         28,
         0,
         1111
        ],
        [
         29,
         1,
         312
        ],
        [
         29,
         0,
         1274
        ],
        [
         30,
         0,
         1100
        ],
        [
         30,
         1,
         272
        ],
        [
         31,
         1,
         227
        ],
        [
         31,
         0,
         975
        ],
        [
         32,
         1,
         224
        ],
        [
         32,
         0,
         915
        ],
        [
         33,
         1,
         213
        ],
        [
         33,
         0,
         910
        ],
        [
         34,
         0,
         910
        ],
        [
         34,
         1,
         229
        ],
        [
         35,
         1,
         223
        ],
        [
         35,
         0,
         866
        ],
        [
         36,
         1,
         253
        ],
        [
         36,
         0,
         835
        ],
        [
         37,
         1,
         225
        ],
        [
         37,
         0,
         782
        ],
        [
         38,
         0,
         738
        ],
        [
         38,
         1,
         193
        ],
        [
         39,
         1,
         198
        ],
        [
         39,
         0,
         734
        ],
        [
         40,
         1,
         181
        ],
        [
         40,
         0,
         657
        ],
        [
         41,
         1,
         178
        ],
        [
         41,
         0,
         618
        ],
        [
         42,
         0,
         595
        ],
        [
         42,
         1,
         181
        ],
        [
         43,
         1,
         147
        ],
        [
         43,
         0,
         504
        ],
        [
         44,
         1,
         154
        ],
        [
         44,
         0,
         527
        ],
        [
         45,
         1,
         113
        ],
        [
         45,
         0,
         473
        ],
        [
         46,
         0,
         392
        ],
        [
         46,
         1,
         152
        ],
        [
         47,
         1,
         116
        ],
        [
         47,
         0,
         363
        ],
        [
         48,
         1,
         97
        ],
        [
         48,
         0,
         340
        ],
        [
         49,
         1,
         116
        ],
        [
         49,
         0,
         318
        ],
        [
         50,
         0,
         300
        ],
        [
         50,
         1,
         98
        ],
        [
         51,
         1,
         84
        ],
        [
         51,
         0,
         240
        ],
        [
         52,
         0,
         213
        ],
        [
         52,
         1,
         71
        ],
        [
         53,
         1,
         71
        ],
        [
         53,
         0,
         237
        ],
        [
         54,
         0,
         181
        ],
        [
         54,
         1,
         55
        ],
        [
         55,
         0,
         146
        ],
        [
         55,
         1,
         52
        ],
        [
         56,
         1,
         47
        ],
        [
         56,
         0,
         124
        ],
        [
         57,
         1,
         27
        ],
        [
         57,
         0,
         88
        ],
        [
         58,
         1,
         31
        ],
        [
         58,
         0,
         86
        ],
        [
         59,
         1,
         18
        ],
        [
         59,
         0,
         59
        ],
        [
         60,
         0,
         41
        ],
        [
         60,
         1,
         23
        ],
        [
         61,
         0,
         33
        ],
        [
         61,
         1,
         21
        ],
        [
         62,
         0,
         37
        ],
        [
         62,
         1,
         7
        ],
        [
         63,
         0,
         23
        ],
        [
         63,
         1,
         8
        ],
        [
         64,
         1,
         8
        ],
        [
         64,
         0,
         20
        ],
        [
         65,
         1,
         5
        ],
        [
         65,
         0,
         18
        ],
        [
         66,
         1,
         7
        ],
        [
         66,
         0,
         16
        ],
        [
         67,
         1,
         5
        ],
        [
         67,
         0,
         11
        ],
        [
         68,
         1,
         1
        ],
        [
         68,
         0,
         4
        ],
        [
         69,
         1,
         3
        ],
        [
         69,
         0,
         12
        ],
        [
         70,
         0,
         8
        ],
        [
         70,
         1,
         2
        ],
        [
         71,
         0,
         3
        ],
        [
         72,
         1,
         1
        ],
        [
         72,
         0,
         2
        ],
        [
         73,
         1,
         3
        ],
        [
         73,
         0,
         1
        ],
        [
         74,
         0,
         1
        ],
        [
         75,
         0,
         2
        ],
        [
         75,
         1,
         1
        ],
        [
         79,
         0,
         1
        ]
       ],
       "datasetInfos": [],
       "dbfsResultPath": null,
       "isJsonSchema": true,
       "overflow": false,
       "plotOptions": {
        "customPlotOptions": {},
        "displayType": "table",
        "pivotAggregation": null,
        "pivotColumns": null,
        "xColumns": null,
        "yColumns": null
       },
       "removedWidgets": [],
       "schema": [
        {
         "metadata": "{}",
         "name": "AGE",
         "type": "\"integer\""
        },
        {
         "metadata": "{}",
         "name": "Default",
         "type": "\"integer\""
        },
        {
         "metadata": "{}",
         "name": "count(ID)",
         "type": "\"long\""
        }
       ],
       "type": "table"
      }
     },
     "output_type": "display_data"
    }
   ],
   "source": [
    "df.select(\"AGE\",\"Default\",\"ID\").groupBy(\"AGE\",\"Default\").agg(count(\"ID\")).orderBy('AGE').display()"
   ]
  },
  {
   "cell_type": "code",
   "execution_count": 0,
   "metadata": {
    "application/vnd.databricks.v1+cell": {
     "inputWidgets": {},
     "nuid": "76d4998b-0d79-4567-b1d8-eea0f7345dda",
     "showTitle": false,
     "title": ""
    }
   },
   "outputs": [
    {
     "data": {
      "text/html": [
       "<style scoped>\n",
       "  .table-result-container {\n",
       "    max-height: 300px;\n",
       "    overflow: auto;\n",
       "  }\n",
       "  table, th, td {\n",
       "    border: 1px solid black;\n",
       "    border-collapse: collapse;\n",
       "  }\n",
       "  th, td {\n",
       "    padding: 5px;\n",
       "  }\n",
       "  th {\n",
       "    text-align: left;\n",
       "  }\n",
       "</style><div class='table-result-container'><table class='table-result'><thead style='background-color: white'><tr><th>EDUCATION</th><th>count(ID)</th></tr></thead><tbody><tr><td>1</td><td>10531</td></tr><tr><td>2</td><td>13862</td></tr><tr><td>3</td><td>4770</td></tr><tr><td>4</td><td>120</td></tr></tbody></table></div>"
      ]
     },
     "metadata": {
      "application/vnd.databricks.v1+output": {
       "addedWidgets": {},
       "aggData": [],
       "aggError": "",
       "aggOverflow": false,
       "aggSchema": [],
       "aggSeriesLimitReached": false,
       "aggType": "",
       "arguments": {},
       "columnCustomDisplayInfos": {},
       "data": [
        [
         "1",
         10531
        ],
        [
         "2",
         13862
        ],
        [
         "3",
         4770
        ],
        [
         "4",
         120
        ]
       ],
       "datasetInfos": [],
       "dbfsResultPath": null,
       "isJsonSchema": true,
       "overflow": false,
       "plotOptions": {
        "customPlotOptions": {},
        "displayType": "table",
        "pivotAggregation": null,
        "pivotColumns": null,
        "xColumns": null,
        "yColumns": null
       },
       "removedWidgets": [],
       "schema": [
        {
         "metadata": "{}",
         "name": "EDUCATION",
         "type": "\"string\""
        },
        {
         "metadata": "{}",
         "name": "count(ID)",
         "type": "\"long\""
        }
       ],
       "type": "table"
      }
     },
     "output_type": "display_data"
    }
   ],
   "source": [
    "df.select(\"EDUCATION\",\"ID\").groupBy(\"EDUCATION\").agg(count(\"ID\")).orderBy('EDUCATION').display()"
   ]
  },
  {
   "cell_type": "code",
   "execution_count": 0,
   "metadata": {
    "application/vnd.databricks.v1+cell": {
     "inputWidgets": {},
     "nuid": "cba4f21e-f057-4840-a7e9-40c27ef691da",
     "showTitle": false,
     "title": ""
    }
   },
   "outputs": [
    {
     "data": {
      "text/html": [
       "<style scoped>\n",
       "  .table-result-container {\n",
       "    max-height: 300px;\n",
       "    overflow: auto;\n",
       "  }\n",
       "  table, th, td {\n",
       "    border: 1px solid black;\n",
       "    border-collapse: collapse;\n",
       "  }\n",
       "  th, td {\n",
       "    padding: 5px;\n",
       "  }\n",
       "  th {\n",
       "    text-align: left;\n",
       "  }\n",
       "</style><div class='table-result-container'><table class='table-result'><thead style='background-color: white'><tr><th>MARRIAGE</th><th>count(ID)</th></tr></thead><tbody><tr><td>1</td><td>13477</td></tr><tr><td>2</td><td>15806</td></tr></tbody></table></div>"
      ]
     },
     "metadata": {
      "application/vnd.databricks.v1+output": {
       "addedWidgets": {},
       "aggData": [],
       "aggError": "",
       "aggOverflow": false,
       "aggSchema": [],
       "aggSeriesLimitReached": false,
       "aggType": "",
       "arguments": {},
       "columnCustomDisplayInfos": {},
       "data": [
        [
         "1",
         13477
        ],
        [
         "2",
         15806
        ]
       ],
       "datasetInfos": [],
       "dbfsResultPath": null,
       "isJsonSchema": true,
       "overflow": false,
       "plotOptions": {
        "customPlotOptions": {},
        "displayType": "table",
        "pivotAggregation": null,
        "pivotColumns": null,
        "xColumns": null,
        "yColumns": null
       },
       "removedWidgets": [],
       "schema": [
        {
         "metadata": "{}",
         "name": "MARRIAGE",
         "type": "\"string\""
        },
        {
         "metadata": "{}",
         "name": "count(ID)",
         "type": "\"long\""
        }
       ],
       "type": "table"
      }
     },
     "output_type": "display_data"
    }
   ],
   "source": [
    "df.select(\"MARRIAGE\",\"ID\").groupBy(\"MARRIAGE\").agg(count(\"ID\")).display()"
   ]
  },
  {
   "cell_type": "code",
   "execution_count": 0,
   "metadata": {
    "application/vnd.databricks.v1+cell": {
     "inputWidgets": {},
     "nuid": "41f9a38d-bfb6-400f-b5aa-3b7a4baa0a7a",
     "showTitle": false,
     "title": ""
    }
   },
   "outputs": [
    {
     "data": {
      "text/html": [
       "<style scoped>\n",
       "  .table-result-container {\n",
       "    max-height: 300px;\n",
       "    overflow: auto;\n",
       "  }\n",
       "  table, th, td {\n",
       "    border: 1px solid black;\n",
       "    border-collapse: collapse;\n",
       "  }\n",
       "  th, td {\n",
       "    padding: 5px;\n",
       "  }\n",
       "  th {\n",
       "    text-align: left;\n",
       "  }\n",
       "</style><div class='table-result-container'><table class='table-result'><thead style='background-color: white'><tr><th>Default</th><th>MARRIAGE</th><th>count(id)</th></tr></thead><tbody><tr><td>0</td><td>1</td><td>10285</td></tr><tr><td>1</td><td>1</td><td>3192</td></tr><tr><td>0</td><td>2</td><td>12477</td></tr><tr><td>1</td><td>2</td><td>3329</td></tr></tbody></table></div>"
      ]
     },
     "metadata": {
      "application/vnd.databricks.v1+output": {
       "addedWidgets": {},
       "aggData": [],
       "aggError": "",
       "aggOverflow": false,
       "aggSchema": [],
       "aggSeriesLimitReached": false,
       "aggType": "",
       "arguments": {},
       "columnCustomDisplayInfos": {},
       "data": [
        [
         0,
         "1",
         10285
        ],
        [
         1,
         "1",
         3192
        ],
        [
         0,
         "2",
         12477
        ],
        [
         1,
         "2",
         3329
        ]
       ],
       "datasetInfos": [],
       "dbfsResultPath": null,
       "isJsonSchema": true,
       "overflow": false,
       "plotOptions": {
        "customPlotOptions": {},
        "displayType": "table",
        "pivotAggregation": null,
        "pivotColumns": null,
        "xColumns": null,
        "yColumns": null
       },
       "removedWidgets": [],
       "schema": [
        {
         "metadata": "{}",
         "name": "Default",
         "type": "\"integer\""
        },
        {
         "metadata": "{}",
         "name": "MARRIAGE",
         "type": "\"string\""
        },
        {
         "metadata": "{}",
         "name": "count(id)",
         "type": "\"long\""
        }
       ],
       "type": "table"
      }
     },
     "output_type": "display_data"
    }
   ],
   "source": [
    "df.select(\"MARRIAGE\",\"ID\",\"Default\").groupBy(\"Default\",\"MARRIAGE\").agg(count(\"id\")).orderBy('MARRIAGE').display()"
   ]
  },
  {
   "cell_type": "code",
   "execution_count": 0,
   "metadata": {
    "application/vnd.databricks.v1+cell": {
     "inputWidgets": {},
     "nuid": "f44b6ffc-35e7-4e35-a200-7a53c94644dc",
     "showTitle": false,
     "title": ""
    }
   },
   "outputs": [
    {
     "data": {
      "text/html": [
       "<style scoped>\n",
       "  .table-result-container {\n",
       "    max-height: 300px;\n",
       "    overflow: auto;\n",
       "  }\n",
       "  table, th, td {\n",
       "    border: 1px solid black;\n",
       "    border-collapse: collapse;\n",
       "  }\n",
       "  th, td {\n",
       "    padding: 5px;\n",
       "  }\n",
       "  th {\n",
       "    text-align: left;\n",
       "  }\n",
       "</style><div class='table-result-container'><table class='table-result'><thead style='background-color: white'><tr><th>Default</th><th>LIMIT_BAL</th><th>count(id)</th></tr></thead><tbody><tr><td>1</td><td>10000.0</td><td>189</td></tr><tr><td>0</td><td>10000.0</td><td>284</td></tr><tr><td>0</td><td>16000.0</td><td>1</td></tr><tr><td>1</td><td>20000.0</td><td>679</td></tr><tr><td>0</td><td>20000.0</td><td>1231</td></tr><tr><td>0</td><td>30000.0</td><td>1003</td></tr><tr><td>1</td><td>30000.0</td><td>554</td></tr><tr><td>1</td><td>40000.0</td><td>92</td></tr><tr><td>0</td><td>40000.0</td><td>132</td></tr><tr><td>0</td><td>50000.0</td><td>2397</td></tr><tr><td>1</td><td>50000.0</td><td>864</td></tr><tr><td>1</td><td>60000.0</td><td>228</td></tr><tr><td>0</td><td>60000.0</td><td>573</td></tr><tr><td>1</td><td>70000.0</td><td>207</td></tr><tr><td>0</td><td>70000.0</td><td>506</td></tr><tr><td>1</td><td>80000.0</td><td>360</td></tr><tr><td>0</td><td>80000.0</td><td>1166</td></tr><tr><td>0</td><td>90000.0</td><td>472</td></tr><tr><td>1</td><td>90000.0</td><td>161</td></tr><tr><td>1</td><td>100000.0</td><td>269</td></tr><tr><td>0</td><td>100000.0</td><td>759</td></tr><tr><td>0</td><td>110000.0</td><td>446</td></tr><tr><td>1</td><td>110000.0</td><td>130</td></tr><tr><td>0</td><td>120000.0</td><td>537</td></tr><tr><td>1</td><td>120000.0</td><td>177</td></tr><tr><td>1</td><td>130000.0</td><td>152</td></tr><tr><td>0</td><td>130000.0</td><td>557</td></tr><tr><td>0</td><td>140000.0</td><td>569</td></tr><tr><td>1</td><td>140000.0</td><td>166</td></tr><tr><td>0</td><td>150000.0</td><td>886</td></tr><tr><td>1</td><td>150000.0</td><td>183</td></tr><tr><td>1</td><td>160000.0</td><td>136</td></tr><tr><td>0</td><td>160000.0</td><td>541</td></tr><tr><td>1</td><td>170000.0</td><td>78</td></tr><tr><td>0</td><td>170000.0</td><td>443</td></tr><tr><td>0</td><td>180000.0</td><td>801</td></tr><tr><td>1</td><td>180000.0</td><td>173</td></tr><tr><td>0</td><td>190000.0</td><td>176</td></tr><tr><td>1</td><td>190000.0</td><td>49</td></tr><tr><td>0</td><td>200000.0</td><td>1221</td></tr><tr><td>1</td><td>200000.0</td><td>266</td></tr><tr><td>0</td><td>210000.0</td><td>600</td></tr><tr><td>1</td><td>210000.0</td><td>116</td></tr><tr><td>1</td><td>220000.0</td><td>88</td></tr><tr><td>0</td><td>220000.0</td><td>372</td></tr><tr><td>0</td><td>230000.0</td><td>609</td></tr><tr><td>1</td><td>230000.0</td><td>113</td></tr><tr><td>1</td><td>240000.0</td><td>110</td></tr><tr><td>0</td><td>240000.0</td><td>497</td></tr><tr><td>0</td><td>250000.0</td><td>293</td></tr><tr><td>1</td><td>250000.0</td><td>51</td></tr><tr><td>0</td><td>260000.0</td><td>420</td></tr><tr><td>1</td><td>260000.0</td><td>85</td></tr><tr><td>0</td><td>270000.0</td><td>208</td></tr><tr><td>1</td><td>270000.0</td><td>28</td></tr><tr><td>0</td><td>280000.0</td><td>420</td></tr><tr><td>1</td><td>280000.0</td><td>69</td></tr><tr><td>1</td><td>290000.0</td><td>51</td></tr><tr><td>0</td><td>290000.0</td><td>291</td></tr><tr><td>0</td><td>300000.0</td><td>452</td></tr><tr><td>1</td><td>300000.0</td><td>94</td></tr><tr><td>1</td><td>310000.0</td><td>27</td></tr><tr><td>0</td><td>310000.0</td><td>244</td></tr><tr><td>0</td><td>320000.0</td><td>264</td></tr><tr><td>1</td><td>320000.0</td><td>44</td></tr><tr><td>1</td><td>327680.0</td><td>1</td></tr><tr><td>0</td><td>330000.0</td><td>150</td></tr><tr><td>1</td><td>330000.0</td><td>21</td></tr><tr><td>1</td><td>340000.0</td><td>32</td></tr><tr><td>0</td><td>340000.0</td><td>181</td></tr><tr><td>1</td><td>350000.0</td><td>32</td></tr><tr><td>0</td><td>350000.0</td><td>192</td></tr><tr><td>1</td><td>360000.0</td><td>154</td></tr><tr><td>0</td><td>360000.0</td><td>713</td></tr><tr><td>1</td><td>370000.0</td><td>8</td></tr><tr><td>0</td><td>370000.0</td><td>61</td></tr><tr><td>0</td><td>380000.0</td><td>135</td></tr><tr><td>1</td><td>380000.0</td><td>20</td></tr><tr><td>0</td><td>390000.0</td><td>154</td></tr><tr><td>1</td><td>390000.0</td><td>18</td></tr><tr><td>0</td><td>400000.0</td><td>237</td></tr><tr><td>1</td><td>400000.0</td><td>31</td></tr><tr><td>1</td><td>410000.0</td><td>12</td></tr><tr><td>0</td><td>410000.0</td><td>65</td></tr><tr><td>1</td><td>420000.0</td><td>18</td></tr><tr><td>0</td><td>420000.0</td><td>150</td></tr><tr><td>1</td><td>430000.0</td><td>10</td></tr><tr><td>0</td><td>430000.0</td><td>71</td></tr><tr><td>0</td><td>440000.0</td><td>68</td></tr><tr><td>1</td><td>440000.0</td><td>12</td></tr><tr><td>0</td><td>450000.0</td><td>131</td></tr><tr><td>1</td><td>450000.0</td><td>26</td></tr><tr><td>0</td><td>460000.0</td><td>70</td></tr><tr><td>1</td><td>460000.0</td><td>10</td></tr><tr><td>1</td><td>470000.0</td><td>11</td></tr><tr><td>0</td><td>470000.0</td><td>68</td></tr><tr><td>0</td><td>480000.0</td><td>72</td></tr><tr><td>1</td><td>480000.0</td><td>6</td></tr><tr><td>0</td><td>490000.0</td><td>56</td></tr><tr><td>1</td><td>490000.0</td><td>8</td></tr><tr><td>0</td><td>500000.0</td><td>636</td></tr><tr><td>1</td><td>500000.0</td><td>80</td></tr><tr><td>1</td><td>510000.0</td><td>2</td></tr><tr><td>0</td><td>510000.0</td><td>17</td></tr><tr><td>1</td><td>520000.0</td><td>2</td></tr><tr><td>0</td><td>520000.0</td><td>18</td></tr><tr><td>0</td><td>530000.0</td><td>9</td></tr><tr><td>1</td><td>530000.0</td><td>1</td></tr><tr><td>0</td><td>540000.0</td><td>5</td></tr><tr><td>1</td><td>550000.0</td><td>5</td></tr><tr><td>0</td><td>550000.0</td><td>14</td></tr><tr><td>1</td><td>560000.0</td><td>1</td></tr><tr><td>0</td><td>560000.0</td><td>9</td></tr><tr><td>0</td><td>570000.0</td><td>8</td></tr><tr><td>0</td><td>580000.0</td><td>10</td></tr><tr><td>1</td><td>580000.0</td><td>1</td></tr><tr><td>0</td><td>590000.0</td><td>5</td></tr><tr><td>1</td><td>590000.0</td><td>1</td></tr><tr><td>1</td><td>600000.0</td><td>3</td></tr><tr><td>0</td><td>600000.0</td><td>13</td></tr><tr><td>0</td><td>610000.0</td><td>11</td></tr><tr><td>1</td><td>620000.0</td><td>1</td></tr><tr><td>0</td><td>620000.0</td><td>8</td></tr><tr><td>0</td><td>630000.0</td><td>6</td></tr><tr><td>1</td><td>630000.0</td><td>1</td></tr><tr><td>0</td><td>640000.0</td><td>7</td></tr><tr><td>0</td><td>650000.0</td><td>3</td></tr><tr><td>0</td><td>660000.0</td><td>3</td></tr><tr><td>0</td><td>670000.0</td><td>3</td></tr><tr><td>0</td><td>680000.0</td><td>3</td></tr><tr><td>1</td><td>680000.0</td><td>1</td></tr><tr><td>0</td><td>690000.0</td><td>1</td></tr><tr><td>0</td><td>700000.0</td><td>8</td></tr><tr><td>0</td><td>710000.0</td><td>5</td></tr><tr><td>1</td><td>710000.0</td><td>1</td></tr><tr><td>0</td><td>720000.0</td><td>2</td></tr><tr><td>1</td><td>720000.0</td><td>1</td></tr><tr><td>0</td><td>730000.0</td><td>2</td></tr><tr><td>1</td><td>740000.0</td><td>1</td></tr><tr><td>0</td><td>740000.0</td><td>1</td></tr><tr><td>0</td><td>750000.0</td><td>4</td></tr><tr><td>0</td><td>760000.0</td><td>1</td></tr><tr><td>0</td><td>780000.0</td><td>2</td></tr><tr><td>0</td><td>800000.0</td><td>2</td></tr><tr><td>0</td><td>1000000.0</td><td>1</td></tr></tbody></table></div>"
      ]
     },
     "metadata": {
      "application/vnd.databricks.v1+output": {
       "addedWidgets": {},
       "aggData": [],
       "aggError": "",
       "aggOverflow": false,
       "aggSchema": [],
       "aggSeriesLimitReached": false,
       "aggType": "",
       "arguments": {},
       "columnCustomDisplayInfos": {},
       "data": [
        [
         1,
         10000,
         189
        ],
        [
         0,
         10000,
         284
        ],
        [
         0,
         16000,
         1
        ],
        [
         1,
         20000,
         679
        ],
        [
         0,
         20000,
         1231
        ],
        [
         0,
         30000,
         1003
        ],
        [
         1,
         30000,
         554
        ],
        [
         1,
         40000,
         92
        ],
        [
         0,
         40000,
         132
        ],
        [
         0,
         50000,
         2397
        ],
        [
         1,
         50000,
         864
        ],
        [
         1,
         60000,
         228
        ],
        [
         0,
         60000,
         573
        ],
        [
         1,
         70000,
         207
        ],
        [
         0,
         70000,
         506
        ],
        [
         1,
         80000,
         360
        ],
        [
         0,
         80000,
         1166
        ],
        [
         0,
         90000,
         472
        ],
        [
         1,
         90000,
         161
        ],
        [
         1,
         100000,
         269
        ],
        [
         0,
         100000,
         759
        ],
        [
         0,
         110000,
         446
        ],
        [
         1,
         110000,
         130
        ],
        [
         0,
         120000,
         537
        ],
        [
         1,
         120000,
         177
        ],
        [
         1,
         130000,
         152
        ],
        [
         0,
         130000,
         557
        ],
        [
         0,
         140000,
         569
        ],
        [
         1,
         140000,
         166
        ],
        [
         0,
         150000,
         886
        ],
        [
         1,
         150000,
         183
        ],
        [
         1,
         160000,
         136
        ],
        [
         0,
         160000,
         541
        ],
        [
         1,
         170000,
         78
        ],
        [
         0,
         170000,
         443
        ],
        [
         0,
         180000,
         801
        ],
        [
         1,
         180000,
         173
        ],
        [
         0,
         190000,
         176
        ],
        [
         1,
         190000,
         49
        ],
        [
         0,
         200000,
         1221
        ],
        [
         1,
         200000,
         266
        ],
        [
         0,
         210000,
         600
        ],
        [
         1,
         210000,
         116
        ],
        [
         1,
         220000,
         88
        ],
        [
         0,
         220000,
         372
        ],
        [
         0,
         230000,
         609
        ],
        [
         1,
         230000,
         113
        ],
        [
         1,
         240000,
         110
        ],
        [
         0,
         240000,
         497
        ],
        [
         0,
         250000,
         293
        ],
        [
         1,
         250000,
         51
        ],
        [
         0,
         260000,
         420
        ],
        [
         1,
         260000,
         85
        ],
        [
         0,
         270000,
         208
        ],
        [
         1,
         270000,
         28
        ],
        [
         0,
         280000,
         420
        ],
        [
         1,
         280000,
         69
        ],
        [
         1,
         290000,
         51
        ],
        [
         0,
         290000,
         291
        ],
        [
         0,
         300000,
         452
        ],
        [
         1,
         300000,
         94
        ],
        [
         1,
         310000,
         27
        ],
        [
         0,
         310000,
         244
        ],
        [
         0,
         320000,
         264
        ],
        [
         1,
         320000,
         44
        ],
        [
         1,
         327680,
         1
        ],
        [
         0,
         330000,
         150
        ],
        [
         1,
         330000,
         21
        ],
        [
         1,
         340000,
         32
        ],
        [
         0,
         340000,
         181
        ],
        [
         1,
         350000,
         32
        ],
        [
         0,
         350000,
         192
        ],
        [
         1,
         360000,
         154
        ],
        [
         0,
         360000,
         713
        ],
        [
         1,
         370000,
         8
        ],
        [
         0,
         370000,
         61
        ],
        [
         0,
         380000,
         135
        ],
        [
         1,
         380000,
         20
        ],
        [
         0,
         390000,
         154
        ],
        [
         1,
         390000,
         18
        ],
        [
         0,
         400000,
         237
        ],
        [
         1,
         400000,
         31
        ],
        [
         1,
         410000,
         12
        ],
        [
         0,
         410000,
         65
        ],
        [
         1,
         420000,
         18
        ],
        [
         0,
         420000,
         150
        ],
        [
         1,
         430000,
         10
        ],
        [
         0,
         430000,
         71
        ],
        [
         0,
         440000,
         68
        ],
        [
         1,
         440000,
         12
        ],
        [
         0,
         450000,
         131
        ],
        [
         1,
         450000,
         26
        ],
        [
         0,
         460000,
         70
        ],
        [
         1,
         460000,
         10
        ],
        [
         1,
         470000,
         11
        ],
        [
         0,
         470000,
         68
        ],
        [
         0,
         480000,
         72
        ],
        [
         1,
         480000,
         6
        ],
        [
         0,
         490000,
         56
        ],
        [
         1,
         490000,
         8
        ],
        [
         0,
         500000,
         636
        ],
        [
         1,
         500000,
         80
        ],
        [
         1,
         510000,
         2
        ],
        [
         0,
         510000,
         17
        ],
        [
         1,
         520000,
         2
        ],
        [
         0,
         520000,
         18
        ],
        [
         0,
         530000,
         9
        ],
        [
         1,
         530000,
         1
        ],
        [
         0,
         540000,
         5
        ],
        [
         1,
         550000,
         5
        ],
        [
         0,
         550000,
         14
        ],
        [
         1,
         560000,
         1
        ],
        [
         0,
         560000,
         9
        ],
        [
         0,
         570000,
         8
        ],
        [
         0,
         580000,
         10
        ],
        [
         1,
         580000,
         1
        ],
        [
         0,
         590000,
         5
        ],
        [
         1,
         590000,
         1
        ],
        [
         1,
         600000,
         3
        ],
        [
         0,
         600000,
         13
        ],
        [
         0,
         610000,
         11
        ],
        [
         1,
         620000,
         1
        ],
        [
         0,
         620000,
         8
        ],
        [
         0,
         630000,
         6
        ],
        [
         1,
         630000,
         1
        ],
        [
         0,
         640000,
         7
        ],
        [
         0,
         650000,
         3
        ],
        [
         0,
         660000,
         3
        ],
        [
         0,
         670000,
         3
        ],
        [
         0,
         680000,
         3
        ],
        [
         1,
         680000,
         1
        ],
        [
         0,
         690000,
         1
        ],
        [
         0,
         700000,
         8
        ],
        [
         0,
         710000,
         5
        ],
        [
         1,
         710000,
         1
        ],
        [
         0,
         720000,
         2
        ],
        [
         1,
         720000,
         1
        ],
        [
         0,
         730000,
         2
        ],
        [
         1,
         740000,
         1
        ],
        [
         0,
         740000,
         1
        ],
        [
         0,
         750000,
         4
        ],
        [
         0,
         760000,
         1
        ],
        [
         0,
         780000,
         2
        ],
        [
         0,
         800000,
         2
        ],
        [
         0,
         1000000,
         1
        ]
       ],
       "datasetInfos": [],
       "dbfsResultPath": null,
       "isJsonSchema": true,
       "overflow": false,
       "plotOptions": {
        "customPlotOptions": {},
        "displayType": "table",
        "pivotAggregation": null,
        "pivotColumns": null,
        "xColumns": null,
        "yColumns": null
       },
       "removedWidgets": [],
       "schema": [
        {
         "metadata": "{}",
         "name": "Default",
         "type": "\"integer\""
        },
        {
         "metadata": "{}",
         "name": "LIMIT_BAL",
         "type": "\"double\""
        },
        {
         "metadata": "{}",
         "name": "count(id)",
         "type": "\"long\""
        }
       ],
       "type": "table"
      }
     },
     "output_type": "display_data"
    }
   ],
   "source": [
    "df.select(\"LIMIT_BAL\",\"ID\",\"Default\").groupBy(\"Default\",\"LIMIT_BAL\").agg(count(\"id\")).orderBy('LIMIT_BAL').display()"
   ]
  },
  {
   "cell_type": "code",
   "execution_count": 0,
   "metadata": {
    "application/vnd.databricks.v1+cell": {
     "inputWidgets": {},
     "nuid": "1c10452e-9bf9-495a-bacd-a99aa120dc89",
     "showTitle": false,
     "title": ""
    }
   },
   "outputs": [
    {
     "data": {
      "text/html": [
       "<style scoped>\n",
       "  .table-result-container {\n",
       "    max-height: 300px;\n",
       "    overflow: auto;\n",
       "  }\n",
       "  table, th, td {\n",
       "    border: 1px solid black;\n",
       "    border-collapse: collapse;\n",
       "  }\n",
       "  th, td {\n",
       "    padding: 5px;\n",
       "  }\n",
       "  th {\n",
       "    text-align: left;\n",
       "  }\n",
       "</style><div class='table-result-container'><table class='table-result'><thead style='background-color: white'><tr><th>Default</th><th>count(ID)</th></tr></thead><tbody><tr><td>1</td><td>6521</td></tr><tr><td>0</td><td>22762</td></tr></tbody></table></div>"
      ]
     },
     "metadata": {
      "application/vnd.databricks.v1+output": {
       "addedWidgets": {},
       "aggData": [],
       "aggError": "",
       "aggOverflow": false,
       "aggSchema": [],
       "aggSeriesLimitReached": false,
       "aggType": "",
       "arguments": {},
       "columnCustomDisplayInfos": {},
       "data": [
        [
         1,
         6521
        ],
        [
         0,
         22762
        ]
       ],
       "datasetInfos": [],
       "dbfsResultPath": null,
       "isJsonSchema": true,
       "overflow": false,
       "plotOptions": {
        "customPlotOptions": {},
        "displayType": "table",
        "pivotAggregation": null,
        "pivotColumns": null,
        "xColumns": null,
        "yColumns": null
       },
       "removedWidgets": [],
       "schema": [
        {
         "metadata": "{}",
         "name": "Default",
         "type": "\"integer\""
        },
        {
         "metadata": "{}",
         "name": "count(ID)",
         "type": "\"long\""
        }
       ],
       "type": "table"
      }
     },
     "output_type": "display_data"
    }
   ],
   "source": [
    "df.select(\"Default\",\"ID\").groupBy(\"Default\").agg(count(\"ID\")).display()"
   ]
  }
 ],
 "metadata": {
  "application/vnd.databricks.v1+notebook": {
   "dashboards": [],
   "language": "python",
   "notebookName": "Final Project-Credit Card Default Prediction",
   "notebookOrigID": 440590990647715,
   "widgets": {}
  },
  "kernelspec": {
   "display_name": "Python 3",
   "language": "python",
   "name": "python3"
  },
  "language_info": {
   "codemirror_mode": {
    "name": "ipython",
    "version": 3
   },
   "file_extension": ".py",
   "mimetype": "text/x-python",
   "name": "python",
   "nbconvert_exporter": "python",
   "pygments_lexer": "ipython3",
   "version": "3.8.3"
  }
 },
 "nbformat": 4,
 "nbformat_minor": 1
}
