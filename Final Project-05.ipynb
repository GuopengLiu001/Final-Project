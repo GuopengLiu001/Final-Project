{
 "cells": [
  {
   "cell_type": "markdown",
   "metadata": {
    "application/vnd.databricks.v1+cell": {
     "inputWidgets": {},
     "nuid": "bfde0795-d16c-45fb-ba42-fb24878fe106",
     "showTitle": true,
     "title": "Feature preprocessing"
    }
   },
   "source": [
    "Working with Categorical Columns"
   ]
  },
  {
   "cell_type": "code",
   "execution_count": 0,
   "metadata": {
    "application/vnd.databricks.v1+cell": {
     "inputWidgets": {},
     "nuid": "cca9ada3-09e3-41f9-a8da-b20380a8ec26",
     "showTitle": false,
     "title": ""
    }
   },
   "outputs": [
    {
     "data": {
      "text/html": [
       "<style scoped>\n",
       "  .ansiout {\n",
       "    display: block;\n",
       "    unicode-bidi: embed;\n",
       "    white-space: pre-wrap;\n",
       "    word-wrap: break-word;\n",
       "    word-break: break-all;\n",
       "    font-family: \"Source Code Pro\", \"Menlo\", monospace;;\n",
       "    font-size: 13px;\n",
       "    color: #555;\n",
       "    margin-left: 4px;\n",
       "    line-height: 19px;\n",
       "  }\n",
       "</style>\n",
       "<div class=\"ansiout\"></div>"
      ]
     },
     "metadata": {
      "application/vnd.databricks.v1+output": {
       "addedWidgets": {},
       "arguments": {},
       "data": "<div class=\"ansiout\"></div>",
       "datasetInfos": [],
       "removedWidgets": [],
       "type": "html"
      }
     },
     "output_type": "display_data"
    }
   ],
   "source": [
    "from pyspark.ml.feature import (VectorAssembler,VectorIndexer,\n",
    "                                OneHotEncoder,StringIndexer)"
   ]
  },
  {
   "cell_type": "code",
   "execution_count": 0,
   "metadata": {
    "application/vnd.databricks.v1+cell": {
     "inputWidgets": {},
     "nuid": "fbefc3f0-b941-41e4-9b5a-833a4664b2e9",
     "showTitle": false,
     "title": ""
    }
   },
   "outputs": [
    {
     "data": {
      "text/html": [
       "<style scoped>\n",
       "  .ansiout {\n",
       "    display: block;\n",
       "    unicode-bidi: embed;\n",
       "    white-space: pre-wrap;\n",
       "    word-wrap: break-word;\n",
       "    word-break: break-all;\n",
       "    font-family: \"Source Code Pro\", \"Menlo\", monospace;;\n",
       "    font-size: 13px;\n",
       "    color: #555;\n",
       "    margin-left: 4px;\n",
       "    line-height: 19px;\n",
       "  }\n",
       "</style>\n",
       "<div class=\"ansiout\"></div>"
      ]
     },
     "metadata": {
      "application/vnd.databricks.v1+output": {
       "addedWidgets": {},
       "arguments": {},
       "data": "<div class=\"ansiout\"></div>",
       "datasetInfos": [],
       "removedWidgets": [],
       "type": "html"
      }
     },
     "output_type": "display_data"
    }
   ],
   "source": [
    "# OneHot encoding of categorical variable to be able to enter into machine learning algorithms\n",
    "# we vectorize them to be able to use it\n",
    "# Indexer return the numrical equivalent it's could be used for label encoding\n",
    "# OneHotEncoder is for using returning dummy variables equivalent of the categorical variables\n",
    "SEX_indexer = StringIndexer(inputCol='SEX',outputCol='SEXIndex')\n",
    "SEX_encoder = OneHotEncoder(inputCol='SEXIndex',outputCol='SEXVec')\n",
    "\n",
    "EDUCATION_indexer = StringIndexer(inputCol='EDUCATION',outputCol='EDUCATIONIndex')\n",
    "EDUCATION_encoder = OneHotEncoder(inputCol='EDUCATIONIndex',outputCol='EDUCATIONVec')\n",
    "\n",
    "MARRIAGE_indexer = StringIndexer(inputCol='MARRIAGE',outputCol='MARRIAGEIndex')\n",
    "MARRIAGE_encoder = OneHotEncoder(inputCol='MARRIAGEIndex',outputCol='MARRIAGEVec')"
   ]
  },
  {
   "cell_type": "code",
   "execution_count": 0,
   "metadata": {
    "application/vnd.databricks.v1+cell": {
     "inputWidgets": {},
     "nuid": "583c88a7-58df-40b8-a70f-9172008367df",
     "showTitle": false,
     "title": ""
    }
   },
   "outputs": [
    {
     "data": {
      "text/html": [
       "<style scoped>\n",
       "  .ansiout {\n",
       "    display: block;\n",
       "    unicode-bidi: embed;\n",
       "    white-space: pre-wrap;\n",
       "    word-wrap: break-word;\n",
       "    word-break: break-all;\n",
       "    font-family: \"Source Code Pro\", \"Menlo\", monospace;;\n",
       "    font-size: 13px;\n",
       "    color: #555;\n",
       "    margin-left: 4px;\n",
       "    line-height: 19px;\n",
       "  }\n",
       "</style>\n",
       "<div class=\"ansiout\"></div>"
      ]
     },
     "metadata": {
      "application/vnd.databricks.v1+output": {
       "addedWidgets": {},
       "arguments": {},
       "data": "<div class=\"ansiout\"></div>",
       "datasetInfos": [],
       "removedWidgets": [],
       "type": "html"
      }
     },
     "output_type": "display_data"
    }
   ],
   "source": [
    "input_cols_OneHot= ['LIMIT_BAL', 'SEXVec', 'EDUCATIONVec', 'MARRIAGEVec', 'AGE', 'PAY_1', 'PAY_2', 'PAY_3', 'PAY_4', 'PAY_5', 'PAY_6', 'BILL_AMT1', 'BILL_AMT2', 'BILL_AMT3', 'BILL_AMT4', 'BILL_AMT5', 'BILL_AMT6', 'PAY_AMT1', 'PAY_AMT2', 'PAY_AMT3', 'PAY_AMT4', 'PAY_AMT5', 'PAY_AMT6']\n",
    "assembler_OneHot = VectorAssembler(inputCols= input_cols_OneHot ,outputCol='features')\n",
    "\n",
    "input_cols_Label= ['LIMIT_BAL', 'SEXIndex', 'EDUCATIONIndex', 'MARRIAGEIndex', 'AGE', 'PAY_1', 'PAY_2', 'PAY_3', 'PAY_4', 'PAY_5', 'PAY_6', 'BILL_AMT1', 'BILL_AMT2', 'BILL_AMT3', 'BILL_AMT4', 'BILL_AMT5', 'BILL_AMT6', 'PAY_AMT1', 'PAY_AMT2', 'PAY_AMT3', 'PAY_AMT4', 'PAY_AMT5', 'PAY_AMT6']\n",
    "assembler_Label = VectorAssembler(inputCols=input_cols_Label,outputCol='features')"
   ]
  },
  {
   "cell_type": "markdown",
   "metadata": {
    "application/vnd.databricks.v1+cell": {
     "inputWidgets": {},
     "nuid": "505055b1-b2a6-4001-aeb0-4e146cf16d03",
     "showTitle": true,
     "title": "Model Building（LogisticRegression）"
    }
   },
   "source": [
    "- LogisticRegression"
   ]
  },
  {
   "cell_type": "code",
   "execution_count": 0,
   "metadata": {
    "application/vnd.databricks.v1+cell": {
     "inputWidgets": {},
     "nuid": "b5e750ca-b862-4416-9d40-4a1030ddebfa",
     "showTitle": false,
     "title": ""
    }
   },
   "outputs": [
    {
     "data": {
      "text/html": [
       "<style scoped>\n",
       "  .ansiout {\n",
       "    display: block;\n",
       "    unicode-bidi: embed;\n",
       "    white-space: pre-wrap;\n",
       "    word-wrap: break-word;\n",
       "    word-break: break-all;\n",
       "    font-family: \"Source Code Pro\", \"Menlo\", monospace;;\n",
       "    font-size: 13px;\n",
       "    color: #555;\n",
       "    margin-left: 4px;\n",
       "    line-height: 19px;\n",
       "  }\n",
       "</style>\n",
       "<div class=\"ansiout\"></div>"
      ]
     },
     "metadata": {
      "application/vnd.databricks.v1+output": {
       "addedWidgets": {},
       "arguments": {},
       "data": "<div class=\"ansiout\"></div>",
       "datasetInfos": [],
       "removedWidgets": [],
       "type": "html"
      }
     },
     "output_type": "display_data"
    }
   ],
   "source": [
    "from pyspark.ml.classification import LogisticRegression\n",
    "from pyspark.ml.classification import RandomForestClassifier"
   ]
  },
  {
   "cell_type": "markdown",
   "metadata": {
    "application/vnd.databricks.v1+cell": {
     "inputWidgets": {},
     "nuid": "063498d2-9e2e-4990-b301-12b7c85cf4ca",
     "showTitle": true,
     "title": "Defining a Pipeline "
    }
   },
   "source": [
    "with pipeline we define the steps that we want to do"
   ]
  },
  {
   "cell_type": "code",
   "execution_count": 0,
   "metadata": {
    "application/vnd.databricks.v1+cell": {
     "inputWidgets": {},
     "nuid": "9c87950a-e027-4d88-8f0e-3704245f3759",
     "showTitle": false,
     "title": ""
    }
   },
   "outputs": [
    {
     "data": {
      "text/html": [
       "<style scoped>\n",
       "  .ansiout {\n",
       "    display: block;\n",
       "    unicode-bidi: embed;\n",
       "    white-space: pre-wrap;\n",
       "    word-wrap: break-word;\n",
       "    word-break: break-all;\n",
       "    font-family: \"Source Code Pro\", \"Menlo\", monospace;;\n",
       "    font-size: 13px;\n",
       "    color: #555;\n",
       "    margin-left: 4px;\n",
       "    line-height: 19px;\n",
       "  }\n",
       "</style>\n",
       "<div class=\"ansiout\"></div>"
      ]
     },
     "metadata": {
      "application/vnd.databricks.v1+output": {
       "addedWidgets": {},
       "arguments": {},
       "data": "<div class=\"ansiout\"></div>",
       "datasetInfos": [],
       "removedWidgets": [],
       "type": "html"
      }
     },
     "output_type": "display_data"
    }
   ],
   "source": [
    "from pyspark.ml import Pipeline"
   ]
  },
  {
   "cell_type": "code",
   "execution_count": 0,
   "metadata": {
    "application/vnd.databricks.v1+cell": {
     "inputWidgets": {},
     "nuid": "139f3943-4011-4185-aa06-0982f63b891e",
     "showTitle": false,
     "title": ""
    }
   },
   "outputs": [
    {
     "data": {
      "text/html": [
       "<style scoped>\n",
       "  .ansiout {\n",
       "    display: block;\n",
       "    unicode-bidi: embed;\n",
       "    white-space: pre-wrap;\n",
       "    word-wrap: break-word;\n",
       "    word-break: break-all;\n",
       "    font-family: \"Source Code Pro\", \"Menlo\", monospace;;\n",
       "    font-size: 13px;\n",
       "    color: #555;\n",
       "    margin-left: 4px;\n",
       "    line-height: 19px;\n",
       "  }\n",
       "</style>\n",
       "<div class=\"ansiout\"></div>"
      ]
     },
     "metadata": {
      "application/vnd.databricks.v1+output": {
       "addedWidgets": {},
       "arguments": {},
       "data": "<div class=\"ansiout\"></div>",
       "datasetInfos": [],
       "removedWidgets": [],
       "type": "html"
      }
     },
     "output_type": "display_data"
    }
   ],
   "source": [
    "log_reg_df = LogisticRegression(featuresCol='features',labelCol='Default')\n",
    "rf_df = RandomForestClassifier(featuresCol='features',labelCol='Default')"
   ]
  },
  {
   "cell_type": "code",
   "execution_count": 0,
   "metadata": {
    "application/vnd.databricks.v1+cell": {
     "inputWidgets": {},
     "nuid": "aab78ece-e083-4083-8127-dc3a9a62887e",
     "showTitle": false,
     "title": ""
    }
   },
   "outputs": [
    {
     "data": {
      "text/html": [
       "<style scoped>\n",
       "  .ansiout {\n",
       "    display: block;\n",
       "    unicode-bidi: embed;\n",
       "    white-space: pre-wrap;\n",
       "    word-wrap: break-word;\n",
       "    word-break: break-all;\n",
       "    font-family: \"Source Code Pro\", \"Menlo\", monospace;;\n",
       "    font-size: 13px;\n",
       "    color: #555;\n",
       "    margin-left: 4px;\n",
       "    line-height: 19px;\n",
       "  }\n",
       "</style>\n",
       "<div class=\"ansiout\"></div>"
      ]
     },
     "metadata": {
      "application/vnd.databricks.v1+output": {
       "addedWidgets": {},
       "arguments": {},
       "data": "<div class=\"ansiout\"></div>",
       "datasetInfos": [],
       "removedWidgets": [],
       "type": "html"
      }
     },
     "output_type": "display_data"
    }
   ],
   "source": [
    "# a pipeline for logistic regression\n",
    "pipeline_lr_OneHot = Pipeline(stages=[SEX_indexer,EDUCATION_indexer,MARRIAGE_indexer,\n",
    "                            SEX_encoder,EDUCATION_encoder,MARRIAGE_encoder,\n",
    "                           assembler_OneHot,log_reg_df])\n",
    "\n",
    "pipeline_lr_Label = Pipeline(stages=[SEX_indexer,EDUCATION_indexer,MARRIAGE_indexer,\n",
    "                           assembler_Label,log_reg_df])\n",
    "\n",
    "pipeline_rf_Label = Pipeline(stages=[SEX_indexer,EDUCATION_indexer,MARRIAGE_indexer,\n",
    "                           assembler_Label,rf_df])"
   ]
  },
  {
   "cell_type": "code",
   "execution_count": 0,
   "metadata": {
    "application/vnd.databricks.v1+cell": {
     "inputWidgets": {},
     "nuid": "b8041df8-6461-4302-be81-f6abeda0e534",
     "showTitle": false,
     "title": ""
    }
   },
   "outputs": [
    {
     "data": {
      "text/html": [
       "<style scoped>\n",
       "  .ansiout {\n",
       "    display: block;\n",
       "    unicode-bidi: embed;\n",
       "    white-space: pre-wrap;\n",
       "    word-wrap: break-word;\n",
       "    word-break: break-all;\n",
       "    font-family: \"Source Code Pro\", \"Menlo\", monospace;;\n",
       "    font-size: 13px;\n",
       "    color: #555;\n",
       "    margin-left: 4px;\n",
       "    line-height: 19px;\n",
       "  }\n",
       "</style>\n",
       "<div class=\"ansiout\"></div>"
      ]
     },
     "metadata": {
      "application/vnd.databricks.v1+output": {
       "addedWidgets": {},
       "arguments": {},
       "data": "<div class=\"ansiout\"></div>",
       "datasetInfos": [
        {
         "name": "train_df",
         "schema": {
          "fields": [
           {
            "metadata": {},
            "name": "ID",
            "nullable": true,
            "type": "string"
           },
           {
            "metadata": {},
            "name": "LIMIT_BAL",
            "nullable": true,
            "type": "double"
           },
           {
            "metadata": {},
            "name": "SEX",
            "nullable": true,
            "type": "string"
           },
           {
            "metadata": {},
            "name": "EDUCATION",
            "nullable": true,
            "type": "string"
           },
           {
            "metadata": {},
            "name": "MARRIAGE",
            "nullable": true,
            "type": "string"
           },
           {
            "metadata": {},
            "name": "AGE",
            "nullable": true,
            "type": "integer"
           },
           {
            "metadata": {},
            "name": "PAY_1",
            "nullable": true,
            "type": "integer"
           },
           {
            "metadata": {},
            "name": "PAY_2",
            "nullable": true,
            "type": "integer"
           },
           {
            "metadata": {},
            "name": "PAY_3",
            "nullable": true,
            "type": "integer"
           },
           {
            "metadata": {},
            "name": "PAY_4",
            "nullable": true,
            "type": "integer"
           },
           {
            "metadata": {},
            "name": "PAY_5",
            "nullable": true,
            "type": "integer"
           },
           {
            "metadata": {},
            "name": "PAY_6",
            "nullable": true,
            "type": "integer"
           },
           {
            "metadata": {},
            "name": "BILL_AMT1",
            "nullable": true,
            "type": "double"
           },
           {
            "metadata": {},
            "name": "BILL_AMT2",
            "nullable": true,
            "type": "double"
           },
           {
            "metadata": {},
            "name": "BILL_AMT3",
            "nullable": true,
            "type": "double"
           },
           {
            "metadata": {},
            "name": "BILL_AMT4",
            "nullable": true,
            "type": "double"
           },
           {
            "metadata": {},
            "name": "BILL_AMT5",
            "nullable": true,
            "type": "double"
           },
           {
            "metadata": {},
            "name": "BILL_AMT6",
            "nullable": true,
            "type": "double"
           },
           {
            "metadata": {},
            "name": "PAY_AMT1",
            "nullable": true,
            "type": "double"
           },
           {
            "metadata": {},
            "name": "PAY_AMT2",
            "nullable": true,
            "type": "double"
           },
           {
            "metadata": {},
            "name": "PAY_AMT3",
            "nullable": true,
            "type": "double"
           },
           {
            "metadata": {},
            "name": "PAY_AMT4",
            "nullable": true,
            "type": "double"
           },
           {
            "metadata": {},
            "name": "PAY_AMT5",
            "nullable": true,
            "type": "double"
           },
           {
            "metadata": {},
            "name": "PAY_AMT6",
            "nullable": true,
            "type": "double"
           },
           {
            "metadata": {},
            "name": "Default",
            "nullable": true,
            "type": "integer"
           }
          ],
          "type": "struct"
         },
         "tableIdentifier": null,
         "typeStr": "pyspark.sql.dataframe.DataFrame"
        },
        {
         "name": "test_df",
         "schema": {
          "fields": [
           {
            "metadata": {},
            "name": "ID",
            "nullable": true,
            "type": "string"
           },
           {
            "metadata": {},
            "name": "LIMIT_BAL",
            "nullable": true,
            "type": "double"
           },
           {
            "metadata": {},
            "name": "SEX",
            "nullable": true,
            "type": "string"
           },
           {
            "metadata": {},
            "name": "EDUCATION",
            "nullable": true,
            "type": "string"
           },
           {
            "metadata": {},
            "name": "MARRIAGE",
            "nullable": true,
            "type": "string"
           },
           {
            "metadata": {},
            "name": "AGE",
            "nullable": true,
            "type": "integer"
           },
           {
            "metadata": {},
            "name": "PAY_1",
            "nullable": true,
            "type": "integer"
           },
           {
            "metadata": {},
            "name": "PAY_2",
            "nullable": true,
            "type": "integer"
           },
           {
            "metadata": {},
            "name": "PAY_3",
            "nullable": true,
            "type": "integer"
           },
           {
            "metadata": {},
            "name": "PAY_4",
            "nullable": true,
            "type": "integer"
           },
           {
            "metadata": {},
            "name": "PAY_5",
            "nullable": true,
            "type": "integer"
           },
           {
            "metadata": {},
            "name": "PAY_6",
            "nullable": true,
            "type": "integer"
           },
           {
            "metadata": {},
            "name": "BILL_AMT1",
            "nullable": true,
            "type": "double"
           },
           {
            "metadata": {},
            "name": "BILL_AMT2",
            "nullable": true,
            "type": "double"
           },
           {
            "metadata": {},
            "name": "BILL_AMT3",
            "nullable": true,
            "type": "double"
           },
           {
            "metadata": {},
            "name": "BILL_AMT4",
            "nullable": true,
            "type": "double"
           },
           {
            "metadata": {},
            "name": "BILL_AMT5",
            "nullable": true,
            "type": "double"
           },
           {
            "metadata": {},
            "name": "BILL_AMT6",
            "nullable": true,
            "type": "double"
           },
           {
            "metadata": {},
            "name": "PAY_AMT1",
            "nullable": true,
            "type": "double"
           },
           {
            "metadata": {},
            "name": "PAY_AMT2",
            "nullable": true,
            "type": "double"
           },
           {
            "metadata": {},
            "name": "PAY_AMT3",
            "nullable": true,
            "type": "double"
           },
           {
            "metadata": {},
            "name": "PAY_AMT4",
            "nullable": true,
            "type": "double"
           },
           {
            "metadata": {},
            "name": "PAY_AMT5",
            "nullable": true,
            "type": "double"
           },
           {
            "metadata": {},
            "name": "PAY_AMT6",
            "nullable": true,
            "type": "double"
           },
           {
            "metadata": {},
            "name": "Default",
            "nullable": true,
            "type": "integer"
           }
          ],
          "type": "struct"
         },
         "tableIdentifier": null,
         "typeStr": "pyspark.sql.dataframe.DataFrame"
        }
       ],
       "removedWidgets": [],
       "type": "html"
      }
     },
     "output_type": "display_data"
    }
   ],
   "source": [
    "# random split with a seed number to reproduce the results\n",
    "train_df, test_df = df.randomSplit([0.8,.2],110)"
   ]
  },
  {
   "cell_type": "code",
   "execution_count": 0,
   "metadata": {
    "application/vnd.databricks.v1+cell": {
     "inputWidgets": {},
     "nuid": "813eb4fd-adab-4f4d-bb80-02f8afe889eb",
     "showTitle": false,
     "title": ""
    }
   },
   "outputs": [
    {
     "data": {
      "text/html": [
       "<style scoped>\n",
       "  .ansiout {\n",
       "    display: block;\n",
       "    unicode-bidi: embed;\n",
       "    white-space: pre-wrap;\n",
       "    word-wrap: break-word;\n",
       "    word-break: break-all;\n",
       "    font-family: \"Source Code Pro\", \"Menlo\", monospace;;\n",
       "    font-size: 13px;\n",
       "    color: #555;\n",
       "    margin-left: 4px;\n",
       "    line-height: 19px;\n",
       "  }\n",
       "</style>\n",
       "<div class=\"ansiout\"></div>"
      ]
     },
     "metadata": {
      "application/vnd.databricks.v1+output": {
       "addedWidgets": {},
       "arguments": {},
       "data": "<div class=\"ansiout\"></div>",
       "datasetInfos": [],
       "removedWidgets": [],
       "type": "html"
      }
     },
     "output_type": "display_data"
    }
   ],
   "source": [
    "fit_model_OneHot = pipeline_lr_OneHot.fit(train_df)\n",
    "fit_model_Label = pipeline_lr_Label.fit(train_df)\n",
    "fit_rf_Label = pipeline_rf_Label.fit(train_df)"
   ]
  },
  {
   "cell_type": "code",
   "execution_count": 0,
   "metadata": {
    "application/vnd.databricks.v1+cell": {
     "inputWidgets": {},
     "nuid": "d85e5899-094d-45ca-9384-6cd6cdf56d6c",
     "showTitle": false,
     "title": ""
    }
   },
   "outputs": [
    {
     "data": {
      "text/html": [
       "<style scoped>\n",
       "  .ansiout {\n",
       "    display: block;\n",
       "    unicode-bidi: embed;\n",
       "    white-space: pre-wrap;\n",
       "    word-wrap: break-word;\n",
       "    word-break: break-all;\n",
       "    font-family: \"Source Code Pro\", \"Menlo\", monospace;;\n",
       "    font-size: 13px;\n",
       "    color: #555;\n",
       "    margin-left: 4px;\n",
       "    line-height: 19px;\n",
       "  }\n",
       "</style>\n",
       "<div class=\"ansiout\"></div>"
      ]
     },
     "metadata": {
      "application/vnd.databricks.v1+output": {
       "addedWidgets": {},
       "arguments": {},
       "data": "<div class=\"ansiout\"></div>",
       "datasetInfos": [
        {
         "name": "train_OneHot_results",
         "schema": {
          "fields": [
           {
            "metadata": {},
            "name": "ID",
            "nullable": true,
            "type": "string"
           },
           {
            "metadata": {},
            "name": "LIMIT_BAL",
            "nullable": true,
            "type": "double"
           },
           {
            "metadata": {},
            "name": "SEX",
            "nullable": true,
            "type": "string"
           },
           {
            "metadata": {},
            "name": "EDUCATION",
            "nullable": true,
            "type": "string"
           },
           {
            "metadata": {},
            "name": "MARRIAGE",
            "nullable": true,
            "type": "string"
           },
           {
            "metadata": {},
            "name": "AGE",
            "nullable": true,
            "type": "integer"
           },
           {
            "metadata": {},
            "name": "PAY_1",
            "nullable": true,
            "type": "integer"
           },
           {
            "metadata": {},
            "name": "PAY_2",
            "nullable": true,
            "type": "integer"
           },
           {
            "metadata": {},
            "name": "PAY_3",
            "nullable": true,
            "type": "integer"
           },
           {
            "metadata": {},
            "name": "PAY_4",
            "nullable": true,
            "type": "integer"
           },
           {
            "metadata": {},
            "name": "PAY_5",
            "nullable": true,
            "type": "integer"
           },
           {
            "metadata": {},
            "name": "PAY_6",
            "nullable": true,
            "type": "integer"
           },
           {
            "metadata": {},
            "name": "BILL_AMT1",
            "nullable": true,
            "type": "double"
           },
           {
            "metadata": {},
            "name": "BILL_AMT2",
            "nullable": true,
            "type": "double"
           },
           {
            "metadata": {},
            "name": "BILL_AMT3",
            "nullable": true,
            "type": "double"
           },
           {
            "metadata": {},
            "name": "BILL_AMT4",
            "nullable": true,
            "type": "double"
           },
           {
            "metadata": {},
            "name": "BILL_AMT5",
            "nullable": true,
            "type": "double"
           },
           {
            "metadata": {},
            "name": "BILL_AMT6",
            "nullable": true,
            "type": "double"
           },
           {
            "metadata": {},
            "name": "PAY_AMT1",
            "nullable": true,
            "type": "double"
           },
           {
            "metadata": {},
            "name": "PAY_AMT2",
            "nullable": true,
            "type": "double"
           },
           {
            "metadata": {},
            "name": "PAY_AMT3",
            "nullable": true,
            "type": "double"
           },
           {
            "metadata": {},
            "name": "PAY_AMT4",
            "nullable": true,
            "type": "double"
           },
           {
            "metadata": {},
            "name": "PAY_AMT5",
            "nullable": true,
            "type": "double"
           },
           {
            "metadata": {},
            "name": "PAY_AMT6",
            "nullable": true,
            "type": "double"
           },
           {
            "metadata": {},
            "name": "Default",
            "nullable": true,
            "type": "integer"
           },
           {
            "metadata": {
             "ml_attr": {
              "name": "SEXIndex",
              "type": "nominal",
              "vals": [
               "2",
               "1"
              ]
             }
            },
            "name": "SEXIndex",
            "nullable": false,
            "type": "double"
           },
           {
            "metadata": {
             "ml_attr": {
              "name": "EDUCATIONIndex",
              "type": "nominal",
              "vals": [
               "2",
               "1",
               "3",
               "4"
              ]
             }
            },
            "name": "EDUCATIONIndex",
            "nullable": false,
            "type": "double"
           },
           {
            "metadata": {
             "ml_attr": {
              "name": "MARRIAGEIndex",
              "type": "nominal",
              "vals": [
               "2",
               "1"
              ]
             }
            },
            "name": "MARRIAGEIndex",
            "nullable": false,
            "type": "double"
           },
           {
            "metadata": {
             "ml_attr": {
              "attrs": {
               "binary": [
                {
                 "idx": 0,
                 "name": "2"
                }
               ]
              },
              "num_attrs": 1
             }
            },
            "name": "SEXVec",
            "nullable": true,
            "type": {
             "class": "org.apache.spark.ml.linalg.VectorUDT",
             "pyClass": "pyspark.ml.linalg.VectorUDT",
             "sqlType": {
              "fields": [
               {
                "metadata": {},
                "name": "type",
                "nullable": false,
                "type": "byte"
               },
               {
                "metadata": {},
                "name": "size",
                "nullable": true,
                "type": "integer"
               },
               {
                "metadata": {},
                "name": "indices",
                "nullable": true,
                "type": {
                 "containsNull": false,
                 "elementType": "integer",
                 "type": "array"
                }
               },
               {
                "metadata": {},
                "name": "values",
                "nullable": true,
                "type": {
                 "containsNull": false,
                 "elementType": "double",
                 "type": "array"
                }
               }
              ],
              "type": "struct"
             },
             "type": "udt"
            }
           },
           {
            "metadata": {
             "ml_attr": {
              "attrs": {
               "binary": [
                {
                 "idx": 0,
                 "name": "2"
                },
                {
                 "idx": 1,
                 "name": "1"
                },
                {
                 "idx": 2,
                 "name": "3"
                }
               ]
              },
              "num_attrs": 3
             }
            },
            "name": "EDUCATIONVec",
            "nullable": true,
            "type": {
             "class": "org.apache.spark.ml.linalg.VectorUDT",
             "pyClass": "pyspark.ml.linalg.VectorUDT",
             "sqlType": {
              "fields": [
               {
                "metadata": {},
                "name": "type",
                "nullable": false,
                "type": "byte"
               },
               {
                "metadata": {},
                "name": "size",
                "nullable": true,
                "type": "integer"
               },
               {
                "metadata": {},
                "name": "indices",
                "nullable": true,
                "type": {
                 "containsNull": false,
                 "elementType": "integer",
                 "type": "array"
                }
               },
               {
                "metadata": {},
                "name": "values",
                "nullable": true,
                "type": {
                 "containsNull": false,
                 "elementType": "double",
                 "type": "array"
                }
               }
              ],
              "type": "struct"
             },
             "type": "udt"
            }
           },
           {
            "metadata": {
             "ml_attr": {
              "attrs": {
               "binary": [
                {
                 "idx": 0,
                 "name": "2"
                }
               ]
              },
              "num_attrs": 1
             }
            },
            "name": "MARRIAGEVec",
            "nullable": true,
            "type": {
             "class": "org.apache.spark.ml.linalg.VectorUDT",
             "pyClass": "pyspark.ml.linalg.VectorUDT",
             "sqlType": {
              "fields": [
               {
                "metadata": {},
                "name": "type",
                "nullable": false,
                "type": "byte"
               },
               {
                "metadata": {},
                "name": "size",
                "nullable": true,
                "type": "integer"
               },
               {
                "metadata": {},
                "name": "indices",
                "nullable": true,
                "type": {
                 "containsNull": false,
                 "elementType": "integer",
                 "type": "array"
                }
               },
               {
                "metadata": {},
                "name": "values",
                "nullable": true,
                "type": {
                 "containsNull": false,
                 "elementType": "double",
                 "type": "array"
                }
               }
              ],
              "type": "struct"
             },
             "type": "udt"
            }
           },
           {
            "metadata": {
             "ml_attr": {
              "attrs": {
               "binary": [
                {
                 "idx": 1,
                 "name": "SEXVec_2"
                },
                {
                 "idx": 2,
                 "name": "EDUCATIONVec_2"
                },
                {
                 "idx": 3,
                 "name": "EDUCATIONVec_1"
                },
                {
                 "idx": 4,
                 "name": "EDUCATIONVec_3"
                },
                {
                 "idx": 5,
                 "name": "MARRIAGEVec_2"
                }
               ],
               "numeric": [
                {
                 "idx": 0,
                 "name": "LIMIT_BAL"
                },
                {
                 "idx": 6,
                 "name": "AGE"
                },
                {
                 "idx": 7,
                 "name": "PAY_1"
                },
                {
                 "idx": 8,
                 "name": "PAY_2"
                },
                {
                 "idx": 9,
                 "name": "PAY_3"
                },
                {
                 "idx": 10,
                 "name": "PAY_4"
                },
                {
                 "idx": 11,
                 "name": "PAY_5"
                },
                {
                 "idx": 12,
                 "name": "PAY_6"
                },
                {
                 "idx": 13,
                 "name": "BILL_AMT1"
                },
                {
                 "idx": 14,
                 "name": "BILL_AMT2"
                },
                {
                 "idx": 15,
                 "name": "BILL_AMT3"
                },
                {
                 "idx": 16,
                 "name": "BILL_AMT4"
                },
                {
                 "idx": 17,
                 "name": "BILL_AMT5"
                },
                {
                 "idx": 18,
                 "name": "BILL_AMT6"
                },
                {
                 "idx": 19,
                 "name": "PAY_AMT1"
                },
                {
                 "idx": 20,
                 "name": "PAY_AMT2"
                },
                {
                 "idx": 21,
                 "name": "PAY_AMT3"
                },
                {
                 "idx": 22,
                 "name": "PAY_AMT4"
                },
                {
                 "idx": 23,
                 "name": "PAY_AMT5"
                },
                {
                 "idx": 24,
                 "name": "PAY_AMT6"
                }
               ]
              },
              "num_attrs": 25
             }
            },
            "name": "features",
            "nullable": true,
            "type": {
             "class": "org.apache.spark.ml.linalg.VectorUDT",
             "pyClass": "pyspark.ml.linalg.VectorUDT",
             "sqlType": {
              "fields": [
               {
                "metadata": {},
                "name": "type",
                "nullable": false,
                "type": "byte"
               },
               {
                "metadata": {},
                "name": "size",
                "nullable": true,
                "type": "integer"
               },
               {
                "metadata": {},
                "name": "indices",
                "nullable": true,
                "type": {
                 "containsNull": false,
                 "elementType": "integer",
                 "type": "array"
                }
               },
               {
                "metadata": {},
                "name": "values",
                "nullable": true,
                "type": {
                 "containsNull": false,
                 "elementType": "double",
                 "type": "array"
                }
               }
              ],
              "type": "struct"
             },
             "type": "udt"
            }
           },
           {
            "metadata": {
             "ml_attr": {
              "num_attrs": 2
             }
            },
            "name": "rawPrediction",
            "nullable": true,
            "type": {
             "class": "org.apache.spark.ml.linalg.VectorUDT",
             "pyClass": "pyspark.ml.linalg.VectorUDT",
             "sqlType": {
              "fields": [
               {
                "metadata": {},
                "name": "type",
                "nullable": false,
                "type": "byte"
               },
               {
                "metadata": {},
                "name": "size",
                "nullable": true,
                "type": "integer"
               },
               {
                "metadata": {},
                "name": "indices",
                "nullable": true,
                "type": {
                 "containsNull": false,
                 "elementType": "integer",
                 "type": "array"
                }
               },
               {
                "metadata": {},
                "name": "values",
                "nullable": true,
                "type": {
                 "containsNull": false,
                 "elementType": "double",
                 "type": "array"
                }
               }
              ],
              "type": "struct"
             },
             "type": "udt"
            }
           },
           {
            "metadata": {
             "ml_attr": {
              "num_attrs": 2
             }
            },
            "name": "probability",
            "nullable": true,
            "type": {
             "class": "org.apache.spark.ml.linalg.VectorUDT",
             "pyClass": "pyspark.ml.linalg.VectorUDT",
             "sqlType": {
              "fields": [
               {
                "metadata": {},
                "name": "type",
                "nullable": false,
                "type": "byte"
               },
               {
                "metadata": {},
                "name": "size",
                "nullable": true,
                "type": "integer"
               },
               {
                "metadata": {},
                "name": "indices",
                "nullable": true,
                "type": {
                 "containsNull": false,
                 "elementType": "integer",
                 "type": "array"
                }
               },
               {
                "metadata": {},
                "name": "values",
                "nullable": true,
                "type": {
                 "containsNull": false,
                 "elementType": "double",
                 "type": "array"
                }
               }
              ],
              "type": "struct"
             },
             "type": "udt"
            }
           },
           {
            "metadata": {
             "ml_attr": {
              "num_vals": 2,
              "type": "nominal"
             }
            },
            "name": "prediction",
            "nullable": false,
            "type": "double"
           }
          ],
          "type": "struct"
         },
         "tableIdentifier": null,
         "typeStr": "pyspark.sql.dataframe.DataFrame"
        },
        {
         "name": "test_OneHot_results",
         "schema": {
          "fields": [
           {
            "metadata": {},
            "name": "ID",
            "nullable": true,
            "type": "string"
           },
           {
            "metadata": {},
            "name": "LIMIT_BAL",
            "nullable": true,
            "type": "double"
           },
           {
            "metadata": {},
            "name": "SEX",
            "nullable": true,
            "type": "string"
           },
           {
            "metadata": {},
            "name": "EDUCATION",
            "nullable": true,
            "type": "string"
           },
           {
            "metadata": {},
            "name": "MARRIAGE",
            "nullable": true,
            "type": "string"
           },
           {
            "metadata": {},
            "name": "AGE",
            "nullable": true,
            "type": "integer"
           },
           {
            "metadata": {},
            "name": "PAY_1",
            "nullable": true,
            "type": "integer"
           },
           {
            "metadata": {},
            "name": "PAY_2",
            "nullable": true,
            "type": "integer"
           },
           {
            "metadata": {},
            "name": "PAY_3",
            "nullable": true,
            "type": "integer"
           },
           {
            "metadata": {},
            "name": "PAY_4",
            "nullable": true,
            "type": "integer"
           },
           {
            "metadata": {},
            "name": "PAY_5",
            "nullable": true,
            "type": "integer"
           },
           {
            "metadata": {},
            "name": "PAY_6",
            "nullable": true,
            "type": "integer"
           },
           {
            "metadata": {},
            "name": "BILL_AMT1",
            "nullable": true,
            "type": "double"
           },
           {
            "metadata": {},
            "name": "BILL_AMT2",
            "nullable": true,
            "type": "double"
           },
           {
            "metadata": {},
            "name": "BILL_AMT3",
            "nullable": true,
            "type": "double"
           },
           {
            "metadata": {},
            "name": "BILL_AMT4",
            "nullable": true,
            "type": "double"
           },
           {
            "metadata": {},
            "name": "BILL_AMT5",
            "nullable": true,
            "type": "double"
           },
           {
            "metadata": {},
            "name": "BILL_AMT6",
            "nullable": true,
            "type": "double"
           },
           {
            "metadata": {},
            "name": "PAY_AMT1",
            "nullable": true,
            "type": "double"
           },
           {
            "metadata": {},
            "name": "PAY_AMT2",
            "nullable": true,
            "type": "double"
           },
           {
            "metadata": {},
            "name": "PAY_AMT3",
            "nullable": true,
            "type": "double"
           },
           {
            "metadata": {},
            "name": "PAY_AMT4",
            "nullable": true,
            "type": "double"
           },
           {
            "metadata": {},
            "name": "PAY_AMT5",
            "nullable": true,
            "type": "double"
           },
           {
            "metadata": {},
            "name": "PAY_AMT6",
            "nullable": true,
            "type": "double"
           },
           {
            "metadata": {},
            "name": "Default",
            "nullable": true,
            "type": "integer"
           },
           {
            "metadata": {
             "ml_attr": {
              "name": "SEXIndex",
              "type": "nominal",
              "vals": [
               "2",
               "1"
              ]
             }
            },
            "name": "SEXIndex",
            "nullable": false,
            "type": "double"
           },
           {
            "metadata": {
             "ml_attr": {
              "name": "EDUCATIONIndex",
              "type": "nominal",
              "vals": [
               "2",
               "1",
               "3",
               "4"
              ]
             }
            },
            "name": "EDUCATIONIndex",
            "nullable": false,
            "type": "double"
           },
           {
            "metadata": {
             "ml_attr": {
              "name": "MARRIAGEIndex",
              "type": "nominal",
              "vals": [
               "2",
               "1"
              ]
             }
            },
            "name": "MARRIAGEIndex",
            "nullable": false,
            "type": "double"
           },
           {
            "metadata": {
             "ml_attr": {
              "attrs": {
               "binary": [
                {
                 "idx": 0,
                 "name": "2"
                }
               ]
              },
              "num_attrs": 1
             }
            },
            "name": "SEXVec",
            "nullable": true,
            "type": {
             "class": "org.apache.spark.ml.linalg.VectorUDT",
             "pyClass": "pyspark.ml.linalg.VectorUDT",
             "sqlType": {
              "fields": [
               {
                "metadata": {},
                "name": "type",
                "nullable": false,
                "type": "byte"
               },
               {
                "metadata": {},
                "name": "size",
                "nullable": true,
                "type": "integer"
               },
               {
                "metadata": {},
                "name": "indices",
                "nullable": true,
                "type": {
                 "containsNull": false,
                 "elementType": "integer",
                 "type": "array"
                }
               },
               {
                "metadata": {},
                "name": "values",
                "nullable": true,
                "type": {
                 "containsNull": false,
                 "elementType": "double",
                 "type": "array"
                }
               }
              ],
              "type": "struct"
             },
             "type": "udt"
            }
           },
           {
            "metadata": {
             "ml_attr": {
              "attrs": {
               "binary": [
                {
                 "idx": 0,
                 "name": "2"
                },
                {
                 "idx": 1,
                 "name": "1"
                },
                {
                 "idx": 2,
                 "name": "3"
                }
               ]
              },
              "num_attrs": 3
             }
            },
            "name": "EDUCATIONVec",
            "nullable": true,
            "type": {
             "class": "org.apache.spark.ml.linalg.VectorUDT",
             "pyClass": "pyspark.ml.linalg.VectorUDT",
             "sqlType": {
              "fields": [
               {
                "metadata": {},
                "name": "type",
                "nullable": false,
                "type": "byte"
               },
               {
                "metadata": {},
                "name": "size",
                "nullable": true,
                "type": "integer"
               },
               {
                "metadata": {},
                "name": "indices",
                "nullable": true,
                "type": {
                 "containsNull": false,
                 "elementType": "integer",
                 "type": "array"
                }
               },
               {
                "metadata": {},
                "name": "values",
                "nullable": true,
                "type": {
                 "containsNull": false,
                 "elementType": "double",
                 "type": "array"
                }
               }
              ],
              "type": "struct"
             },
             "type": "udt"
            }
           },
           {
            "metadata": {
             "ml_attr": {
              "attrs": {
               "binary": [
                {
                 "idx": 0,
                 "name": "2"
                }
               ]
              },
              "num_attrs": 1
             }
            },
            "name": "MARRIAGEVec",
            "nullable": true,
            "type": {
             "class": "org.apache.spark.ml.linalg.VectorUDT",
             "pyClass": "pyspark.ml.linalg.VectorUDT",
             "sqlType": {
              "fields": [
               {
                "metadata": {},
                "name": "type",
                "nullable": false,
                "type": "byte"
               },
               {
                "metadata": {},
                "name": "size",
                "nullable": true,
                "type": "integer"
               },
               {
                "metadata": {},
                "name": "indices",
                "nullable": true,
                "type": {
                 "containsNull": false,
                 "elementType": "integer",
                 "type": "array"
                }
               },
               {
                "metadata": {},
                "name": "values",
                "nullable": true,
                "type": {
                 "containsNull": false,
                 "elementType": "double",
                 "type": "array"
                }
               }
              ],
              "type": "struct"
             },
             "type": "udt"
            }
           },
           {
            "metadata": {
             "ml_attr": {
              "attrs": {
               "binary": [
                {
                 "idx": 1,
                 "name": "SEXVec_2"
                },
                {
                 "idx": 2,
                 "name": "EDUCATIONVec_2"
                },
                {
                 "idx": 3,
                 "name": "EDUCATIONVec_1"
                },
                {
                 "idx": 4,
                 "name": "EDUCATIONVec_3"
                },
                {
                 "idx": 5,
                 "name": "MARRIAGEVec_2"
                }
               ],
               "numeric": [
                {
                 "idx": 0,
                 "name": "LIMIT_BAL"
                },
                {
                 "idx": 6,
                 "name": "AGE"
                },
                {
                 "idx": 7,
                 "name": "PAY_1"
                },
                {
                 "idx": 8,
                 "name": "PAY_2"
                },
                {
                 "idx": 9,
                 "name": "PAY_3"
                },
                {
                 "idx": 10,
                 "name": "PAY_4"
                },
                {
                 "idx": 11,
                 "name": "PAY_5"
                },
                {
                 "idx": 12,
                 "name": "PAY_6"
                },
                {
                 "idx": 13,
                 "name": "BILL_AMT1"
                },
                {
                 "idx": 14,
                 "name": "BILL_AMT2"
                },
                {
                 "idx": 15,
                 "name": "BILL_AMT3"
                },
                {
                 "idx": 16,
                 "name": "BILL_AMT4"
                },
                {
                 "idx": 17,
                 "name": "BILL_AMT5"
                },
                {
                 "idx": 18,
                 "name": "BILL_AMT6"
                },
                {
                 "idx": 19,
                 "name": "PAY_AMT1"
                },
                {
                 "idx": 20,
                 "name": "PAY_AMT2"
                },
                {
                 "idx": 21,
                 "name": "PAY_AMT3"
                },
                {
                 "idx": 22,
                 "name": "PAY_AMT4"
                },
                {
                 "idx": 23,
                 "name": "PAY_AMT5"
                },
                {
                 "idx": 24,
                 "name": "PAY_AMT6"
                }
               ]
              },
              "num_attrs": 25
             }
            },
            "name": "features",
            "nullable": true,
            "type": {
             "class": "org.apache.spark.ml.linalg.VectorUDT",
             "pyClass": "pyspark.ml.linalg.VectorUDT",
             "sqlType": {
              "fields": [
               {
                "metadata": {},
                "name": "type",
                "nullable": false,
                "type": "byte"
               },
               {
                "metadata": {},
                "name": "size",
                "nullable": true,
                "type": "integer"
               },
               {
                "metadata": {},
                "name": "indices",
                "nullable": true,
                "type": {
                 "containsNull": false,
                 "elementType": "integer",
                 "type": "array"
                }
               },
               {
                "metadata": {},
                "name": "values",
                "nullable": true,
                "type": {
                 "containsNull": false,
                 "elementType": "double",
                 "type": "array"
                }
               }
              ],
              "type": "struct"
             },
             "type": "udt"
            }
           },
           {
            "metadata": {
             "ml_attr": {
              "num_attrs": 2
             }
            },
            "name": "rawPrediction",
            "nullable": true,
            "type": {
             "class": "org.apache.spark.ml.linalg.VectorUDT",
             "pyClass": "pyspark.ml.linalg.VectorUDT",
             "sqlType": {
              "fields": [
               {
                "metadata": {},
                "name": "type",
                "nullable": false,
                "type": "byte"
               },
               {
                "metadata": {},
                "name": "size",
                "nullable": true,
                "type": "integer"
               },
               {
                "metadata": {},
                "name": "indices",
                "nullable": true,
                "type": {
                 "containsNull": false,
                 "elementType": "integer",
                 "type": "array"
                }
               },
               {
                "metadata": {},
                "name": "values",
                "nullable": true,
                "type": {
                 "containsNull": false,
                 "elementType": "double",
                 "type": "array"
                }
               }
              ],
              "type": "struct"
             },
             "type": "udt"
            }
           },
           {
            "metadata": {
             "ml_attr": {
              "num_attrs": 2
             }
            },
            "name": "probability",
            "nullable": true,
            "type": {
             "class": "org.apache.spark.ml.linalg.VectorUDT",
             "pyClass": "pyspark.ml.linalg.VectorUDT",
             "sqlType": {
              "fields": [
               {
                "metadata": {},
                "name": "type",
                "nullable": false,
                "type": "byte"
               },
               {
                "metadata": {},
                "name": "size",
                "nullable": true,
                "type": "integer"
               },
               {
                "metadata": {},
                "name": "indices",
                "nullable": true,
                "type": {
                 "containsNull": false,
                 "elementType": "integer",
                 "type": "array"
                }
               },
               {
                "metadata": {},
                "name": "values",
                "nullable": true,
                "type": {
                 "containsNull": false,
                 "elementType": "double",
                 "type": "array"
                }
               }
              ],
              "type": "struct"
             },
             "type": "udt"
            }
           },
           {
            "metadata": {
             "ml_attr": {
              "num_vals": 2,
              "type": "nominal"
             }
            },
            "name": "prediction",
            "nullable": false,
            "type": "double"
           }
          ],
          "type": "struct"
         },
         "tableIdentifier": null,
         "typeStr": "pyspark.sql.dataframe.DataFrame"
        },
        {
         "name": "train_Label_results",
         "schema": {
          "fields": [
           {
            "metadata": {},
            "name": "ID",
            "nullable": true,
            "type": "string"
           },
           {
            "metadata": {},
            "name": "LIMIT_BAL",
            "nullable": true,
            "type": "double"
           },
           {
            "metadata": {},
            "name": "SEX",
            "nullable": true,
            "type": "string"
           },
           {
            "metadata": {},
            "name": "EDUCATION",
            "nullable": true,
            "type": "string"
           },
           {
            "metadata": {},
            "name": "MARRIAGE",
            "nullable": true,
            "type": "string"
           },
           {
            "metadata": {},
            "name": "AGE",
            "nullable": true,
            "type": "integer"
           },
           {
            "metadata": {},
            "name": "PAY_1",
            "nullable": true,
            "type": "integer"
           },
           {
            "metadata": {},
            "name": "PAY_2",
            "nullable": true,
            "type": "integer"
           },
           {
            "metadata": {},
            "name": "PAY_3",
            "nullable": true,
            "type": "integer"
           },
           {
            "metadata": {},
            "name": "PAY_4",
            "nullable": true,
            "type": "integer"
           },
           {
            "metadata": {},
            "name": "PAY_5",
            "nullable": true,
            "type": "integer"
           },
           {
            "metadata": {},
            "name": "PAY_6",
            "nullable": true,
            "type": "integer"
           },
           {
            "metadata": {},
            "name": "BILL_AMT1",
            "nullable": true,
            "type": "double"
           },
           {
            "metadata": {},
            "name": "BILL_AMT2",
            "nullable": true,
            "type": "double"
           },
           {
            "metadata": {},
            "name": "BILL_AMT3",
            "nullable": true,
            "type": "double"
           },
           {
            "metadata": {},
            "name": "BILL_AMT4",
            "nullable": true,
            "type": "double"
           },
           {
            "metadata": {},
            "name": "BILL_AMT5",
            "nullable": true,
            "type": "double"
           },
           {
            "metadata": {},
            "name": "BILL_AMT6",
            "nullable": true,
            "type": "double"
           },
           {
            "metadata": {},
            "name": "PAY_AMT1",
            "nullable": true,
            "type": "double"
           },
           {
            "metadata": {},
            "name": "PAY_AMT2",
            "nullable": true,
            "type": "double"
           },
           {
            "metadata": {},
            "name": "PAY_AMT3",
            "nullable": true,
            "type": "double"
           },
           {
            "metadata": {},
            "name": "PAY_AMT4",
            "nullable": true,
            "type": "double"
           },
           {
            "metadata": {},
            "name": "PAY_AMT5",
            "nullable": true,
            "type": "double"
           },
           {
            "metadata": {},
            "name": "PAY_AMT6",
            "nullable": true,
            "type": "double"
           },
           {
            "metadata": {},
            "name": "Default",
            "nullable": true,
            "type": "integer"
           },
           {
            "metadata": {
             "ml_attr": {
              "name": "SEXIndex",
              "type": "nominal",
              "vals": [
               "2",
               "1"
              ]
             }
            },
            "name": "SEXIndex",
            "nullable": false,
            "type": "double"
           },
           {
            "metadata": {
             "ml_attr": {
              "name": "EDUCATIONIndex",
              "type": "nominal",
              "vals": [
               "2",
               "1",
               "3",
               "4"
              ]
             }
            },
            "name": "EDUCATIONIndex",
            "nullable": false,
            "type": "double"
           },
           {
            "metadata": {
             "ml_attr": {
              "name": "MARRIAGEIndex",
              "type": "nominal",
              "vals": [
               "2",
               "1"
              ]
             }
            },
            "name": "MARRIAGEIndex",
            "nullable": false,
            "type": "double"
           },
           {
            "metadata": {
             "ml_attr": {
              "attrs": {
               "nominal": [
                {
                 "idx": 1,
                 "name": "SEXIndex",
                 "vals": [
                  "2",
                  "1"
                 ]
                },
                {
                 "idx": 2,
                 "name": "EDUCATIONIndex",
                 "vals": [
                  "2",
                  "1",
                  "3",
                  "4"
                 ]
                },
                {
                 "idx": 3,
                 "name": "MARRIAGEIndex",
                 "vals": [
                  "2",
                  "1"
                 ]
                }
               ],
               "numeric": [
                {
                 "idx": 0,
                 "name": "LIMIT_BAL"
                },
                {
                 "idx": 4,
                 "name": "AGE"
                },
                {
                 "idx": 5,
                 "name": "PAY_1"
                },
                {
                 "idx": 6,
                 "name": "PAY_2"
                },
                {
                 "idx": 7,
                 "name": "PAY_3"
                },
                {
                 "idx": 8,
                 "name": "PAY_4"
                },
                {
                 "idx": 9,
                 "name": "PAY_5"
                },
                {
                 "idx": 10,
                 "name": "PAY_6"
                },
                {
                 "idx": 11,
                 "name": "BILL_AMT1"
                },
                {
                 "idx": 12,
                 "name": "BILL_AMT2"
                },
                {
                 "idx": 13,
                 "name": "BILL_AMT3"
                },
                {
                 "idx": 14,
                 "name": "BILL_AMT4"
                },
                {
                 "idx": 15,
                 "name": "BILL_AMT5"
                },
                {
                 "idx": 16,
                 "name": "BILL_AMT6"
                },
                {
                 "idx": 17,
                 "name": "PAY_AMT1"
                },
                {
                 "idx": 18,
                 "name": "PAY_AMT2"
                },
                {
                 "idx": 19,
                 "name": "PAY_AMT3"
                },
                {
                 "idx": 20,
                 "name": "PAY_AMT4"
                },
                {
                 "idx": 21,
                 "name": "PAY_AMT5"
                },
                {
                 "idx": 22,
                 "name": "PAY_AMT6"
                }
               ]
              },
              "num_attrs": 23
             }
            },
            "name": "features",
            "nullable": true,
            "type": {
             "class": "org.apache.spark.ml.linalg.VectorUDT",
             "pyClass": "pyspark.ml.linalg.VectorUDT",
             "sqlType": {
              "fields": [
               {
                "metadata": {},
                "name": "type",
                "nullable": false,
                "type": "byte"
               },
               {
                "metadata": {},
                "name": "size",
                "nullable": true,
                "type": "integer"
               },
               {
                "metadata": {},
                "name": "indices",
                "nullable": true,
                "type": {
                 "containsNull": false,
                 "elementType": "integer",
                 "type": "array"
                }
               },
               {
                "metadata": {},
                "name": "values",
                "nullable": true,
                "type": {
                 "containsNull": false,
                 "elementType": "double",
                 "type": "array"
                }
               }
              ],
              "type": "struct"
             },
             "type": "udt"
            }
           },
           {
            "metadata": {
             "ml_attr": {
              "num_attrs": 2
             }
            },
            "name": "rawPrediction",
            "nullable": true,
            "type": {
             "class": "org.apache.spark.ml.linalg.VectorUDT",
             "pyClass": "pyspark.ml.linalg.VectorUDT",
             "sqlType": {
              "fields": [
               {
                "metadata": {},
                "name": "type",
                "nullable": false,
                "type": "byte"
               },
               {
                "metadata": {},
                "name": "size",
                "nullable": true,
                "type": "integer"
               },
               {
                "metadata": {},
                "name": "indices",
                "nullable": true,
                "type": {
                 "containsNull": false,
                 "elementType": "integer",
                 "type": "array"
                }
               },
               {
                "metadata": {},
                "name": "values",
                "nullable": true,
                "type": {
                 "containsNull": false,
                 "elementType": "double",
                 "type": "array"
                }
               }
              ],
              "type": "struct"
             },
             "type": "udt"
            }
           },
           {
            "metadata": {
             "ml_attr": {
              "num_attrs": 2
             }
            },
            "name": "probability",
            "nullable": true,
            "type": {
             "class": "org.apache.spark.ml.linalg.VectorUDT",
             "pyClass": "pyspark.ml.linalg.VectorUDT",
             "sqlType": {
              "fields": [
               {
                "metadata": {},
                "name": "type",
                "nullable": false,
                "type": "byte"
               },
               {
                "metadata": {},
                "name": "size",
                "nullable": true,
                "type": "integer"
               },
               {
                "metadata": {},
                "name": "indices",
                "nullable": true,
                "type": {
                 "containsNull": false,
                 "elementType": "integer",
                 "type": "array"
                }
               },
               {
                "metadata": {},
                "name": "values",
                "nullable": true,
                "type": {
                 "containsNull": false,
                 "elementType": "double",
                 "type": "array"
                }
               }
              ],
              "type": "struct"
             },
             "type": "udt"
            }
           },
           {
            "metadata": {
             "ml_attr": {
              "num_vals": 2,
              "type": "nominal"
             }
            },
            "name": "prediction",
            "nullable": false,
            "type": "double"
           }
          ],
          "type": "struct"
         },
         "tableIdentifier": null,
         "typeStr": "pyspark.sql.dataframe.DataFrame"
        },
        {
         "name": "test_Label_results",
         "schema": {
          "fields": [
           {
            "metadata": {},
            "name": "ID",
            "nullable": true,
            "type": "string"
           },
           {
            "metadata": {},
            "name": "LIMIT_BAL",
            "nullable": true,
            "type": "double"
           },
           {
            "metadata": {},
            "name": "SEX",
            "nullable": true,
            "type": "string"
           },
           {
            "metadata": {},
            "name": "EDUCATION",
            "nullable": true,
            "type": "string"
           },
           {
            "metadata": {},
            "name": "MARRIAGE",
            "nullable": true,
            "type": "string"
           },
           {
            "metadata": {},
            "name": "AGE",
            "nullable": true,
            "type": "integer"
           },
           {
            "metadata": {},
            "name": "PAY_1",
            "nullable": true,
            "type": "integer"
           },
           {
            "metadata": {},
            "name": "PAY_2",
            "nullable": true,
            "type": "integer"
           },
           {
            "metadata": {},
            "name": "PAY_3",
            "nullable": true,
            "type": "integer"
           },
           {
            "metadata": {},
            "name": "PAY_4",
            "nullable": true,
            "type": "integer"
           },
           {
            "metadata": {},
            "name": "PAY_5",
            "nullable": true,
            "type": "integer"
           },
           {
            "metadata": {},
            "name": "PAY_6",
            "nullable": true,
            "type": "integer"
           },
           {
            "metadata": {},
            "name": "BILL_AMT1",
            "nullable": true,
            "type": "double"
           },
           {
            "metadata": {},
            "name": "BILL_AMT2",
            "nullable": true,
            "type": "double"
           },
           {
            "metadata": {},
            "name": "BILL_AMT3",
            "nullable": true,
            "type": "double"
           },
           {
            "metadata": {},
            "name": "BILL_AMT4",
            "nullable": true,
            "type": "double"
           },
           {
            "metadata": {},
            "name": "BILL_AMT5",
            "nullable": true,
            "type": "double"
           },
           {
            "metadata": {},
            "name": "BILL_AMT6",
            "nullable": true,
            "type": "double"
           },
           {
            "metadata": {},
            "name": "PAY_AMT1",
            "nullable": true,
            "type": "double"
           },
           {
            "metadata": {},
            "name": "PAY_AMT2",
            "nullable": true,
            "type": "double"
           },
           {
            "metadata": {},
            "name": "PAY_AMT3",
            "nullable": true,
            "type": "double"
           },
           {
            "metadata": {},
            "name": "PAY_AMT4",
            "nullable": true,
            "type": "double"
           },
           {
            "metadata": {},
            "name": "PAY_AMT5",
            "nullable": true,
            "type": "double"
           },
           {
            "metadata": {},
            "name": "PAY_AMT6",
            "nullable": true,
            "type": "double"
           },
           {
            "metadata": {},
            "name": "Default",
            "nullable": true,
            "type": "integer"
           },
           {
            "metadata": {
             "ml_attr": {
              "name": "SEXIndex",
              "type": "nominal",
              "vals": [
               "2",
               "1"
              ]
             }
            },
            "name": "SEXIndex",
            "nullable": false,
            "type": "double"
           },
           {
            "metadata": {
             "ml_attr": {
              "name": "EDUCATIONIndex",
              "type": "nominal",
              "vals": [
               "2",
               "1",
               "3",
               "4"
              ]
             }
            },
            "name": "EDUCATIONIndex",
            "nullable": false,
            "type": "double"
           },
           {
            "metadata": {
             "ml_attr": {
              "name": "MARRIAGEIndex",
              "type": "nominal",
              "vals": [
               "2",
               "1"
              ]
             }
            },
            "name": "MARRIAGEIndex",
            "nullable": false,
            "type": "double"
           },
           {
            "metadata": {
             "ml_attr": {
              "attrs": {
               "nominal": [
                {
                 "idx": 1,
                 "name": "SEXIndex",
                 "vals": [
                  "2",
                  "1"
                 ]
                },
                {
                 "idx": 2,
                 "name": "EDUCATIONIndex",
                 "vals": [
                  "2",
                  "1",
                  "3",
                  "4"
                 ]
                },
                {
                 "idx": 3,
                 "name": "MARRIAGEIndex",
                 "vals": [
                  "2",
                  "1"
                 ]
                }
               ],
               "numeric": [
                {
                 "idx": 0,
                 "name": "LIMIT_BAL"
                },
                {
                 "idx": 4,
                 "name": "AGE"
                },
                {
                 "idx": 5,
                 "name": "PAY_1"
                },
                {
                 "idx": 6,
                 "name": "PAY_2"
                },
                {
                 "idx": 7,
                 "name": "PAY_3"
                },
                {
                 "idx": 8,
                 "name": "PAY_4"
                },
                {
                 "idx": 9,
                 "name": "PAY_5"
                },
                {
                 "idx": 10,
                 "name": "PAY_6"
                },
                {
                 "idx": 11,
                 "name": "BILL_AMT1"
                },
                {
                 "idx": 12,
                 "name": "BILL_AMT2"
                },
                {
                 "idx": 13,
                 "name": "BILL_AMT3"
                },
                {
                 "idx": 14,
                 "name": "BILL_AMT4"
                },
                {
                 "idx": 15,
                 "name": "BILL_AMT5"
                },
                {
                 "idx": 16,
                 "name": "BILL_AMT6"
                },
                {
                 "idx": 17,
                 "name": "PAY_AMT1"
                },
                {
                 "idx": 18,
                 "name": "PAY_AMT2"
                },
                {
                 "idx": 19,
                 "name": "PAY_AMT3"
                },
                {
                 "idx": 20,
                 "name": "PAY_AMT4"
                },
                {
                 "idx": 21,
                 "name": "PAY_AMT5"
                },
                {
                 "idx": 22,
                 "name": "PAY_AMT6"
                }
               ]
              },
              "num_attrs": 23
             }
            },
            "name": "features",
            "nullable": true,
            "type": {
             "class": "org.apache.spark.ml.linalg.VectorUDT",
             "pyClass": "pyspark.ml.linalg.VectorUDT",
             "sqlType": {
              "fields": [
               {
                "metadata": {},
                "name": "type",
                "nullable": false,
                "type": "byte"
               },
               {
                "metadata": {},
                "name": "size",
                "nullable": true,
                "type": "integer"
               },
               {
                "metadata": {},
                "name": "indices",
                "nullable": true,
                "type": {
                 "containsNull": false,
                 "elementType": "integer",
                 "type": "array"
                }
               },
               {
                "metadata": {},
                "name": "values",
                "nullable": true,
                "type": {
                 "containsNull": false,
                 "elementType": "double",
                 "type": "array"
                }
               }
              ],
              "type": "struct"
             },
             "type": "udt"
            }
           },
           {
            "metadata": {
             "ml_attr": {
              "num_attrs": 2
             }
            },
            "name": "rawPrediction",
            "nullable": true,
            "type": {
             "class": "org.apache.spark.ml.linalg.VectorUDT",
             "pyClass": "pyspark.ml.linalg.VectorUDT",
             "sqlType": {
              "fields": [
               {
                "metadata": {},
                "name": "type",
                "nullable": false,
                "type": "byte"
               },
               {
                "metadata": {},
                "name": "size",
                "nullable": true,
                "type": "integer"
               },
               {
                "metadata": {},
                "name": "indices",
                "nullable": true,
                "type": {
                 "containsNull": false,
                 "elementType": "integer",
                 "type": "array"
                }
               },
               {
                "metadata": {},
                "name": "values",
                "nullable": true,
                "type": {
                 "containsNull": false,
                 "elementType": "double",
                 "type": "array"
                }
               }
              ],
              "type": "struct"
             },
             "type": "udt"
            }
           },
           {
            "metadata": {
             "ml_attr": {
              "num_attrs": 2
             }
            },
            "name": "probability",
            "nullable": true,
            "type": {
             "class": "org.apache.spark.ml.linalg.VectorUDT",
             "pyClass": "pyspark.ml.linalg.VectorUDT",
             "sqlType": {
              "fields": [
               {
                "metadata": {},
                "name": "type",
                "nullable": false,
                "type": "byte"
               },
               {
                "metadata": {},
                "name": "size",
                "nullable": true,
                "type": "integer"
               },
               {
                "metadata": {},
                "name": "indices",
                "nullable": true,
                "type": {
                 "containsNull": false,
                 "elementType": "integer",
                 "type": "array"
                }
               },
               {
                "metadata": {},
                "name": "values",
                "nullable": true,
                "type": {
                 "containsNull": false,
                 "elementType": "double",
                 "type": "array"
                }
               }
              ],
              "type": "struct"
             },
             "type": "udt"
            }
           },
           {
            "metadata": {
             "ml_attr": {
              "num_vals": 2,
              "type": "nominal"
             }
            },
            "name": "prediction",
            "nullable": false,
            "type": "double"
           }
          ],
          "type": "struct"
         },
         "tableIdentifier": null,
         "typeStr": "pyspark.sql.dataframe.DataFrame"
        }
       ],
       "removedWidgets": [],
       "type": "html"
      }
     },
     "output_type": "display_data"
    }
   ],
   "source": [
    "train_OneHot_results = fit_model_OneHot.transform(train_df)\n",
    "test_OneHot_results = fit_model_OneHot.transform(test_df)\n",
    "\n",
    "train_Label_results = fit_model_Label.transform(train_df)\n",
    "test_Label_results = fit_model_Label.transform(test_df)"
   ]
  },
  {
   "cell_type": "markdown",
   "metadata": {
    "application/vnd.databricks.v1+cell": {
     "inputWidgets": {},
     "nuid": "8b81d121-08ee-4ad6-ad20-fcb506e44147",
     "showTitle": true,
     "title": "Testing and Evaluation"
    }
   },
   "source": [
    "- AUC\n",
    "- Accuracy"
   ]
  },
  {
   "cell_type": "code",
   "execution_count": 0,
   "metadata": {
    "application/vnd.databricks.v1+cell": {
     "inputWidgets": {},
     "nuid": "17c18016-cd00-4890-b305-def16d35ac15",
     "showTitle": false,
     "title": ""
    }
   },
   "outputs": [
    {
     "data": {
      "text/html": [
       "<style scoped>\n",
       "  .ansiout {\n",
       "    display: block;\n",
       "    unicode-bidi: embed;\n",
       "    white-space: pre-wrap;\n",
       "    word-wrap: break-word;\n",
       "    word-break: break-all;\n",
       "    font-family: \"Source Code Pro\", \"Menlo\", monospace;;\n",
       "    font-size: 13px;\n",
       "    color: #555;\n",
       "    margin-left: 4px;\n",
       "    line-height: 19px;\n",
       "  }\n",
       "</style>\n",
       "<div class=\"ansiout\"></div>"
      ]
     },
     "metadata": {
      "application/vnd.databricks.v1+output": {
       "addedWidgets": {},
       "arguments": {},
       "data": "<div class=\"ansiout\"></div>",
       "datasetInfos": [],
       "removedWidgets": [],
       "type": "html"
      }
     },
     "output_type": "display_data"
    }
   ],
   "source": [
    "from pyspark.ml.evaluation import BinaryClassificationEvaluator\n",
    "from pyspark.ml.evaluation import MulticlassClassificationEvaluator"
   ]
  },
  {
   "cell_type": "code",
   "execution_count": 0,
   "metadata": {
    "application/vnd.databricks.v1+cell": {
     "inputWidgets": {},
     "nuid": "b95a8235-83a5-4aec-9672-ce3833790c25",
     "showTitle": false,
     "title": ""
    }
   },
   "outputs": [
    {
     "data": {
      "text/html": [
       "<style scoped>\n",
       "  .ansiout {\n",
       "    display: block;\n",
       "    unicode-bidi: embed;\n",
       "    white-space: pre-wrap;\n",
       "    word-wrap: break-word;\n",
       "    word-break: break-all;\n",
       "    font-family: \"Source Code Pro\", \"Menlo\", monospace;;\n",
       "    font-size: 13px;\n",
       "    color: #555;\n",
       "    margin-left: 4px;\n",
       "    line-height: 19px;\n",
       "  }\n",
       "</style>\n",
       "<div class=\"ansiout\">Out[39]: MulticlassClassificationEvaluator_9c7ea24795fb</div>"
      ]
     },
     "metadata": {
      "application/vnd.databricks.v1+output": {
       "addedWidgets": {},
       "arguments": {},
       "data": "<div class=\"ansiout\">Out[39]: MulticlassClassificationEvaluator_9c7ea24795fb</div>",
       "datasetInfos": [],
       "removedWidgets": [],
       "type": "html"
      }
     },
     "output_type": "display_data"
    }
   ],
   "source": [
    "AUC_eval = BinaryClassificationEvaluator(rawPredictionCol='prediction', labelCol='Default')\n",
    "Accu_evaluator = MulticlassClassificationEvaluator()\n",
    "Accu_evaluator.setPredictionCol('prediction')\n",
    "Accu_evaluator.setLabelCol('Default')"
   ]
  },
  {
   "cell_type": "code",
   "execution_count": 0,
   "metadata": {
    "application/vnd.databricks.v1+cell": {
     "inputWidgets": {},
     "nuid": "c6dcf3b6-060c-4e21-b892-03a73344bc0f",
     "showTitle": false,
     "title": ""
    }
   },
   "outputs": [
    {
     "data": {
      "text/html": [
       "<style scoped>\n",
       "  .ansiout {\n",
       "    display: block;\n",
       "    unicode-bidi: embed;\n",
       "    white-space: pre-wrap;\n",
       "    word-wrap: break-word;\n",
       "    word-break: break-all;\n",
       "    font-family: \"Source Code Pro\", \"Menlo\", monospace;;\n",
       "    font-size: 13px;\n",
       "    color: #555;\n",
       "    margin-left: 4px;\n",
       "    line-height: 19px;\n",
       "  }\n",
       "</style>\n",
       "<div class=\"ansiout\">+-------+----------+\n",
       "Default|prediction|\n",
       "+-------+----------+\n",
       "      1|       1.0|\n",
       "      1|       1.0|\n",
       "      1|       1.0|\n",
       "      1|       1.0|\n",
       "      1|       1.0|\n",
       "+-------+----------+\n",
       "only showing top 5 rows\n",
       "\n",
       "</div>"
      ]
     },
     "metadata": {
      "application/vnd.databricks.v1+output": {
       "addedWidgets": {},
       "arguments": {},
       "data": "<div class=\"ansiout\">+-------+----------+\n|Default|prediction|\n+-------+----------+\n|      1|       1.0|\n|      1|       1.0|\n|      1|       1.0|\n|      1|       1.0|\n|      1|       1.0|\n+-------+----------+\nonly showing top 5 rows\n\n</div>",
       "datasetInfos": [],
       "removedWidgets": [],
       "type": "html"
      }
     },
     "output_type": "display_data"
    }
   ],
   "source": [
    "test_Label_results.select('Default','prediction').show(5)"
   ]
  },
  {
   "cell_type": "code",
   "execution_count": 0,
   "metadata": {
    "application/vnd.databricks.v1+cell": {
     "inputWidgets": {},
     "nuid": "2fb4d294-e59d-463d-81d0-f04cf64d39a5",
     "showTitle": false,
     "title": ""
    }
   },
   "outputs": [
    {
     "data": {
      "text/html": [
       "<style scoped>\n",
       "  .ansiout {\n",
       "    display: block;\n",
       "    unicode-bidi: embed;\n",
       "    white-space: pre-wrap;\n",
       "    word-wrap: break-word;\n",
       "    word-break: break-all;\n",
       "    font-family: \"Source Code Pro\", \"Menlo\", monospace;;\n",
       "    font-size: 13px;\n",
       "    color: #555;\n",
       "    margin-left: 4px;\n",
       "    line-height: 19px;\n",
       "  }\n",
       "</style>\n",
       "<div class=\"ansiout\"></div>"
      ]
     },
     "metadata": {
      "application/vnd.databricks.v1+output": {
       "addedWidgets": {},
       "arguments": {},
       "data": "<div class=\"ansiout\"></div>",
       "datasetInfos": [],
       "removedWidgets": [],
       "type": "html"
      }
     },
     "output_type": "display_data"
    }
   ],
   "source": [
    "AUC_test_Label = AUC_eval.evaluate(test_Label_results)\n",
    "AUC_train_Label = AUC_eval.evaluate(train_Label_results)\n",
    "\n",
    "AUC_test_OneHot = AUC_eval.evaluate(test_OneHot_results)\n",
    "AUC_train_OneHot = AUC_eval.evaluate(train_OneHot_results)"
   ]
  },
  {
   "cell_type": "code",
   "execution_count": 0,
   "metadata": {
    "application/vnd.databricks.v1+cell": {
     "inputWidgets": {},
     "nuid": "8e5ba6f9-2183-4ce7-98e7-d03cbf169fa2",
     "showTitle": false,
     "title": ""
    }
   },
   "outputs": [
    {
     "data": {
      "text/html": [
       "<style scoped>\n",
       "  .ansiout {\n",
       "    display: block;\n",
       "    unicode-bidi: embed;\n",
       "    white-space: pre-wrap;\n",
       "    word-wrap: break-word;\n",
       "    word-break: break-all;\n",
       "    font-family: \"Source Code Pro\", \"Menlo\", monospace;;\n",
       "    font-size: 13px;\n",
       "    color: #555;\n",
       "    margin-left: 4px;\n",
       "    line-height: 19px;\n",
       "  }\n",
       "</style>\n",
       "<div class=\"ansiout\"></div>"
      ]
     },
     "metadata": {
      "application/vnd.databricks.v1+output": {
       "addedWidgets": {},
       "arguments": {},
       "data": "<div class=\"ansiout\"></div>",
       "datasetInfos": [],
       "removedWidgets": [],
       "type": "html"
      }
     },
     "output_type": "display_data"
    }
   ],
   "source": [
    "Accu_test_Label = Accu_evaluator.evaluate(test_Label_results, {Accu_evaluator.metricName: \"accuracy\"})\n",
    "Accu_train_Label = Accu_evaluator.evaluate(train_Label_results, {Accu_evaluator.metricName: \"accuracy\"})\n",
    "\n",
    "Accu_test_OneHot = Accu_evaluator.evaluate(test_OneHot_results, {Accu_evaluator.metricName: \"accuracy\"})\n",
    "Accu_train_OneHot = Accu_evaluator.evaluate(train_OneHot_results, {Accu_evaluator.metricName: \"accuracy\"})"
   ]
  },
  {
   "cell_type": "code",
   "execution_count": 0,
   "metadata": {
    "application/vnd.databricks.v1+cell": {
     "inputWidgets": {},
     "nuid": "6e283541-dec6-491e-bed4-c612571ab797",
     "showTitle": false,
     "title": ""
    }
   },
   "outputs": [
    {
     "data": {
      "text/html": [
       "<style scoped>\n",
       "  .ansiout {\n",
       "    display: block;\n",
       "    unicode-bidi: embed;\n",
       "    white-space: pre-wrap;\n",
       "    word-wrap: break-word;\n",
       "    word-break: break-all;\n",
       "    font-family: \"Source Code Pro\", \"Menlo\", monospace;;\n",
       "    font-size: 13px;\n",
       "    color: #555;\n",
       "    margin-left: 4px;\n",
       "    line-height: 19px;\n",
       "  }\n",
       "</style>\n",
       "<div class=\"ansiout\">Test AUC with OneHot Encoding 0.6743270267915413\n",
       "\n",
       "\n",
       "Train AUC with OneHot Encoding 0.6720942978336184\n",
       "</div>"
      ]
     },
     "metadata": {
      "application/vnd.databricks.v1+output": {
       "addedWidgets": {},
       "arguments": {},
       "data": "<div class=\"ansiout\">Test AUC with OneHot Encoding 0.6743270267915413\n\n\nTrain AUC with OneHot Encoding 0.6720942978336184\n</div>",
       "datasetInfos": [],
       "removedWidgets": [],
       "type": "html"
      }
     },
     "output_type": "display_data"
    }
   ],
   "source": [
    "print(\"Test AUC with OneHot Encoding\", AUC_test_OneHot)\n",
    "print(\"\\n\")\n",
    "print(\"Train AUC with OneHot Encoding\", AUC_train_OneHot)"
   ]
  },
  {
   "cell_type": "code",
   "execution_count": 0,
   "metadata": {
    "application/vnd.databricks.v1+cell": {
     "inputWidgets": {},
     "nuid": "08463db7-2e2d-4175-b2da-a50555dcd41b",
     "showTitle": false,
     "title": ""
    }
   },
   "outputs": [
    {
     "data": {
      "text/html": [
       "<style scoped>\n",
       "  .ansiout {\n",
       "    display: block;\n",
       "    unicode-bidi: embed;\n",
       "    white-space: pre-wrap;\n",
       "    word-wrap: break-word;\n",
       "    word-break: break-all;\n",
       "    font-family: \"Source Code Pro\", \"Menlo\", monospace;;\n",
       "    font-size: 13px;\n",
       "    color: #555;\n",
       "    margin-left: 4px;\n",
       "    line-height: 19px;\n",
       "  }\n",
       "</style>\n",
       "<div class=\"ansiout\">Accuracy: Test with OneHot Encoding 0.6741658515378763\n",
       "\n",
       "\n",
       "Accuracy: Train with OneHot Encoding 0.6721243808475509\n",
       "</div>"
      ]
     },
     "metadata": {
      "application/vnd.databricks.v1+output": {
       "addedWidgets": {},
       "arguments": {},
       "data": "<div class=\"ansiout\">Accuracy: Test with OneHot Encoding 0.6741658515378763\n\n\nAccuracy: Train with OneHot Encoding 0.6721243808475509\n</div>",
       "datasetInfos": [],
       "removedWidgets": [],
       "type": "html"
      }
     },
     "output_type": "display_data"
    }
   ],
   "source": [
    "print(\"Accuracy: Test with OneHot Encoding\", Accu_test_OneHot)\n",
    "print(\"\\n\")\n",
    "print(\"Accuracy: Train with OneHot Encoding\", Accu_train_OneHot)"
   ]
  },
  {
   "cell_type": "code",
   "execution_count": 0,
   "metadata": {
    "application/vnd.databricks.v1+cell": {
     "inputWidgets": {},
     "nuid": "b555b9a5-e59b-4e92-b3c3-6a43261667d4",
     "showTitle": false,
     "title": ""
    }
   },
   "outputs": [
    {
     "data": {
      "text/html": [
       "<style scoped>\n",
       "  .ansiout {\n",
       "    display: block;\n",
       "    unicode-bidi: embed;\n",
       "    white-space: pre-wrap;\n",
       "    word-wrap: break-word;\n",
       "    word-break: break-all;\n",
       "    font-family: \"Source Code Pro\", \"Menlo\", monospace;;\n",
       "    font-size: 13px;\n",
       "    color: #555;\n",
       "    margin-left: 4px;\n",
       "    line-height: 19px;\n",
       "  }\n",
       "</style>\n",
       "<div class=\"ansiout\">Test AUC with Label Encoding 0.6742163899904006\n",
       "\n",
       "\n",
       "Train AUC with Label Encoding 0.6720674417402163\n",
       "</div>"
      ]
     },
     "metadata": {
      "application/vnd.databricks.v1+output": {
       "addedWidgets": {},
       "arguments": {},
       "data": "<div class=\"ansiout\">Test AUC with Label Encoding 0.6742163899904006\n\n\nTrain AUC with Label Encoding 0.6720674417402163\n</div>",
       "datasetInfos": [],
       "removedWidgets": [],
       "type": "html"
      }
     },
     "output_type": "display_data"
    }
   ],
   "source": [
    "print(\"Test AUC with Label Encoding\", AUC_test_Label)\n",
    "print(\"\\n\")\n",
    "print(\"Train AUC with Label Encoding\", AUC_train_Label)"
   ]
  },
  {
   "cell_type": "code",
   "execution_count": 0,
   "metadata": {
    "application/vnd.databricks.v1+cell": {
     "inputWidgets": {},
     "nuid": "6721e42d-1efb-4783-b620-5b36be718fd2",
     "showTitle": false,
     "title": ""
    }
   },
   "outputs": [
    {
     "data": {
      "text/html": [
       "<style scoped>\n",
       "  .ansiout {\n",
       "    display: block;\n",
       "    unicode-bidi: embed;\n",
       "    white-space: pre-wrap;\n",
       "    word-wrap: break-word;\n",
       "    word-break: break-all;\n",
       "    font-family: \"Source Code Pro\", \"Menlo\", monospace;;\n",
       "    font-size: 13px;\n",
       "    color: #555;\n",
       "    margin-left: 4px;\n",
       "    line-height: 19px;\n",
       "  }\n",
       "</style>\n",
       "<div class=\"ansiout\">Accuracy: Test with Label Encoding 0.6740571676991631\n",
       "\n",
       "\n",
       "Accuracy: Train with Label Encoding 0.6720968629609246\n",
       "</div>"
      ]
     },
     "metadata": {
      "application/vnd.databricks.v1+output": {
       "addedWidgets": {},
       "arguments": {},
       "data": "<div class=\"ansiout\">Accuracy: Test with Label Encoding 0.6740571676991631\n\n\nAccuracy: Train with Label Encoding 0.6720968629609246\n</div>",
       "datasetInfos": [],
       "removedWidgets": [],
       "type": "html"
      }
     },
     "output_type": "display_data"
    }
   ],
   "source": [
    "print(\"Accuracy: Test with Label Encoding\", Accu_test_Label)\n",
    "print(\"\\n\")\n",
    "print(\"Accuracy: Train with Label Encoding\", Accu_train_Label)"
   ]
  },
  {
   "cell_type": "markdown",
   "metadata": {
    "application/vnd.databricks.v1+cell": {
     "inputWidgets": {},
     "nuid": "c532c0fb-bd05-40b0-855d-cfc67b9260e5",
     "showTitle": true,
     "title": "1. Next Potential Steps -- try to improve the performance（Feature Selection）"
    }
   },
   "source": [
    "Feature Selection\n",
    "- More generalizable more \n",
    "- avoid over fitting\n",
    "- prediction in train set and test set would be closer but it's not guaranteed"
   ]
  },
  {
   "cell_type": "code",
   "execution_count": 0,
   "metadata": {
    "application/vnd.databricks.v1+cell": {
     "inputWidgets": {},
     "nuid": "48b4195f-5eaf-4d41-bc3b-93546ab859a2",
     "showTitle": false,
     "title": ""
    }
   },
   "outputs": [
    {
     "data": {
      "text/html": [
       "<style scoped>\n",
       "  .ansiout {\n",
       "    display: block;\n",
       "    unicode-bidi: embed;\n",
       "    white-space: pre-wrap;\n",
       "    word-wrap: break-word;\n",
       "    word-break: break-all;\n",
       "    font-family: \"Source Code Pro\", \"Menlo\", monospace;;\n",
       "    font-size: 13px;\n",
       "    color: #555;\n",
       "    margin-left: 4px;\n",
       "    line-height: 19px;\n",
       "  }\n",
       "</style>\n",
       "<div class=\"ansiout\">Out[47]: SparseVector(23, {0: 0.0536, 1: 0.0004, 2: 0.0003, 3: 0.0004, 4: 0.0017, 5: 0.3544, 6: 0.1827, 7: 0.1175, 8: 0.0725, 9: 0.0436, 10: 0.0439, 11: 0.0179, 12: 0.0063, 13: 0.004, 14: 0.0076, 15: 0.0033, 16: 0.0025, 17: 0.0243, 18: 0.038, 19: 0.01, 20: 0.0067, 21: 0.0016, 22: 0.007})</div>"
      ]
     },
     "metadata": {
      "application/vnd.databricks.v1+output": {
       "addedWidgets": {},
       "arguments": {},
       "data": "<div class=\"ansiout\">Out[47]: SparseVector(23, {0: 0.0536, 1: 0.0004, 2: 0.0003, 3: 0.0004, 4: 0.0017, 5: 0.3544, 6: 0.1827, 7: 0.1175, 8: 0.0725, 9: 0.0436, 10: 0.0439, 11: 0.0179, 12: 0.0063, 13: 0.004, 14: 0.0076, 15: 0.0033, 16: 0.0025, 17: 0.0243, 18: 0.038, 19: 0.01, 20: 0.0067, 21: 0.0016, 22: 0.007})</div>",
       "datasetInfos": [],
       "removedWidgets": [],
       "type": "html"
      }
     },
     "output_type": "display_data"
    }
   ],
   "source": [
    "fit_rf_Label.stages[-1].featureImportances"
   ]
  },
  {
   "cell_type": "code",
   "execution_count": 0,
   "metadata": {
    "application/vnd.databricks.v1+cell": {
     "inputWidgets": {},
     "nuid": "e52744ba-b0cf-458a-99fc-04988902774f",
     "showTitle": false,
     "title": ""
    }
   },
   "outputs": [
    {
     "data": {
      "text/html": [
       "<style scoped>\n",
       "  .ansiout {\n",
       "    display: block;\n",
       "    unicode-bidi: embed;\n",
       "    white-space: pre-wrap;\n",
       "    word-wrap: break-word;\n",
       "    word-break: break-all;\n",
       "    font-family: \"Source Code Pro\", \"Menlo\", monospace;;\n",
       "    font-size: 13px;\n",
       "    color: #555;\n",
       "    margin-left: 4px;\n",
       "    line-height: 19px;\n",
       "  }\n",
       "</style>\n",
       "<div class=\"ansiout\">Out[48]: [&#39;LIMIT_BAL&#39;,\n",
       " &#39;SEXIndex&#39;,\n",
       " &#39;EDUCATIONIndex&#39;,\n",
       " &#39;MARRIAGEIndex&#39;,\n",
       " &#39;AGE&#39;,\n",
       " &#39;PAY_1&#39;,\n",
       " &#39;PAY_2&#39;,\n",
       " &#39;PAY_3&#39;,\n",
       " &#39;PAY_4&#39;,\n",
       " &#39;PAY_5&#39;,\n",
       " &#39;PAY_6&#39;,\n",
       " &#39;BILL_AMT1&#39;,\n",
       " &#39;BILL_AMT2&#39;,\n",
       " &#39;BILL_AMT3&#39;,\n",
       " &#39;BILL_AMT4&#39;,\n",
       " &#39;BILL_AMT5&#39;,\n",
       " &#39;BILL_AMT6&#39;,\n",
       " &#39;PAY_AMT1&#39;,\n",
       " &#39;PAY_AMT2&#39;,\n",
       " &#39;PAY_AMT3&#39;,\n",
       " &#39;PAY_AMT4&#39;,\n",
       " &#39;PAY_AMT5&#39;,\n",
       " &#39;PAY_AMT6&#39;]</div>"
      ]
     },
     "metadata": {
      "application/vnd.databricks.v1+output": {
       "addedWidgets": {},
       "arguments": {},
       "data": "<div class=\"ansiout\">Out[48]: [&#39;LIMIT_BAL&#39;,\n &#39;SEXIndex&#39;,\n &#39;EDUCATIONIndex&#39;,\n &#39;MARRIAGEIndex&#39;,\n &#39;AGE&#39;,\n &#39;PAY_1&#39;,\n &#39;PAY_2&#39;,\n &#39;PAY_3&#39;,\n &#39;PAY_4&#39;,\n &#39;PAY_5&#39;,\n &#39;PAY_6&#39;,\n &#39;BILL_AMT1&#39;,\n &#39;BILL_AMT2&#39;,\n &#39;BILL_AMT3&#39;,\n &#39;BILL_AMT4&#39;,\n &#39;BILL_AMT5&#39;,\n &#39;BILL_AMT6&#39;,\n &#39;PAY_AMT1&#39;,\n &#39;PAY_AMT2&#39;,\n &#39;PAY_AMT3&#39;,\n &#39;PAY_AMT4&#39;,\n &#39;PAY_AMT5&#39;,\n &#39;PAY_AMT6&#39;]</div>",
       "datasetInfos": [],
       "removedWidgets": [],
       "type": "html"
      }
     },
     "output_type": "display_data"
    }
   ],
   "source": [
    "input_cols_Label"
   ]
  },
  {
   "cell_type": "code",
   "execution_count": 0,
   "metadata": {
    "application/vnd.databricks.v1+cell": {
     "inputWidgets": {},
     "nuid": "f71a405f-26f0-4be8-8b90-925600fe53e3",
     "showTitle": false,
     "title": ""
    }
   },
   "outputs": [
    {
     "data": {
      "text/html": [
       "<style scoped>\n",
       "  .ansiout {\n",
       "    display: block;\n",
       "    unicode-bidi: embed;\n",
       "    white-space: pre-wrap;\n",
       "    word-wrap: break-word;\n",
       "    word-break: break-all;\n",
       "    font-family: \"Source Code Pro\", \"Menlo\", monospace;;\n",
       "    font-size: 13px;\n",
       "    color: #555;\n",
       "    margin-left: 4px;\n",
       "    line-height: 19px;\n",
       "  }\n",
       "</style>\n",
       "<div class=\"ansiout\"></div>"
      ]
     },
     "metadata": {
      "application/vnd.databricks.v1+output": {
       "addedWidgets": {},
       "arguments": {},
       "data": "<div class=\"ansiout\"></div>",
       "datasetInfos": [
        {
         "name": "df2",
         "schema": {
          "fields": [
           {
            "metadata": {},
            "name": "ID",
            "nullable": true,
            "type": "string"
           },
           {
            "metadata": {},
            "name": "LIMIT_BAL",
            "nullable": true,
            "type": "double"
           },
           {
            "metadata": {},
            "name": "SEX",
            "nullable": true,
            "type": "string"
           },
           {
            "metadata": {},
            "name": "EDUCATION",
            "nullable": true,
            "type": "string"
           },
           {
            "metadata": {},
            "name": "MARRIAGE",
            "nullable": true,
            "type": "string"
           },
           {
            "metadata": {},
            "name": "AGE",
            "nullable": true,
            "type": "integer"
           },
           {
            "metadata": {},
            "name": "PAY_1",
            "nullable": true,
            "type": "integer"
           },
           {
            "metadata": {},
            "name": "PAY_2",
            "nullable": true,
            "type": "integer"
           },
           {
            "metadata": {},
            "name": "PAY_3",
            "nullable": true,
            "type": "integer"
           },
           {
            "metadata": {},
            "name": "PAY_4",
            "nullable": true,
            "type": "integer"
           },
           {
            "metadata": {},
            "name": "PAY_5",
            "nullable": true,
            "type": "integer"
           },
           {
            "metadata": {},
            "name": "PAY_6",
            "nullable": true,
            "type": "integer"
           },
           {
            "metadata": {},
            "name": "BILL_AMT1",
            "nullable": true,
            "type": "double"
           },
           {
            "metadata": {},
            "name": "BILL_AMT2",
            "nullable": true,
            "type": "double"
           },
           {
            "metadata": {},
            "name": "BILL_AMT3",
            "nullable": true,
            "type": "double"
           },
           {
            "metadata": {},
            "name": "BILL_AMT4",
            "nullable": true,
            "type": "double"
           },
           {
            "metadata": {},
            "name": "BILL_AMT5",
            "nullable": true,
            "type": "double"
           },
           {
            "metadata": {},
            "name": "BILL_AMT6",
            "nullable": true,
            "type": "double"
           },
           {
            "metadata": {},
            "name": "PAY_AMT1",
            "nullable": true,
            "type": "double"
           },
           {
            "metadata": {},
            "name": "PAY_AMT2",
            "nullable": true,
            "type": "double"
           },
           {
            "metadata": {},
            "name": "PAY_AMT3",
            "nullable": true,
            "type": "double"
           },
           {
            "metadata": {},
            "name": "PAY_AMT4",
            "nullable": true,
            "type": "double"
           },
           {
            "metadata": {},
            "name": "PAY_AMT5",
            "nullable": true,
            "type": "double"
           },
           {
            "metadata": {},
            "name": "PAY_AMT6",
            "nullable": true,
            "type": "double"
           },
           {
            "metadata": {},
            "name": "Default",
            "nullable": true,
            "type": "integer"
           },
           {
            "metadata": {
             "ml_attr": {
              "name": "SEXIndex",
              "type": "nominal",
              "vals": [
               "2",
               "1"
              ]
             }
            },
            "name": "SEXIndex",
            "nullable": false,
            "type": "double"
           },
           {
            "metadata": {
             "ml_attr": {
              "name": "EDUCATIONIndex",
              "type": "nominal",
              "vals": [
               "2",
               "1",
               "3",
               "4"
              ]
             }
            },
            "name": "EDUCATIONIndex",
            "nullable": false,
            "type": "double"
           },
           {
            "metadata": {
             "ml_attr": {
              "name": "MARRIAGEIndex",
              "type": "nominal",
              "vals": [
               "2",
               "1"
              ]
             }
            },
            "name": "MARRIAGEIndex",
            "nullable": false,
            "type": "double"
           },
           {
            "metadata": {
             "ml_attr": {
              "attrs": {
               "nominal": [
                {
                 "idx": 1,
                 "name": "SEXIndex",
                 "vals": [
                  "2",
                  "1"
                 ]
                },
                {
                 "idx": 2,
                 "name": "EDUCATIONIndex",
                 "vals": [
                  "2",
                  "1",
                  "3",
                  "4"
                 ]
                },
                {
                 "idx": 3,
                 "name": "MARRIAGEIndex",
                 "vals": [
                  "2",
                  "1"
                 ]
                }
               ],
               "numeric": [
                {
                 "idx": 0,
                 "name": "LIMIT_BAL"
                },
                {
                 "idx": 4,
                 "name": "AGE"
                },
                {
                 "idx": 5,
                 "name": "PAY_1"
                },
                {
                 "idx": 6,
                 "name": "PAY_2"
                },
                {
                 "idx": 7,
                 "name": "PAY_3"
                },
                {
                 "idx": 8,
                 "name": "PAY_4"
                },
                {
                 "idx": 9,
                 "name": "PAY_5"
                },
                {
                 "idx": 10,
                 "name": "PAY_6"
                },
                {
                 "idx": 11,
                 "name": "BILL_AMT1"
                },
                {
                 "idx": 12,
                 "name": "BILL_AMT2"
                },
                {
                 "idx": 13,
                 "name": "BILL_AMT3"
                },
                {
                 "idx": 14,
                 "name": "BILL_AMT4"
                },
                {
                 "idx": 15,
                 "name": "BILL_AMT5"
                },
                {
                 "idx": 16,
                 "name": "BILL_AMT6"
                },
                {
                 "idx": 17,
                 "name": "PAY_AMT1"
                },
                {
                 "idx": 18,
                 "name": "PAY_AMT2"
                },
                {
                 "idx": 19,
                 "name": "PAY_AMT3"
                },
                {
                 "idx": 20,
                 "name": "PAY_AMT4"
                },
                {
                 "idx": 21,
                 "name": "PAY_AMT5"
                },
                {
                 "idx": 22,
                 "name": "PAY_AMT6"
                }
               ]
              },
              "num_attrs": 23
             }
            },
            "name": "features",
            "nullable": true,
            "type": {
             "class": "org.apache.spark.ml.linalg.VectorUDT",
             "pyClass": "pyspark.ml.linalg.VectorUDT",
             "sqlType": {
              "fields": [
               {
                "metadata": {},
                "name": "type",
                "nullable": false,
                "type": "byte"
               },
               {
                "metadata": {},
                "name": "size",
                "nullable": true,
                "type": "integer"
               },
               {
                "metadata": {},
                "name": "indices",
                "nullable": true,
                "type": {
                 "containsNull": false,
                 "elementType": "integer",
                 "type": "array"
                }
               },
               {
                "metadata": {},
                "name": "values",
                "nullable": true,
                "type": {
                 "containsNull": false,
                 "elementType": "double",
                 "type": "array"
                }
               }
              ],
              "type": "struct"
             },
             "type": "udt"
            }
           },
           {
            "metadata": {
             "ml_attr": {
              "num_attrs": 2
             }
            },
            "name": "rawPrediction",
            "nullable": true,
            "type": {
             "class": "org.apache.spark.ml.linalg.VectorUDT",
             "pyClass": "pyspark.ml.linalg.VectorUDT",
             "sqlType": {
              "fields": [
               {
                "metadata": {},
                "name": "type",
                "nullable": false,
                "type": "byte"
               },
               {
                "metadata": {},
                "name": "size",
                "nullable": true,
                "type": "integer"
               },
               {
                "metadata": {},
                "name": "indices",
                "nullable": true,
                "type": {
                 "containsNull": false,
                 "elementType": "integer",
                 "type": "array"
                }
               },
               {
                "metadata": {},
                "name": "values",
                "nullable": true,
                "type": {
                 "containsNull": false,
                 "elementType": "double",
                 "type": "array"
                }
               }
              ],
              "type": "struct"
             },
             "type": "udt"
            }
           },
           {
            "metadata": {
             "ml_attr": {
              "num_attrs": 2
             }
            },
            "name": "probability",
            "nullable": true,
            "type": {
             "class": "org.apache.spark.ml.linalg.VectorUDT",
             "pyClass": "pyspark.ml.linalg.VectorUDT",
             "sqlType": {
              "fields": [
               {
                "metadata": {},
                "name": "type",
                "nullable": false,
                "type": "byte"
               },
               {
                "metadata": {},
                "name": "size",
                "nullable": true,
                "type": "integer"
               },
               {
                "metadata": {},
                "name": "indices",
                "nullable": true,
                "type": {
                 "containsNull": false,
                 "elementType": "integer",
                 "type": "array"
                }
               },
               {
                "metadata": {},
                "name": "values",
                "nullable": true,
                "type": {
                 "containsNull": false,
                 "elementType": "double",
                 "type": "array"
                }
               }
              ],
              "type": "struct"
             },
             "type": "udt"
            }
           },
           {
            "metadata": {
             "ml_attr": {
              "num_vals": 2,
              "type": "nominal"
             }
            },
            "name": "prediction",
            "nullable": false,
            "type": "double"
           }
          ],
          "type": "struct"
         },
         "tableIdentifier": null,
         "typeStr": "pyspark.sql.dataframe.DataFrame"
        }
       ],
       "removedWidgets": [],
       "type": "html"
      }
     },
     "output_type": "display_data"
    }
   ],
   "source": [
    "df2=fit_rf_Label.transform(train_df)"
   ]
  },
  {
   "cell_type": "code",
   "execution_count": 0,
   "metadata": {
    "application/vnd.databricks.v1+cell": {
     "inputWidgets": {},
     "nuid": "5a1aa74e-b3c5-4166-86be-0c4a3626285d",
     "showTitle": false,
     "title": ""
    }
   },
   "outputs": [
    {
     "data": {
      "text/html": [
       "<style scoped>\n",
       "  .ansiout {\n",
       "    display: block;\n",
       "    unicode-bidi: embed;\n",
       "    white-space: pre-wrap;\n",
       "    word-wrap: break-word;\n",
       "    word-break: break-all;\n",
       "    font-family: \"Source Code Pro\", \"Menlo\", monospace;;\n",
       "    font-size: 13px;\n",
       "    color: #555;\n",
       "    margin-left: 4px;\n",
       "    line-height: 19px;\n",
       "  }\n",
       "</style>\n",
       "<div class=\"ansiout\"></div>"
      ]
     },
     "metadata": {
      "application/vnd.databricks.v1+output": {
       "addedWidgets": {},
       "arguments": {},
       "data": "<div class=\"ansiout\"></div>",
       "datasetInfos": [],
       "removedWidgets": [],
       "type": "html"
      }
     },
     "output_type": "display_data"
    }
   ],
   "source": [
    "def ExtractFeatureImp(featureImp, dataset, featuresCol):\n",
    "    list_extract = []\n",
    "    for i in dataset.schema[featuresCol].metadata[\"ml_attr\"][\"attrs\"]:\n",
    "        list_extract = list_extract + dataset.schema[featuresCol].metadata[\"ml_attr\"][\"attrs\"][i]\n",
    "    varlist = pd.DataFrame(list_extract)\n",
    "    varlist['score'] = varlist['idx'].apply(lambda x: featureImp[x])\n",
    "    return(varlist.sort_values('score', ascending = False))"
   ]
  },
  {
   "cell_type": "code",
   "execution_count": 0,
   "metadata": {
    "application/vnd.databricks.v1+cell": {
     "inputWidgets": {},
     "nuid": "136159fd-66e8-4619-a182-7fc0fed49834",
     "showTitle": false,
     "title": ""
    }
   },
   "outputs": [
    {
     "data": {
      "text/html": [
       "<div>\n",
       "<style scoped>\n",
       "    .dataframe tbody tr th:only-of-type {\n",
       "        vertical-align: middle;\n",
       "    }\n",
       "\n",
       "    .dataframe tbody tr th {\n",
       "        vertical-align: top;\n",
       "    }\n",
       "\n",
       "    .dataframe thead th {\n",
       "        text-align: right;\n",
       "    }\n",
       "</style>\n",
       "<table border=\"1\" class=\"dataframe\">\n",
       "  <thead>\n",
       "    <tr style=\"text-align: right;\">\n",
       "      <th></th>\n",
       "      <th>idx</th>\n",
       "      <th>name</th>\n",
       "      <th>vals</th>\n",
       "      <th>score</th>\n",
       "    </tr>\n",
       "  </thead>\n",
       "  <tbody>\n",
       "    <tr>\n",
       "      <th>2</th>\n",
       "      <td>5</td>\n",
       "      <td>PAY_1</td>\n",
       "      <td>NaN</td>\n",
       "      <td>0.354374</td>\n",
       "    </tr>\n",
       "    <tr>\n",
       "      <th>3</th>\n",
       "      <td>6</td>\n",
       "      <td>PAY_2</td>\n",
       "      <td>NaN</td>\n",
       "      <td>0.182674</td>\n",
       "    </tr>\n",
       "    <tr>\n",
       "      <th>4</th>\n",
       "      <td>7</td>\n",
       "      <td>PAY_3</td>\n",
       "      <td>NaN</td>\n",
       "      <td>0.117484</td>\n",
       "    </tr>\n",
       "    <tr>\n",
       "      <th>5</th>\n",
       "      <td>8</td>\n",
       "      <td>PAY_4</td>\n",
       "      <td>NaN</td>\n",
       "      <td>0.072501</td>\n",
       "    </tr>\n",
       "    <tr>\n",
       "      <th>0</th>\n",
       "      <td>0</td>\n",
       "      <td>LIMIT_BAL</td>\n",
       "      <td>NaN</td>\n",
       "      <td>0.053582</td>\n",
       "    </tr>\n",
       "    <tr>\n",
       "      <th>7</th>\n",
       "      <td>10</td>\n",
       "      <td>PAY_6</td>\n",
       "      <td>NaN</td>\n",
       "      <td>0.043897</td>\n",
       "    </tr>\n",
       "    <tr>\n",
       "      <th>6</th>\n",
       "      <td>9</td>\n",
       "      <td>PAY_5</td>\n",
       "      <td>NaN</td>\n",
       "      <td>0.043617</td>\n",
       "    </tr>\n",
       "    <tr>\n",
       "      <th>15</th>\n",
       "      <td>18</td>\n",
       "      <td>PAY_AMT2</td>\n",
       "      <td>NaN</td>\n",
       "      <td>0.038000</td>\n",
       "    </tr>\n",
       "    <tr>\n",
       "      <th>14</th>\n",
       "      <td>17</td>\n",
       "      <td>PAY_AMT1</td>\n",
       "      <td>NaN</td>\n",
       "      <td>0.024279</td>\n",
       "    </tr>\n",
       "    <tr>\n",
       "      <th>8</th>\n",
       "      <td>11</td>\n",
       "      <td>BILL_AMT1</td>\n",
       "      <td>NaN</td>\n",
       "      <td>0.017907</td>\n",
       "    </tr>\n",
       "    <tr>\n",
       "      <th>16</th>\n",
       "      <td>19</td>\n",
       "      <td>PAY_AMT3</td>\n",
       "      <td>NaN</td>\n",
       "      <td>0.009984</td>\n",
       "    </tr>\n",
       "    <tr>\n",
       "      <th>11</th>\n",
       "      <td>14</td>\n",
       "      <td>BILL_AMT4</td>\n",
       "      <td>NaN</td>\n",
       "      <td>0.007556</td>\n",
       "    </tr>\n",
       "    <tr>\n",
       "      <th>19</th>\n",
       "      <td>22</td>\n",
       "      <td>PAY_AMT6</td>\n",
       "      <td>NaN</td>\n",
       "      <td>0.006971</td>\n",
       "    </tr>\n",
       "    <tr>\n",
       "      <th>17</th>\n",
       "      <td>20</td>\n",
       "      <td>PAY_AMT4</td>\n",
       "      <td>NaN</td>\n",
       "      <td>0.006682</td>\n",
       "    </tr>\n",
       "    <tr>\n",
       "      <th>9</th>\n",
       "      <td>12</td>\n",
       "      <td>BILL_AMT2</td>\n",
       "      <td>NaN</td>\n",
       "      <td>0.006339</td>\n",
       "    </tr>\n",
       "    <tr>\n",
       "      <th>10</th>\n",
       "      <td>13</td>\n",
       "      <td>BILL_AMT3</td>\n",
       "      <td>NaN</td>\n",
       "      <td>0.004042</td>\n",
       "    </tr>\n",
       "    <tr>\n",
       "      <th>12</th>\n",
       "      <td>15</td>\n",
       "      <td>BILL_AMT5</td>\n",
       "      <td>NaN</td>\n",
       "      <td>0.003271</td>\n",
       "    </tr>\n",
       "    <tr>\n",
       "      <th>13</th>\n",
       "      <td>16</td>\n",
       "      <td>BILL_AMT6</td>\n",
       "      <td>NaN</td>\n",
       "      <td>0.002539</td>\n",
       "    </tr>\n",
       "    <tr>\n",
       "      <th>1</th>\n",
       "      <td>4</td>\n",
       "      <td>AGE</td>\n",
       "      <td>NaN</td>\n",
       "      <td>0.001690</td>\n",
       "    </tr>\n",
       "    <tr>\n",
       "      <th>18</th>\n",
       "      <td>21</td>\n",
       "      <td>PAY_AMT5</td>\n",
       "      <td>NaN</td>\n",
       "      <td>0.001563</td>\n",
       "    </tr>\n",
       "    <tr>\n",
       "      <th>22</th>\n",
       "      <td>3</td>\n",
       "      <td>MARRIAGEIndex</td>\n",
       "      <td>[2, 1]</td>\n",
       "      <td>0.000373</td>\n",
       "    </tr>\n",
       "    <tr>\n",
       "      <th>20</th>\n",
       "      <td>1</td>\n",
       "      <td>SEXIndex</td>\n",
       "      <td>[2, 1]</td>\n",
       "      <td>0.000350</td>\n",
       "    </tr>\n",
       "    <tr>\n",
       "      <th>21</th>\n",
       "      <td>2</td>\n",
       "      <td>EDUCATIONIndex</td>\n",
       "      <td>[2, 1, 3, 4]</td>\n",
       "      <td>0.000326</td>\n",
       "    </tr>\n",
       "  </tbody>\n",
       "</table>\n",
       "</div>"
      ]
     },
     "metadata": {
      "application/vnd.databricks.v1+output": {
       "addedWidgets": {},
       "arguments": {},
       "data": "<div>\n<style scoped>\n    .dataframe tbody tr th:only-of-type {\n        vertical-align: middle;\n    }\n\n    .dataframe tbody tr th {\n        vertical-align: top;\n    }\n\n    .dataframe thead th {\n        text-align: right;\n    }\n</style>\n<table border=\"1\" class=\"dataframe\">\n  <thead>\n    <tr style=\"text-align: right;\">\n      <th></th>\n      <th>idx</th>\n      <th>name</th>\n      <th>vals</th>\n      <th>score</th>\n    </tr>\n  </thead>\n  <tbody>\n    <tr>\n      <th>2</th>\n      <td>5</td>\n      <td>PAY_1</td>\n      <td>NaN</td>\n      <td>0.354374</td>\n    </tr>\n    <tr>\n      <th>3</th>\n      <td>6</td>\n      <td>PAY_2</td>\n      <td>NaN</td>\n      <td>0.182674</td>\n    </tr>\n    <tr>\n      <th>4</th>\n      <td>7</td>\n      <td>PAY_3</td>\n      <td>NaN</td>\n      <td>0.117484</td>\n    </tr>\n    <tr>\n      <th>5</th>\n      <td>8</td>\n      <td>PAY_4</td>\n      <td>NaN</td>\n      <td>0.072501</td>\n    </tr>\n    <tr>\n      <th>0</th>\n      <td>0</td>\n      <td>LIMIT_BAL</td>\n      <td>NaN</td>\n      <td>0.053582</td>\n    </tr>\n    <tr>\n      <th>7</th>\n      <td>10</td>\n      <td>PAY_6</td>\n      <td>NaN</td>\n      <td>0.043897</td>\n    </tr>\n    <tr>\n      <th>6</th>\n      <td>9</td>\n      <td>PAY_5</td>\n      <td>NaN</td>\n      <td>0.043617</td>\n    </tr>\n    <tr>\n      <th>15</th>\n      <td>18</td>\n      <td>PAY_AMT2</td>\n      <td>NaN</td>\n      <td>0.038000</td>\n    </tr>\n    <tr>\n      <th>14</th>\n      <td>17</td>\n      <td>PAY_AMT1</td>\n      <td>NaN</td>\n      <td>0.024279</td>\n    </tr>\n    <tr>\n      <th>8</th>\n      <td>11</td>\n      <td>BILL_AMT1</td>\n      <td>NaN</td>\n      <td>0.017907</td>\n    </tr>\n    <tr>\n      <th>16</th>\n      <td>19</td>\n      <td>PAY_AMT3</td>\n      <td>NaN</td>\n      <td>0.009984</td>\n    </tr>\n    <tr>\n      <th>11</th>\n      <td>14</td>\n      <td>BILL_AMT4</td>\n      <td>NaN</td>\n      <td>0.007556</td>\n    </tr>\n    <tr>\n      <th>19</th>\n      <td>22</td>\n      <td>PAY_AMT6</td>\n      <td>NaN</td>\n      <td>0.006971</td>\n    </tr>\n    <tr>\n      <th>17</th>\n      <td>20</td>\n      <td>PAY_AMT4</td>\n      <td>NaN</td>\n      <td>0.006682</td>\n    </tr>\n    <tr>\n      <th>9</th>\n      <td>12</td>\n      <td>BILL_AMT2</td>\n      <td>NaN</td>\n      <td>0.006339</td>\n    </tr>\n    <tr>\n      <th>10</th>\n      <td>13</td>\n      <td>BILL_AMT3</td>\n      <td>NaN</td>\n      <td>0.004042</td>\n    </tr>\n    <tr>\n      <th>12</th>\n      <td>15</td>\n      <td>BILL_AMT5</td>\n      <td>NaN</td>\n      <td>0.003271</td>\n    </tr>\n    <tr>\n      <th>13</th>\n      <td>16</td>\n      <td>BILL_AMT6</td>\n      <td>NaN</td>\n      <td>0.002539</td>\n    </tr>\n    <tr>\n      <th>1</th>\n      <td>4</td>\n      <td>AGE</td>\n      <td>NaN</td>\n      <td>0.001690</td>\n    </tr>\n    <tr>\n      <th>18</th>\n      <td>21</td>\n      <td>PAY_AMT5</td>\n      <td>NaN</td>\n      <td>0.001563</td>\n    </tr>\n    <tr>\n      <th>22</th>\n      <td>3</td>\n      <td>MARRIAGEIndex</td>\n      <td>[2, 1]</td>\n      <td>0.000373</td>\n    </tr>\n    <tr>\n      <th>20</th>\n      <td>1</td>\n      <td>SEXIndex</td>\n      <td>[2, 1]</td>\n      <td>0.000350</td>\n    </tr>\n    <tr>\n      <th>21</th>\n      <td>2</td>\n      <td>EDUCATIONIndex</td>\n      <td>[2, 1, 3, 4]</td>\n      <td>0.000326</td>\n    </tr>\n  </tbody>\n</table>\n</div>",
       "datasetInfos": [],
       "removedWidgets": [],
       "textData": "<div class=\"ansiout\">Out[51]: </div>",
       "type": "htmlSandbox"
      }
     },
     "output_type": "display_data"
    }
   ],
   "source": [
    "#with this you can extract the features, since the outcome is a pandas dataframe, we can use pandas related functions and methods\n",
    "# you can check it with this command: type()\n",
    "ExtractFeatureImp(fit_rf_Label.stages[-1].featureImportances, df2, \"features\")"
   ]
  },
  {
   "cell_type": "code",
   "execution_count": 0,
   "metadata": {
    "application/vnd.databricks.v1+cell": {
     "inputWidgets": {},
     "nuid": "07497d1c-0e2b-43d9-9bae-ccff08bd7406",
     "showTitle": false,
     "title": ""
    }
   },
   "outputs": [
    {
     "data": {
      "text/html": [
       "<style scoped>\n",
       "  .ansiout {\n",
       "    display: block;\n",
       "    unicode-bidi: embed;\n",
       "    white-space: pre-wrap;\n",
       "    word-wrap: break-word;\n",
       "    word-break: break-all;\n",
       "    font-family: \"Source Code Pro\", \"Menlo\", monospace;;\n",
       "    font-size: 13px;\n",
       "    color: #555;\n",
       "    margin-left: 4px;\n",
       "    line-height: 19px;\n",
       "  }\n",
       "</style>\n",
       "<div class=\"ansiout\">Out[52]: [&#39;PAY_1&#39;,\n",
       " &#39;PAY_2&#39;,\n",
       " &#39;PAY_3&#39;,\n",
       " &#39;PAY_4&#39;,\n",
       " &#39;LIMIT_BAL&#39;,\n",
       " &#39;PAY_6&#39;,\n",
       " &#39;PAY_5&#39;,\n",
       " &#39;PAY_AMT2&#39;,\n",
       " &#39;PAY_AMT1&#39;,\n",
       " &#39;BILL_AMT1&#39;,\n",
       " &#39;PAY_AMT3&#39;,\n",
       " &#39;BILL_AMT4&#39;,\n",
       " &#39;PAY_AMT6&#39;,\n",
       " &#39;PAY_AMT4&#39;,\n",
       " &#39;BILL_AMT2&#39;,\n",
       " &#39;BILL_AMT3&#39;,\n",
       " &#39;BILL_AMT5&#39;,\n",
       " &#39;BILL_AMT6&#39;,\n",
       " &#39;AGE&#39;,\n",
       " &#39;PAY_AMT5&#39;,\n",
       " &#39;MARRIAGEIndex&#39;,\n",
       " &#39;Default&#39;]</div>"
      ]
     },
     "metadata": {
      "application/vnd.databricks.v1+output": {
       "addedWidgets": {},
       "arguments": {},
       "data": "<div class=\"ansiout\">Out[52]: [&#39;PAY_1&#39;,\n &#39;PAY_2&#39;,\n &#39;PAY_3&#39;,\n &#39;PAY_4&#39;,\n &#39;LIMIT_BAL&#39;,\n &#39;PAY_6&#39;,\n &#39;PAY_5&#39;,\n &#39;PAY_AMT2&#39;,\n &#39;PAY_AMT1&#39;,\n &#39;BILL_AMT1&#39;,\n &#39;PAY_AMT3&#39;,\n &#39;BILL_AMT4&#39;,\n &#39;PAY_AMT6&#39;,\n &#39;PAY_AMT4&#39;,\n &#39;BILL_AMT2&#39;,\n &#39;BILL_AMT3&#39;,\n &#39;BILL_AMT5&#39;,\n &#39;BILL_AMT6&#39;,\n &#39;AGE&#39;,\n &#39;PAY_AMT5&#39;,\n &#39;MARRIAGEIndex&#39;,\n &#39;Default&#39;]</div>",
       "datasetInfos": [],
       "removedWidgets": [],
       "type": "html"
      }
     },
     "output_type": "display_data"
    }
   ],
   "source": [
    "features=ExtractFeatureImp(fit_rf_Label.stages[-1].featureImportances, df2, \"features\")\n",
    "\n",
    "features=features[features.score>0.00036].iloc[:,1].tolist()\n",
    "vars=features+['Default']\n",
    "vars"
   ]
  },
  {
   "cell_type": "code",
   "execution_count": 0,
   "metadata": {
    "application/vnd.databricks.v1+cell": {
     "inputWidgets": {},
     "nuid": "1fe47263-5911-4ac9-9dbe-37d968eccc95",
     "showTitle": false,
     "title": ""
    }
   },
   "outputs": [
    {
     "data": {
      "text/html": [
       "<style scoped>\n",
       "  .ansiout {\n",
       "    display: block;\n",
       "    unicode-bidi: embed;\n",
       "    white-space: pre-wrap;\n",
       "    word-wrap: break-word;\n",
       "    word-break: break-all;\n",
       "    font-family: \"Source Code Pro\", \"Menlo\", monospace;;\n",
       "    font-size: 13px;\n",
       "    color: #555;\n",
       "    margin-left: 4px;\n",
       "    line-height: 19px;\n",
       "  }\n",
       "</style>\n",
       "<div class=\"ansiout\"></div>"
      ]
     },
     "metadata": {
      "application/vnd.databricks.v1+output": {
       "addedWidgets": {},
       "arguments": {},
       "data": "<div class=\"ansiout\"></div>",
       "datasetInfos": [
        {
         "name": "train_df_selected",
         "schema": {
          "fields": [
           {
            "metadata": {},
            "name": "PAY_1",
            "nullable": true,
            "type": "integer"
           },
           {
            "metadata": {},
            "name": "PAY_2",
            "nullable": true,
            "type": "integer"
           },
           {
            "metadata": {},
            "name": "PAY_3",
            "nullable": true,
            "type": "integer"
           },
           {
            "metadata": {},
            "name": "PAY_4",
            "nullable": true,
            "type": "integer"
           },
           {
            "metadata": {},
            "name": "LIMIT_BAL",
            "nullable": true,
            "type": "double"
           },
           {
            "metadata": {},
            "name": "PAY_6",
            "nullable": true,
            "type": "integer"
           },
           {
            "metadata": {},
            "name": "PAY_5",
            "nullable": true,
            "type": "integer"
           },
           {
            "metadata": {},
            "name": "PAY_AMT2",
            "nullable": true,
            "type": "double"
           },
           {
            "metadata": {},
            "name": "PAY_AMT1",
            "nullable": true,
            "type": "double"
           },
           {
            "metadata": {},
            "name": "BILL_AMT1",
            "nullable": true,
            "type": "double"
           },
           {
            "metadata": {},
            "name": "PAY_AMT3",
            "nullable": true,
            "type": "double"
           },
           {
            "metadata": {},
            "name": "BILL_AMT4",
            "nullable": true,
            "type": "double"
           },
           {
            "metadata": {},
            "name": "PAY_AMT6",
            "nullable": true,
            "type": "double"
           },
           {
            "metadata": {},
            "name": "PAY_AMT4",
            "nullable": true,
            "type": "double"
           },
           {
            "metadata": {},
            "name": "BILL_AMT2",
            "nullable": true,
            "type": "double"
           },
           {
            "metadata": {},
            "name": "BILL_AMT3",
            "nullable": true,
            "type": "double"
           },
           {
            "metadata": {},
            "name": "BILL_AMT5",
            "nullable": true,
            "type": "double"
           },
           {
            "metadata": {},
            "name": "BILL_AMT6",
            "nullable": true,
            "type": "double"
           },
           {
            "metadata": {},
            "name": "AGE",
            "nullable": true,
            "type": "integer"
           },
           {
            "metadata": {},
            "name": "PAY_AMT5",
            "nullable": true,
            "type": "double"
           },
           {
            "metadata": {
             "ml_attr": {
              "name": "MARRIAGEIndex",
              "type": "nominal",
              "vals": [
               "2",
               "1"
              ]
             }
            },
            "name": "MARRIAGEIndex",
            "nullable": false,
            "type": "double"
           },
           {
            "metadata": {},
            "name": "Default",
            "nullable": true,
            "type": "integer"
           }
          ],
          "type": "struct"
         },
         "tableIdentifier": null,
         "typeStr": "pyspark.sql.dataframe.DataFrame"
        },
        {
         "name": "test_df_selected",
         "schema": {
          "fields": [
           {
            "metadata": {},
            "name": "PAY_1",
            "nullable": true,
            "type": "integer"
           },
           {
            "metadata": {},
            "name": "PAY_2",
            "nullable": true,
            "type": "integer"
           },
           {
            "metadata": {},
            "name": "PAY_3",
            "nullable": true,
            "type": "integer"
           },
           {
            "metadata": {},
            "name": "PAY_4",
            "nullable": true,
            "type": "integer"
           },
           {
            "metadata": {},
            "name": "LIMIT_BAL",
            "nullable": true,
            "type": "double"
           },
           {
            "metadata": {},
            "name": "PAY_6",
            "nullable": true,
            "type": "integer"
           },
           {
            "metadata": {},
            "name": "PAY_5",
            "nullable": true,
            "type": "integer"
           },
           {
            "metadata": {},
            "name": "PAY_AMT2",
            "nullable": true,
            "type": "double"
           },
           {
            "metadata": {},
            "name": "PAY_AMT1",
            "nullable": true,
            "type": "double"
           },
           {
            "metadata": {},
            "name": "BILL_AMT1",
            "nullable": true,
            "type": "double"
           },
           {
            "metadata": {},
            "name": "PAY_AMT3",
            "nullable": true,
            "type": "double"
           },
           {
            "metadata": {},
            "name": "BILL_AMT4",
            "nullable": true,
            "type": "double"
           },
           {
            "metadata": {},
            "name": "PAY_AMT6",
            "nullable": true,
            "type": "double"
           },
           {
            "metadata": {},
            "name": "PAY_AMT4",
            "nullable": true,
            "type": "double"
           },
           {
            "metadata": {},
            "name": "BILL_AMT2",
            "nullable": true,
            "type": "double"
           },
           {
            "metadata": {},
            "name": "BILL_AMT3",
            "nullable": true,
            "type": "double"
           },
           {
            "metadata": {},
            "name": "BILL_AMT5",
            "nullable": true,
            "type": "double"
           },
           {
            "metadata": {},
            "name": "BILL_AMT6",
            "nullable": true,
            "type": "double"
           },
           {
            "metadata": {},
            "name": "AGE",
            "nullable": true,
            "type": "integer"
           },
           {
            "metadata": {},
            "name": "PAY_AMT5",
            "nullable": true,
            "type": "double"
           },
           {
            "metadata": {
             "ml_attr": {
              "name": "MARRIAGEIndex",
              "type": "nominal",
              "vals": [
               "2",
               "1"
              ]
             }
            },
            "name": "MARRIAGEIndex",
            "nullable": false,
            "type": "double"
           },
           {
            "metadata": {},
            "name": "Default",
            "nullable": true,
            "type": "integer"
           }
          ],
          "type": "struct"
         },
         "tableIdentifier": null,
         "typeStr": "pyspark.sql.dataframe.DataFrame"
        }
       ],
       "removedWidgets": [],
       "type": "html"
      }
     },
     "output_type": "display_data"
    }
   ],
   "source": [
    "train_df_selected=fit_model_Label.transform(train_df).select(vars)\n",
    "test_df_selected=fit_model_Label.transform(test_df).select(vars)"
   ]
  },
  {
   "cell_type": "code",
   "execution_count": 0,
   "metadata": {
    "application/vnd.databricks.v1+cell": {
     "inputWidgets": {},
     "nuid": "e49d1563-99bb-46c0-9071-a4503fdaed7b",
     "showTitle": false,
     "title": ""
    }
   },
   "outputs": [
    {
     "data": {
      "text/html": [
       "<style scoped>\n",
       "  .ansiout {\n",
       "    display: block;\n",
       "    unicode-bidi: embed;\n",
       "    white-space: pre-wrap;\n",
       "    word-wrap: break-word;\n",
       "    word-break: break-all;\n",
       "    font-family: \"Source Code Pro\", \"Menlo\", monospace;;\n",
       "    font-size: 13px;\n",
       "    color: #555;\n",
       "    margin-left: 4px;\n",
       "    line-height: 19px;\n",
       "  }\n",
       "</style>\n",
       "<div class=\"ansiout\"></div>"
      ]
     },
     "metadata": {
      "application/vnd.databricks.v1+output": {
       "addedWidgets": {},
       "arguments": {},
       "data": "<div class=\"ansiout\"></div>",
       "datasetInfos": [
        {
         "name": "datatrain",
         "schema": {
          "fields": [
           {
            "metadata": {},
            "name": "PAY_1",
            "nullable": true,
            "type": "integer"
           },
           {
            "metadata": {},
            "name": "PAY_2",
            "nullable": true,
            "type": "integer"
           },
           {
            "metadata": {},
            "name": "PAY_3",
            "nullable": true,
            "type": "integer"
           },
           {
            "metadata": {},
            "name": "PAY_4",
            "nullable": true,
            "type": "integer"
           },
           {
            "metadata": {},
            "name": "LIMIT_BAL",
            "nullable": true,
            "type": "double"
           },
           {
            "metadata": {},
            "name": "PAY_6",
            "nullable": true,
            "type": "integer"
           },
           {
            "metadata": {},
            "name": "PAY_5",
            "nullable": true,
            "type": "integer"
           },
           {
            "metadata": {},
            "name": "PAY_AMT2",
            "nullable": true,
            "type": "double"
           },
           {
            "metadata": {},
            "name": "PAY_AMT1",
            "nullable": true,
            "type": "double"
           },
           {
            "metadata": {},
            "name": "BILL_AMT1",
            "nullable": true,
            "type": "double"
           },
           {
            "metadata": {},
            "name": "PAY_AMT3",
            "nullable": true,
            "type": "double"
           },
           {
            "metadata": {},
            "name": "BILL_AMT4",
            "nullable": true,
            "type": "double"
           },
           {
            "metadata": {},
            "name": "PAY_AMT6",
            "nullable": true,
            "type": "double"
           },
           {
            "metadata": {},
            "name": "PAY_AMT4",
            "nullable": true,
            "type": "double"
           },
           {
            "metadata": {},
            "name": "BILL_AMT2",
            "nullable": true,
            "type": "double"
           },
           {
            "metadata": {},
            "name": "BILL_AMT3",
            "nullable": true,
            "type": "double"
           },
           {
            "metadata": {},
            "name": "BILL_AMT5",
            "nullable": true,
            "type": "double"
           },
           {
            "metadata": {},
            "name": "BILL_AMT6",
            "nullable": true,
            "type": "double"
           },
           {
            "metadata": {},
            "name": "AGE",
            "nullable": true,
            "type": "integer"
           },
           {
            "metadata": {},
            "name": "PAY_AMT5",
            "nullable": true,
            "type": "double"
           },
           {
            "metadata": {
             "ml_attr": {
              "name": "MARRIAGEIndex",
              "type": "nominal",
              "vals": [
               "2",
               "1"
              ]
             }
            },
            "name": "MARRIAGEIndex",
            "nullable": false,
            "type": "double"
           },
           {
            "metadata": {},
            "name": "Default",
            "nullable": true,
            "type": "integer"
           },
           {
            "metadata": {
             "ml_attr": {
              "attrs": {
               "nominal": [
                {
                 "idx": 20,
                 "name": "MARRIAGEIndex",
                 "vals": [
                  "2",
                  "1"
                 ]
                }
               ],
               "numeric": [
                {
                 "idx": 0,
                 "name": "PAY_1"
                },
                {
                 "idx": 1,
                 "name": "PAY_2"
                },
                {
                 "idx": 2,
                 "name": "PAY_3"
                },
                {
                 "idx": 3,
                 "name": "PAY_4"
                },
                {
                 "idx": 4,
                 "name": "LIMIT_BAL"
                },
                {
                 "idx": 5,
                 "name": "PAY_6"
                },
                {
                 "idx": 6,
                 "name": "PAY_5"
                },
                {
                 "idx": 7,
                 "name": "PAY_AMT2"
                },
                {
                 "idx": 8,
                 "name": "PAY_AMT1"
                },
                {
                 "idx": 9,
                 "name": "BILL_AMT1"
                },
                {
                 "idx": 10,
                 "name": "PAY_AMT3"
                },
                {
                 "idx": 11,
                 "name": "BILL_AMT4"
                },
                {
                 "idx": 12,
                 "name": "PAY_AMT6"
                },
                {
                 "idx": 13,
                 "name": "PAY_AMT4"
                },
                {
                 "idx": 14,
                 "name": "BILL_AMT2"
                },
                {
                 "idx": 15,
                 "name": "BILL_AMT3"
                },
                {
                 "idx": 16,
                 "name": "BILL_AMT5"
                },
                {
                 "idx": 17,
                 "name": "BILL_AMT6"
                },
                {
                 "idx": 18,
                 "name": "AGE"
                },
                {
                 "idx": 19,
                 "name": "PAY_AMT5"
                }
               ]
              },
              "num_attrs": 21
             }
            },
            "name": "features",
            "nullable": true,
            "type": {
             "class": "org.apache.spark.ml.linalg.VectorUDT",
             "pyClass": "pyspark.ml.linalg.VectorUDT",
             "sqlType": {
              "fields": [
               {
                "metadata": {},
                "name": "type",
                "nullable": false,
                "type": "byte"
               },
               {
                "metadata": {},
                "name": "size",
                "nullable": true,
                "type": "integer"
               },
               {
                "metadata": {},
                "name": "indices",
                "nullable": true,
                "type": {
                 "containsNull": false,
                 "elementType": "integer",
                 "type": "array"
                }
               },
               {
                "metadata": {},
                "name": "values",
                "nullable": true,
                "type": {
                 "containsNull": false,
                 "elementType": "double",
                 "type": "array"
                }
               }
              ],
              "type": "struct"
             },
             "type": "udt"
            }
           }
          ],
          "type": "struct"
         },
         "tableIdentifier": null,
         "typeStr": "pyspark.sql.dataframe.DataFrame"
        },
        {
         "name": "datatest",
         "schema": {
          "fields": [
           {
            "metadata": {},
            "name": "PAY_1",
            "nullable": true,
            "type": "integer"
           },
           {
            "metadata": {},
            "name": "PAY_2",
            "nullable": true,
            "type": "integer"
           },
           {
            "metadata": {},
            "name": "PAY_3",
            "nullable": true,
            "type": "integer"
           },
           {
            "metadata": {},
            "name": "PAY_4",
            "nullable": true,
            "type": "integer"
           },
           {
            "metadata": {},
            "name": "LIMIT_BAL",
            "nullable": true,
            "type": "double"
           },
           {
            "metadata": {},
            "name": "PAY_6",
            "nullable": true,
            "type": "integer"
           },
           {
            "metadata": {},
            "name": "PAY_5",
            "nullable": true,
            "type": "integer"
           },
           {
            "metadata": {},
            "name": "PAY_AMT2",
            "nullable": true,
            "type": "double"
           },
           {
            "metadata": {},
            "name": "PAY_AMT1",
            "nullable": true,
            "type": "double"
           },
           {
            "metadata": {},
            "name": "BILL_AMT1",
            "nullable": true,
            "type": "double"
           },
           {
            "metadata": {},
            "name": "PAY_AMT3",
            "nullable": true,
            "type": "double"
           },
           {
            "metadata": {},
            "name": "BILL_AMT4",
            "nullable": true,
            "type": "double"
           },
           {
            "metadata": {},
            "name": "PAY_AMT6",
            "nullable": true,
            "type": "double"
           },
           {
            "metadata": {},
            "name": "PAY_AMT4",
            "nullable": true,
            "type": "double"
           },
           {
            "metadata": {},
            "name": "BILL_AMT2",
            "nullable": true,
            "type": "double"
           },
           {
            "metadata": {},
            "name": "BILL_AMT3",
            "nullable": true,
            "type": "double"
           },
           {
            "metadata": {},
            "name": "BILL_AMT5",
            "nullable": true,
            "type": "double"
           },
           {
            "metadata": {},
            "name": "BILL_AMT6",
            "nullable": true,
            "type": "double"
           },
           {
            "metadata": {},
            "name": "AGE",
            "nullable": true,
            "type": "integer"
           },
           {
            "metadata": {},
            "name": "PAY_AMT5",
            "nullable": true,
            "type": "double"
           },
           {
            "metadata": {
             "ml_attr": {
              "name": "MARRIAGEIndex",
              "type": "nominal",
              "vals": [
               "2",
               "1"
              ]
             }
            },
            "name": "MARRIAGEIndex",
            "nullable": false,
            "type": "double"
           },
           {
            "metadata": {},
            "name": "Default",
            "nullable": true,
            "type": "integer"
           },
           {
            "metadata": {
             "ml_attr": {
              "attrs": {
               "nominal": [
                {
                 "idx": 20,
                 "name": "MARRIAGEIndex",
                 "vals": [
                  "2",
                  "1"
                 ]
                }
               ],
               "numeric": [
                {
                 "idx": 0,
                 "name": "PAY_1"
                },
                {
                 "idx": 1,
                 "name": "PAY_2"
                },
                {
                 "idx": 2,
                 "name": "PAY_3"
                },
                {
                 "idx": 3,
                 "name": "PAY_4"
                },
                {
                 "idx": 4,
                 "name": "LIMIT_BAL"
                },
                {
                 "idx": 5,
                 "name": "PAY_6"
                },
                {
                 "idx": 6,
                 "name": "PAY_5"
                },
                {
                 "idx": 7,
                 "name": "PAY_AMT2"
                },
                {
                 "idx": 8,
                 "name": "PAY_AMT1"
                },
                {
                 "idx": 9,
                 "name": "BILL_AMT1"
                },
                {
                 "idx": 10,
                 "name": "PAY_AMT3"
                },
                {
                 "idx": 11,
                 "name": "BILL_AMT4"
                },
                {
                 "idx": 12,
                 "name": "PAY_AMT6"
                },
                {
                 "idx": 13,
                 "name": "PAY_AMT4"
                },
                {
                 "idx": 14,
                 "name": "BILL_AMT2"
                },
                {
                 "idx": 15,
                 "name": "BILL_AMT3"
                },
                {
                 "idx": 16,
                 "name": "BILL_AMT5"
                },
                {
                 "idx": 17,
                 "name": "BILL_AMT6"
                },
                {
                 "idx": 18,
                 "name": "AGE"
                },
                {
                 "idx": 19,
                 "name": "PAY_AMT5"
                }
               ]
              },
              "num_attrs": 21
             }
            },
            "name": "features",
            "nullable": true,
            "type": {
             "class": "org.apache.spark.ml.linalg.VectorUDT",
             "pyClass": "pyspark.ml.linalg.VectorUDT",
             "sqlType": {
              "fields": [
               {
                "metadata": {},
                "name": "type",
                "nullable": false,
                "type": "byte"
               },
               {
                "metadata": {},
                "name": "size",
                "nullable": true,
                "type": "integer"
               },
               {
                "metadata": {},
                "name": "indices",
                "nullable": true,
                "type": {
                 "containsNull": false,
                 "elementType": "integer",
                 "type": "array"
                }
               },
               {
                "metadata": {},
                "name": "values",
                "nullable": true,
                "type": {
                 "containsNull": false,
                 "elementType": "double",
                 "type": "array"
                }
               }
              ],
              "type": "struct"
             },
             "type": "udt"
            }
           }
          ],
          "type": "struct"
         },
         "tableIdentifier": null,
         "typeStr": "pyspark.sql.dataframe.DataFrame"
        }
       ],
       "removedWidgets": [],
       "type": "html"
      }
     },
     "output_type": "display_data"
    }
   ],
   "source": [
    "# we don't need to apply whole of pipeline just the last step which training the model is enough\n",
    "assembler = VectorAssembler(inputCols= features, outputCol=\"features\")\n",
    "datatrain = assembler.transform(train_df_selected)\n",
    "datatest = assembler.transform(test_df_selected)\n",
    "\n",
    "log_reg_df = LogisticRegression(featuresCol='features',labelCol='Default')\n",
    "\n",
    "fit_new = log_reg_df.fit(datatrain)"
   ]
  },
  {
   "cell_type": "code",
   "execution_count": 0,
   "metadata": {
    "application/vnd.databricks.v1+cell": {
     "inputWidgets": {},
     "nuid": "d81e01b8-cc46-4055-8c47-066e3d6a4b2c",
     "showTitle": false,
     "title": ""
    }
   },
   "outputs": [
    {
     "data": {
      "text/html": [
       "<style scoped>\n",
       "  .ansiout {\n",
       "    display: block;\n",
       "    unicode-bidi: embed;\n",
       "    white-space: pre-wrap;\n",
       "    word-wrap: break-word;\n",
       "    word-break: break-all;\n",
       "    font-family: \"Source Code Pro\", \"Menlo\", monospace;;\n",
       "    font-size: 13px;\n",
       "    color: #555;\n",
       "    margin-left: 4px;\n",
       "    line-height: 19px;\n",
       "  }\n",
       "</style>\n",
       "<div class=\"ansiout\"></div>"
      ]
     },
     "metadata": {
      "application/vnd.databricks.v1+output": {
       "addedWidgets": {},
       "arguments": {},
       "data": "<div class=\"ansiout\"></div>",
       "datasetInfos": [
        {
         "name": "train_new_results",
         "schema": {
          "fields": [
           {
            "metadata": {},
            "name": "PAY_1",
            "nullable": true,
            "type": "integer"
           },
           {
            "metadata": {},
            "name": "PAY_2",
            "nullable": true,
            "type": "integer"
           },
           {
            "metadata": {},
            "name": "PAY_3",
            "nullable": true,
            "type": "integer"
           },
           {
            "metadata": {},
            "name": "PAY_4",
            "nullable": true,
            "type": "integer"
           },
           {
            "metadata": {},
            "name": "LIMIT_BAL",
            "nullable": true,
            "type": "double"
           },
           {
            "metadata": {},
            "name": "PAY_6",
            "nullable": true,
            "type": "integer"
           },
           {
            "metadata": {},
            "name": "PAY_5",
            "nullable": true,
            "type": "integer"
           },
           {
            "metadata": {},
            "name": "PAY_AMT2",
            "nullable": true,
            "type": "double"
           },
           {
            "metadata": {},
            "name": "PAY_AMT1",
            "nullable": true,
            "type": "double"
           },
           {
            "metadata": {},
            "name": "BILL_AMT1",
            "nullable": true,
            "type": "double"
           },
           {
            "metadata": {},
            "name": "PAY_AMT3",
            "nullable": true,
            "type": "double"
           },
           {
            "metadata": {},
            "name": "BILL_AMT4",
            "nullable": true,
            "type": "double"
           },
           {
            "metadata": {},
            "name": "PAY_AMT6",
            "nullable": true,
            "type": "double"
           },
           {
            "metadata": {},
            "name": "PAY_AMT4",
            "nullable": true,
            "type": "double"
           },
           {
            "metadata": {},
            "name": "BILL_AMT2",
            "nullable": true,
            "type": "double"
           },
           {
            "metadata": {},
            "name": "BILL_AMT3",
            "nullable": true,
            "type": "double"
           },
           {
            "metadata": {},
            "name": "BILL_AMT5",
            "nullable": true,
            "type": "double"
           },
           {
            "metadata": {},
            "name": "BILL_AMT6",
            "nullable": true,
            "type": "double"
           },
           {
            "metadata": {},
            "name": "AGE",
            "nullable": true,
            "type": "integer"
           },
           {
            "metadata": {},
            "name": "PAY_AMT5",
            "nullable": true,
            "type": "double"
           },
           {
            "metadata": {
             "ml_attr": {
              "name": "MARRIAGEIndex",
              "type": "nominal",
              "vals": [
               "2",
               "1"
              ]
             }
            },
            "name": "MARRIAGEIndex",
            "nullable": false,
            "type": "double"
           },
           {
            "metadata": {},
            "name": "Default",
            "nullable": true,
            "type": "integer"
           },
           {
            "metadata": {
             "ml_attr": {
              "attrs": {
               "nominal": [
                {
                 "idx": 20,
                 "name": "MARRIAGEIndex",
                 "vals": [
                  "2",
                  "1"
                 ]
                }
               ],
               "numeric": [
                {
                 "idx": 0,
                 "name": "PAY_1"
                },
                {
                 "idx": 1,
                 "name": "PAY_2"
                },
                {
                 "idx": 2,
                 "name": "PAY_3"
                },
                {
                 "idx": 3,
                 "name": "PAY_4"
                },
                {
                 "idx": 4,
                 "name": "LIMIT_BAL"
                },
                {
                 "idx": 5,
                 "name": "PAY_6"
                },
                {
                 "idx": 6,
                 "name": "PAY_5"
                },
                {
                 "idx": 7,
                 "name": "PAY_AMT2"
                },
                {
                 "idx": 8,
                 "name": "PAY_AMT1"
                },
                {
                 "idx": 9,
                 "name": "BILL_AMT1"
                },
                {
                 "idx": 10,
                 "name": "PAY_AMT3"
                },
                {
                 "idx": 11,
                 "name": "BILL_AMT4"
                },
                {
                 "idx": 12,
                 "name": "PAY_AMT6"
                },
                {
                 "idx": 13,
                 "name": "PAY_AMT4"
                },
                {
                 "idx": 14,
                 "name": "BILL_AMT2"
                },
                {
                 "idx": 15,
                 "name": "BILL_AMT3"
                },
                {
                 "idx": 16,
                 "name": "BILL_AMT5"
                },
                {
                 "idx": 17,
                 "name": "BILL_AMT6"
                },
                {
                 "idx": 18,
                 "name": "AGE"
                },
                {
                 "idx": 19,
                 "name": "PAY_AMT5"
                }
               ]
              },
              "num_attrs": 21
             }
            },
            "name": "features",
            "nullable": true,
            "type": {
             "class": "org.apache.spark.ml.linalg.VectorUDT",
             "pyClass": "pyspark.ml.linalg.VectorUDT",
             "sqlType": {
              "fields": [
               {
                "metadata": {},
                "name": "type",
                "nullable": false,
                "type": "byte"
               },
               {
                "metadata": {},
                "name": "size",
                "nullable": true,
                "type": "integer"
               },
               {
                "metadata": {},
                "name": "indices",
                "nullable": true,
                "type": {
                 "containsNull": false,
                 "elementType": "integer",
                 "type": "array"
                }
               },
               {
                "metadata": {},
                "name": "values",
                "nullable": true,
                "type": {
                 "containsNull": false,
                 "elementType": "double",
                 "type": "array"
                }
               }
              ],
              "type": "struct"
             },
             "type": "udt"
            }
           },
           {
            "metadata": {
             "ml_attr": {
              "num_attrs": 2
             }
            },
            "name": "rawPrediction",
            "nullable": true,
            "type": {
             "class": "org.apache.spark.ml.linalg.VectorUDT",
             "pyClass": "pyspark.ml.linalg.VectorUDT",
             "sqlType": {
              "fields": [
               {
                "metadata": {},
                "name": "type",
                "nullable": false,
                "type": "byte"
               },
               {
                "metadata": {},
                "name": "size",
                "nullable": true,
                "type": "integer"
               },
               {
                "metadata": {},
                "name": "indices",
                "nullable": true,
                "type": {
                 "containsNull": false,
                 "elementType": "integer",
                 "type": "array"
                }
               },
               {
                "metadata": {},
                "name": "values",
                "nullable": true,
                "type": {
                 "containsNull": false,
                 "elementType": "double",
                 "type": "array"
                }
               }
              ],
              "type": "struct"
             },
             "type": "udt"
            }
           },
           {
            "metadata": {
             "ml_attr": {
              "num_attrs": 2
             }
            },
            "name": "probability",
            "nullable": true,
            "type": {
             "class": "org.apache.spark.ml.linalg.VectorUDT",
             "pyClass": "pyspark.ml.linalg.VectorUDT",
             "sqlType": {
              "fields": [
               {
                "metadata": {},
                "name": "type",
                "nullable": false,
                "type": "byte"
               },
               {
                "metadata": {},
                "name": "size",
                "nullable": true,
                "type": "integer"
               },
               {
                "metadata": {},
                "name": "indices",
                "nullable": true,
                "type": {
                 "containsNull": false,
                 "elementType": "integer",
                 "type": "array"
                }
               },
               {
                "metadata": {},
                "name": "values",
                "nullable": true,
                "type": {
                 "containsNull": false,
                 "elementType": "double",
                 "type": "array"
                }
               }
              ],
              "type": "struct"
             },
             "type": "udt"
            }
           },
           {
            "metadata": {
             "ml_attr": {
              "num_vals": 2,
              "type": "nominal"
             }
            },
            "name": "prediction",
            "nullable": false,
            "type": "double"
           }
          ],
          "type": "struct"
         },
         "tableIdentifier": null,
         "typeStr": "pyspark.sql.dataframe.DataFrame"
        },
        {
         "name": "test_new_results",
         "schema": {
          "fields": [
           {
            "metadata": {},
            "name": "PAY_1",
            "nullable": true,
            "type": "integer"
           },
           {
            "metadata": {},
            "name": "PAY_2",
            "nullable": true,
            "type": "integer"
           },
           {
            "metadata": {},
            "name": "PAY_3",
            "nullable": true,
            "type": "integer"
           },
           {
            "metadata": {},
            "name": "PAY_4",
            "nullable": true,
            "type": "integer"
           },
           {
            "metadata": {},
            "name": "LIMIT_BAL",
            "nullable": true,
            "type": "double"
           },
           {
            "metadata": {},
            "name": "PAY_6",
            "nullable": true,
            "type": "integer"
           },
           {
            "metadata": {},
            "name": "PAY_5",
            "nullable": true,
            "type": "integer"
           },
           {
            "metadata": {},
            "name": "PAY_AMT2",
            "nullable": true,
            "type": "double"
           },
           {
            "metadata": {},
            "name": "PAY_AMT1",
            "nullable": true,
            "type": "double"
           },
           {
            "metadata": {},
            "name": "BILL_AMT1",
            "nullable": true,
            "type": "double"
           },
           {
            "metadata": {},
            "name": "PAY_AMT3",
            "nullable": true,
            "type": "double"
           },
           {
            "metadata": {},
            "name": "BILL_AMT4",
            "nullable": true,
            "type": "double"
           },
           {
            "metadata": {},
            "name": "PAY_AMT6",
            "nullable": true,
            "type": "double"
           },
           {
            "metadata": {},
            "name": "PAY_AMT4",
            "nullable": true,
            "type": "double"
           },
           {
            "metadata": {},
            "name": "BILL_AMT2",
            "nullable": true,
            "type": "double"
           },
           {
            "metadata": {},
            "name": "BILL_AMT3",
            "nullable": true,
            "type": "double"
           },
           {
            "metadata": {},
            "name": "BILL_AMT5",
            "nullable": true,
            "type": "double"
           },
           {
            "metadata": {},
            "name": "BILL_AMT6",
            "nullable": true,
            "type": "double"
           },
           {
            "metadata": {},
            "name": "AGE",
            "nullable": true,
            "type": "integer"
           },
           {
            "metadata": {},
            "name": "PAY_AMT5",
            "nullable": true,
            "type": "double"
           },
           {
            "metadata": {
             "ml_attr": {
              "name": "MARRIAGEIndex",
              "type": "nominal",
              "vals": [
               "2",
               "1"
              ]
             }
            },
            "name": "MARRIAGEIndex",
            "nullable": false,
            "type": "double"
           },
           {
            "metadata": {},
            "name": "Default",
            "nullable": true,
            "type": "integer"
           },
           {
            "metadata": {
             "ml_attr": {
              "attrs": {
               "nominal": [
                {
                 "idx": 20,
                 "name": "MARRIAGEIndex",
                 "vals": [
                  "2",
                  "1"
                 ]
                }
               ],
               "numeric": [
                {
                 "idx": 0,
                 "name": "PAY_1"
                },
                {
                 "idx": 1,
                 "name": "PAY_2"
                },
                {
                 "idx": 2,
                 "name": "PAY_3"
                },
                {
                 "idx": 3,
                 "name": "PAY_4"
                },
                {
                 "idx": 4,
                 "name": "LIMIT_BAL"
                },
                {
                 "idx": 5,
                 "name": "PAY_6"
                },
                {
                 "idx": 6,
                 "name": "PAY_5"
                },
                {
                 "idx": 7,
                 "name": "PAY_AMT2"
                },
                {
                 "idx": 8,
                 "name": "PAY_AMT1"
                },
                {
                 "idx": 9,
                 "name": "BILL_AMT1"
                },
                {
                 "idx": 10,
                 "name": "PAY_AMT3"
                },
                {
                 "idx": 11,
                 "name": "BILL_AMT4"
                },
                {
                 "idx": 12,
                 "name": "PAY_AMT6"
                },
                {
                 "idx": 13,
                 "name": "PAY_AMT4"
                },
                {
                 "idx": 14,
                 "name": "BILL_AMT2"
                },
                {
                 "idx": 15,
                 "name": "BILL_AMT3"
                },
                {
                 "idx": 16,
                 "name": "BILL_AMT5"
                },
                {
                 "idx": 17,
                 "name": "BILL_AMT6"
                },
                {
                 "idx": 18,
                 "name": "AGE"
                },
                {
                 "idx": 19,
                 "name": "PAY_AMT5"
                }
               ]
              },
              "num_attrs": 21
             }
            },
            "name": "features",
            "nullable": true,
            "type": {
             "class": "org.apache.spark.ml.linalg.VectorUDT",
             "pyClass": "pyspark.ml.linalg.VectorUDT",
             "sqlType": {
              "fields": [
               {
                "metadata": {},
                "name": "type",
                "nullable": false,
                "type": "byte"
               },
               {
                "metadata": {},
                "name": "size",
                "nullable": true,
                "type": "integer"
               },
               {
                "metadata": {},
                "name": "indices",
                "nullable": true,
                "type": {
                 "containsNull": false,
                 "elementType": "integer",
                 "type": "array"
                }
               },
               {
                "metadata": {},
                "name": "values",
                "nullable": true,
                "type": {
                 "containsNull": false,
                 "elementType": "double",
                 "type": "array"
                }
               }
              ],
              "type": "struct"
             },
             "type": "udt"
            }
           },
           {
            "metadata": {
             "ml_attr": {
              "num_attrs": 2
             }
            },
            "name": "rawPrediction",
            "nullable": true,
            "type": {
             "class": "org.apache.spark.ml.linalg.VectorUDT",
             "pyClass": "pyspark.ml.linalg.VectorUDT",
             "sqlType": {
              "fields": [
               {
                "metadata": {},
                "name": "type",
                "nullable": false,
                "type": "byte"
               },
               {
                "metadata": {},
                "name": "size",
                "nullable": true,
                "type": "integer"
               },
               {
                "metadata": {},
                "name": "indices",
                "nullable": true,
                "type": {
                 "containsNull": false,
                 "elementType": "integer",
                 "type": "array"
                }
               },
               {
                "metadata": {},
                "name": "values",
                "nullable": true,
                "type": {
                 "containsNull": false,
                 "elementType": "double",
                 "type": "array"
                }
               }
              ],
              "type": "struct"
             },
             "type": "udt"
            }
           },
           {
            "metadata": {
             "ml_attr": {
              "num_attrs": 2
             }
            },
            "name": "probability",
            "nullable": true,
            "type": {
             "class": "org.apache.spark.ml.linalg.VectorUDT",
             "pyClass": "pyspark.ml.linalg.VectorUDT",
             "sqlType": {
              "fields": [
               {
                "metadata": {},
                "name": "type",
                "nullable": false,
                "type": "byte"
               },
               {
                "metadata": {},
                "name": "size",
                "nullable": true,
                "type": "integer"
               },
               {
                "metadata": {},
                "name": "indices",
                "nullable": true,
                "type": {
                 "containsNull": false,
                 "elementType": "integer",
                 "type": "array"
                }
               },
               {
                "metadata": {},
                "name": "values",
                "nullable": true,
                "type": {
                 "containsNull": false,
                 "elementType": "double",
                 "type": "array"
                }
               }
              ],
              "type": "struct"
             },
             "type": "udt"
            }
           },
           {
            "metadata": {
             "ml_attr": {
              "num_vals": 2,
              "type": "nominal"
             }
            },
            "name": "prediction",
            "nullable": false,
            "type": "double"
           }
          ],
          "type": "struct"
         },
         "tableIdentifier": null,
         "typeStr": "pyspark.sql.dataframe.DataFrame"
        }
       ],
       "removedWidgets": [],
       "type": "html"
      }
     },
     "output_type": "display_data"
    }
   ],
   "source": [
    "train_new_results = fit_new.transform(datatrain)\n",
    "test_new_results = fit_new.transform(datatest)"
   ]
  },
  {
   "cell_type": "code",
   "execution_count": 0,
   "metadata": {
    "application/vnd.databricks.v1+cell": {
     "inputWidgets": {},
     "nuid": "86c39f99-3cfd-46e3-963e-a8541581f6c8",
     "showTitle": false,
     "title": ""
    }
   },
   "outputs": [
    {
     "data": {
      "text/html": [
       "<style scoped>\n",
       "  .ansiout {\n",
       "    display: block;\n",
       "    unicode-bidi: embed;\n",
       "    white-space: pre-wrap;\n",
       "    word-wrap: break-word;\n",
       "    word-break: break-all;\n",
       "    font-family: \"Source Code Pro\", \"Menlo\", monospace;;\n",
       "    font-size: 13px;\n",
       "    color: #555;\n",
       "    margin-left: 4px;\n",
       "    line-height: 19px;\n",
       "  }\n",
       "</style>\n",
       "<div class=\"ansiout\"></div>"
      ]
     },
     "metadata": {
      "application/vnd.databricks.v1+output": {
       "addedWidgets": {},
       "arguments": {},
       "data": "<div class=\"ansiout\"></div>",
       "datasetInfos": [],
       "removedWidgets": [],
       "type": "html"
      }
     },
     "output_type": "display_data"
    }
   ],
   "source": [
    "AUC_test_new = AUC_eval.evaluate(test_new_results)\n",
    "AUC_train_new = AUC_eval.evaluate(train_new_results)\n",
    "\n",
    "Accu_test_new = Accu_evaluator.evaluate(test_new_results, {Accu_evaluator.metricName: \"accuracy\"})\n",
    "Accu_train_new = Accu_evaluator.evaluate(train_new_results, {Accu_evaluator.metricName: \"accuracy\"})"
   ]
  },
  {
   "cell_type": "code",
   "execution_count": 0,
   "metadata": {
    "application/vnd.databricks.v1+cell": {
     "inputWidgets": {},
     "nuid": "ade286c2-808d-4578-ba94-3591489bd68f",
     "showTitle": false,
     "title": ""
    }
   },
   "outputs": [
    {
     "data": {
      "text/html": [
       "<style scoped>\n",
       "  .ansiout {\n",
       "    display: block;\n",
       "    unicode-bidi: embed;\n",
       "    white-space: pre-wrap;\n",
       "    word-wrap: break-word;\n",
       "    word-break: break-all;\n",
       "    font-family: \"Source Code Pro\", \"Menlo\", monospace;;\n",
       "    font-size: 13px;\n",
       "    color: #555;\n",
       "    margin-left: 4px;\n",
       "    line-height: 19px;\n",
       "  }\n",
       "</style>\n",
       "<div class=\"ansiout\">Test AUC with Label Encoding &amp; feature selection 0.6744415617503133\n",
       "Train AUC with Label Encoding &amp; feature selection 0.6738538331075274\n",
       "\n",
       "\n",
       "Accuracy: Test with Label Encoding &amp; feature selection 0.6742745353765895\n",
       "Accuracy: Train with Label Encoding &amp; feature selection 0.6738855255916346\n",
       "</div>"
      ]
     },
     "metadata": {
      "application/vnd.databricks.v1+output": {
       "addedWidgets": {},
       "arguments": {},
       "data": "<div class=\"ansiout\">Test AUC with Label Encoding &amp; feature selection 0.6744415617503133\nTrain AUC with Label Encoding &amp; feature selection 0.6738538331075274\n\n\nAccuracy: Test with Label Encoding &amp; feature selection 0.6742745353765895\nAccuracy: Train with Label Encoding &amp; feature selection 0.6738855255916346\n</div>",
       "datasetInfos": [],
       "removedWidgets": [],
       "type": "html"
      }
     },
     "output_type": "display_data"
    }
   ],
   "source": [
    "print(\"Test AUC with Label Encoding & feature selection\", AUC_test_new)\n",
    "print(\"Train AUC with Label Encoding & feature selection\", AUC_train_new)\n",
    "print(\"\\n\")\n",
    "print(\"Accuracy: Test with Label Encoding & feature selection\", Accu_test_new)\n",
    "print(\"Accuracy: Train with Label Encoding & feature selection\", Accu_train_new)"
   ]
  },
  {
   "cell_type": "markdown",
   "metadata": {
    "application/vnd.databricks.v1+cell": {
     "inputWidgets": {},
     "nuid": "a20a9108-5602-4f24-a2f1-d9c9b41b582f",
     "showTitle": true,
     "title": "2. Next Potential Steps -- try to improve the performance（Tuning the algorithms --CrossValidator）"
    }
   },
   "source": [
    "- Tuning the algorithms (CrossValidator) for LogisticRegression\n",
    "- As we indicate 3 values for regParam, 3 values for maxIter, and 3 values for elasticNetParam, this grid will have 3 x 3 x 3 = 27 parameter settings for CrossValidator to choose from. We will create a 5-fold cross validator."
   ]
  },
  {
   "cell_type": "code",
   "execution_count": 0,
   "metadata": {
    "application/vnd.databricks.v1+cell": {
     "inputWidgets": {},
     "nuid": "d23d924f-7d0e-46d6-a4c4-9476290751ad",
     "showTitle": false,
     "title": ""
    }
   },
   "outputs": [
    {
     "data": {
      "text/html": [
       "<style scoped>\n",
       "  .ansiout {\n",
       "    display: block;\n",
       "    unicode-bidi: embed;\n",
       "    white-space: pre-wrap;\n",
       "    word-wrap: break-word;\n",
       "    word-break: break-all;\n",
       "    font-family: \"Source Code Pro\", \"Menlo\", monospace;;\n",
       "    font-size: 13px;\n",
       "    color: #555;\n",
       "    margin-left: 4px;\n",
       "    line-height: 19px;\n",
       "  }\n",
       "</style>\n",
       "<div class=\"ansiout\"></div>"
      ]
     },
     "metadata": {
      "application/vnd.databricks.v1+output": {
       "addedWidgets": {},
       "arguments": {},
       "data": "<div class=\"ansiout\"></div>",
       "datasetInfos": [],
       "removedWidgets": [],
       "type": "html"
      }
     },
     "output_type": "display_data"
    }
   ],
   "source": [
    "import pyspark.ml.tuning as tune\n",
    "from pyspark.ml.tuning import ParamGridBuilder, CrossValidator"
   ]
  },
  {
   "cell_type": "code",
   "execution_count": 0,
   "metadata": {
    "application/vnd.databricks.v1+cell": {
     "inputWidgets": {},
     "nuid": "3ec86f3f-e248-4dee-bcec-6d3026d6d724",
     "showTitle": false,
     "title": ""
    }
   },
   "outputs": [
    {
     "data": {
      "text/html": [
       "<style scoped>\n",
       "  .ansiout {\n",
       "    display: block;\n",
       "    unicode-bidi: embed;\n",
       "    white-space: pre-wrap;\n",
       "    word-wrap: break-word;\n",
       "    word-break: break-all;\n",
       "    font-family: \"Source Code Pro\", \"Menlo\", monospace;;\n",
       "    font-size: 13px;\n",
       "    color: #555;\n",
       "    margin-left: 4px;\n",
       "    line-height: 19px;\n",
       "  }\n",
       "</style>\n",
       "<div class=\"ansiout\"></div>"
      ]
     },
     "metadata": {
      "application/vnd.databricks.v1+output": {
       "addedWidgets": {},
       "arguments": {},
       "data": "<div class=\"ansiout\"></div>",
       "datasetInfos": [],
       "removedWidgets": [],
       "type": "html"
      }
     },
     "output_type": "display_data"
    }
   ],
   "source": [
    "lc_df = LogisticRegression(featuresCol='features',labelCol='Default')"
   ]
  },
  {
   "cell_type": "code",
   "execution_count": 0,
   "metadata": {
    "application/vnd.databricks.v1+cell": {
     "inputWidgets": {},
     "nuid": "ebaaf161-0114-41a1-a3c8-02aaeb089c88",
     "showTitle": false,
     "title": ""
    }
   },
   "outputs": [
    {
     "data": {
      "text/html": [
       "<style scoped>\n",
       "  .ansiout {\n",
       "    display: block;\n",
       "    unicode-bidi: embed;\n",
       "    white-space: pre-wrap;\n",
       "    word-wrap: break-word;\n",
       "    word-break: break-all;\n",
       "    font-family: \"Source Code Pro\", \"Menlo\", monospace;;\n",
       "    font-size: 13px;\n",
       "    color: #555;\n",
       "    margin-left: 4px;\n",
       "    line-height: 19px;\n",
       "  }\n",
       "</style>\n",
       "<div class=\"ansiout\"></div>"
      ]
     },
     "metadata": {
      "application/vnd.databricks.v1+output": {
       "addedWidgets": {},
       "arguments": {},
       "data": "<div class=\"ansiout\"></div>",
       "datasetInfos": [],
       "removedWidgets": [],
       "type": "html"
      }
     },
     "output_type": "display_data"
    }
   ],
   "source": [
    "# Create ParamGrid for Cross Validation\n",
    "paramGrid = (ParamGridBuilder()\n",
    "             .addGrid(lc_df.regParam, [0.01, 0.5, 2.0])\n",
    "             .addGrid(lc_df.elasticNetParam, [0.0, 0.5, 1.0])\n",
    "             .addGrid(lc_df.maxIter, [1, 5, 10])\n",
    "             .build())"
   ]
  },
  {
   "cell_type": "code",
   "execution_count": 0,
   "metadata": {
    "application/vnd.databricks.v1+cell": {
     "inputWidgets": {},
     "nuid": "f2a8c699-1c2e-475d-bf15-8a1ad7180e9a",
     "showTitle": false,
     "title": ""
    }
   },
   "outputs": [
    {
     "data": {
      "text/html": [
       "<style scoped>\n",
       "  .ansiout {\n",
       "    display: block;\n",
       "    unicode-bidi: embed;\n",
       "    white-space: pre-wrap;\n",
       "    word-wrap: break-word;\n",
       "    word-break: break-all;\n",
       "    font-family: \"Source Code Pro\", \"Menlo\", monospace;;\n",
       "    font-size: 13px;\n",
       "    color: #555;\n",
       "    margin-left: 4px;\n",
       "    line-height: 19px;\n",
       "  }\n",
       "</style>\n",
       "<div class=\"ansiout\"></div>"
      ]
     },
     "metadata": {
      "application/vnd.databricks.v1+output": {
       "addedWidgets": {},
       "arguments": {},
       "data": "<div class=\"ansiout\"></div>",
       "datasetInfos": [],
       "removedWidgets": [],
       "type": "html"
      }
     },
     "output_type": "display_data"
    }
   ],
   "source": [
    "cv = CrossValidator(estimator=lc_df, estimatorParamMaps=paramGrid, evaluator=BinaryClassificationEvaluator(rawPredictionCol='prediction', labelCol='Default'),numFolds=5)"
   ]
  },
  {
   "cell_type": "code",
   "execution_count": 0,
   "metadata": {
    "application/vnd.databricks.v1+cell": {
     "inputWidgets": {},
     "nuid": "74c50c36-d4a1-4710-af9b-803fa10da4d9",
     "showTitle": false,
     "title": ""
    }
   },
   "outputs": [
    {
     "data": {
      "text/html": [
       "<style scoped>\n",
       "  .ansiout {\n",
       "    display: block;\n",
       "    unicode-bidi: embed;\n",
       "    white-space: pre-wrap;\n",
       "    word-wrap: break-word;\n",
       "    word-break: break-all;\n",
       "    font-family: \"Source Code Pro\", \"Menlo\", monospace;;\n",
       "    font-size: 13px;\n",
       "    color: #555;\n",
       "    margin-left: 4px;\n",
       "    line-height: 19px;\n",
       "  }\n",
       "</style>\n",
       "<div class=\"ansiout\"></div>"
      ]
     },
     "metadata": {
      "application/vnd.databricks.v1+output": {
       "addedWidgets": {},
       "arguments": {},
       "data": "<div class=\"ansiout\"></div>",
       "datasetInfos": [],
       "removedWidgets": [],
       "type": "html"
      }
     },
     "output_type": "display_data"
    }
   ],
   "source": [
    "cvModel = cv.fit(datatrain)"
   ]
  },
  {
   "cell_type": "code",
   "execution_count": 0,
   "metadata": {
    "application/vnd.databricks.v1+cell": {
     "inputWidgets": {},
     "nuid": "c3f4ec97-a85c-417b-97a2-703669556481",
     "showTitle": false,
     "title": ""
    }
   },
   "outputs": [
    {
     "data": {
      "text/html": [
       "<style scoped>\n",
       "  .ansiout {\n",
       "    display: block;\n",
       "    unicode-bidi: embed;\n",
       "    white-space: pre-wrap;\n",
       "    word-wrap: break-word;\n",
       "    word-break: break-all;\n",
       "    font-family: \"Source Code Pro\", \"Menlo\", monospace;;\n",
       "    font-size: 13px;\n",
       "    color: #555;\n",
       "    margin-left: 4px;\n",
       "    line-height: 19px;\n",
       "  }\n",
       "</style>\n",
       "<div class=\"ansiout\"></div>"
      ]
     },
     "metadata": {
      "application/vnd.databricks.v1+output": {
       "addedWidgets": {},
       "arguments": {},
       "data": "<div class=\"ansiout\"></div>",
       "datasetInfos": [
        {
         "name": "train_new0_results",
         "schema": {
          "fields": [
           {
            "metadata": {},
            "name": "PAY_1",
            "nullable": true,
            "type": "integer"
           },
           {
            "metadata": {},
            "name": "PAY_2",
            "nullable": true,
            "type": "integer"
           },
           {
            "metadata": {},
            "name": "PAY_3",
            "nullable": true,
            "type": "integer"
           },
           {
            "metadata": {},
            "name": "PAY_4",
            "nullable": true,
            "type": "integer"
           },
           {
            "metadata": {},
            "name": "LIMIT_BAL",
            "nullable": true,
            "type": "double"
           },
           {
            "metadata": {},
            "name": "PAY_6",
            "nullable": true,
            "type": "integer"
           },
           {
            "metadata": {},
            "name": "PAY_5",
            "nullable": true,
            "type": "integer"
           },
           {
            "metadata": {},
            "name": "PAY_AMT2",
            "nullable": true,
            "type": "double"
           },
           {
            "metadata": {},
            "name": "PAY_AMT1",
            "nullable": true,
            "type": "double"
           },
           {
            "metadata": {},
            "name": "BILL_AMT1",
            "nullable": true,
            "type": "double"
           },
           {
            "metadata": {},
            "name": "PAY_AMT3",
            "nullable": true,
            "type": "double"
           },
           {
            "metadata": {},
            "name": "BILL_AMT4",
            "nullable": true,
            "type": "double"
           },
           {
            "metadata": {},
            "name": "PAY_AMT6",
            "nullable": true,
            "type": "double"
           },
           {
            "metadata": {},
            "name": "PAY_AMT4",
            "nullable": true,
            "type": "double"
           },
           {
            "metadata": {},
            "name": "BILL_AMT2",
            "nullable": true,
            "type": "double"
           },
           {
            "metadata": {},
            "name": "BILL_AMT3",
            "nullable": true,
            "type": "double"
           },
           {
            "metadata": {},
            "name": "BILL_AMT5",
            "nullable": true,
            "type": "double"
           },
           {
            "metadata": {},
            "name": "BILL_AMT6",
            "nullable": true,
            "type": "double"
           },
           {
            "metadata": {},
            "name": "AGE",
            "nullable": true,
            "type": "integer"
           },
           {
            "metadata": {},
            "name": "PAY_AMT5",
            "nullable": true,
            "type": "double"
           },
           {
            "metadata": {
             "ml_attr": {
              "name": "MARRIAGEIndex",
              "type": "nominal",
              "vals": [
               "2",
               "1"
              ]
             }
            },
            "name": "MARRIAGEIndex",
            "nullable": false,
            "type": "double"
           },
           {
            "metadata": {},
            "name": "Default",
            "nullable": true,
            "type": "integer"
           },
           {
            "metadata": {
             "ml_attr": {
              "attrs": {
               "nominal": [
                {
                 "idx": 20,
                 "name": "MARRIAGEIndex",
                 "vals": [
                  "2",
                  "1"
                 ]
                }
               ],
               "numeric": [
                {
                 "idx": 0,
                 "name": "PAY_1"
                },
                {
                 "idx": 1,
                 "name": "PAY_2"
                },
                {
                 "idx": 2,
                 "name": "PAY_3"
                },
                {
                 "idx": 3,
                 "name": "PAY_4"
                },
                {
                 "idx": 4,
                 "name": "LIMIT_BAL"
                },
                {
                 "idx": 5,
                 "name": "PAY_6"
                },
                {
                 "idx": 6,
                 "name": "PAY_5"
                },
                {
                 "idx": 7,
                 "name": "PAY_AMT2"
                },
                {
                 "idx": 8,
                 "name": "PAY_AMT1"
                },
                {
                 "idx": 9,
                 "name": "BILL_AMT1"
                },
                {
                 "idx": 10,
                 "name": "PAY_AMT3"
                },
                {
                 "idx": 11,
                 "name": "BILL_AMT4"
                },
                {
                 "idx": 12,
                 "name": "PAY_AMT6"
                },
                {
                 "idx": 13,
                 "name": "PAY_AMT4"
                },
                {
                 "idx": 14,
                 "name": "BILL_AMT2"
                },
                {
                 "idx": 15,
                 "name": "BILL_AMT3"
                },
                {
                 "idx": 16,
                 "name": "BILL_AMT5"
                },
                {
                 "idx": 17,
                 "name": "BILL_AMT6"
                },
                {
                 "idx": 18,
                 "name": "AGE"
                },
                {
                 "idx": 19,
                 "name": "PAY_AMT5"
                }
               ]
              },
              "num_attrs": 21
             }
            },
            "name": "features",
            "nullable": true,
            "type": {
             "class": "org.apache.spark.ml.linalg.VectorUDT",
             "pyClass": "pyspark.ml.linalg.VectorUDT",
             "sqlType": {
              "fields": [
               {
                "metadata": {},
                "name": "type",
                "nullable": false,
                "type": "byte"
               },
               {
                "metadata": {},
                "name": "size",
                "nullable": true,
                "type": "integer"
               },
               {
                "metadata": {},
                "name": "indices",
                "nullable": true,
                "type": {
                 "containsNull": false,
                 "elementType": "integer",
                 "type": "array"
                }
               },
               {
                "metadata": {},
                "name": "values",
                "nullable": true,
                "type": {
                 "containsNull": false,
                 "elementType": "double",
                 "type": "array"
                }
               }
              ],
              "type": "struct"
             },
             "type": "udt"
            }
           },
           {
            "metadata": {
             "ml_attr": {
              "num_attrs": 2
             }
            },
            "name": "rawPrediction",
            "nullable": true,
            "type": {
             "class": "org.apache.spark.ml.linalg.VectorUDT",
             "pyClass": "pyspark.ml.linalg.VectorUDT",
             "sqlType": {
              "fields": [
               {
                "metadata": {},
                "name": "type",
                "nullable": false,
                "type": "byte"
               },
               {
                "metadata": {},
                "name": "size",
                "nullable": true,
                "type": "integer"
               },
               {
                "metadata": {},
                "name": "indices",
                "nullable": true,
                "type": {
                 "containsNull": false,
                 "elementType": "integer",
                 "type": "array"
                }
               },
               {
                "metadata": {},
                "name": "values",
                "nullable": true,
                "type": {
                 "containsNull": false,
                 "elementType": "double",
                 "type": "array"
                }
               }
              ],
              "type": "struct"
             },
             "type": "udt"
            }
           },
           {
            "metadata": {
             "ml_attr": {
              "num_attrs": 2
             }
            },
            "name": "probability",
            "nullable": true,
            "type": {
             "class": "org.apache.spark.ml.linalg.VectorUDT",
             "pyClass": "pyspark.ml.linalg.VectorUDT",
             "sqlType": {
              "fields": [
               {
                "metadata": {},
                "name": "type",
                "nullable": false,
                "type": "byte"
               },
               {
                "metadata": {},
                "name": "size",
                "nullable": true,
                "type": "integer"
               },
               {
                "metadata": {},
                "name": "indices",
                "nullable": true,
                "type": {
                 "containsNull": false,
                 "elementType": "integer",
                 "type": "array"
                }
               },
               {
                "metadata": {},
                "name": "values",
                "nullable": true,
                "type": {
                 "containsNull": false,
                 "elementType": "double",
                 "type": "array"
                }
               }
              ],
              "type": "struct"
             },
             "type": "udt"
            }
           },
           {
            "metadata": {
             "ml_attr": {
              "num_vals": 2,
              "type": "nominal"
             }
            },
            "name": "prediction",
            "nullable": false,
            "type": "double"
           }
          ],
          "type": "struct"
         },
         "tableIdentifier": null,
         "typeStr": "pyspark.sql.dataframe.DataFrame"
        },
        {
         "name": "test_new0_results",
         "schema": {
          "fields": [
           {
            "metadata": {},
            "name": "PAY_1",
            "nullable": true,
            "type": "integer"
           },
           {
            "metadata": {},
            "name": "PAY_2",
            "nullable": true,
            "type": "integer"
           },
           {
            "metadata": {},
            "name": "PAY_3",
            "nullable": true,
            "type": "integer"
           },
           {
            "metadata": {},
            "name": "PAY_4",
            "nullable": true,
            "type": "integer"
           },
           {
            "metadata": {},
            "name": "LIMIT_BAL",
            "nullable": true,
            "type": "double"
           },
           {
            "metadata": {},
            "name": "PAY_6",
            "nullable": true,
            "type": "integer"
           },
           {
            "metadata": {},
            "name": "PAY_5",
            "nullable": true,
            "type": "integer"
           },
           {
            "metadata": {},
            "name": "PAY_AMT2",
            "nullable": true,
            "type": "double"
           },
           {
            "metadata": {},
            "name": "PAY_AMT1",
            "nullable": true,
            "type": "double"
           },
           {
            "metadata": {},
            "name": "BILL_AMT1",
            "nullable": true,
            "type": "double"
           },
           {
            "metadata": {},
            "name": "PAY_AMT3",
            "nullable": true,
            "type": "double"
           },
           {
            "metadata": {},
            "name": "BILL_AMT4",
            "nullable": true,
            "type": "double"
           },
           {
            "metadata": {},
            "name": "PAY_AMT6",
            "nullable": true,
            "type": "double"
           },
           {
            "metadata": {},
            "name": "PAY_AMT4",
            "nullable": true,
            "type": "double"
           },
           {
            "metadata": {},
            "name": "BILL_AMT2",
            "nullable": true,
            "type": "double"
           },
           {
            "metadata": {},
            "name": "BILL_AMT3",
            "nullable": true,
            "type": "double"
           },
           {
            "metadata": {},
            "name": "BILL_AMT5",
            "nullable": true,
            "type": "double"
           },
           {
            "metadata": {},
            "name": "BILL_AMT6",
            "nullable": true,
            "type": "double"
           },
           {
            "metadata": {},
            "name": "AGE",
            "nullable": true,
            "type": "integer"
           },
           {
            "metadata": {},
            "name": "PAY_AMT5",
            "nullable": true,
            "type": "double"
           },
           {
            "metadata": {
             "ml_attr": {
              "name": "MARRIAGEIndex",
              "type": "nominal",
              "vals": [
               "2",
               "1"
              ]
             }
            },
            "name": "MARRIAGEIndex",
            "nullable": false,
            "type": "double"
           },
           {
            "metadata": {},
            "name": "Default",
            "nullable": true,
            "type": "integer"
           },
           {
            "metadata": {
             "ml_attr": {
              "attrs": {
               "nominal": [
                {
                 "idx": 20,
                 "name": "MARRIAGEIndex",
                 "vals": [
                  "2",
                  "1"
                 ]
                }
               ],
               "numeric": [
                {
                 "idx": 0,
                 "name": "PAY_1"
                },
                {
                 "idx": 1,
                 "name": "PAY_2"
                },
                {
                 "idx": 2,
                 "name": "PAY_3"
                },
                {
                 "idx": 3,
                 "name": "PAY_4"
                },
                {
                 "idx": 4,
                 "name": "LIMIT_BAL"
                },
                {
                 "idx": 5,
                 "name": "PAY_6"
                },
                {
                 "idx": 6,
                 "name": "PAY_5"
                },
                {
                 "idx": 7,
                 "name": "PAY_AMT2"
                },
                {
                 "idx": 8,
                 "name": "PAY_AMT1"
                },
                {
                 "idx": 9,
                 "name": "BILL_AMT1"
                },
                {
                 "idx": 10,
                 "name": "PAY_AMT3"
                },
                {
                 "idx": 11,
                 "name": "BILL_AMT4"
                },
                {
                 "idx": 12,
                 "name": "PAY_AMT6"
                },
                {
                 "idx": 13,
                 "name": "PAY_AMT4"
                },
                {
                 "idx": 14,
                 "name": "BILL_AMT2"
                },
                {
                 "idx": 15,
                 "name": "BILL_AMT3"
                },
                {
                 "idx": 16,
                 "name": "BILL_AMT5"
                },
                {
                 "idx": 17,
                 "name": "BILL_AMT6"
                },
                {
                 "idx": 18,
                 "name": "AGE"
                },
                {
                 "idx": 19,
                 "name": "PAY_AMT5"
                }
               ]
              },
              "num_attrs": 21
             }
            },
            "name": "features",
            "nullable": true,
            "type": {
             "class": "org.apache.spark.ml.linalg.VectorUDT",
             "pyClass": "pyspark.ml.linalg.VectorUDT",
             "sqlType": {
              "fields": [
               {
                "metadata": {},
                "name": "type",
                "nullable": false,
                "type": "byte"
               },
               {
                "metadata": {},
                "name": "size",
                "nullable": true,
                "type": "integer"
               },
               {
                "metadata": {},
                "name": "indices",
                "nullable": true,
                "type": {
                 "containsNull": false,
                 "elementType": "integer",
                 "type": "array"
                }
               },
               {
                "metadata": {},
                "name": "values",
                "nullable": true,
                "type": {
                 "containsNull": false,
                 "elementType": "double",
                 "type": "array"
                }
               }
              ],
              "type": "struct"
             },
             "type": "udt"
            }
           },
           {
            "metadata": {
             "ml_attr": {
              "num_attrs": 2
             }
            },
            "name": "rawPrediction",
            "nullable": true,
            "type": {
             "class": "org.apache.spark.ml.linalg.VectorUDT",
             "pyClass": "pyspark.ml.linalg.VectorUDT",
             "sqlType": {
              "fields": [
               {
                "metadata": {},
                "name": "type",
                "nullable": false,
                "type": "byte"
               },
               {
                "metadata": {},
                "name": "size",
                "nullable": true,
                "type": "integer"
               },
               {
                "metadata": {},
                "name": "indices",
                "nullable": true,
                "type": {
                 "containsNull": false,
                 "elementType": "integer",
                 "type": "array"
                }
               },
               {
                "metadata": {},
                "name": "values",
                "nullable": true,
                "type": {
                 "containsNull": false,
                 "elementType": "double",
                 "type": "array"
                }
               }
              ],
              "type": "struct"
             },
             "type": "udt"
            }
           },
           {
            "metadata": {
             "ml_attr": {
              "num_attrs": 2
             }
            },
            "name": "probability",
            "nullable": true,
            "type": {
             "class": "org.apache.spark.ml.linalg.VectorUDT",
             "pyClass": "pyspark.ml.linalg.VectorUDT",
             "sqlType": {
              "fields": [
               {
                "metadata": {},
                "name": "type",
                "nullable": false,
                "type": "byte"
               },
               {
                "metadata": {},
                "name": "size",
                "nullable": true,
                "type": "integer"
               },
               {
                "metadata": {},
                "name": "indices",
                "nullable": true,
                "type": {
                 "containsNull": false,
                 "elementType": "integer",
                 "type": "array"
                }
               },
               {
                "metadata": {},
                "name": "values",
                "nullable": true,
                "type": {
                 "containsNull": false,
                 "elementType": "double",
                 "type": "array"
                }
               }
              ],
              "type": "struct"
             },
             "type": "udt"
            }
           },
           {
            "metadata": {
             "ml_attr": {
              "num_vals": 2,
              "type": "nominal"
             }
            },
            "name": "prediction",
            "nullable": false,
            "type": "double"
           }
          ],
          "type": "struct"
         },
         "tableIdentifier": null,
         "typeStr": "pyspark.sql.dataframe.DataFrame"
        }
       ],
       "removedWidgets": [],
       "type": "html"
      }
     },
     "output_type": "display_data"
    }
   ],
   "source": [
    "train_new0_results = cvModel.transform(datatrain)\n",
    "test_new0_results = cvModel.transform(datatest)\n",
    "\n",
    "AUC_test_new0 = AUC_eval.evaluate(test_new0_results)\n",
    "AUC_train_new0 = AUC_eval.evaluate(train_new0_results)\n",
    "\n",
    "Accu_test_new0 = Accu_evaluator.evaluate(test_new0_results, {Accu_evaluator.metricName: \"accuracy\"})\n",
    "Accu_train_new0 = Accu_evaluator.evaluate(train_new0_results, {Accu_evaluator.metricName: \"accuracy\"})"
   ]
  },
  {
   "cell_type": "code",
   "execution_count": 0,
   "metadata": {
    "application/vnd.databricks.v1+cell": {
     "inputWidgets": {},
     "nuid": "e5b3f54b-ede3-48e4-b5e0-20d36ede0745",
     "showTitle": false,
     "title": ""
    }
   },
   "outputs": [
    {
     "data": {
      "text/html": [
       "<style scoped>\n",
       "  .ansiout {\n",
       "    display: block;\n",
       "    unicode-bidi: embed;\n",
       "    white-space: pre-wrap;\n",
       "    word-wrap: break-word;\n",
       "    word-break: break-all;\n",
       "    font-family: \"Source Code Pro\", \"Menlo\", monospace;;\n",
       "    font-size: 13px;\n",
       "    color: #555;\n",
       "    margin-left: 4px;\n",
       "    line-height: 19px;\n",
       "  }\n",
       "</style>\n",
       "<div class=\"ansiout\">Test AUC with Label Encoding &amp; feature selection 0.6836516797232108\n",
       "Train AUC with Label Encoding &amp; feature selection 0.6814271560353627\n",
       "\n",
       "\n",
       "Accuracy: Test with Label Encoding &amp; feature selection 0.6825345071187915\n",
       "Accuracy: Train with Label Encoding &amp; feature selection 0.6816180517336269\n",
       "</div>"
      ]
     },
     "metadata": {
      "application/vnd.databricks.v1+output": {
       "addedWidgets": {},
       "arguments": {},
       "data": "<div class=\"ansiout\">Test AUC with Label Encoding &amp; feature selection 0.6836516797232108\nTrain AUC with Label Encoding &amp; feature selection 0.6814271560353627\n\n\nAccuracy: Test with Label Encoding &amp; feature selection 0.6825345071187915\nAccuracy: Train with Label Encoding &amp; feature selection 0.6816180517336269\n</div>",
       "datasetInfos": [],
       "removedWidgets": [],
       "type": "html"
      }
     },
     "output_type": "display_data"
    }
   ],
   "source": [
    "print(\"Test AUC with Label Encoding & feature selection\", AUC_test_new0)\n",
    "print(\"Train AUC with Label Encoding & feature selection\", AUC_train_new0)\n",
    "print(\"\\n\")\n",
    "print(\"Accuracy: Test with Label Encoding & feature selection\", Accu_test_new0)\n",
    "print(\"Accuracy: Train with Label Encoding & feature selection\", Accu_train_new0)"
   ]
  }
 ],
 "metadata": {
  "application/vnd.databricks.v1+notebook": {
   "dashboards": [],
   "language": "python",
   "notebookName": "Final Project-Credit Card Default Prediction",
   "notebookOrigID": 440590990647715,
   "widgets": {}
  },
  "kernelspec": {
   "display_name": "Python 3",
   "language": "python",
   "name": "python3"
  },
  "language_info": {
   "codemirror_mode": {
    "name": "ipython",
    "version": 3
   },
   "file_extension": ".py",
   "mimetype": "text/x-python",
   "name": "python",
   "nbconvert_exporter": "python",
   "pygments_lexer": "ipython3",
   "version": "3.8.3"
  }
 },
 "nbformat": 4,
 "nbformat_minor": 1
}
