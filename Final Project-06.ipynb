{
 "cells": [
  {
   "cell_type": "markdown",
   "metadata": {
    "application/vnd.databricks.v1+cell": {
     "inputWidgets": {},
     "nuid": "f2ee8f9a-ca3c-4974-8a94-442cced868e2",
     "showTitle": true,
     "title": "3. Next Potential Steps -- try to improve the performance（Trying other algorithms）"
    }
   },
   "source": [
    "Trying other algorithms\n",
    "- Decision tree\n",
    "- Random forest\n",
    "- Gradient boosting tree\n",
    "- SVM"
   ]
  },
  {
   "cell_type": "code",
   "execution_count": 0,
   "metadata": {
    "application/vnd.databricks.v1+cell": {
     "inputWidgets": {},
     "nuid": "2d12f0b7-2ca4-4bfa-ab2e-bae3085f0427",
     "showTitle": true,
     "title": "Decision tree"
    }
   },
   "outputs": [
    {
     "data": {
      "text/html": [
       "<style scoped>\n",
       "  .ansiout {\n",
       "    display: block;\n",
       "    unicode-bidi: embed;\n",
       "    white-space: pre-wrap;\n",
       "    word-wrap: break-word;\n",
       "    word-break: break-all;\n",
       "    font-family: \"Source Code Pro\", \"Menlo\", monospace;;\n",
       "    font-size: 13px;\n",
       "    color: #555;\n",
       "    margin-left: 4px;\n",
       "    line-height: 19px;\n",
       "  }\n",
       "</style>\n",
       "<div class=\"ansiout\"></div>"
      ]
     },
     "metadata": {
      "application/vnd.databricks.v1+output": {
       "addedWidgets": {},
       "arguments": {},
       "data": "<div class=\"ansiout\"></div>",
       "datasetInfos": [],
       "removedWidgets": [],
       "type": "html"
      }
     },
     "output_type": "display_data"
    }
   ],
   "source": [
    "from pyspark.ml.classification import DecisionTreeClassifier"
   ]
  },
  {
   "cell_type": "code",
   "execution_count": 0,
   "metadata": {
    "application/vnd.databricks.v1+cell": {
     "inputWidgets": {},
     "nuid": "7f397e68-c997-4bdf-bdc5-3a895bfa3303",
     "showTitle": false,
     "title": ""
    }
   },
   "outputs": [
    {
     "data": {
      "text/html": [
       "<style scoped>\n",
       "  .ansiout {\n",
       "    display: block;\n",
       "    unicode-bidi: embed;\n",
       "    white-space: pre-wrap;\n",
       "    word-wrap: break-word;\n",
       "    word-break: break-all;\n",
       "    font-family: \"Source Code Pro\", \"Menlo\", monospace;;\n",
       "    font-size: 13px;\n",
       "    color: #555;\n",
       "    margin-left: 4px;\n",
       "    line-height: 19px;\n",
       "  }\n",
       "</style>\n",
       "<div class=\"ansiout\"></div>"
      ]
     },
     "metadata": {
      "application/vnd.databricks.v1+output": {
       "addedWidgets": {},
       "arguments": {},
       "data": "<div class=\"ansiout\"></div>",
       "datasetInfos": [],
       "removedWidgets": [],
       "type": "html"
      }
     },
     "output_type": "display_data"
    }
   ],
   "source": [
    "dt_df = DecisionTreeClassifier(featuresCol='features',labelCol='Default')\n",
    "\n",
    "fit_new1 = dt_df.fit(datatrain)"
   ]
  },
  {
   "cell_type": "code",
   "execution_count": 0,
   "metadata": {
    "application/vnd.databricks.v1+cell": {
     "inputWidgets": {},
     "nuid": "3a4d7114-cd16-4468-8834-fe7c9dd7512f",
     "showTitle": false,
     "title": ""
    }
   },
   "outputs": [
    {
     "data": {
      "text/html": [
       "<style scoped>\n",
       "  .ansiout {\n",
       "    display: block;\n",
       "    unicode-bidi: embed;\n",
       "    white-space: pre-wrap;\n",
       "    word-wrap: break-word;\n",
       "    word-break: break-all;\n",
       "    font-family: \"Source Code Pro\", \"Menlo\", monospace;;\n",
       "    font-size: 13px;\n",
       "    color: #555;\n",
       "    margin-left: 4px;\n",
       "    line-height: 19px;\n",
       "  }\n",
       "</style>\n",
       "<div class=\"ansiout\"></div>"
      ]
     },
     "metadata": {
      "application/vnd.databricks.v1+output": {
       "addedWidgets": {},
       "arguments": {},
       "data": "<div class=\"ansiout\"></div>",
       "datasetInfos": [
        {
         "name": "train_new1_results",
         "schema": {
          "fields": [
           {
            "metadata": {},
            "name": "PAY_1",
            "nullable": true,
            "type": "integer"
           },
           {
            "metadata": {},
            "name": "PAY_2",
            "nullable": true,
            "type": "integer"
           },
           {
            "metadata": {},
            "name": "PAY_3",
            "nullable": true,
            "type": "integer"
           },
           {
            "metadata": {},
            "name": "PAY_4",
            "nullable": true,
            "type": "integer"
           },
           {
            "metadata": {},
            "name": "LIMIT_BAL",
            "nullable": true,
            "type": "double"
           },
           {
            "metadata": {},
            "name": "PAY_6",
            "nullable": true,
            "type": "integer"
           },
           {
            "metadata": {},
            "name": "PAY_5",
            "nullable": true,
            "type": "integer"
           },
           {
            "metadata": {},
            "name": "PAY_AMT2",
            "nullable": true,
            "type": "double"
           },
           {
            "metadata": {},
            "name": "PAY_AMT1",
            "nullable": true,
            "type": "double"
           },
           {
            "metadata": {},
            "name": "BILL_AMT1",
            "nullable": true,
            "type": "double"
           },
           {
            "metadata": {},
            "name": "PAY_AMT3",
            "nullable": true,
            "type": "double"
           },
           {
            "metadata": {},
            "name": "BILL_AMT4",
            "nullable": true,
            "type": "double"
           },
           {
            "metadata": {},
            "name": "PAY_AMT6",
            "nullable": true,
            "type": "double"
           },
           {
            "metadata": {},
            "name": "PAY_AMT4",
            "nullable": true,
            "type": "double"
           },
           {
            "metadata": {},
            "name": "BILL_AMT2",
            "nullable": true,
            "type": "double"
           },
           {
            "metadata": {},
            "name": "BILL_AMT3",
            "nullable": true,
            "type": "double"
           },
           {
            "metadata": {},
            "name": "BILL_AMT5",
            "nullable": true,
            "type": "double"
           },
           {
            "metadata": {},
            "name": "BILL_AMT6",
            "nullable": true,
            "type": "double"
           },
           {
            "metadata": {},
            "name": "AGE",
            "nullable": true,
            "type": "integer"
           },
           {
            "metadata": {},
            "name": "PAY_AMT5",
            "nullable": true,
            "type": "double"
           },
           {
            "metadata": {
             "ml_attr": {
              "name": "MARRIAGEIndex",
              "type": "nominal",
              "vals": [
               "2",
               "1"
              ]
             }
            },
            "name": "MARRIAGEIndex",
            "nullable": false,
            "type": "double"
           },
           {
            "metadata": {},
            "name": "Default",
            "nullable": true,
            "type": "integer"
           },
           {
            "metadata": {
             "ml_attr": {
              "attrs": {
               "nominal": [
                {
                 "idx": 20,
                 "name": "MARRIAGEIndex",
                 "vals": [
                  "2",
                  "1"
                 ]
                }
               ],
               "numeric": [
                {
                 "idx": 0,
                 "name": "PAY_1"
                },
                {
                 "idx": 1,
                 "name": "PAY_2"
                },
                {
                 "idx": 2,
                 "name": "PAY_3"
                },
                {
                 "idx": 3,
                 "name": "PAY_4"
                },
                {
                 "idx": 4,
                 "name": "LIMIT_BAL"
                },
                {
                 "idx": 5,
                 "name": "PAY_6"
                },
                {
                 "idx": 6,
                 "name": "PAY_5"
                },
                {
                 "idx": 7,
                 "name": "PAY_AMT2"
                },
                {
                 "idx": 8,
                 "name": "PAY_AMT1"
                },
                {
                 "idx": 9,
                 "name": "BILL_AMT1"
                },
                {
                 "idx": 10,
                 "name": "PAY_AMT3"
                },
                {
                 "idx": 11,
                 "name": "BILL_AMT4"
                },
                {
                 "idx": 12,
                 "name": "PAY_AMT6"
                },
                {
                 "idx": 13,
                 "name": "PAY_AMT4"
                },
                {
                 "idx": 14,
                 "name": "BILL_AMT2"
                },
                {
                 "idx": 15,
                 "name": "BILL_AMT3"
                },
                {
                 "idx": 16,
                 "name": "BILL_AMT5"
                },
                {
                 "idx": 17,
                 "name": "BILL_AMT6"
                },
                {
                 "idx": 18,
                 "name": "AGE"
                },
                {
                 "idx": 19,
                 "name": "PAY_AMT5"
                }
               ]
              },
              "num_attrs": 21
             }
            },
            "name": "features",
            "nullable": true,
            "type": {
             "class": "org.apache.spark.ml.linalg.VectorUDT",
             "pyClass": "pyspark.ml.linalg.VectorUDT",
             "sqlType": {
              "fields": [
               {
                "metadata": {},
                "name": "type",
                "nullable": false,
                "type": "byte"
               },
               {
                "metadata": {},
                "name": "size",
                "nullable": true,
                "type": "integer"
               },
               {
                "metadata": {},
                "name": "indices",
                "nullable": true,
                "type": {
                 "containsNull": false,
                 "elementType": "integer",
                 "type": "array"
                }
               },
               {
                "metadata": {},
                "name": "values",
                "nullable": true,
                "type": {
                 "containsNull": false,
                 "elementType": "double",
                 "type": "array"
                }
               }
              ],
              "type": "struct"
             },
             "type": "udt"
            }
           },
           {
            "metadata": {
             "ml_attr": {
              "num_attrs": 2
             }
            },
            "name": "rawPrediction",
            "nullable": true,
            "type": {
             "class": "org.apache.spark.ml.linalg.VectorUDT",
             "pyClass": "pyspark.ml.linalg.VectorUDT",
             "sqlType": {
              "fields": [
               {
                "metadata": {},
                "name": "type",
                "nullable": false,
                "type": "byte"
               },
               {
                "metadata": {},
                "name": "size",
                "nullable": true,
                "type": "integer"
               },
               {
                "metadata": {},
                "name": "indices",
                "nullable": true,
                "type": {
                 "containsNull": false,
                 "elementType": "integer",
                 "type": "array"
                }
               },
               {
                "metadata": {},
                "name": "values",
                "nullable": true,
                "type": {
                 "containsNull": false,
                 "elementType": "double",
                 "type": "array"
                }
               }
              ],
              "type": "struct"
             },
             "type": "udt"
            }
           },
           {
            "metadata": {
             "ml_attr": {
              "num_attrs": 2
             }
            },
            "name": "probability",
            "nullable": true,
            "type": {
             "class": "org.apache.spark.ml.linalg.VectorUDT",
             "pyClass": "pyspark.ml.linalg.VectorUDT",
             "sqlType": {
              "fields": [
               {
                "metadata": {},
                "name": "type",
                "nullable": false,
                "type": "byte"
               },
               {
                "metadata": {},
                "name": "size",
                "nullable": true,
                "type": "integer"
               },
               {
                "metadata": {},
                "name": "indices",
                "nullable": true,
                "type": {
                 "containsNull": false,
                 "elementType": "integer",
                 "type": "array"
                }
               },
               {
                "metadata": {},
                "name": "values",
                "nullable": true,
                "type": {
                 "containsNull": false,
                 "elementType": "double",
                 "type": "array"
                }
               }
              ],
              "type": "struct"
             },
             "type": "udt"
            }
           },
           {
            "metadata": {
             "ml_attr": {
              "num_vals": 2,
              "type": "nominal"
             }
            },
            "name": "prediction",
            "nullable": false,
            "type": "double"
           }
          ],
          "type": "struct"
         },
         "tableIdentifier": null,
         "typeStr": "pyspark.sql.dataframe.DataFrame"
        },
        {
         "name": "test_new1_results",
         "schema": {
          "fields": [
           {
            "metadata": {},
            "name": "PAY_1",
            "nullable": true,
            "type": "integer"
           },
           {
            "metadata": {},
            "name": "PAY_2",
            "nullable": true,
            "type": "integer"
           },
           {
            "metadata": {},
            "name": "PAY_3",
            "nullable": true,
            "type": "integer"
           },
           {
            "metadata": {},
            "name": "PAY_4",
            "nullable": true,
            "type": "integer"
           },
           {
            "metadata": {},
            "name": "LIMIT_BAL",
            "nullable": true,
            "type": "double"
           },
           {
            "metadata": {},
            "name": "PAY_6",
            "nullable": true,
            "type": "integer"
           },
           {
            "metadata": {},
            "name": "PAY_5",
            "nullable": true,
            "type": "integer"
           },
           {
            "metadata": {},
            "name": "PAY_AMT2",
            "nullable": true,
            "type": "double"
           },
           {
            "metadata": {},
            "name": "PAY_AMT1",
            "nullable": true,
            "type": "double"
           },
           {
            "metadata": {},
            "name": "BILL_AMT1",
            "nullable": true,
            "type": "double"
           },
           {
            "metadata": {},
            "name": "PAY_AMT3",
            "nullable": true,
            "type": "double"
           },
           {
            "metadata": {},
            "name": "BILL_AMT4",
            "nullable": true,
            "type": "double"
           },
           {
            "metadata": {},
            "name": "PAY_AMT6",
            "nullable": true,
            "type": "double"
           },
           {
            "metadata": {},
            "name": "PAY_AMT4",
            "nullable": true,
            "type": "double"
           },
           {
            "metadata": {},
            "name": "BILL_AMT2",
            "nullable": true,
            "type": "double"
           },
           {
            "metadata": {},
            "name": "BILL_AMT3",
            "nullable": true,
            "type": "double"
           },
           {
            "metadata": {},
            "name": "BILL_AMT5",
            "nullable": true,
            "type": "double"
           },
           {
            "metadata": {},
            "name": "BILL_AMT6",
            "nullable": true,
            "type": "double"
           },
           {
            "metadata": {},
            "name": "AGE",
            "nullable": true,
            "type": "integer"
           },
           {
            "metadata": {},
            "name": "PAY_AMT5",
            "nullable": true,
            "type": "double"
           },
           {
            "metadata": {
             "ml_attr": {
              "name": "MARRIAGEIndex",
              "type": "nominal",
              "vals": [
               "2",
               "1"
              ]
             }
            },
            "name": "MARRIAGEIndex",
            "nullable": false,
            "type": "double"
           },
           {
            "metadata": {},
            "name": "Default",
            "nullable": true,
            "type": "integer"
           },
           {
            "metadata": {
             "ml_attr": {
              "attrs": {
               "nominal": [
                {
                 "idx": 20,
                 "name": "MARRIAGEIndex",
                 "vals": [
                  "2",
                  "1"
                 ]
                }
               ],
               "numeric": [
                {
                 "idx": 0,
                 "name": "PAY_1"
                },
                {
                 "idx": 1,
                 "name": "PAY_2"
                },
                {
                 "idx": 2,
                 "name": "PAY_3"
                },
                {
                 "idx": 3,
                 "name": "PAY_4"
                },
                {
                 "idx": 4,
                 "name": "LIMIT_BAL"
                },
                {
                 "idx": 5,
                 "name": "PAY_6"
                },
                {
                 "idx": 6,
                 "name": "PAY_5"
                },
                {
                 "idx": 7,
                 "name": "PAY_AMT2"
                },
                {
                 "idx": 8,
                 "name": "PAY_AMT1"
                },
                {
                 "idx": 9,
                 "name": "BILL_AMT1"
                },
                {
                 "idx": 10,
                 "name": "PAY_AMT3"
                },
                {
                 "idx": 11,
                 "name": "BILL_AMT4"
                },
                {
                 "idx": 12,
                 "name": "PAY_AMT6"
                },
                {
                 "idx": 13,
                 "name": "PAY_AMT4"
                },
                {
                 "idx": 14,
                 "name": "BILL_AMT2"
                },
                {
                 "idx": 15,
                 "name": "BILL_AMT3"
                },
                {
                 "idx": 16,
                 "name": "BILL_AMT5"
                },
                {
                 "idx": 17,
                 "name": "BILL_AMT6"
                },
                {
                 "idx": 18,
                 "name": "AGE"
                },
                {
                 "idx": 19,
                 "name": "PAY_AMT5"
                }
               ]
              },
              "num_attrs": 21
             }
            },
            "name": "features",
            "nullable": true,
            "type": {
             "class": "org.apache.spark.ml.linalg.VectorUDT",
             "pyClass": "pyspark.ml.linalg.VectorUDT",
             "sqlType": {
              "fields": [
               {
                "metadata": {},
                "name": "type",
                "nullable": false,
                "type": "byte"
               },
               {
                "metadata": {},
                "name": "size",
                "nullable": true,
                "type": "integer"
               },
               {
                "metadata": {},
                "name": "indices",
                "nullable": true,
                "type": {
                 "containsNull": false,
                 "elementType": "integer",
                 "type": "array"
                }
               },
               {
                "metadata": {},
                "name": "values",
                "nullable": true,
                "type": {
                 "containsNull": false,
                 "elementType": "double",
                 "type": "array"
                }
               }
              ],
              "type": "struct"
             },
             "type": "udt"
            }
           },
           {
            "metadata": {
             "ml_attr": {
              "num_attrs": 2
             }
            },
            "name": "rawPrediction",
            "nullable": true,
            "type": {
             "class": "org.apache.spark.ml.linalg.VectorUDT",
             "pyClass": "pyspark.ml.linalg.VectorUDT",
             "sqlType": {
              "fields": [
               {
                "metadata": {},
                "name": "type",
                "nullable": false,
                "type": "byte"
               },
               {
                "metadata": {},
                "name": "size",
                "nullable": true,
                "type": "integer"
               },
               {
                "metadata": {},
                "name": "indices",
                "nullable": true,
                "type": {
                 "containsNull": false,
                 "elementType": "integer",
                 "type": "array"
                }
               },
               {
                "metadata": {},
                "name": "values",
                "nullable": true,
                "type": {
                 "containsNull": false,
                 "elementType": "double",
                 "type": "array"
                }
               }
              ],
              "type": "struct"
             },
             "type": "udt"
            }
           },
           {
            "metadata": {
             "ml_attr": {
              "num_attrs": 2
             }
            },
            "name": "probability",
            "nullable": true,
            "type": {
             "class": "org.apache.spark.ml.linalg.VectorUDT",
             "pyClass": "pyspark.ml.linalg.VectorUDT",
             "sqlType": {
              "fields": [
               {
                "metadata": {},
                "name": "type",
                "nullable": false,
                "type": "byte"
               },
               {
                "metadata": {},
                "name": "size",
                "nullable": true,
                "type": "integer"
               },
               {
                "metadata": {},
                "name": "indices",
                "nullable": true,
                "type": {
                 "containsNull": false,
                 "elementType": "integer",
                 "type": "array"
                }
               },
               {
                "metadata": {},
                "name": "values",
                "nullable": true,
                "type": {
                 "containsNull": false,
                 "elementType": "double",
                 "type": "array"
                }
               }
              ],
              "type": "struct"
             },
             "type": "udt"
            }
           },
           {
            "metadata": {
             "ml_attr": {
              "num_vals": 2,
              "type": "nominal"
             }
            },
            "name": "prediction",
            "nullable": false,
            "type": "double"
           }
          ],
          "type": "struct"
         },
         "tableIdentifier": null,
         "typeStr": "pyspark.sql.dataframe.DataFrame"
        }
       ],
       "removedWidgets": [],
       "type": "html"
      }
     },
     "output_type": "display_data"
    }
   ],
   "source": [
    "train_new1_results = fit_new1.transform(datatrain)\n",
    "test_new1_results = fit_new1.transform(datatest)"
   ]
  },
  {
   "cell_type": "code",
   "execution_count": 0,
   "metadata": {
    "application/vnd.databricks.v1+cell": {
     "inputWidgets": {},
     "nuid": "b2119f61-647a-49da-b9b4-640b3995f933",
     "showTitle": false,
     "title": ""
    }
   },
   "outputs": [
    {
     "data": {
      "text/html": [
       "<style scoped>\n",
       "  .ansiout {\n",
       "    display: block;\n",
       "    unicode-bidi: embed;\n",
       "    white-space: pre-wrap;\n",
       "    word-wrap: break-word;\n",
       "    word-break: break-all;\n",
       "    font-family: \"Source Code Pro\", \"Menlo\", monospace;;\n",
       "    font-size: 13px;\n",
       "    color: #555;\n",
       "    margin-left: 4px;\n",
       "    line-height: 19px;\n",
       "  }\n",
       "</style>\n",
       "<div class=\"ansiout\"></div>"
      ]
     },
     "metadata": {
      "application/vnd.databricks.v1+output": {
       "addedWidgets": {},
       "arguments": {},
       "data": "<div class=\"ansiout\"></div>",
       "datasetInfos": [],
       "removedWidgets": [],
       "type": "html"
      }
     },
     "output_type": "display_data"
    }
   ],
   "source": [
    "AUC_test_new1 = AUC_eval.evaluate(test_new1_results)\n",
    "AUC_train_new1 = AUC_eval.evaluate(train_new1_results)\n",
    "\n",
    "Accu_test_new1 = Accu_evaluator.evaluate(test_new1_results, {Accu_evaluator.metricName: \"accuracy\"})\n",
    "Accu_train_new1 = Accu_evaluator.evaluate(train_new1_results, {Accu_evaluator.metricName: \"accuracy\"})"
   ]
  },
  {
   "cell_type": "code",
   "execution_count": 0,
   "metadata": {
    "application/vnd.databricks.v1+cell": {
     "inputWidgets": {},
     "nuid": "796cf8c7-f025-40fd-8d86-5f8c77d34af8",
     "showTitle": false,
     "title": ""
    }
   },
   "outputs": [
    {
     "data": {
      "text/html": [
       "<style scoped>\n",
       "  .ansiout {\n",
       "    display: block;\n",
       "    unicode-bidi: embed;\n",
       "    white-space: pre-wrap;\n",
       "    word-wrap: break-word;\n",
       "    word-break: break-all;\n",
       "    font-family: \"Source Code Pro\", \"Menlo\", monospace;;\n",
       "    font-size: 13px;\n",
       "    color: #555;\n",
       "    margin-left: 4px;\n",
       "    line-height: 19px;\n",
       "  }\n",
       "</style>\n",
       "<div class=\"ansiout\">Test AUC with Label Encoding &amp; feature selection 0.7091163590130414\n",
       "Train AUC with Label Encoding &amp; feature selection 0.7091098167785622\n",
       "\n",
       "\n",
       "Accuracy: Test with Label Encoding &amp; feature selection 0.7082925768938159\n",
       "Accuracy: Train with Label Encoding &amp; feature selection 0.7092460099064392\n",
       "</div>"
      ]
     },
     "metadata": {
      "application/vnd.databricks.v1+output": {
       "addedWidgets": {},
       "arguments": {},
       "data": "<div class=\"ansiout\">Test AUC with Label Encoding &amp; feature selection 0.7091163590130414\nTrain AUC with Label Encoding &amp; feature selection 0.7091098167785622\n\n\nAccuracy: Test with Label Encoding &amp; feature selection 0.7082925768938159\nAccuracy: Train with Label Encoding &amp; feature selection 0.7092460099064392\n</div>",
       "datasetInfos": [],
       "removedWidgets": [],
       "type": "html"
      }
     },
     "output_type": "display_data"
    }
   ],
   "source": [
    "print(\"Test AUC with Label Encoding & feature selection\", AUC_test_new1)\n",
    "print(\"Train AUC with Label Encoding & feature selection\", AUC_train_new1)\n",
    "print(\"\\n\")\n",
    "print(\"Accuracy: Test with Label Encoding & feature selection\", Accu_test_new1)\n",
    "print(\"Accuracy: Train with Label Encoding & feature selection\", Accu_train_new1)"
   ]
  },
  {
   "cell_type": "code",
   "execution_count": 0,
   "metadata": {
    "application/vnd.databricks.v1+cell": {
     "inputWidgets": {},
     "nuid": "ee0e6137-7e56-456f-b0dc-6c5f48014185",
     "showTitle": true,
     "title": "Random forest"
    }
   },
   "outputs": [
    {
     "data": {
      "text/html": [
       "<style scoped>\n",
       "  .ansiout {\n",
       "    display: block;\n",
       "    unicode-bidi: embed;\n",
       "    white-space: pre-wrap;\n",
       "    word-wrap: break-word;\n",
       "    word-break: break-all;\n",
       "    font-family: \"Source Code Pro\", \"Menlo\", monospace;;\n",
       "    font-size: 13px;\n",
       "    color: #555;\n",
       "    margin-left: 4px;\n",
       "    line-height: 19px;\n",
       "  }\n",
       "</style>\n",
       "<div class=\"ansiout\"></div>"
      ]
     },
     "metadata": {
      "application/vnd.databricks.v1+output": {
       "addedWidgets": {},
       "arguments": {},
       "data": "<div class=\"ansiout\"></div>",
       "datasetInfos": [],
       "removedWidgets": [],
       "type": "html"
      }
     },
     "output_type": "display_data"
    }
   ],
   "source": [
    "from pyspark.ml.classification import RandomForestClassifier"
   ]
  },
  {
   "cell_type": "code",
   "execution_count": 0,
   "metadata": {
    "application/vnd.databricks.v1+cell": {
     "inputWidgets": {},
     "nuid": "53389b63-8c4a-48b0-ad03-0c11c34ca875",
     "showTitle": false,
     "title": ""
    }
   },
   "outputs": [
    {
     "data": {
      "text/html": [
       "<style scoped>\n",
       "  .ansiout {\n",
       "    display: block;\n",
       "    unicode-bidi: embed;\n",
       "    white-space: pre-wrap;\n",
       "    word-wrap: break-word;\n",
       "    word-break: break-all;\n",
       "    font-family: \"Source Code Pro\", \"Menlo\", monospace;;\n",
       "    font-size: 13px;\n",
       "    color: #555;\n",
       "    margin-left: 4px;\n",
       "    line-height: 19px;\n",
       "  }\n",
       "</style>\n",
       "<div class=\"ansiout\"></div>"
      ]
     },
     "metadata": {
      "application/vnd.databricks.v1+output": {
       "addedWidgets": {},
       "arguments": {},
       "data": "<div class=\"ansiout\"></div>",
       "datasetInfos": [],
       "removedWidgets": [],
       "type": "html"
      }
     },
     "output_type": "display_data"
    }
   ],
   "source": [
    "rf_df = RandomForestClassifier(featuresCol='features',labelCol='Default')\n",
    "fit_new2 = rf_df.fit(datatrain)"
   ]
  },
  {
   "cell_type": "code",
   "execution_count": 0,
   "metadata": {
    "application/vnd.databricks.v1+cell": {
     "inputWidgets": {},
     "nuid": "612a6c40-b906-426e-8572-9ce67b97d6df",
     "showTitle": false,
     "title": ""
    }
   },
   "outputs": [
    {
     "data": {
      "text/html": [
       "<style scoped>\n",
       "  .ansiout {\n",
       "    display: block;\n",
       "    unicode-bidi: embed;\n",
       "    white-space: pre-wrap;\n",
       "    word-wrap: break-word;\n",
       "    word-break: break-all;\n",
       "    font-family: \"Source Code Pro\", \"Menlo\", monospace;;\n",
       "    font-size: 13px;\n",
       "    color: #555;\n",
       "    margin-left: 4px;\n",
       "    line-height: 19px;\n",
       "  }\n",
       "</style>\n",
       "<div class=\"ansiout\"></div>"
      ]
     },
     "metadata": {
      "application/vnd.databricks.v1+output": {
       "addedWidgets": {},
       "arguments": {},
       "data": "<div class=\"ansiout\"></div>",
       "datasetInfos": [
        {
         "name": "train_new2_results",
         "schema": {
          "fields": [
           {
            "metadata": {},
            "name": "PAY_1",
            "nullable": true,
            "type": "integer"
           },
           {
            "metadata": {},
            "name": "PAY_2",
            "nullable": true,
            "type": "integer"
           },
           {
            "metadata": {},
            "name": "PAY_3",
            "nullable": true,
            "type": "integer"
           },
           {
            "metadata": {},
            "name": "PAY_4",
            "nullable": true,
            "type": "integer"
           },
           {
            "metadata": {},
            "name": "LIMIT_BAL",
            "nullable": true,
            "type": "double"
           },
           {
            "metadata": {},
            "name": "PAY_6",
            "nullable": true,
            "type": "integer"
           },
           {
            "metadata": {},
            "name": "PAY_5",
            "nullable": true,
            "type": "integer"
           },
           {
            "metadata": {},
            "name": "PAY_AMT2",
            "nullable": true,
            "type": "double"
           },
           {
            "metadata": {},
            "name": "PAY_AMT1",
            "nullable": true,
            "type": "double"
           },
           {
            "metadata": {},
            "name": "BILL_AMT1",
            "nullable": true,
            "type": "double"
           },
           {
            "metadata": {},
            "name": "PAY_AMT3",
            "nullable": true,
            "type": "double"
           },
           {
            "metadata": {},
            "name": "BILL_AMT4",
            "nullable": true,
            "type": "double"
           },
           {
            "metadata": {},
            "name": "PAY_AMT6",
            "nullable": true,
            "type": "double"
           },
           {
            "metadata": {},
            "name": "PAY_AMT4",
            "nullable": true,
            "type": "double"
           },
           {
            "metadata": {},
            "name": "BILL_AMT2",
            "nullable": true,
            "type": "double"
           },
           {
            "metadata": {},
            "name": "BILL_AMT3",
            "nullable": true,
            "type": "double"
           },
           {
            "metadata": {},
            "name": "BILL_AMT5",
            "nullable": true,
            "type": "double"
           },
           {
            "metadata": {},
            "name": "BILL_AMT6",
            "nullable": true,
            "type": "double"
           },
           {
            "metadata": {},
            "name": "AGE",
            "nullable": true,
            "type": "integer"
           },
           {
            "metadata": {},
            "name": "PAY_AMT5",
            "nullable": true,
            "type": "double"
           },
           {
            "metadata": {
             "ml_attr": {
              "name": "MARRIAGEIndex",
              "type": "nominal",
              "vals": [
               "2",
               "1"
              ]
             }
            },
            "name": "MARRIAGEIndex",
            "nullable": false,
            "type": "double"
           },
           {
            "metadata": {},
            "name": "Default",
            "nullable": true,
            "type": "integer"
           },
           {
            "metadata": {
             "ml_attr": {
              "attrs": {
               "nominal": [
                {
                 "idx": 20,
                 "name": "MARRIAGEIndex",
                 "vals": [
                  "2",
                  "1"
                 ]
                }
               ],
               "numeric": [
                {
                 "idx": 0,
                 "name": "PAY_1"
                },
                {
                 "idx": 1,
                 "name": "PAY_2"
                },
                {
                 "idx": 2,
                 "name": "PAY_3"
                },
                {
                 "idx": 3,
                 "name": "PAY_4"
                },
                {
                 "idx": 4,
                 "name": "LIMIT_BAL"
                },
                {
                 "idx": 5,
                 "name": "PAY_6"
                },
                {
                 "idx": 6,
                 "name": "PAY_5"
                },
                {
                 "idx": 7,
                 "name": "PAY_AMT2"
                },
                {
                 "idx": 8,
                 "name": "PAY_AMT1"
                },
                {
                 "idx": 9,
                 "name": "BILL_AMT1"
                },
                {
                 "idx": 10,
                 "name": "PAY_AMT3"
                },
                {
                 "idx": 11,
                 "name": "BILL_AMT4"
                },
                {
                 "idx": 12,
                 "name": "PAY_AMT6"
                },
                {
                 "idx": 13,
                 "name": "PAY_AMT4"
                },
                {
                 "idx": 14,
                 "name": "BILL_AMT2"
                },
                {
                 "idx": 15,
                 "name": "BILL_AMT3"
                },
                {
                 "idx": 16,
                 "name": "BILL_AMT5"
                },
                {
                 "idx": 17,
                 "name": "BILL_AMT6"
                },
                {
                 "idx": 18,
                 "name": "AGE"
                },
                {
                 "idx": 19,
                 "name": "PAY_AMT5"
                }
               ]
              },
              "num_attrs": 21
             }
            },
            "name": "features",
            "nullable": true,
            "type": {
             "class": "org.apache.spark.ml.linalg.VectorUDT",
             "pyClass": "pyspark.ml.linalg.VectorUDT",
             "sqlType": {
              "fields": [
               {
                "metadata": {},
                "name": "type",
                "nullable": false,
                "type": "byte"
               },
               {
                "metadata": {},
                "name": "size",
                "nullable": true,
                "type": "integer"
               },
               {
                "metadata": {},
                "name": "indices",
                "nullable": true,
                "type": {
                 "containsNull": false,
                 "elementType": "integer",
                 "type": "array"
                }
               },
               {
                "metadata": {},
                "name": "values",
                "nullable": true,
                "type": {
                 "containsNull": false,
                 "elementType": "double",
                 "type": "array"
                }
               }
              ],
              "type": "struct"
             },
             "type": "udt"
            }
           },
           {
            "metadata": {
             "ml_attr": {
              "num_attrs": 2
             }
            },
            "name": "rawPrediction",
            "nullable": true,
            "type": {
             "class": "org.apache.spark.ml.linalg.VectorUDT",
             "pyClass": "pyspark.ml.linalg.VectorUDT",
             "sqlType": {
              "fields": [
               {
                "metadata": {},
                "name": "type",
                "nullable": false,
                "type": "byte"
               },
               {
                "metadata": {},
                "name": "size",
                "nullable": true,
                "type": "integer"
               },
               {
                "metadata": {},
                "name": "indices",
                "nullable": true,
                "type": {
                 "containsNull": false,
                 "elementType": "integer",
                 "type": "array"
                }
               },
               {
                "metadata": {},
                "name": "values",
                "nullable": true,
                "type": {
                 "containsNull": false,
                 "elementType": "double",
                 "type": "array"
                }
               }
              ],
              "type": "struct"
             },
             "type": "udt"
            }
           },
           {
            "metadata": {
             "ml_attr": {
              "num_attrs": 2
             }
            },
            "name": "probability",
            "nullable": true,
            "type": {
             "class": "org.apache.spark.ml.linalg.VectorUDT",
             "pyClass": "pyspark.ml.linalg.VectorUDT",
             "sqlType": {
              "fields": [
               {
                "metadata": {},
                "name": "type",
                "nullable": false,
                "type": "byte"
               },
               {
                "metadata": {},
                "name": "size",
                "nullable": true,
                "type": "integer"
               },
               {
                "metadata": {},
                "name": "indices",
                "nullable": true,
                "type": {
                 "containsNull": false,
                 "elementType": "integer",
                 "type": "array"
                }
               },
               {
                "metadata": {},
                "name": "values",
                "nullable": true,
                "type": {
                 "containsNull": false,
                 "elementType": "double",
                 "type": "array"
                }
               }
              ],
              "type": "struct"
             },
             "type": "udt"
            }
           },
           {
            "metadata": {
             "ml_attr": {
              "num_vals": 2,
              "type": "nominal"
             }
            },
            "name": "prediction",
            "nullable": false,
            "type": "double"
           }
          ],
          "type": "struct"
         },
         "tableIdentifier": null,
         "typeStr": "pyspark.sql.dataframe.DataFrame"
        },
        {
         "name": "test_new2_results",
         "schema": {
          "fields": [
           {
            "metadata": {},
            "name": "PAY_1",
            "nullable": true,
            "type": "integer"
           },
           {
            "metadata": {},
            "name": "PAY_2",
            "nullable": true,
            "type": "integer"
           },
           {
            "metadata": {},
            "name": "PAY_3",
            "nullable": true,
            "type": "integer"
           },
           {
            "metadata": {},
            "name": "PAY_4",
            "nullable": true,
            "type": "integer"
           },
           {
            "metadata": {},
            "name": "LIMIT_BAL",
            "nullable": true,
            "type": "double"
           },
           {
            "metadata": {},
            "name": "PAY_6",
            "nullable": true,
            "type": "integer"
           },
           {
            "metadata": {},
            "name": "PAY_5",
            "nullable": true,
            "type": "integer"
           },
           {
            "metadata": {},
            "name": "PAY_AMT2",
            "nullable": true,
            "type": "double"
           },
           {
            "metadata": {},
            "name": "PAY_AMT1",
            "nullable": true,
            "type": "double"
           },
           {
            "metadata": {},
            "name": "BILL_AMT1",
            "nullable": true,
            "type": "double"
           },
           {
            "metadata": {},
            "name": "PAY_AMT3",
            "nullable": true,
            "type": "double"
           },
           {
            "metadata": {},
            "name": "BILL_AMT4",
            "nullable": true,
            "type": "double"
           },
           {
            "metadata": {},
            "name": "PAY_AMT6",
            "nullable": true,
            "type": "double"
           },
           {
            "metadata": {},
            "name": "PAY_AMT4",
            "nullable": true,
            "type": "double"
           },
           {
            "metadata": {},
            "name": "BILL_AMT2",
            "nullable": true,
            "type": "double"
           },
           {
            "metadata": {},
            "name": "BILL_AMT3",
            "nullable": true,
            "type": "double"
           },
           {
            "metadata": {},
            "name": "BILL_AMT5",
            "nullable": true,
            "type": "double"
           },
           {
            "metadata": {},
            "name": "BILL_AMT6",
            "nullable": true,
            "type": "double"
           },
           {
            "metadata": {},
            "name": "AGE",
            "nullable": true,
            "type": "integer"
           },
           {
            "metadata": {},
            "name": "PAY_AMT5",
            "nullable": true,
            "type": "double"
           },
           {
            "metadata": {
             "ml_attr": {
              "name": "MARRIAGEIndex",
              "type": "nominal",
              "vals": [
               "2",
               "1"
              ]
             }
            },
            "name": "MARRIAGEIndex",
            "nullable": false,
            "type": "double"
           },
           {
            "metadata": {},
            "name": "Default",
            "nullable": true,
            "type": "integer"
           },
           {
            "metadata": {
             "ml_attr": {
              "attrs": {
               "nominal": [
                {
                 "idx": 20,
                 "name": "MARRIAGEIndex",
                 "vals": [
                  "2",
                  "1"
                 ]
                }
               ],
               "numeric": [
                {
                 "idx": 0,
                 "name": "PAY_1"
                },
                {
                 "idx": 1,
                 "name": "PAY_2"
                },
                {
                 "idx": 2,
                 "name": "PAY_3"
                },
                {
                 "idx": 3,
                 "name": "PAY_4"
                },
                {
                 "idx": 4,
                 "name": "LIMIT_BAL"
                },
                {
                 "idx": 5,
                 "name": "PAY_6"
                },
                {
                 "idx": 6,
                 "name": "PAY_5"
                },
                {
                 "idx": 7,
                 "name": "PAY_AMT2"
                },
                {
                 "idx": 8,
                 "name": "PAY_AMT1"
                },
                {
                 "idx": 9,
                 "name": "BILL_AMT1"
                },
                {
                 "idx": 10,
                 "name": "PAY_AMT3"
                },
                {
                 "idx": 11,
                 "name": "BILL_AMT4"
                },
                {
                 "idx": 12,
                 "name": "PAY_AMT6"
                },
                {
                 "idx": 13,
                 "name": "PAY_AMT4"
                },
                {
                 "idx": 14,
                 "name": "BILL_AMT2"
                },
                {
                 "idx": 15,
                 "name": "BILL_AMT3"
                },
                {
                 "idx": 16,
                 "name": "BILL_AMT5"
                },
                {
                 "idx": 17,
                 "name": "BILL_AMT6"
                },
                {
                 "idx": 18,
                 "name": "AGE"
                },
                {
                 "idx": 19,
                 "name": "PAY_AMT5"
                }
               ]
              },
              "num_attrs": 21
             }
            },
            "name": "features",
            "nullable": true,
            "type": {
             "class": "org.apache.spark.ml.linalg.VectorUDT",
             "pyClass": "pyspark.ml.linalg.VectorUDT",
             "sqlType": {
              "fields": [
               {
                "metadata": {},
                "name": "type",
                "nullable": false,
                "type": "byte"
               },
               {
                "metadata": {},
                "name": "size",
                "nullable": true,
                "type": "integer"
               },
               {
                "metadata": {},
                "name": "indices",
                "nullable": true,
                "type": {
                 "containsNull": false,
                 "elementType": "integer",
                 "type": "array"
                }
               },
               {
                "metadata": {},
                "name": "values",
                "nullable": true,
                "type": {
                 "containsNull": false,
                 "elementType": "double",
                 "type": "array"
                }
               }
              ],
              "type": "struct"
             },
             "type": "udt"
            }
           },
           {
            "metadata": {
             "ml_attr": {
              "num_attrs": 2
             }
            },
            "name": "rawPrediction",
            "nullable": true,
            "type": {
             "class": "org.apache.spark.ml.linalg.VectorUDT",
             "pyClass": "pyspark.ml.linalg.VectorUDT",
             "sqlType": {
              "fields": [
               {
                "metadata": {},
                "name": "type",
                "nullable": false,
                "type": "byte"
               },
               {
                "metadata": {},
                "name": "size",
                "nullable": true,
                "type": "integer"
               },
               {
                "metadata": {},
                "name": "indices",
                "nullable": true,
                "type": {
                 "containsNull": false,
                 "elementType": "integer",
                 "type": "array"
                }
               },
               {
                "metadata": {},
                "name": "values",
                "nullable": true,
                "type": {
                 "containsNull": false,
                 "elementType": "double",
                 "type": "array"
                }
               }
              ],
              "type": "struct"
             },
             "type": "udt"
            }
           },
           {
            "metadata": {
             "ml_attr": {
              "num_attrs": 2
             }
            },
            "name": "probability",
            "nullable": true,
            "type": {
             "class": "org.apache.spark.ml.linalg.VectorUDT",
             "pyClass": "pyspark.ml.linalg.VectorUDT",
             "sqlType": {
              "fields": [
               {
                "metadata": {},
                "name": "type",
                "nullable": false,
                "type": "byte"
               },
               {
                "metadata": {},
                "name": "size",
                "nullable": true,
                "type": "integer"
               },
               {
                "metadata": {},
                "name": "indices",
                "nullable": true,
                "type": {
                 "containsNull": false,
                 "elementType": "integer",
                 "type": "array"
                }
               },
               {
                "metadata": {},
                "name": "values",
                "nullable": true,
                "type": {
                 "containsNull": false,
                 "elementType": "double",
                 "type": "array"
                }
               }
              ],
              "type": "struct"
             },
             "type": "udt"
            }
           },
           {
            "metadata": {
             "ml_attr": {
              "num_vals": 2,
              "type": "nominal"
             }
            },
            "name": "prediction",
            "nullable": false,
            "type": "double"
           }
          ],
          "type": "struct"
         },
         "tableIdentifier": null,
         "typeStr": "pyspark.sql.dataframe.DataFrame"
        }
       ],
       "removedWidgets": [],
       "type": "html"
      }
     },
     "output_type": "display_data"
    }
   ],
   "source": [
    "train_new2_results = fit_new2.transform(datatrain)\n",
    "test_new2_results = fit_new2.transform(datatest)"
   ]
  },
  {
   "cell_type": "code",
   "execution_count": 0,
   "metadata": {
    "application/vnd.databricks.v1+cell": {
     "inputWidgets": {},
     "nuid": "7c13a566-89bb-4372-85af-62a61959c17f",
     "showTitle": false,
     "title": ""
    }
   },
   "outputs": [
    {
     "data": {
      "text/html": [
       "<style scoped>\n",
       "  .ansiout {\n",
       "    display: block;\n",
       "    unicode-bidi: embed;\n",
       "    white-space: pre-wrap;\n",
       "    word-wrap: break-word;\n",
       "    word-break: break-all;\n",
       "    font-family: \"Source Code Pro\", \"Menlo\", monospace;;\n",
       "    font-size: 13px;\n",
       "    color: #555;\n",
       "    margin-left: 4px;\n",
       "    line-height: 19px;\n",
       "  }\n",
       "</style>\n",
       "<div class=\"ansiout\"></div>"
      ]
     },
     "metadata": {
      "application/vnd.databricks.v1+output": {
       "addedWidgets": {},
       "arguments": {},
       "data": "<div class=\"ansiout\"></div>",
       "datasetInfos": [],
       "removedWidgets": [],
       "type": "html"
      }
     },
     "output_type": "display_data"
    }
   ],
   "source": [
    "AUC_test_new2 = AUC_eval.evaluate(test_new2_results)\n",
    "AUC_train_new2 = AUC_eval.evaluate(train_new2_results)\n",
    "\n",
    "Accu_test_new2 = Accu_evaluator.evaluate(test_new2_results, {Accu_evaluator.metricName: \"accuracy\"})\n",
    "Accu_train_new2 = Accu_evaluator.evaluate(train_new2_results, {Accu_evaluator.metricName: \"accuracy\"})"
   ]
  },
  {
   "cell_type": "code",
   "execution_count": 0,
   "metadata": {
    "application/vnd.databricks.v1+cell": {
     "inputWidgets": {},
     "nuid": "eb5f4a08-7fa4-4230-b72f-cfd25ba956de",
     "showTitle": false,
     "title": ""
    }
   },
   "outputs": [
    {
     "data": {
      "text/html": [
       "<style scoped>\n",
       "  .ansiout {\n",
       "    display: block;\n",
       "    unicode-bidi: embed;\n",
       "    white-space: pre-wrap;\n",
       "    word-wrap: break-word;\n",
       "    word-break: break-all;\n",
       "    font-family: \"Source Code Pro\", \"Menlo\", monospace;;\n",
       "    font-size: 13px;\n",
       "    color: #555;\n",
       "    margin-left: 4px;\n",
       "    line-height: 19px;\n",
       "  }\n",
       "</style>\n",
       "<div class=\"ansiout\">Test AUC with Label Encoding &amp; feature selection 0.7177751829960568\n",
       "Train AUC with Label Encoding &amp; feature selection 0.716640825419494\n",
       "\n",
       "\n",
       "Accuracy: Test with Label Encoding &amp; feature selection 0.7170959678295837\n",
       "Accuracy: Train with Label Encoding &amp; feature selection 0.716758392955421\n",
       "</div>"
      ]
     },
     "metadata": {
      "application/vnd.databricks.v1+output": {
       "addedWidgets": {},
       "arguments": {},
       "data": "<div class=\"ansiout\">Test AUC with Label Encoding &amp; feature selection 0.7177751829960568\nTrain AUC with Label Encoding &amp; feature selection 0.716640825419494\n\n\nAccuracy: Test with Label Encoding &amp; feature selection 0.7170959678295837\nAccuracy: Train with Label Encoding &amp; feature selection 0.716758392955421\n</div>",
       "datasetInfos": [],
       "removedWidgets": [],
       "type": "html"
      }
     },
     "output_type": "display_data"
    }
   ],
   "source": [
    "print(\"Test AUC with Label Encoding & feature selection\", AUC_test_new2)\n",
    "print(\"Train AUC with Label Encoding & feature selection\", AUC_train_new2)\n",
    "print(\"\\n\")\n",
    "print(\"Accuracy: Test with Label Encoding & feature selection\", Accu_test_new2)\n",
    "print(\"Accuracy: Train with Label Encoding & feature selection\", Accu_train_new2)"
   ]
  },
  {
   "cell_type": "code",
   "execution_count": 0,
   "metadata": {
    "application/vnd.databricks.v1+cell": {
     "inputWidgets": {},
     "nuid": "3653419e-8713-499a-9b89-ce7032040f49",
     "showTitle": true,
     "title": "Gradient boosting tree"
    }
   },
   "outputs": [
    {
     "data": {
      "text/html": [
       "<style scoped>\n",
       "  .ansiout {\n",
       "    display: block;\n",
       "    unicode-bidi: embed;\n",
       "    white-space: pre-wrap;\n",
       "    word-wrap: break-word;\n",
       "    word-break: break-all;\n",
       "    font-family: \"Source Code Pro\", \"Menlo\", monospace;;\n",
       "    font-size: 13px;\n",
       "    color: #555;\n",
       "    margin-left: 4px;\n",
       "    line-height: 19px;\n",
       "  }\n",
       "</style>\n",
       "<div class=\"ansiout\"></div>"
      ]
     },
     "metadata": {
      "application/vnd.databricks.v1+output": {
       "addedWidgets": {},
       "arguments": {},
       "data": "<div class=\"ansiout\"></div>",
       "datasetInfos": [],
       "removedWidgets": [],
       "type": "html"
      }
     },
     "output_type": "display_data"
    }
   ],
   "source": [
    "from pyspark.ml.classification import GBTClassifier"
   ]
  },
  {
   "cell_type": "code",
   "execution_count": 0,
   "metadata": {
    "application/vnd.databricks.v1+cell": {
     "inputWidgets": {},
     "nuid": "a8378ac9-bd03-4d46-b119-79e0c133c264",
     "showTitle": false,
     "title": ""
    }
   },
   "outputs": [
    {
     "data": {
      "text/html": [
       "<style scoped>\n",
       "  .ansiout {\n",
       "    display: block;\n",
       "    unicode-bidi: embed;\n",
       "    white-space: pre-wrap;\n",
       "    word-wrap: break-word;\n",
       "    word-break: break-all;\n",
       "    font-family: \"Source Code Pro\", \"Menlo\", monospace;;\n",
       "    font-size: 13px;\n",
       "    color: #555;\n",
       "    margin-left: 4px;\n",
       "    line-height: 19px;\n",
       "  }\n",
       "</style>\n",
       "<div class=\"ansiout\"></div>"
      ]
     },
     "metadata": {
      "application/vnd.databricks.v1+output": {
       "addedWidgets": {},
       "arguments": {},
       "data": "<div class=\"ansiout\"></div>",
       "datasetInfos": [],
       "removedWidgets": [],
       "type": "html"
      }
     },
     "output_type": "display_data"
    }
   ],
   "source": [
    "gbt_df = GBTClassifier(featuresCol='features',labelCol='Default')\n",
    "fit_new3 = gbt_df.fit(datatrain)"
   ]
  },
  {
   "cell_type": "code",
   "execution_count": 0,
   "metadata": {
    "application/vnd.databricks.v1+cell": {
     "inputWidgets": {},
     "nuid": "df1b9f17-2bf6-4fda-9a34-37e724d07589",
     "showTitle": false,
     "title": ""
    }
   },
   "outputs": [
    {
     "data": {
      "text/html": [
       "<style scoped>\n",
       "  .ansiout {\n",
       "    display: block;\n",
       "    unicode-bidi: embed;\n",
       "    white-space: pre-wrap;\n",
       "    word-wrap: break-word;\n",
       "    word-break: break-all;\n",
       "    font-family: \"Source Code Pro\", \"Menlo\", monospace;;\n",
       "    font-size: 13px;\n",
       "    color: #555;\n",
       "    margin-left: 4px;\n",
       "    line-height: 19px;\n",
       "  }\n",
       "</style>\n",
       "<div class=\"ansiout\"></div>"
      ]
     },
     "metadata": {
      "application/vnd.databricks.v1+output": {
       "addedWidgets": {},
       "arguments": {},
       "data": "<div class=\"ansiout\"></div>",
       "datasetInfos": [
        {
         "name": "train_new3_results",
         "schema": {
          "fields": [
           {
            "metadata": {},
            "name": "PAY_1",
            "nullable": true,
            "type": "integer"
           },
           {
            "metadata": {},
            "name": "PAY_2",
            "nullable": true,
            "type": "integer"
           },
           {
            "metadata": {},
            "name": "PAY_3",
            "nullable": true,
            "type": "integer"
           },
           {
            "metadata": {},
            "name": "PAY_4",
            "nullable": true,
            "type": "integer"
           },
           {
            "metadata": {},
            "name": "LIMIT_BAL",
            "nullable": true,
            "type": "double"
           },
           {
            "metadata": {},
            "name": "PAY_6",
            "nullable": true,
            "type": "integer"
           },
           {
            "metadata": {},
            "name": "PAY_5",
            "nullable": true,
            "type": "integer"
           },
           {
            "metadata": {},
            "name": "PAY_AMT2",
            "nullable": true,
            "type": "double"
           },
           {
            "metadata": {},
            "name": "PAY_AMT1",
            "nullable": true,
            "type": "double"
           },
           {
            "metadata": {},
            "name": "BILL_AMT1",
            "nullable": true,
            "type": "double"
           },
           {
            "metadata": {},
            "name": "PAY_AMT3",
            "nullable": true,
            "type": "double"
           },
           {
            "metadata": {},
            "name": "BILL_AMT4",
            "nullable": true,
            "type": "double"
           },
           {
            "metadata": {},
            "name": "PAY_AMT6",
            "nullable": true,
            "type": "double"
           },
           {
            "metadata": {},
            "name": "PAY_AMT4",
            "nullable": true,
            "type": "double"
           },
           {
            "metadata": {},
            "name": "BILL_AMT2",
            "nullable": true,
            "type": "double"
           },
           {
            "metadata": {},
            "name": "BILL_AMT3",
            "nullable": true,
            "type": "double"
           },
           {
            "metadata": {},
            "name": "BILL_AMT5",
            "nullable": true,
            "type": "double"
           },
           {
            "metadata": {},
            "name": "BILL_AMT6",
            "nullable": true,
            "type": "double"
           },
           {
            "metadata": {},
            "name": "AGE",
            "nullable": true,
            "type": "integer"
           },
           {
            "metadata": {},
            "name": "PAY_AMT5",
            "nullable": true,
            "type": "double"
           },
           {
            "metadata": {
             "ml_attr": {
              "name": "MARRIAGEIndex",
              "type": "nominal",
              "vals": [
               "2",
               "1"
              ]
             }
            },
            "name": "MARRIAGEIndex",
            "nullable": false,
            "type": "double"
           },
           {
            "metadata": {},
            "name": "Default",
            "nullable": true,
            "type": "integer"
           },
           {
            "metadata": {
             "ml_attr": {
              "attrs": {
               "nominal": [
                {
                 "idx": 20,
                 "name": "MARRIAGEIndex",
                 "vals": [
                  "2",
                  "1"
                 ]
                }
               ],
               "numeric": [
                {
                 "idx": 0,
                 "name": "PAY_1"
                },
                {
                 "idx": 1,
                 "name": "PAY_2"
                },
                {
                 "idx": 2,
                 "name": "PAY_3"
                },
                {
                 "idx": 3,
                 "name": "PAY_4"
                },
                {
                 "idx": 4,
                 "name": "LIMIT_BAL"
                },
                {
                 "idx": 5,
                 "name": "PAY_6"
                },
                {
                 "idx": 6,
                 "name": "PAY_5"
                },
                {
                 "idx": 7,
                 "name": "PAY_AMT2"
                },
                {
                 "idx": 8,
                 "name": "PAY_AMT1"
                },
                {
                 "idx": 9,
                 "name": "BILL_AMT1"
                },
                {
                 "idx": 10,
                 "name": "PAY_AMT3"
                },
                {
                 "idx": 11,
                 "name": "BILL_AMT4"
                },
                {
                 "idx": 12,
                 "name": "PAY_AMT6"
                },
                {
                 "idx": 13,
                 "name": "PAY_AMT4"
                },
                {
                 "idx": 14,
                 "name": "BILL_AMT2"
                },
                {
                 "idx": 15,
                 "name": "BILL_AMT3"
                },
                {
                 "idx": 16,
                 "name": "BILL_AMT5"
                },
                {
                 "idx": 17,
                 "name": "BILL_AMT6"
                },
                {
                 "idx": 18,
                 "name": "AGE"
                },
                {
                 "idx": 19,
                 "name": "PAY_AMT5"
                }
               ]
              },
              "num_attrs": 21
             }
            },
            "name": "features",
            "nullable": true,
            "type": {
             "class": "org.apache.spark.ml.linalg.VectorUDT",
             "pyClass": "pyspark.ml.linalg.VectorUDT",
             "sqlType": {
              "fields": [
               {
                "metadata": {},
                "name": "type",
                "nullable": false,
                "type": "byte"
               },
               {
                "metadata": {},
                "name": "size",
                "nullable": true,
                "type": "integer"
               },
               {
                "metadata": {},
                "name": "indices",
                "nullable": true,
                "type": {
                 "containsNull": false,
                 "elementType": "integer",
                 "type": "array"
                }
               },
               {
                "metadata": {},
                "name": "values",
                "nullable": true,
                "type": {
                 "containsNull": false,
                 "elementType": "double",
                 "type": "array"
                }
               }
              ],
              "type": "struct"
             },
             "type": "udt"
            }
           },
           {
            "metadata": {
             "ml_attr": {
              "num_attrs": 2
             }
            },
            "name": "rawPrediction",
            "nullable": true,
            "type": {
             "class": "org.apache.spark.ml.linalg.VectorUDT",
             "pyClass": "pyspark.ml.linalg.VectorUDT",
             "sqlType": {
              "fields": [
               {
                "metadata": {},
                "name": "type",
                "nullable": false,
                "type": "byte"
               },
               {
                "metadata": {},
                "name": "size",
                "nullable": true,
                "type": "integer"
               },
               {
                "metadata": {},
                "name": "indices",
                "nullable": true,
                "type": {
                 "containsNull": false,
                 "elementType": "integer",
                 "type": "array"
                }
               },
               {
                "metadata": {},
                "name": "values",
                "nullable": true,
                "type": {
                 "containsNull": false,
                 "elementType": "double",
                 "type": "array"
                }
               }
              ],
              "type": "struct"
             },
             "type": "udt"
            }
           },
           {
            "metadata": {
             "ml_attr": {
              "num_attrs": 2
             }
            },
            "name": "probability",
            "nullable": true,
            "type": {
             "class": "org.apache.spark.ml.linalg.VectorUDT",
             "pyClass": "pyspark.ml.linalg.VectorUDT",
             "sqlType": {
              "fields": [
               {
                "metadata": {},
                "name": "type",
                "nullable": false,
                "type": "byte"
               },
               {
                "metadata": {},
                "name": "size",
                "nullable": true,
                "type": "integer"
               },
               {
                "metadata": {},
                "name": "indices",
                "nullable": true,
                "type": {
                 "containsNull": false,
                 "elementType": "integer",
                 "type": "array"
                }
               },
               {
                "metadata": {},
                "name": "values",
                "nullable": true,
                "type": {
                 "containsNull": false,
                 "elementType": "double",
                 "type": "array"
                }
               }
              ],
              "type": "struct"
             },
             "type": "udt"
            }
           },
           {
            "metadata": {
             "ml_attr": {
              "num_vals": 2,
              "type": "nominal"
             }
            },
            "name": "prediction",
            "nullable": false,
            "type": "double"
           }
          ],
          "type": "struct"
         },
         "tableIdentifier": null,
         "typeStr": "pyspark.sql.dataframe.DataFrame"
        },
        {
         "name": "test_new3_results",
         "schema": {
          "fields": [
           {
            "metadata": {},
            "name": "PAY_1",
            "nullable": true,
            "type": "integer"
           },
           {
            "metadata": {},
            "name": "PAY_2",
            "nullable": true,
            "type": "integer"
           },
           {
            "metadata": {},
            "name": "PAY_3",
            "nullable": true,
            "type": "integer"
           },
           {
            "metadata": {},
            "name": "PAY_4",
            "nullable": true,
            "type": "integer"
           },
           {
            "metadata": {},
            "name": "LIMIT_BAL",
            "nullable": true,
            "type": "double"
           },
           {
            "metadata": {},
            "name": "PAY_6",
            "nullable": true,
            "type": "integer"
           },
           {
            "metadata": {},
            "name": "PAY_5",
            "nullable": true,
            "type": "integer"
           },
           {
            "metadata": {},
            "name": "PAY_AMT2",
            "nullable": true,
            "type": "double"
           },
           {
            "metadata": {},
            "name": "PAY_AMT1",
            "nullable": true,
            "type": "double"
           },
           {
            "metadata": {},
            "name": "BILL_AMT1",
            "nullable": true,
            "type": "double"
           },
           {
            "metadata": {},
            "name": "PAY_AMT3",
            "nullable": true,
            "type": "double"
           },
           {
            "metadata": {},
            "name": "BILL_AMT4",
            "nullable": true,
            "type": "double"
           },
           {
            "metadata": {},
            "name": "PAY_AMT6",
            "nullable": true,
            "type": "double"
           },
           {
            "metadata": {},
            "name": "PAY_AMT4",
            "nullable": true,
            "type": "double"
           },
           {
            "metadata": {},
            "name": "BILL_AMT2",
            "nullable": true,
            "type": "double"
           },
           {
            "metadata": {},
            "name": "BILL_AMT3",
            "nullable": true,
            "type": "double"
           },
           {
            "metadata": {},
            "name": "BILL_AMT5",
            "nullable": true,
            "type": "double"
           },
           {
            "metadata": {},
            "name": "BILL_AMT6",
            "nullable": true,
            "type": "double"
           },
           {
            "metadata": {},
            "name": "AGE",
            "nullable": true,
            "type": "integer"
           },
           {
            "metadata": {},
            "name": "PAY_AMT5",
            "nullable": true,
            "type": "double"
           },
           {
            "metadata": {
             "ml_attr": {
              "name": "MARRIAGEIndex",
              "type": "nominal",
              "vals": [
               "2",
               "1"
              ]
             }
            },
            "name": "MARRIAGEIndex",
            "nullable": false,
            "type": "double"
           },
           {
            "metadata": {},
            "name": "Default",
            "nullable": true,
            "type": "integer"
           },
           {
            "metadata": {
             "ml_attr": {
              "attrs": {
               "nominal": [
                {
                 "idx": 20,
                 "name": "MARRIAGEIndex",
                 "vals": [
                  "2",
                  "1"
                 ]
                }
               ],
               "numeric": [
                {
                 "idx": 0,
                 "name": "PAY_1"
                },
                {
                 "idx": 1,
                 "name": "PAY_2"
                },
                {
                 "idx": 2,
                 "name": "PAY_3"
                },
                {
                 "idx": 3,
                 "name": "PAY_4"
                },
                {
                 "idx": 4,
                 "name": "LIMIT_BAL"
                },
                {
                 "idx": 5,
                 "name": "PAY_6"
                },
                {
                 "idx": 6,
                 "name": "PAY_5"
                },
                {
                 "idx": 7,
                 "name": "PAY_AMT2"
                },
                {
                 "idx": 8,
                 "name": "PAY_AMT1"
                },
                {
                 "idx": 9,
                 "name": "BILL_AMT1"
                },
                {
                 "idx": 10,
                 "name": "PAY_AMT3"
                },
                {
                 "idx": 11,
                 "name": "BILL_AMT4"
                },
                {
                 "idx": 12,
                 "name": "PAY_AMT6"
                },
                {
                 "idx": 13,
                 "name": "PAY_AMT4"
                },
                {
                 "idx": 14,
                 "name": "BILL_AMT2"
                },
                {
                 "idx": 15,
                 "name": "BILL_AMT3"
                },
                {
                 "idx": 16,
                 "name": "BILL_AMT5"
                },
                {
                 "idx": 17,
                 "name": "BILL_AMT6"
                },
                {
                 "idx": 18,
                 "name": "AGE"
                },
                {
                 "idx": 19,
                 "name": "PAY_AMT5"
                }
               ]
              },
              "num_attrs": 21
             }
            },
            "name": "features",
            "nullable": true,
            "type": {
             "class": "org.apache.spark.ml.linalg.VectorUDT",
             "pyClass": "pyspark.ml.linalg.VectorUDT",
             "sqlType": {
              "fields": [
               {
                "metadata": {},
                "name": "type",
                "nullable": false,
                "type": "byte"
               },
               {
                "metadata": {},
                "name": "size",
                "nullable": true,
                "type": "integer"
               },
               {
                "metadata": {},
                "name": "indices",
                "nullable": true,
                "type": {
                 "containsNull": false,
                 "elementType": "integer",
                 "type": "array"
                }
               },
               {
                "metadata": {},
                "name": "values",
                "nullable": true,
                "type": {
                 "containsNull": false,
                 "elementType": "double",
                 "type": "array"
                }
               }
              ],
              "type": "struct"
             },
             "type": "udt"
            }
           },
           {
            "metadata": {
             "ml_attr": {
              "num_attrs": 2
             }
            },
            "name": "rawPrediction",
            "nullable": true,
            "type": {
             "class": "org.apache.spark.ml.linalg.VectorUDT",
             "pyClass": "pyspark.ml.linalg.VectorUDT",
             "sqlType": {
              "fields": [
               {
                "metadata": {},
                "name": "type",
                "nullable": false,
                "type": "byte"
               },
               {
                "metadata": {},
                "name": "size",
                "nullable": true,
                "type": "integer"
               },
               {
                "metadata": {},
                "name": "indices",
                "nullable": true,
                "type": {
                 "containsNull": false,
                 "elementType": "integer",
                 "type": "array"
                }
               },
               {
                "metadata": {},
                "name": "values",
                "nullable": true,
                "type": {
                 "containsNull": false,
                 "elementType": "double",
                 "type": "array"
                }
               }
              ],
              "type": "struct"
             },
             "type": "udt"
            }
           },
           {
            "metadata": {
             "ml_attr": {
              "num_attrs": 2
             }
            },
            "name": "probability",
            "nullable": true,
            "type": {
             "class": "org.apache.spark.ml.linalg.VectorUDT",
             "pyClass": "pyspark.ml.linalg.VectorUDT",
             "sqlType": {
              "fields": [
               {
                "metadata": {},
                "name": "type",
                "nullable": false,
                "type": "byte"
               },
               {
                "metadata": {},
                "name": "size",
                "nullable": true,
                "type": "integer"
               },
               {
                "metadata": {},
                "name": "indices",
                "nullable": true,
                "type": {
                 "containsNull": false,
                 "elementType": "integer",
                 "type": "array"
                }
               },
               {
                "metadata": {},
                "name": "values",
                "nullable": true,
                "type": {
                 "containsNull": false,
                 "elementType": "double",
                 "type": "array"
                }
               }
              ],
              "type": "struct"
             },
             "type": "udt"
            }
           },
           {
            "metadata": {
             "ml_attr": {
              "num_vals": 2,
              "type": "nominal"
             }
            },
            "name": "prediction",
            "nullable": false,
            "type": "double"
           }
          ],
          "type": "struct"
         },
         "tableIdentifier": null,
         "typeStr": "pyspark.sql.dataframe.DataFrame"
        }
       ],
       "removedWidgets": [],
       "type": "html"
      }
     },
     "output_type": "display_data"
    }
   ],
   "source": [
    "train_new3_results = fit_new3.transform(datatrain)\n",
    "test_new3_results = fit_new3.transform(datatest)\n",
    "\n",
    "AUC_test_new3 = AUC_eval.evaluate(test_new3_results)\n",
    "AUC_train_new3 = AUC_eval.evaluate(train_new3_results)\n",
    "\n",
    "Accu_test_new3 = Accu_evaluator.evaluate(test_new3_results, {Accu_evaluator.metricName: \"accuracy\"})\n",
    "Accu_train_new3 = Accu_evaluator.evaluate(train_new3_results, {Accu_evaluator.metricName: \"accuracy\"})"
   ]
  },
  {
   "cell_type": "code",
   "execution_count": 0,
   "metadata": {
    "application/vnd.databricks.v1+cell": {
     "inputWidgets": {},
     "nuid": "b67ab518-5180-4d16-9650-237c5980d084",
     "showTitle": false,
     "title": ""
    }
   },
   "outputs": [
    {
     "data": {
      "text/html": [
       "<style scoped>\n",
       "  .ansiout {\n",
       "    display: block;\n",
       "    unicode-bidi: embed;\n",
       "    white-space: pre-wrap;\n",
       "    word-wrap: break-word;\n",
       "    word-break: break-all;\n",
       "    font-family: \"Source Code Pro\", \"Menlo\", monospace;;\n",
       "    font-size: 13px;\n",
       "    color: #555;\n",
       "    margin-left: 4px;\n",
       "    line-height: 19px;\n",
       "  }\n",
       "</style>\n",
       "<div class=\"ansiout\">Test AUC with Label Encoding &amp; feature selection 0.7258639309569661\n",
       "Train AUC with Label Encoding &amp; feature selection 0.7313676208635289\n",
       "\n",
       "\n",
       "Accuracy: Test with Label Encoding &amp; feature selection 0.7253559395717857\n",
       "Accuracy: Train with Label Encoding &amp; feature selection 0.731452944413869\n",
       "</div>"
      ]
     },
     "metadata": {
      "application/vnd.databricks.v1+output": {
       "addedWidgets": {},
       "arguments": {},
       "data": "<div class=\"ansiout\">Test AUC with Label Encoding &amp; feature selection 0.7258639309569661\nTrain AUC with Label Encoding &amp; feature selection 0.7313676208635289\n\n\nAccuracy: Test with Label Encoding &amp; feature selection 0.7253559395717857\nAccuracy: Train with Label Encoding &amp; feature selection 0.731452944413869\n</div>",
       "datasetInfos": [],
       "removedWidgets": [],
       "type": "html"
      }
     },
     "output_type": "display_data"
    }
   ],
   "source": [
    "print(\"Test AUC with Label Encoding & feature selection\", AUC_test_new3)\n",
    "print(\"Train AUC with Label Encoding & feature selection\", AUC_train_new3)\n",
    "print(\"\\n\")\n",
    "print(\"Accuracy: Test with Label Encoding & feature selection\", Accu_test_new3)\n",
    "print(\"Accuracy: Train with Label Encoding & feature selection\", Accu_train_new3)"
   ]
  },
  {
   "cell_type": "code",
   "execution_count": 0,
   "metadata": {
    "application/vnd.databricks.v1+cell": {
     "inputWidgets": {},
     "nuid": "9b24b70c-e346-4fc4-88b1-ad17a84aa424",
     "showTitle": true,
     "title": "SVM"
    }
   },
   "outputs": [
    {
     "data": {
      "text/html": [
       "<style scoped>\n",
       "  .ansiout {\n",
       "    display: block;\n",
       "    unicode-bidi: embed;\n",
       "    white-space: pre-wrap;\n",
       "    word-wrap: break-word;\n",
       "    word-break: break-all;\n",
       "    font-family: \"Source Code Pro\", \"Menlo\", monospace;;\n",
       "    font-size: 13px;\n",
       "    color: #555;\n",
       "    margin-left: 4px;\n",
       "    line-height: 19px;\n",
       "  }\n",
       "</style>\n",
       "<div class=\"ansiout\"></div>"
      ]
     },
     "metadata": {
      "application/vnd.databricks.v1+output": {
       "addedWidgets": {},
       "arguments": {},
       "data": "<div class=\"ansiout\"></div>",
       "datasetInfos": [],
       "removedWidgets": [],
       "type": "html"
      }
     },
     "output_type": "display_data"
    }
   ],
   "source": [
    "from pyspark.ml.classification import LinearSVC"
   ]
  },
  {
   "cell_type": "code",
   "execution_count": 0,
   "metadata": {
    "application/vnd.databricks.v1+cell": {
     "inputWidgets": {},
     "nuid": "cd210e6f-bc11-4c1a-9965-5566ed21dab3",
     "showTitle": false,
     "title": ""
    }
   },
   "outputs": [
    {
     "data": {
      "text/html": [
       "<style scoped>\n",
       "  .ansiout {\n",
       "    display: block;\n",
       "    unicode-bidi: embed;\n",
       "    white-space: pre-wrap;\n",
       "    word-wrap: break-word;\n",
       "    word-break: break-all;\n",
       "    font-family: \"Source Code Pro\", \"Menlo\", monospace;;\n",
       "    font-size: 13px;\n",
       "    color: #555;\n",
       "    margin-left: 4px;\n",
       "    line-height: 19px;\n",
       "  }\n",
       "</style>\n",
       "<div class=\"ansiout\"></div>"
      ]
     },
     "metadata": {
      "application/vnd.databricks.v1+output": {
       "addedWidgets": {},
       "arguments": {},
       "data": "<div class=\"ansiout\"></div>",
       "datasetInfos": [],
       "removedWidgets": [],
       "type": "html"
      }
     },
     "output_type": "display_data"
    }
   ],
   "source": [
    "svm_df = LinearSVC(featuresCol='features',labelCol='Default')\n",
    "fit_new4 = svm_df.fit(datatrain)"
   ]
  },
  {
   "cell_type": "code",
   "execution_count": 0,
   "metadata": {
    "application/vnd.databricks.v1+cell": {
     "inputWidgets": {},
     "nuid": "b81a97f6-2690-4c3f-9651-87bf129da01f",
     "showTitle": false,
     "title": ""
    }
   },
   "outputs": [
    {
     "data": {
      "text/html": [
       "<style scoped>\n",
       "  .ansiout {\n",
       "    display: block;\n",
       "    unicode-bidi: embed;\n",
       "    white-space: pre-wrap;\n",
       "    word-wrap: break-word;\n",
       "    word-break: break-all;\n",
       "    font-family: \"Source Code Pro\", \"Menlo\", monospace;;\n",
       "    font-size: 13px;\n",
       "    color: #555;\n",
       "    margin-left: 4px;\n",
       "    line-height: 19px;\n",
       "  }\n",
       "</style>\n",
       "<div class=\"ansiout\"></div>"
      ]
     },
     "metadata": {
      "application/vnd.databricks.v1+output": {
       "addedWidgets": {},
       "arguments": {},
       "data": "<div class=\"ansiout\"></div>",
       "datasetInfos": [
        {
         "name": "train_new4_results",
         "schema": {
          "fields": [
           {
            "metadata": {},
            "name": "PAY_1",
            "nullable": true,
            "type": "integer"
           },
           {
            "metadata": {},
            "name": "PAY_2",
            "nullable": true,
            "type": "integer"
           },
           {
            "metadata": {},
            "name": "PAY_3",
            "nullable": true,
            "type": "integer"
           },
           {
            "metadata": {},
            "name": "PAY_4",
            "nullable": true,
            "type": "integer"
           },
           {
            "metadata": {},
            "name": "LIMIT_BAL",
            "nullable": true,
            "type": "double"
           },
           {
            "metadata": {},
            "name": "PAY_6",
            "nullable": true,
            "type": "integer"
           },
           {
            "metadata": {},
            "name": "PAY_5",
            "nullable": true,
            "type": "integer"
           },
           {
            "metadata": {},
            "name": "PAY_AMT2",
            "nullable": true,
            "type": "double"
           },
           {
            "metadata": {},
            "name": "PAY_AMT1",
            "nullable": true,
            "type": "double"
           },
           {
            "metadata": {},
            "name": "BILL_AMT1",
            "nullable": true,
            "type": "double"
           },
           {
            "metadata": {},
            "name": "PAY_AMT3",
            "nullable": true,
            "type": "double"
           },
           {
            "metadata": {},
            "name": "BILL_AMT4",
            "nullable": true,
            "type": "double"
           },
           {
            "metadata": {},
            "name": "PAY_AMT6",
            "nullable": true,
            "type": "double"
           },
           {
            "metadata": {},
            "name": "PAY_AMT4",
            "nullable": true,
            "type": "double"
           },
           {
            "metadata": {},
            "name": "BILL_AMT2",
            "nullable": true,
            "type": "double"
           },
           {
            "metadata": {},
            "name": "BILL_AMT3",
            "nullable": true,
            "type": "double"
           },
           {
            "metadata": {},
            "name": "BILL_AMT5",
            "nullable": true,
            "type": "double"
           },
           {
            "metadata": {},
            "name": "BILL_AMT6",
            "nullable": true,
            "type": "double"
           },
           {
            "metadata": {},
            "name": "AGE",
            "nullable": true,
            "type": "integer"
           },
           {
            "metadata": {},
            "name": "PAY_AMT5",
            "nullable": true,
            "type": "double"
           },
           {
            "metadata": {
             "ml_attr": {
              "name": "MARRIAGEIndex",
              "type": "nominal",
              "vals": [
               "2",
               "1"
              ]
             }
            },
            "name": "MARRIAGEIndex",
            "nullable": false,
            "type": "double"
           },
           {
            "metadata": {},
            "name": "Default",
            "nullable": true,
            "type": "integer"
           },
           {
            "metadata": {
             "ml_attr": {
              "attrs": {
               "nominal": [
                {
                 "idx": 20,
                 "name": "MARRIAGEIndex",
                 "vals": [
                  "2",
                  "1"
                 ]
                }
               ],
               "numeric": [
                {
                 "idx": 0,
                 "name": "PAY_1"
                },
                {
                 "idx": 1,
                 "name": "PAY_2"
                },
                {
                 "idx": 2,
                 "name": "PAY_3"
                },
                {
                 "idx": 3,
                 "name": "PAY_4"
                },
                {
                 "idx": 4,
                 "name": "LIMIT_BAL"
                },
                {
                 "idx": 5,
                 "name": "PAY_6"
                },
                {
                 "idx": 6,
                 "name": "PAY_5"
                },
                {
                 "idx": 7,
                 "name": "PAY_AMT2"
                },
                {
                 "idx": 8,
                 "name": "PAY_AMT1"
                },
                {
                 "idx": 9,
                 "name": "BILL_AMT1"
                },
                {
                 "idx": 10,
                 "name": "PAY_AMT3"
                },
                {
                 "idx": 11,
                 "name": "BILL_AMT4"
                },
                {
                 "idx": 12,
                 "name": "PAY_AMT6"
                },
                {
                 "idx": 13,
                 "name": "PAY_AMT4"
                },
                {
                 "idx": 14,
                 "name": "BILL_AMT2"
                },
                {
                 "idx": 15,
                 "name": "BILL_AMT3"
                },
                {
                 "idx": 16,
                 "name": "BILL_AMT5"
                },
                {
                 "idx": 17,
                 "name": "BILL_AMT6"
                },
                {
                 "idx": 18,
                 "name": "AGE"
                },
                {
                 "idx": 19,
                 "name": "PAY_AMT5"
                }
               ]
              },
              "num_attrs": 21
             }
            },
            "name": "features",
            "nullable": true,
            "type": {
             "class": "org.apache.spark.ml.linalg.VectorUDT",
             "pyClass": "pyspark.ml.linalg.VectorUDT",
             "sqlType": {
              "fields": [
               {
                "metadata": {},
                "name": "type",
                "nullable": false,
                "type": "byte"
               },
               {
                "metadata": {},
                "name": "size",
                "nullable": true,
                "type": "integer"
               },
               {
                "metadata": {},
                "name": "indices",
                "nullable": true,
                "type": {
                 "containsNull": false,
                 "elementType": "integer",
                 "type": "array"
                }
               },
               {
                "metadata": {},
                "name": "values",
                "nullable": true,
                "type": {
                 "containsNull": false,
                 "elementType": "double",
                 "type": "array"
                }
               }
              ],
              "type": "struct"
             },
             "type": "udt"
            }
           },
           {
            "metadata": {
             "ml_attr": {
              "num_attrs": 2
             }
            },
            "name": "rawPrediction",
            "nullable": true,
            "type": {
             "class": "org.apache.spark.ml.linalg.VectorUDT",
             "pyClass": "pyspark.ml.linalg.VectorUDT",
             "sqlType": {
              "fields": [
               {
                "metadata": {},
                "name": "type",
                "nullable": false,
                "type": "byte"
               },
               {
                "metadata": {},
                "name": "size",
                "nullable": true,
                "type": "integer"
               },
               {
                "metadata": {},
                "name": "indices",
                "nullable": true,
                "type": {
                 "containsNull": false,
                 "elementType": "integer",
                 "type": "array"
                }
               },
               {
                "metadata": {},
                "name": "values",
                "nullable": true,
                "type": {
                 "containsNull": false,
                 "elementType": "double",
                 "type": "array"
                }
               }
              ],
              "type": "struct"
             },
             "type": "udt"
            }
           },
           {
            "metadata": {
             "ml_attr": {
              "num_vals": 2,
              "type": "nominal"
             }
            },
            "name": "prediction",
            "nullable": false,
            "type": "double"
           }
          ],
          "type": "struct"
         },
         "tableIdentifier": null,
         "typeStr": "pyspark.sql.dataframe.DataFrame"
        },
        {
         "name": "test_new4_results",
         "schema": {
          "fields": [
           {
            "metadata": {},
            "name": "PAY_1",
            "nullable": true,
            "type": "integer"
           },
           {
            "metadata": {},
            "name": "PAY_2",
            "nullable": true,
            "type": "integer"
           },
           {
            "metadata": {},
            "name": "PAY_3",
            "nullable": true,
            "type": "integer"
           },
           {
            "metadata": {},
            "name": "PAY_4",
            "nullable": true,
            "type": "integer"
           },
           {
            "metadata": {},
            "name": "LIMIT_BAL",
            "nullable": true,
            "type": "double"
           },
           {
            "metadata": {},
            "name": "PAY_6",
            "nullable": true,
            "type": "integer"
           },
           {
            "metadata": {},
            "name": "PAY_5",
            "nullable": true,
            "type": "integer"
           },
           {
            "metadata": {},
            "name": "PAY_AMT2",
            "nullable": true,
            "type": "double"
           },
           {
            "metadata": {},
            "name": "PAY_AMT1",
            "nullable": true,
            "type": "double"
           },
           {
            "metadata": {},
            "name": "BILL_AMT1",
            "nullable": true,
            "type": "double"
           },
           {
            "metadata": {},
            "name": "PAY_AMT3",
            "nullable": true,
            "type": "double"
           },
           {
            "metadata": {},
            "name": "BILL_AMT4",
            "nullable": true,
            "type": "double"
           },
           {
            "metadata": {},
            "name": "PAY_AMT6",
            "nullable": true,
            "type": "double"
           },
           {
            "metadata": {},
            "name": "PAY_AMT4",
            "nullable": true,
            "type": "double"
           },
           {
            "metadata": {},
            "name": "BILL_AMT2",
            "nullable": true,
            "type": "double"
           },
           {
            "metadata": {},
            "name": "BILL_AMT3",
            "nullable": true,
            "type": "double"
           },
           {
            "metadata": {},
            "name": "BILL_AMT5",
            "nullable": true,
            "type": "double"
           },
           {
            "metadata": {},
            "name": "BILL_AMT6",
            "nullable": true,
            "type": "double"
           },
           {
            "metadata": {},
            "name": "AGE",
            "nullable": true,
            "type": "integer"
           },
           {
            "metadata": {},
            "name": "PAY_AMT5",
            "nullable": true,
            "type": "double"
           },
           {
            "metadata": {
             "ml_attr": {
              "name": "MARRIAGEIndex",
              "type": "nominal",
              "vals": [
               "2",
               "1"
              ]
             }
            },
            "name": "MARRIAGEIndex",
            "nullable": false,
            "type": "double"
           },
           {
            "metadata": {},
            "name": "Default",
            "nullable": true,
            "type": "integer"
           },
           {
            "metadata": {
             "ml_attr": {
              "attrs": {
               "nominal": [
                {
                 "idx": 20,
                 "name": "MARRIAGEIndex",
                 "vals": [
                  "2",
                  "1"
                 ]
                }
               ],
               "numeric": [
                {
                 "idx": 0,
                 "name": "PAY_1"
                },
                {
                 "idx": 1,
                 "name": "PAY_2"
                },
                {
                 "idx": 2,
                 "name": "PAY_3"
                },
                {
                 "idx": 3,
                 "name": "PAY_4"
                },
                {
                 "idx": 4,
                 "name": "LIMIT_BAL"
                },
                {
                 "idx": 5,
                 "name": "PAY_6"
                },
                {
                 "idx": 6,
                 "name": "PAY_5"
                },
                {
                 "idx": 7,
                 "name": "PAY_AMT2"
                },
                {
                 "idx": 8,
                 "name": "PAY_AMT1"
                },
                {
                 "idx": 9,
                 "name": "BILL_AMT1"
                },
                {
                 "idx": 10,
                 "name": "PAY_AMT3"
                },
                {
                 "idx": 11,
                 "name": "BILL_AMT4"
                },
                {
                 "idx": 12,
                 "name": "PAY_AMT6"
                },
                {
                 "idx": 13,
                 "name": "PAY_AMT4"
                },
                {
                 "idx": 14,
                 "name": "BILL_AMT2"
                },
                {
                 "idx": 15,
                 "name": "BILL_AMT3"
                },
                {
                 "idx": 16,
                 "name": "BILL_AMT5"
                },
                {
                 "idx": 17,
                 "name": "BILL_AMT6"
                },
                {
                 "idx": 18,
                 "name": "AGE"
                },
                {
                 "idx": 19,
                 "name": "PAY_AMT5"
                }
               ]
              },
              "num_attrs": 21
             }
            },
            "name": "features",
            "nullable": true,
            "type": {
             "class": "org.apache.spark.ml.linalg.VectorUDT",
             "pyClass": "pyspark.ml.linalg.VectorUDT",
             "sqlType": {
              "fields": [
               {
                "metadata": {},
                "name": "type",
                "nullable": false,
                "type": "byte"
               },
               {
                "metadata": {},
                "name": "size",
                "nullable": true,
                "type": "integer"
               },
               {
                "metadata": {},
                "name": "indices",
                "nullable": true,
                "type": {
                 "containsNull": false,
                 "elementType": "integer",
                 "type": "array"
                }
               },
               {
                "metadata": {},
                "name": "values",
                "nullable": true,
                "type": {
                 "containsNull": false,
                 "elementType": "double",
                 "type": "array"
                }
               }
              ],
              "type": "struct"
             },
             "type": "udt"
            }
           },
           {
            "metadata": {
             "ml_attr": {
              "num_attrs": 2
             }
            },
            "name": "rawPrediction",
            "nullable": true,
            "type": {
             "class": "org.apache.spark.ml.linalg.VectorUDT",
             "pyClass": "pyspark.ml.linalg.VectorUDT",
             "sqlType": {
              "fields": [
               {
                "metadata": {},
                "name": "type",
                "nullable": false,
                "type": "byte"
               },
               {
                "metadata": {},
                "name": "size",
                "nullable": true,
                "type": "integer"
               },
               {
                "metadata": {},
                "name": "indices",
                "nullable": true,
                "type": {
                 "containsNull": false,
                 "elementType": "integer",
                 "type": "array"
                }
               },
               {
                "metadata": {},
                "name": "values",
                "nullable": true,
                "type": {
                 "containsNull": false,
                 "elementType": "double",
                 "type": "array"
                }
               }
              ],
              "type": "struct"
             },
             "type": "udt"
            }
           },
           {
            "metadata": {
             "ml_attr": {
              "num_vals": 2,
              "type": "nominal"
             }
            },
            "name": "prediction",
            "nullable": false,
            "type": "double"
           }
          ],
          "type": "struct"
         },
         "tableIdentifier": null,
         "typeStr": "pyspark.sql.dataframe.DataFrame"
        }
       ],
       "removedWidgets": [],
       "type": "html"
      }
     },
     "output_type": "display_data"
    }
   ],
   "source": [
    "train_new4_results = fit_new4.transform(datatrain)\n",
    "test_new4_results = fit_new4.transform(datatest)\n",
    "\n",
    "AUC_test_new4 = AUC_eval.evaluate(test_new4_results)\n",
    "AUC_train_new4 = AUC_eval.evaluate(train_new4_results)\n",
    "\n",
    "Accu_test_new4 = Accu_evaluator.evaluate(test_new4_results, {Accu_evaluator.metricName: \"accuracy\"})\n",
    "Accu_train_new4 = Accu_evaluator.evaluate(train_new4_results, {Accu_evaluator.metricName: \"accuracy\"})"
   ]
  },
  {
   "cell_type": "code",
   "execution_count": 0,
   "metadata": {
    "application/vnd.databricks.v1+cell": {
     "inputWidgets": {},
     "nuid": "2cb2bad0-5c49-45e5-83e4-3aec1dec1fc0",
     "showTitle": false,
     "title": ""
    }
   },
   "outputs": [
    {
     "data": {
      "text/html": [
       "<style scoped>\n",
       "  .ansiout {\n",
       "    display: block;\n",
       "    unicode-bidi: embed;\n",
       "    white-space: pre-wrap;\n",
       "    word-wrap: break-word;\n",
       "    word-break: break-all;\n",
       "    font-family: \"Source Code Pro\", \"Menlo\", monospace;;\n",
       "    font-size: 13px;\n",
       "    color: #555;\n",
       "    margin-left: 4px;\n",
       "    line-height: 19px;\n",
       "  }\n",
       "</style>\n",
       "<div class=\"ansiout\">Test AUC with Label Encoding &amp; feature selection 0.6859154697983977\n",
       "Train AUC with Label Encoding &amp; feature selection 0.6840616444466532\n",
       "\n",
       "\n",
       "Accuracy: Test with Label Encoding &amp; feature selection 0.6849255515704815\n",
       "Accuracy: Train with Label Encoding &amp; feature selection 0.684232250963126\n",
       "</div>"
      ]
     },
     "metadata": {
      "application/vnd.databricks.v1+output": {
       "addedWidgets": {},
       "arguments": {},
       "data": "<div class=\"ansiout\">Test AUC with Label Encoding &amp; feature selection 0.6859154697983977\nTrain AUC with Label Encoding &amp; feature selection 0.6840616444466532\n\n\nAccuracy: Test with Label Encoding &amp; feature selection 0.6849255515704815\nAccuracy: Train with Label Encoding &amp; feature selection 0.684232250963126\n</div>",
       "datasetInfos": [],
       "removedWidgets": [],
       "type": "html"
      }
     },
     "output_type": "display_data"
    }
   ],
   "source": [
    "print(\"Test AUC with Label Encoding & feature selection\", AUC_test_new4)\n",
    "print(\"Train AUC with Label Encoding & feature selection\", AUC_train_new4)\n",
    "print(\"\\n\")\n",
    "print(\"Accuracy: Test with Label Encoding & feature selection\", Accu_test_new4)\n",
    "print(\"Accuracy: Train with Label Encoding & feature selection\", Accu_train_new4)"
   ]
  }
 ],
 "metadata": {
  "application/vnd.databricks.v1+notebook": {
   "dashboards": [],
   "language": "python",
   "notebookName": "Final Project-Credit Card Default Prediction",
   "notebookOrigID": 440590990647715,
   "widgets": {}
  },
  "kernelspec": {
   "display_name": "Python 3",
   "language": "python",
   "name": "python3"
  },
  "language_info": {
   "codemirror_mode": {
    "name": "ipython",
    "version": 3
   },
   "file_extension": ".py",
   "mimetype": "text/x-python",
   "name": "python",
   "nbconvert_exporter": "python",
   "pygments_lexer": "ipython3",
   "version": "3.8.3"
  }
 },
 "nbformat": 4,
 "nbformat_minor": 1
}
