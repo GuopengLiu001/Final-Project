{
 "cells": [
  {
   "cell_type": "markdown",
   "metadata": {
    "application/vnd.databricks.v1+cell": {
     "inputWidgets": {},
     "nuid": "7964a67b-0304-4561-8ddd-2b8de893c146",
     "showTitle": false,
     "title": ""
    }
   },
   "source": [
    "Check outliers"
   ]
  },
  {
   "cell_type": "code",
   "execution_count": 0,
   "metadata": {
    "application/vnd.databricks.v1+cell": {
     "inputWidgets": {},
     "nuid": "7fdb5bb8-0f95-469e-899e-9e5301040b8b",
     "showTitle": false,
     "title": ""
    }
   },
   "outputs": [
    {
     "data": {
      "text/html": [
       "<style scoped>\n",
       "  .ansiout {\n",
       "    display: block;\n",
       "    unicode-bidi: embed;\n",
       "    white-space: pre-wrap;\n",
       "    word-wrap: break-word;\n",
       "    word-break: break-all;\n",
       "    font-family: \"Source Code Pro\", \"Menlo\", monospace;;\n",
       "    font-size: 13px;\n",
       "    color: #555;\n",
       "    margin-left: 4px;\n",
       "    line-height: 19px;\n",
       "  }\n",
       "</style>\n",
       "<div class=\"ansiout\">Out[17]: {&#39;LIMIT_BAL&#39;: {&#39;q1&#39;: 50000.0, &#39;q3&#39;: 240000.0},\n",
       " &#39;AGE&#39;: {&#39;q1&#39;: 28.0, &#39;q3&#39;: 41.0},\n",
       " &#39;PAY_1&#39;: {&#39;q1&#39;: -1.0, &#39;q3&#39;: 0.0},\n",
       " &#39;PAY_2&#39;: {&#39;q1&#39;: -1.0, &#39;q3&#39;: 0.0},\n",
       " &#39;PAY_3&#39;: {&#39;q1&#39;: -1.0, &#39;q3&#39;: 0.0},\n",
       " &#39;PAY_4&#39;: {&#39;q1&#39;: -1.0, &#39;q3&#39;: 0.0},\n",
       " &#39;PAY_5&#39;: {&#39;q1&#39;: -1.0, &#39;q3&#39;: 0.0},\n",
       " &#39;PAY_6&#39;: {&#39;q1&#39;: -1.0, &#39;q3&#39;: 0.0},\n",
       " &#39;BILL_AMT1&#39;: {&#39;q1&#39;: 3491.0, &#39;q3&#39;: 66866.0},\n",
       " &#39;BILL_AMT2&#39;: {&#39;q1&#39;: 2946.0, &#39;q3&#39;: 63774.0},\n",
       " &#39;BILL_AMT3&#39;: {&#39;q1&#39;: 2618.0, &#39;q3&#39;: 60005.0},\n",
       " &#39;BILL_AMT4&#39;: {&#39;q1&#39;: 2313.0, &#39;q3&#39;: 54574.0},\n",
       " &#39;BILL_AMT5&#39;: {&#39;q1&#39;: 1770.0, &#39;q3&#39;: 50290.0},\n",
       " &#39;BILL_AMT6&#39;: {&#39;q1&#39;: 1271.0, &#39;q3&#39;: 49327.0},\n",
       " &#39;PAY_AMT1&#39;: {&#39;q1&#39;: 995.0, &#39;q3&#39;: 5007.0},\n",
       " &#39;PAY_AMT2&#39;: {&#39;q1&#39;: 817.0, &#39;q3&#39;: 5000.0},\n",
       " &#39;PAY_AMT3&#39;: {&#39;q1&#39;: 390.0, &#39;q3&#39;: 4508.0},\n",
       " &#39;PAY_AMT4&#39;: {&#39;q1&#39;: 292.0, &#39;q3&#39;: 4038.0},\n",
       " &#39;PAY_AMT5&#39;: {&#39;q1&#39;: 260.0, &#39;q3&#39;: 4086.0},\n",
       " &#39;PAY_AMT6&#39;: {&#39;q1&#39;: 134.0, &#39;q3&#39;: 4003.0}}</div>"
      ]
     },
     "metadata": {
      "application/vnd.databricks.v1+output": {
       "addedWidgets": {},
       "arguments": {},
       "data": "<div class=\"ansiout\">Out[17]: {&#39;LIMIT_BAL&#39;: {&#39;q1&#39;: 50000.0, &#39;q3&#39;: 240000.0},\n &#39;AGE&#39;: {&#39;q1&#39;: 28.0, &#39;q3&#39;: 41.0},\n &#39;PAY_1&#39;: {&#39;q1&#39;: -1.0, &#39;q3&#39;: 0.0},\n &#39;PAY_2&#39;: {&#39;q1&#39;: -1.0, &#39;q3&#39;: 0.0},\n &#39;PAY_3&#39;: {&#39;q1&#39;: -1.0, &#39;q3&#39;: 0.0},\n &#39;PAY_4&#39;: {&#39;q1&#39;: -1.0, &#39;q3&#39;: 0.0},\n &#39;PAY_5&#39;: {&#39;q1&#39;: -1.0, &#39;q3&#39;: 0.0},\n &#39;PAY_6&#39;: {&#39;q1&#39;: -1.0, &#39;q3&#39;: 0.0},\n &#39;BILL_AMT1&#39;: {&#39;q1&#39;: 3491.0, &#39;q3&#39;: 66866.0},\n &#39;BILL_AMT2&#39;: {&#39;q1&#39;: 2946.0, &#39;q3&#39;: 63774.0},\n &#39;BILL_AMT3&#39;: {&#39;q1&#39;: 2618.0, &#39;q3&#39;: 60005.0},\n &#39;BILL_AMT4&#39;: {&#39;q1&#39;: 2313.0, &#39;q3&#39;: 54574.0},\n &#39;BILL_AMT5&#39;: {&#39;q1&#39;: 1770.0, &#39;q3&#39;: 50290.0},\n &#39;BILL_AMT6&#39;: {&#39;q1&#39;: 1271.0, &#39;q3&#39;: 49327.0},\n &#39;PAY_AMT1&#39;: {&#39;q1&#39;: 995.0, &#39;q3&#39;: 5007.0},\n &#39;PAY_AMT2&#39;: {&#39;q1&#39;: 817.0, &#39;q3&#39;: 5000.0},\n &#39;PAY_AMT3&#39;: {&#39;q1&#39;: 390.0, &#39;q3&#39;: 4508.0},\n &#39;PAY_AMT4&#39;: {&#39;q1&#39;: 292.0, &#39;q3&#39;: 4038.0},\n &#39;PAY_AMT5&#39;: {&#39;q1&#39;: 260.0, &#39;q3&#39;: 4086.0},\n &#39;PAY_AMT6&#39;: {&#39;q1&#39;: 134.0, &#39;q3&#39;: 4003.0}}</div>",
       "datasetInfos": [],
       "removedWidgets": [],
       "type": "html"
      }
     },
     "output_type": "display_data"
    }
   ],
   "source": [
    "quantiles = {\n",
    "    c: dict(\n",
    "        zip([\"q1\", \"q3\"], df.approxQuantile(c, [0.25, 0.75], 0))\n",
    "    )\n",
    "    for c in [\"LIMIT_BAL\", \"AGE\",\"PAY_1\",\"PAY_2\",\"PAY_3\",\"PAY_4\",\"PAY_5\",\"PAY_6\",\"BILL_AMT1\",\"BILL_AMT2\",\"BILL_AMT3\",\"BILL_AMT4\",\"BILL_AMT5\",\"BILL_AMT6\",\"PAY_AMT1\",\"PAY_AMT2\",\"PAY_AMT3\",\"PAY_AMT4\",\"PAY_AMT5\",\"PAY_AMT6\"]\n",
    "}\n",
    "quantiles"
   ]
  },
  {
   "cell_type": "code",
   "execution_count": 0,
   "metadata": {
    "application/vnd.databricks.v1+cell": {
     "inputWidgets": {},
     "nuid": "13163105-ac38-4c43-894e-9502bf941ba1",
     "showTitle": false,
     "title": ""
    }
   },
   "outputs": [
    {
     "data": {
      "text/html": [
       "<style scoped>\n",
       "  .ansiout {\n",
       "    display: block;\n",
       "    unicode-bidi: embed;\n",
       "    white-space: pre-wrap;\n",
       "    word-wrap: break-word;\n",
       "    word-break: break-all;\n",
       "    font-family: \"Source Code Pro\", \"Menlo\", monospace;;\n",
       "    font-size: 13px;\n",
       "    color: #555;\n",
       "    margin-left: 4px;\n",
       "    line-height: 19px;\n",
       "  }\n",
       "</style>\n",
       "<div class=\"ansiout\">{&#39;LIMIT_BAL&#39;: {&#39;q1&#39;: 50000.0, &#39;q3&#39;: 240000.0, &#39;lower_bound&#39;: -235000.0, &#39;upper_bound&#39;: 525000.0}, &#39;AGE&#39;: {&#39;q1&#39;: 28.0, &#39;q3&#39;: 41.0, &#39;lower_bound&#39;: 8.5, &#39;upper_bound&#39;: 60.5}, &#39;PAY_1&#39;: {&#39;q1&#39;: -1.0, &#39;q3&#39;: 0.0, &#39;lower_bound&#39;: -2.5, &#39;upper_bound&#39;: 1.5}, &#39;PAY_2&#39;: {&#39;q1&#39;: -1.0, &#39;q3&#39;: 0.0, &#39;lower_bound&#39;: -2.5, &#39;upper_bound&#39;: 1.5}, &#39;PAY_3&#39;: {&#39;q1&#39;: -1.0, &#39;q3&#39;: 0.0, &#39;lower_bound&#39;: -2.5, &#39;upper_bound&#39;: 1.5}, &#39;PAY_4&#39;: {&#39;q1&#39;: -1.0, &#39;q3&#39;: 0.0, &#39;lower_bound&#39;: -2.5, &#39;upper_bound&#39;: 1.5}, &#39;PAY_5&#39;: {&#39;q1&#39;: -1.0, &#39;q3&#39;: 0.0, &#39;lower_bound&#39;: -2.5, &#39;upper_bound&#39;: 1.5}, &#39;PAY_6&#39;: {&#39;q1&#39;: -1.0, &#39;q3&#39;: 0.0, &#39;lower_bound&#39;: -2.5, &#39;upper_bound&#39;: 1.5}, &#39;BILL_AMT1&#39;: {&#39;q1&#39;: 3491.0, &#39;q3&#39;: 66866.0, &#39;lower_bound&#39;: -91571.5, &#39;upper_bound&#39;: 161928.5}, &#39;BILL_AMT2&#39;: {&#39;q1&#39;: 2946.0, &#39;q3&#39;: 63774.0, &#39;lower_bound&#39;: -88296.0, &#39;upper_bound&#39;: 155016.0}, &#39;BILL_AMT3&#39;: {&#39;q1&#39;: 2618.0, &#39;q3&#39;: 60005.0, &#39;lower_bound&#39;: -83462.5, &#39;upper_bound&#39;: 146085.5}, &#39;BILL_AMT4&#39;: {&#39;q1&#39;: 2313.0, &#39;q3&#39;: 54574.0, &#39;lower_bound&#39;: -76078.5, &#39;upper_bound&#39;: 132965.5}, &#39;BILL_AMT5&#39;: {&#39;q1&#39;: 1770.0, &#39;q3&#39;: 50290.0, &#39;lower_bound&#39;: -71010.0, &#39;upper_bound&#39;: 123070.0}, &#39;BILL_AMT6&#39;: {&#39;q1&#39;: 1271.0, &#39;q3&#39;: 49327.0, &#39;lower_bound&#39;: -70813.0, &#39;upper_bound&#39;: 121411.0}, &#39;PAY_AMT1&#39;: {&#39;q1&#39;: 995.0, &#39;q3&#39;: 5007.0, &#39;lower_bound&#39;: -5023.0, &#39;upper_bound&#39;: 11025.0}, &#39;PAY_AMT2&#39;: {&#39;q1&#39;: 817.0, &#39;q3&#39;: 5000.0, &#39;lower_bound&#39;: -5457.5, &#39;upper_bound&#39;: 11274.5}, &#39;PAY_AMT3&#39;: {&#39;q1&#39;: 390.0, &#39;q3&#39;: 4508.0, &#39;lower_bound&#39;: -5787.0, &#39;upper_bound&#39;: 10685.0}, &#39;PAY_AMT4&#39;: {&#39;q1&#39;: 292.0, &#39;q3&#39;: 4038.0, &#39;lower_bound&#39;: -5327.0, &#39;upper_bound&#39;: 9657.0}, &#39;PAY_AMT5&#39;: {&#39;q1&#39;: 260.0, &#39;q3&#39;: 4086.0, &#39;lower_bound&#39;: -5479.0, &#39;upper_bound&#39;: 9825.0}, &#39;PAY_AMT6&#39;: {&#39;q1&#39;: 134.0, &#39;q3&#39;: 4003.0, &#39;lower_bound&#39;: -5669.5, &#39;upper_bound&#39;: 9806.5}}\n",
       "</div>"
      ]
     },
     "metadata": {
      "application/vnd.databricks.v1+output": {
       "addedWidgets": {},
       "arguments": {},
       "data": "<div class=\"ansiout\">{&#39;LIMIT_BAL&#39;: {&#39;q1&#39;: 50000.0, &#39;q3&#39;: 240000.0, &#39;lower_bound&#39;: -235000.0, &#39;upper_bound&#39;: 525000.0}, &#39;AGE&#39;: {&#39;q1&#39;: 28.0, &#39;q3&#39;: 41.0, &#39;lower_bound&#39;: 8.5, &#39;upper_bound&#39;: 60.5}, &#39;PAY_1&#39;: {&#39;q1&#39;: -1.0, &#39;q3&#39;: 0.0, &#39;lower_bound&#39;: -2.5, &#39;upper_bound&#39;: 1.5}, &#39;PAY_2&#39;: {&#39;q1&#39;: -1.0, &#39;q3&#39;: 0.0, &#39;lower_bound&#39;: -2.5, &#39;upper_bound&#39;: 1.5}, &#39;PAY_3&#39;: {&#39;q1&#39;: -1.0, &#39;q3&#39;: 0.0, &#39;lower_bound&#39;: -2.5, &#39;upper_bound&#39;: 1.5}, &#39;PAY_4&#39;: {&#39;q1&#39;: -1.0, &#39;q3&#39;: 0.0, &#39;lower_bound&#39;: -2.5, &#39;upper_bound&#39;: 1.5}, &#39;PAY_5&#39;: {&#39;q1&#39;: -1.0, &#39;q3&#39;: 0.0, &#39;lower_bound&#39;: -2.5, &#39;upper_bound&#39;: 1.5}, &#39;PAY_6&#39;: {&#39;q1&#39;: -1.0, &#39;q3&#39;: 0.0, &#39;lower_bound&#39;: -2.5, &#39;upper_bound&#39;: 1.5}, &#39;BILL_AMT1&#39;: {&#39;q1&#39;: 3491.0, &#39;q3&#39;: 66866.0, &#39;lower_bound&#39;: -91571.5, &#39;upper_bound&#39;: 161928.5}, &#39;BILL_AMT2&#39;: {&#39;q1&#39;: 2946.0, &#39;q3&#39;: 63774.0, &#39;lower_bound&#39;: -88296.0, &#39;upper_bound&#39;: 155016.0}, &#39;BILL_AMT3&#39;: {&#39;q1&#39;: 2618.0, &#39;q3&#39;: 60005.0, &#39;lower_bound&#39;: -83462.5, &#39;upper_bound&#39;: 146085.5}, &#39;BILL_AMT4&#39;: {&#39;q1&#39;: 2313.0, &#39;q3&#39;: 54574.0, &#39;lower_bound&#39;: -76078.5, &#39;upper_bound&#39;: 132965.5}, &#39;BILL_AMT5&#39;: {&#39;q1&#39;: 1770.0, &#39;q3&#39;: 50290.0, &#39;lower_bound&#39;: -71010.0, &#39;upper_bound&#39;: 123070.0}, &#39;BILL_AMT6&#39;: {&#39;q1&#39;: 1271.0, &#39;q3&#39;: 49327.0, &#39;lower_bound&#39;: -70813.0, &#39;upper_bound&#39;: 121411.0}, &#39;PAY_AMT1&#39;: {&#39;q1&#39;: 995.0, &#39;q3&#39;: 5007.0, &#39;lower_bound&#39;: -5023.0, &#39;upper_bound&#39;: 11025.0}, &#39;PAY_AMT2&#39;: {&#39;q1&#39;: 817.0, &#39;q3&#39;: 5000.0, &#39;lower_bound&#39;: -5457.5, &#39;upper_bound&#39;: 11274.5}, &#39;PAY_AMT3&#39;: {&#39;q1&#39;: 390.0, &#39;q3&#39;: 4508.0, &#39;lower_bound&#39;: -5787.0, &#39;upper_bound&#39;: 10685.0}, &#39;PAY_AMT4&#39;: {&#39;q1&#39;: 292.0, &#39;q3&#39;: 4038.0, &#39;lower_bound&#39;: -5327.0, &#39;upper_bound&#39;: 9657.0}, &#39;PAY_AMT5&#39;: {&#39;q1&#39;: 260.0, &#39;q3&#39;: 4086.0, &#39;lower_bound&#39;: -5479.0, &#39;upper_bound&#39;: 9825.0}, &#39;PAY_AMT6&#39;: {&#39;q1&#39;: 134.0, &#39;q3&#39;: 4003.0, &#39;lower_bound&#39;: -5669.5, &#39;upper_bound&#39;: 9806.5}}\n</div>",
       "datasetInfos": [],
       "removedWidgets": [],
       "type": "html"
      }
     },
     "output_type": "display_data"
    }
   ],
   "source": [
    "for i in quantiles:\n",
    "    iqr = quantiles[i]['q3'] - quantiles[i]['q1']\n",
    "    quantiles[i]['lower_bound'] = quantiles[i]['q1'] - (iqr * 1.5)\n",
    "    quantiles[i]['upper_bound'] = quantiles[i]['q3'] + (iqr * 1.5)\n",
    "print(quantiles)"
   ]
  },
  {
   "cell_type": "code",
   "execution_count": 0,
   "metadata": {
    "application/vnd.databricks.v1+cell": {
     "inputWidgets": {},
     "nuid": "158048ce-6b7d-478e-beca-5b118b5b87b7",
     "showTitle": false,
     "title": ""
    }
   },
   "outputs": [
    {
     "data": {
      "text/html": [
       "<style scoped>\n",
       "  .ansiout {\n",
       "    display: block;\n",
       "    unicode-bidi: embed;\n",
       "    white-space: pre-wrap;\n",
       "    word-wrap: break-word;\n",
       "    word-break: break-all;\n",
       "    font-family: \"Source Code Pro\", \"Menlo\", monospace;;\n",
       "    font-size: 13px;\n",
       "    color: #555;\n",
       "    margin-left: 4px;\n",
       "    line-height: 19px;\n",
       "  }\n",
       "</style>\n",
       "<div class=\"ansiout\"></div>"
      ]
     },
     "metadata": {
      "application/vnd.databricks.v1+output": {
       "addedWidgets": {},
       "arguments": {},
       "data": "<div class=\"ansiout\"></div>",
       "datasetInfos": [
        {
         "name": "df_clean",
         "schema": {
          "fields": [
           {
            "metadata": {},
            "name": "ID",
            "nullable": true,
            "type": "string"
           },
           {
            "metadata": {},
            "name": "LIMIT_BAL",
            "nullable": true,
            "type": "double"
           },
           {
            "metadata": {},
            "name": "SEX",
            "nullable": true,
            "type": "string"
           },
           {
            "metadata": {},
            "name": "EDUCATION",
            "nullable": true,
            "type": "string"
           },
           {
            "metadata": {},
            "name": "MARRIAGE",
            "nullable": true,
            "type": "string"
           },
           {
            "metadata": {},
            "name": "AGE",
            "nullable": true,
            "type": "integer"
           },
           {
            "metadata": {},
            "name": "PAY_1",
            "nullable": true,
            "type": "integer"
           },
           {
            "metadata": {},
            "name": "PAY_2",
            "nullable": true,
            "type": "integer"
           },
           {
            "metadata": {},
            "name": "PAY_3",
            "nullable": true,
            "type": "integer"
           },
           {
            "metadata": {},
            "name": "PAY_4",
            "nullable": true,
            "type": "integer"
           },
           {
            "metadata": {},
            "name": "PAY_5",
            "nullable": true,
            "type": "integer"
           },
           {
            "metadata": {},
            "name": "PAY_6",
            "nullable": true,
            "type": "integer"
           },
           {
            "metadata": {},
            "name": "BILL_AMT1",
            "nullable": true,
            "type": "double"
           },
           {
            "metadata": {},
            "name": "BILL_AMT2",
            "nullable": true,
            "type": "double"
           },
           {
            "metadata": {},
            "name": "BILL_AMT3",
            "nullable": true,
            "type": "double"
           },
           {
            "metadata": {},
            "name": "BILL_AMT4",
            "nullable": true,
            "type": "double"
           },
           {
            "metadata": {},
            "name": "BILL_AMT5",
            "nullable": true,
            "type": "double"
           },
           {
            "metadata": {},
            "name": "BILL_AMT6",
            "nullable": true,
            "type": "double"
           },
           {
            "metadata": {},
            "name": "PAY_AMT1",
            "nullable": true,
            "type": "double"
           },
           {
            "metadata": {},
            "name": "PAY_AMT2",
            "nullable": true,
            "type": "double"
           },
           {
            "metadata": {},
            "name": "PAY_AMT3",
            "nullable": true,
            "type": "double"
           },
           {
            "metadata": {},
            "name": "PAY_AMT4",
            "nullable": true,
            "type": "double"
           },
           {
            "metadata": {},
            "name": "PAY_AMT5",
            "nullable": true,
            "type": "double"
           },
           {
            "metadata": {},
            "name": "PAY_AMT6",
            "nullable": true,
            "type": "double"
           },
           {
            "metadata": {},
            "name": "Default",
            "nullable": true,
            "type": "integer"
           },
           {
            "metadata": {},
            "name": "LIMIT_BAL_out",
            "nullable": false,
            "type": "integer"
           },
           {
            "metadata": {},
            "name": "AGE_out",
            "nullable": false,
            "type": "integer"
           },
           {
            "metadata": {},
            "name": "PAY_1_out",
            "nullable": false,
            "type": "integer"
           },
           {
            "metadata": {},
            "name": "PAY_2_out",
            "nullable": false,
            "type": "integer"
           },
           {
            "metadata": {},
            "name": "PAY_3_out",
            "nullable": false,
            "type": "integer"
           },
           {
            "metadata": {},
            "name": "PAY_4_out",
            "nullable": false,
            "type": "integer"
           },
           {
            "metadata": {},
            "name": "PAY_5_out",
            "nullable": false,
            "type": "integer"
           },
           {
            "metadata": {},
            "name": "PAY_6_out",
            "nullable": false,
            "type": "integer"
           },
           {
            "metadata": {},
            "name": "BILL_AMT1_out",
            "nullable": false,
            "type": "integer"
           },
           {
            "metadata": {},
            "name": "BILL_AMT2_out",
            "nullable": false,
            "type": "integer"
           },
           {
            "metadata": {},
            "name": "BILL_AMT3_out",
            "nullable": false,
            "type": "integer"
           },
           {
            "metadata": {},
            "name": "BILL_AMT4_out",
            "nullable": false,
            "type": "integer"
           },
           {
            "metadata": {},
            "name": "BILL_AMT5_out",
            "nullable": false,
            "type": "integer"
           },
           {
            "metadata": {},
            "name": "BILL_AMT6_out",
            "nullable": false,
            "type": "integer"
           },
           {
            "metadata": {},
            "name": "PAY_AMT1_out",
            "nullable": false,
            "type": "integer"
           },
           {
            "metadata": {},
            "name": "PAY_AMT2_out",
            "nullable": false,
            "type": "integer"
           },
           {
            "metadata": {},
            "name": "PAY_AMT3_out",
            "nullable": false,
            "type": "integer"
           },
           {
            "metadata": {},
            "name": "PAY_AMT4_out",
            "nullable": false,
            "type": "integer"
           },
           {
            "metadata": {},
            "name": "PAY_AMT5_out",
            "nullable": false,
            "type": "integer"
           },
           {
            "metadata": {},
            "name": "PAY_AMT6_out",
            "nullable": false,
            "type": "integer"
           }
          ],
          "type": "struct"
         },
         "tableIdentifier": null,
         "typeStr": "pyspark.sql.dataframe.DataFrame"
        }
       ],
       "removedWidgets": [],
       "type": "html"
      }
     },
     "output_type": "display_data"
    }
   ],
   "source": [
    "\n",
    "import pyspark.sql.functions as f\n",
    "df_clean=df.select(\n",
    "    \"*\",\n",
    "    *[\n",
    "        f.when(\n",
    "            f.col(c).between(quantiles[c]['lower_bound'], quantiles[c]['upper_bound']),\n",
    "            0\n",
    "        ).otherwise(1).alias(c+\"_out\") \n",
    "        for c in [\"LIMIT_BAL\", \"AGE\",\"PAY_1\",\"PAY_2\",\"PAY_3\",\"PAY_4\",\"PAY_5\",\"PAY_6\",\"BILL_AMT1\",\"BILL_AMT2\",\"BILL_AMT3\",\"BILL_AMT4\",\"BILL_AMT5\",\"BILL_AMT6\",\"PAY_AMT1\",\"PAY_AMT2\",\"PAY_AMT3\",\"PAY_AMT4\",\"PAY_AMT5\",\"PAY_AMT6\"]\n",
    "    ]\n",
    ")"
   ]
  },
  {
   "cell_type": "code",
   "execution_count": 0,
   "metadata": {
    "application/vnd.databricks.v1+cell": {
     "inputWidgets": {},
     "nuid": "50333195-7ee0-46a1-a859-355bb3149c94",
     "showTitle": false,
     "title": ""
    }
   },
   "outputs": [
    {
     "data": {
      "text/html": [
       "<style scoped>\n",
       "  .ansiout {\n",
       "    display: block;\n",
       "    unicode-bidi: embed;\n",
       "    white-space: pre-wrap;\n",
       "    word-wrap: break-word;\n",
       "    word-break: break-all;\n",
       "    font-family: \"Source Code Pro\", \"Menlo\", monospace;;\n",
       "    font-size: 13px;\n",
       "    color: #555;\n",
       "    margin-left: 4px;\n",
       "    line-height: 19px;\n",
       "  }\n",
       "</style>\n",
       "<div class=\"ansiout\"></div>"
      ]
     },
     "metadata": {
      "application/vnd.databricks.v1+output": {
       "addedWidgets": {},
       "arguments": {},
       "data": "<div class=\"ansiout\"></div>",
       "datasetInfos": [
        {
         "name": "df_clean",
         "schema": {
          "fields": [
           {
            "metadata": {},
            "name": "ID",
            "nullable": true,
            "type": "string"
           },
           {
            "metadata": {},
            "name": "LIMIT_BAL",
            "nullable": true,
            "type": "double"
           },
           {
            "metadata": {},
            "name": "SEX",
            "nullable": true,
            "type": "string"
           },
           {
            "metadata": {},
            "name": "EDUCATION",
            "nullable": true,
            "type": "string"
           },
           {
            "metadata": {},
            "name": "MARRIAGE",
            "nullable": true,
            "type": "string"
           },
           {
            "metadata": {},
            "name": "AGE",
            "nullable": true,
            "type": "integer"
           },
           {
            "metadata": {},
            "name": "PAY_1",
            "nullable": true,
            "type": "integer"
           },
           {
            "metadata": {},
            "name": "PAY_2",
            "nullable": true,
            "type": "integer"
           },
           {
            "metadata": {},
            "name": "PAY_3",
            "nullable": true,
            "type": "integer"
           },
           {
            "metadata": {},
            "name": "PAY_4",
            "nullable": true,
            "type": "integer"
           },
           {
            "metadata": {},
            "name": "PAY_5",
            "nullable": true,
            "type": "integer"
           },
           {
            "metadata": {},
            "name": "PAY_6",
            "nullable": true,
            "type": "integer"
           },
           {
            "metadata": {},
            "name": "BILL_AMT1",
            "nullable": true,
            "type": "double"
           },
           {
            "metadata": {},
            "name": "BILL_AMT2",
            "nullable": true,
            "type": "double"
           },
           {
            "metadata": {},
            "name": "BILL_AMT3",
            "nullable": true,
            "type": "double"
           },
           {
            "metadata": {},
            "name": "BILL_AMT4",
            "nullable": true,
            "type": "double"
           },
           {
            "metadata": {},
            "name": "BILL_AMT5",
            "nullable": true,
            "type": "double"
           },
           {
            "metadata": {},
            "name": "BILL_AMT6",
            "nullable": true,
            "type": "double"
           },
           {
            "metadata": {},
            "name": "PAY_AMT1",
            "nullable": true,
            "type": "double"
           },
           {
            "metadata": {},
            "name": "PAY_AMT2",
            "nullable": true,
            "type": "double"
           },
           {
            "metadata": {},
            "name": "PAY_AMT3",
            "nullable": true,
            "type": "double"
           },
           {
            "metadata": {},
            "name": "PAY_AMT4",
            "nullable": true,
            "type": "double"
           },
           {
            "metadata": {},
            "name": "PAY_AMT5",
            "nullable": true,
            "type": "double"
           },
           {
            "metadata": {},
            "name": "PAY_AMT6",
            "nullable": true,
            "type": "double"
           },
           {
            "metadata": {},
            "name": "Default",
            "nullable": true,
            "type": "integer"
           },
           {
            "metadata": {},
            "name": "LIMIT_BAL_out",
            "nullable": false,
            "type": "integer"
           },
           {
            "metadata": {},
            "name": "AGE_out",
            "nullable": false,
            "type": "integer"
           },
           {
            "metadata": {},
            "name": "PAY_1_out",
            "nullable": false,
            "type": "integer"
           },
           {
            "metadata": {},
            "name": "PAY_2_out",
            "nullable": false,
            "type": "integer"
           },
           {
            "metadata": {},
            "name": "PAY_3_out",
            "nullable": false,
            "type": "integer"
           },
           {
            "metadata": {},
            "name": "PAY_4_out",
            "nullable": false,
            "type": "integer"
           },
           {
            "metadata": {},
            "name": "PAY_5_out",
            "nullable": false,
            "type": "integer"
           },
           {
            "metadata": {},
            "name": "PAY_6_out",
            "nullable": false,
            "type": "integer"
           },
           {
            "metadata": {},
            "name": "BILL_AMT1_out",
            "nullable": false,
            "type": "integer"
           },
           {
            "metadata": {},
            "name": "BILL_AMT2_out",
            "nullable": false,
            "type": "integer"
           },
           {
            "metadata": {},
            "name": "BILL_AMT3_out",
            "nullable": false,
            "type": "integer"
           },
           {
            "metadata": {},
            "name": "BILL_AMT4_out",
            "nullable": false,
            "type": "integer"
           },
           {
            "metadata": {},
            "name": "BILL_AMT5_out",
            "nullable": false,
            "type": "integer"
           },
           {
            "metadata": {},
            "name": "BILL_AMT6_out",
            "nullable": false,
            "type": "integer"
           },
           {
            "metadata": {},
            "name": "PAY_AMT1_out",
            "nullable": false,
            "type": "integer"
           },
           {
            "metadata": {},
            "name": "PAY_AMT2_out",
            "nullable": false,
            "type": "integer"
           },
           {
            "metadata": {},
            "name": "PAY_AMT3_out",
            "nullable": false,
            "type": "integer"
           },
           {
            "metadata": {},
            "name": "PAY_AMT4_out",
            "nullable": false,
            "type": "integer"
           },
           {
            "metadata": {},
            "name": "PAY_AMT5_out",
            "nullable": false,
            "type": "integer"
           },
           {
            "metadata": {},
            "name": "PAY_AMT6_out",
            "nullable": false,
            "type": "integer"
           },
           {
            "metadata": {},
            "name": "outliers",
            "nullable": false,
            "type": "integer"
           }
          ],
          "type": "struct"
         },
         "tableIdentifier": null,
         "typeStr": "pyspark.sql.dataframe.DataFrame"
        }
       ],
       "removedWidgets": [],
       "type": "html"
      }
     },
     "output_type": "display_data"
    }
   ],
   "source": [
    "from pyspark.sql.functions import col\n",
    "df_clean=df_clean.withColumn(\"outliers\", col(\"LIMIT_BAL_out\")+col(\"AGE_out\")+col(\"PAY_1_out\")+col(\"BILL_AMT1_out\")+col(\"PAY_AMT1_out\")+col(\"PAY_2_out\")+col(\"BILL_AMT2_out\")+col(\"PAY_AMT2_out\")+col(\"PAY_3_out\")+col(\"BILL_AMT3_out\")+col(\"PAY_AMT3_out\")+col(\"PAY_4_out\")+col(\"BILL_AMT4_out\")+col(\"PAY_AMT4_out\")+col(\"PAY_5_out\")+col(\"BILL_AMT5_out\")+col(\"PAY_AMT5_out\")+col(\"PAY_6_out\")+col(\"BILL_AMT6_out\")+col(\"PAY_AMT6_out\"))"
   ]
  },
  {
   "cell_type": "code",
   "execution_count": 0,
   "metadata": {
    "application/vnd.databricks.v1+cell": {
     "inputWidgets": {},
     "nuid": "72acb759-5c6d-49b1-a12f-3ffa298a9b87",
     "showTitle": false,
     "title": ""
    }
   },
   "outputs": [
    {
     "data": {
      "text/html": [
       "<style scoped>\n",
       "  .table-result-container {\n",
       "    max-height: 300px;\n",
       "    overflow: auto;\n",
       "  }\n",
       "  table, th, td {\n",
       "    border: 1px solid black;\n",
       "    border-collapse: collapse;\n",
       "  }\n",
       "  th, td {\n",
       "    padding: 5px;\n",
       "  }\n",
       "  th {\n",
       "    text-align: left;\n",
       "  }\n",
       "</style><div class='table-result-container'><table class='table-result'><thead style='background-color: white'><tr><th>outliers</th><th>count(id)</th></tr></thead><tbody><tr><td>0</td><td>12827</td></tr><tr><td>1</td><td>5797</td></tr><tr><td>2</td><td>3040</td></tr><tr><td>3</td><td>2001</td></tr><tr><td>4</td><td>1397</td></tr><tr><td>5</td><td>1044</td></tr><tr><td>6</td><td>1635</td></tr><tr><td>7</td><td>454</td></tr><tr><td>8</td><td>259</td></tr><tr><td>9</td><td>188</td></tr><tr><td>10</td><td>170</td></tr><tr><td>11</td><td>147</td></tr><tr><td>12</td><td>206</td></tr><tr><td>13</td><td>82</td></tr><tr><td>14</td><td>18</td></tr><tr><td>15</td><td>6</td></tr><tr><td>16</td><td>3</td></tr><tr><td>17</td><td>4</td></tr><tr><td>18</td><td>5</td></tr></tbody></table></div>"
      ]
     },
     "metadata": {
      "application/vnd.databricks.v1+output": {
       "addedWidgets": {},
       "aggData": [],
       "aggError": "",
       "aggOverflow": false,
       "aggSchema": [],
       "aggSeriesLimitReached": false,
       "aggType": "",
       "arguments": {},
       "columnCustomDisplayInfos": {},
       "data": [
        [
         0,
         12827
        ],
        [
         1,
         5797
        ],
        [
         2,
         3040
        ],
        [
         3,
         2001
        ],
        [
         4,
         1397
        ],
        [
         5,
         1044
        ],
        [
         6,
         1635
        ],
        [
         7,
         454
        ],
        [
         8,
         259
        ],
        [
         9,
         188
        ],
        [
         10,
         170
        ],
        [
         11,
         147
        ],
        [
         12,
         206
        ],
        [
         13,
         82
        ],
        [
         14,
         18
        ],
        [
         15,
         6
        ],
        [
         16,
         3
        ],
        [
         17,
         4
        ],
        [
         18,
         5
        ]
       ],
       "datasetInfos": [],
       "dbfsResultPath": null,
       "isJsonSchema": true,
       "overflow": false,
       "plotOptions": {
        "customPlotOptions": {},
        "displayType": "table",
        "pivotAggregation": null,
        "pivotColumns": null,
        "xColumns": null,
        "yColumns": null
       },
       "removedWidgets": [],
       "schema": [
        {
         "metadata": "{}",
         "name": "outliers",
         "type": "\"integer\""
        },
        {
         "metadata": "{}",
         "name": "count(id)",
         "type": "\"long\""
        }
       ],
       "type": "table"
      }
     },
     "output_type": "display_data"
    }
   ],
   "source": [
    "df_clean.select(\"outliers\",\"ID\").groupBy(\"outliers\").agg(count(\"id\")).orderBy('outliers').display()"
   ]
  }
 ],
 "metadata": {
  "application/vnd.databricks.v1+notebook": {
   "dashboards": [],
   "language": "python",
   "notebookName": "Final Project-Credit Card Default Prediction",
   "notebookOrigID": 440590990647715,
   "widgets": {}
  },
  "kernelspec": {
   "display_name": "Python 3",
   "language": "python",
   "name": "python3"
  },
  "language_info": {
   "codemirror_mode": {
    "name": "ipython",
    "version": 3
   },
   "file_extension": ".py",
   "mimetype": "text/x-python",
   "name": "python",
   "nbconvert_exporter": "python",
   "pygments_lexer": "ipython3",
   "version": "3.8.3"
  }
 },
 "nbformat": 4,
 "nbformat_minor": 1
}
