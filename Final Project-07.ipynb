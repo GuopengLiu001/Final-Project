{
 "cells": [
  {
   "cell_type": "markdown",
   "metadata": {
    "application/vnd.databricks.v1+cell": {
     "inputWidgets": {},
     "nuid": "060996d8-8dab-4e7b-8e94-93525cbcfd95",
     "showTitle": true,
     "title": "Now we will try tuning the model（Decision tree） with the ParamGridBuilder and the CrossValidator."
    }
   },
   "source": [
    "As we indicate 4 values for maxDepth and 3 values for maxBin, this grid will have 4 x 3 = 12 parameter settings for CrossValidator to choose from. We will create a 5-fold CrossValidator."
   ]
  },
  {
   "cell_type": "code",
   "execution_count": 0,
   "metadata": {
    "application/vnd.databricks.v1+cell": {
     "inputWidgets": {},
     "nuid": "c2f186c8-e3fd-4741-b861-54a6866d0688",
     "showTitle": false,
     "title": ""
    }
   },
   "outputs": [
    {
     "data": {
      "text/html": [
       "<style scoped>\n",
       "  .ansiout {\n",
       "    display: block;\n",
       "    unicode-bidi: embed;\n",
       "    white-space: pre-wrap;\n",
       "    word-wrap: break-word;\n",
       "    word-break: break-all;\n",
       "    font-family: \"Source Code Pro\", \"Menlo\", monospace;;\n",
       "    font-size: 13px;\n",
       "    color: #555;\n",
       "    margin-left: 4px;\n",
       "    line-height: 19px;\n",
       "  }\n",
       "</style>\n",
       "<div class=\"ansiout\"></div>"
      ]
     },
     "metadata": {
      "application/vnd.databricks.v1+output": {
       "addedWidgets": {},
       "arguments": {},
       "data": "<div class=\"ansiout\"></div>",
       "datasetInfos": [],
       "removedWidgets": [],
       "type": "html"
      }
     },
     "output_type": "display_data"
    }
   ],
   "source": [
    "# Create ParamGrid for Cross Validation\n",
    "paramGrid1 = (ParamGridBuilder()\n",
    "             .addGrid(dt_df.maxDepth, [1, 2, 6, 10])\n",
    "             .addGrid(dt_df.maxBins, [20, 40, 80])\n",
    "             .build())"
   ]
  },
  {
   "cell_type": "code",
   "execution_count": 0,
   "metadata": {
    "application/vnd.databricks.v1+cell": {
     "inputWidgets": {},
     "nuid": "d5087951-3bc8-40d9-9eb9-286e8d6986b9",
     "showTitle": false,
     "title": ""
    }
   },
   "outputs": [
    {
     "data": {
      "text/html": [
       "<style scoped>\n",
       "  .ansiout {\n",
       "    display: block;\n",
       "    unicode-bidi: embed;\n",
       "    white-space: pre-wrap;\n",
       "    word-wrap: break-word;\n",
       "    word-break: break-all;\n",
       "    font-family: \"Source Code Pro\", \"Menlo\", monospace;;\n",
       "    font-size: 13px;\n",
       "    color: #555;\n",
       "    margin-left: 4px;\n",
       "    line-height: 19px;\n",
       "  }\n",
       "</style>\n",
       "<div class=\"ansiout\"></div>"
      ]
     },
     "metadata": {
      "application/vnd.databricks.v1+output": {
       "addedWidgets": {},
       "arguments": {},
       "data": "<div class=\"ansiout\"></div>",
       "datasetInfos": [],
       "removedWidgets": [],
       "type": "html"
      }
     },
     "output_type": "display_data"
    }
   ],
   "source": [
    "# Create 5-fold CrossValidator\n",
    "cv1 = CrossValidator(estimator=dt_df, estimatorParamMaps=paramGrid1, evaluator=BinaryClassificationEvaluator(rawPredictionCol='prediction', labelCol='Default'),numFolds=5)"
   ]
  },
  {
   "cell_type": "code",
   "execution_count": 0,
   "metadata": {
    "application/vnd.databricks.v1+cell": {
     "inputWidgets": {},
     "nuid": "503a1572-4940-4052-b1aa-94b18aa01f1a",
     "showTitle": false,
     "title": ""
    }
   },
   "outputs": [
    {
     "data": {
      "text/html": [
       "<style scoped>\n",
       "  .ansiout {\n",
       "    display: block;\n",
       "    unicode-bidi: embed;\n",
       "    white-space: pre-wrap;\n",
       "    word-wrap: break-word;\n",
       "    word-break: break-all;\n",
       "    font-family: \"Source Code Pro\", \"Menlo\", monospace;;\n",
       "    font-size: 13px;\n",
       "    color: #555;\n",
       "    margin-left: 4px;\n",
       "    line-height: 19px;\n",
       "  }\n",
       "</style>\n",
       "<div class=\"ansiout\"></div>"
      ]
     },
     "metadata": {
      "application/vnd.databricks.v1+output": {
       "addedWidgets": {},
       "arguments": {},
       "data": "<div class=\"ansiout\"></div>",
       "datasetInfos": [],
       "removedWidgets": [],
       "type": "html"
      }
     },
     "output_type": "display_data"
    }
   ],
   "source": [
    "# Run cross validations\n",
    "cvModel1 = cv1.fit(datatrain)"
   ]
  },
  {
   "cell_type": "code",
   "execution_count": 0,
   "metadata": {
    "application/vnd.databricks.v1+cell": {
     "inputWidgets": {},
     "nuid": "67b5ed1b-e375-4ed8-aa7e-66555f3d47b5",
     "showTitle": false,
     "title": ""
    }
   },
   "outputs": [
    {
     "data": {
      "text/html": [
       "<style scoped>\n",
       "  .ansiout {\n",
       "    display: block;\n",
       "    unicode-bidi: embed;\n",
       "    white-space: pre-wrap;\n",
       "    word-wrap: break-word;\n",
       "    word-break: break-all;\n",
       "    font-family: \"Source Code Pro\", \"Menlo\", monospace;;\n",
       "    font-size: 13px;\n",
       "    color: #555;\n",
       "    margin-left: 4px;\n",
       "    line-height: 19px;\n",
       "  }\n",
       "</style>\n",
       "<div class=\"ansiout\"></div>"
      ]
     },
     "metadata": {
      "application/vnd.databricks.v1+output": {
       "addedWidgets": {},
       "arguments": {},
       "data": "<div class=\"ansiout\"></div>",
       "datasetInfos": [
        {
         "name": "train_new01_results",
         "schema": {
          "fields": [
           {
            "metadata": {},
            "name": "PAY_1",
            "nullable": true,
            "type": "integer"
           },
           {
            "metadata": {},
            "name": "PAY_2",
            "nullable": true,
            "type": "integer"
           },
           {
            "metadata": {},
            "name": "PAY_3",
            "nullable": true,
            "type": "integer"
           },
           {
            "metadata": {},
            "name": "PAY_4",
            "nullable": true,
            "type": "integer"
           },
           {
            "metadata": {},
            "name": "LIMIT_BAL",
            "nullable": true,
            "type": "double"
           },
           {
            "metadata": {},
            "name": "PAY_6",
            "nullable": true,
            "type": "integer"
           },
           {
            "metadata": {},
            "name": "PAY_5",
            "nullable": true,
            "type": "integer"
           },
           {
            "metadata": {},
            "name": "PAY_AMT2",
            "nullable": true,
            "type": "double"
           },
           {
            "metadata": {},
            "name": "PAY_AMT1",
            "nullable": true,
            "type": "double"
           },
           {
            "metadata": {},
            "name": "BILL_AMT1",
            "nullable": true,
            "type": "double"
           },
           {
            "metadata": {},
            "name": "PAY_AMT3",
            "nullable": true,
            "type": "double"
           },
           {
            "metadata": {},
            "name": "BILL_AMT4",
            "nullable": true,
            "type": "double"
           },
           {
            "metadata": {},
            "name": "PAY_AMT6",
            "nullable": true,
            "type": "double"
           },
           {
            "metadata": {},
            "name": "PAY_AMT4",
            "nullable": true,
            "type": "double"
           },
           {
            "metadata": {},
            "name": "BILL_AMT2",
            "nullable": true,
            "type": "double"
           },
           {
            "metadata": {},
            "name": "BILL_AMT3",
            "nullable": true,
            "type": "double"
           },
           {
            "metadata": {},
            "name": "BILL_AMT5",
            "nullable": true,
            "type": "double"
           },
           {
            "metadata": {},
            "name": "BILL_AMT6",
            "nullable": true,
            "type": "double"
           },
           {
            "metadata": {},
            "name": "AGE",
            "nullable": true,
            "type": "integer"
           },
           {
            "metadata": {},
            "name": "PAY_AMT5",
            "nullable": true,
            "type": "double"
           },
           {
            "metadata": {
             "ml_attr": {
              "name": "MARRIAGEIndex",
              "type": "nominal",
              "vals": [
               "2",
               "1"
              ]
             }
            },
            "name": "MARRIAGEIndex",
            "nullable": false,
            "type": "double"
           },
           {
            "metadata": {},
            "name": "Default",
            "nullable": true,
            "type": "integer"
           },
           {
            "metadata": {
             "ml_attr": {
              "attrs": {
               "nominal": [
                {
                 "idx": 20,
                 "name": "MARRIAGEIndex",
                 "vals": [
                  "2",
                  "1"
                 ]
                }
               ],
               "numeric": [
                {
                 "idx": 0,
                 "name": "PAY_1"
                },
                {
                 "idx": 1,
                 "name": "PAY_2"
                },
                {
                 "idx": 2,
                 "name": "PAY_3"
                },
                {
                 "idx": 3,
                 "name": "PAY_4"
                },
                {
                 "idx": 4,
                 "name": "LIMIT_BAL"
                },
                {
                 "idx": 5,
                 "name": "PAY_6"
                },
                {
                 "idx": 6,
                 "name": "PAY_5"
                },
                {
                 "idx": 7,
                 "name": "PAY_AMT2"
                },
                {
                 "idx": 8,
                 "name": "PAY_AMT1"
                },
                {
                 "idx": 9,
                 "name": "BILL_AMT1"
                },
                {
                 "idx": 10,
                 "name": "PAY_AMT3"
                },
                {
                 "idx": 11,
                 "name": "BILL_AMT4"
                },
                {
                 "idx": 12,
                 "name": "PAY_AMT6"
                },
                {
                 "idx": 13,
                 "name": "PAY_AMT4"
                },
                {
                 "idx": 14,
                 "name": "BILL_AMT2"
                },
                {
                 "idx": 15,
                 "name": "BILL_AMT3"
                },
                {
                 "idx": 16,
                 "name": "BILL_AMT5"
                },
                {
                 "idx": 17,
                 "name": "BILL_AMT6"
                },
                {
                 "idx": 18,
                 "name": "AGE"
                },
                {
                 "idx": 19,
                 "name": "PAY_AMT5"
                }
               ]
              },
              "num_attrs": 21
             }
            },
            "name": "features",
            "nullable": true,
            "type": {
             "class": "org.apache.spark.ml.linalg.VectorUDT",
             "pyClass": "pyspark.ml.linalg.VectorUDT",
             "sqlType": {
              "fields": [
               {
                "metadata": {},
                "name": "type",
                "nullable": false,
                "type": "byte"
               },
               {
                "metadata": {},
                "name": "size",
                "nullable": true,
                "type": "integer"
               },
               {
                "metadata": {},
                "name": "indices",
                "nullable": true,
                "type": {
                 "containsNull": false,
                 "elementType": "integer",
                 "type": "array"
                }
               },
               {
                "metadata": {},
                "name": "values",
                "nullable": true,
                "type": {
                 "containsNull": false,
                 "elementType": "double",
                 "type": "array"
                }
               }
              ],
              "type": "struct"
             },
             "type": "udt"
            }
           },
           {
            "metadata": {
             "ml_attr": {
              "num_attrs": 2
             }
            },
            "name": "rawPrediction",
            "nullable": true,
            "type": {
             "class": "org.apache.spark.ml.linalg.VectorUDT",
             "pyClass": "pyspark.ml.linalg.VectorUDT",
             "sqlType": {
              "fields": [
               {
                "metadata": {},
                "name": "type",
                "nullable": false,
                "type": "byte"
               },
               {
                "metadata": {},
                "name": "size",
                "nullable": true,
                "type": "integer"
               },
               {
                "metadata": {},
                "name": "indices",
                "nullable": true,
                "type": {
                 "containsNull": false,
                 "elementType": "integer",
                 "type": "array"
                }
               },
               {
                "metadata": {},
                "name": "values",
                "nullable": true,
                "type": {
                 "containsNull": false,
                 "elementType": "double",
                 "type": "array"
                }
               }
              ],
              "type": "struct"
             },
             "type": "udt"
            }
           },
           {
            "metadata": {
             "ml_attr": {
              "num_attrs": 2
             }
            },
            "name": "probability",
            "nullable": true,
            "type": {
             "class": "org.apache.spark.ml.linalg.VectorUDT",
             "pyClass": "pyspark.ml.linalg.VectorUDT",
             "sqlType": {
              "fields": [
               {
                "metadata": {},
                "name": "type",
                "nullable": false,
                "type": "byte"
               },
               {
                "metadata": {},
                "name": "size",
                "nullable": true,
                "type": "integer"
               },
               {
                "metadata": {},
                "name": "indices",
                "nullable": true,
                "type": {
                 "containsNull": false,
                 "elementType": "integer",
                 "type": "array"
                }
               },
               {
                "metadata": {},
                "name": "values",
                "nullable": true,
                "type": {
                 "containsNull": false,
                 "elementType": "double",
                 "type": "array"
                }
               }
              ],
              "type": "struct"
             },
             "type": "udt"
            }
           },
           {
            "metadata": {
             "ml_attr": {
              "num_vals": 2,
              "type": "nominal"
             }
            },
            "name": "prediction",
            "nullable": false,
            "type": "double"
           }
          ],
          "type": "struct"
         },
         "tableIdentifier": null,
         "typeStr": "pyspark.sql.dataframe.DataFrame"
        },
        {
         "name": "test_new01_results",
         "schema": {
          "fields": [
           {
            "metadata": {},
            "name": "PAY_1",
            "nullable": true,
            "type": "integer"
           },
           {
            "metadata": {},
            "name": "PAY_2",
            "nullable": true,
            "type": "integer"
           },
           {
            "metadata": {},
            "name": "PAY_3",
            "nullable": true,
            "type": "integer"
           },
           {
            "metadata": {},
            "name": "PAY_4",
            "nullable": true,
            "type": "integer"
           },
           {
            "metadata": {},
            "name": "LIMIT_BAL",
            "nullable": true,
            "type": "double"
           },
           {
            "metadata": {},
            "name": "PAY_6",
            "nullable": true,
            "type": "integer"
           },
           {
            "metadata": {},
            "name": "PAY_5",
            "nullable": true,
            "type": "integer"
           },
           {
            "metadata": {},
            "name": "PAY_AMT2",
            "nullable": true,
            "type": "double"
           },
           {
            "metadata": {},
            "name": "PAY_AMT1",
            "nullable": true,
            "type": "double"
           },
           {
            "metadata": {},
            "name": "BILL_AMT1",
            "nullable": true,
            "type": "double"
           },
           {
            "metadata": {},
            "name": "PAY_AMT3",
            "nullable": true,
            "type": "double"
           },
           {
            "metadata": {},
            "name": "BILL_AMT4",
            "nullable": true,
            "type": "double"
           },
           {
            "metadata": {},
            "name": "PAY_AMT6",
            "nullable": true,
            "type": "double"
           },
           {
            "metadata": {},
            "name": "PAY_AMT4",
            "nullable": true,
            "type": "double"
           },
           {
            "metadata": {},
            "name": "BILL_AMT2",
            "nullable": true,
            "type": "double"
           },
           {
            "metadata": {},
            "name": "BILL_AMT3",
            "nullable": true,
            "type": "double"
           },
           {
            "metadata": {},
            "name": "BILL_AMT5",
            "nullable": true,
            "type": "double"
           },
           {
            "metadata": {},
            "name": "BILL_AMT6",
            "nullable": true,
            "type": "double"
           },
           {
            "metadata": {},
            "name": "AGE",
            "nullable": true,
            "type": "integer"
           },
           {
            "metadata": {},
            "name": "PAY_AMT5",
            "nullable": true,
            "type": "double"
           },
           {
            "metadata": {
             "ml_attr": {
              "name": "MARRIAGEIndex",
              "type": "nominal",
              "vals": [
               "2",
               "1"
              ]
             }
            },
            "name": "MARRIAGEIndex",
            "nullable": false,
            "type": "double"
           },
           {
            "metadata": {},
            "name": "Default",
            "nullable": true,
            "type": "integer"
           },
           {
            "metadata": {
             "ml_attr": {
              "attrs": {
               "nominal": [
                {
                 "idx": 20,
                 "name": "MARRIAGEIndex",
                 "vals": [
                  "2",
                  "1"
                 ]
                }
               ],
               "numeric": [
                {
                 "idx": 0,
                 "name": "PAY_1"
                },
                {
                 "idx": 1,
                 "name": "PAY_2"
                },
                {
                 "idx": 2,
                 "name": "PAY_3"
                },
                {
                 "idx": 3,
                 "name": "PAY_4"
                },
                {
                 "idx": 4,
                 "name": "LIMIT_BAL"
                },
                {
                 "idx": 5,
                 "name": "PAY_6"
                },
                {
                 "idx": 6,
                 "name": "PAY_5"
                },
                {
                 "idx": 7,
                 "name": "PAY_AMT2"
                },
                {
                 "idx": 8,
                 "name": "PAY_AMT1"
                },
                {
                 "idx": 9,
                 "name": "BILL_AMT1"
                },
                {
                 "idx": 10,
                 "name": "PAY_AMT3"
                },
                {
                 "idx": 11,
                 "name": "BILL_AMT4"
                },
                {
                 "idx": 12,
                 "name": "PAY_AMT6"
                },
                {
                 "idx": 13,
                 "name": "PAY_AMT4"
                },
                {
                 "idx": 14,
                 "name": "BILL_AMT2"
                },
                {
                 "idx": 15,
                 "name": "BILL_AMT3"
                },
                {
                 "idx": 16,
                 "name": "BILL_AMT5"
                },
                {
                 "idx": 17,
                 "name": "BILL_AMT6"
                },
                {
                 "idx": 18,
                 "name": "AGE"
                },
                {
                 "idx": 19,
                 "name": "PAY_AMT5"
                }
               ]
              },
              "num_attrs": 21
             }
            },
            "name": "features",
            "nullable": true,
            "type": {
             "class": "org.apache.spark.ml.linalg.VectorUDT",
             "pyClass": "pyspark.ml.linalg.VectorUDT",
             "sqlType": {
              "fields": [
               {
                "metadata": {},
                "name": "type",
                "nullable": false,
                "type": "byte"
               },
               {
                "metadata": {},
                "name": "size",
                "nullable": true,
                "type": "integer"
               },
               {
                "metadata": {},
                "name": "indices",
                "nullable": true,
                "type": {
                 "containsNull": false,
                 "elementType": "integer",
                 "type": "array"
                }
               },
               {
                "metadata": {},
                "name": "values",
                "nullable": true,
                "type": {
                 "containsNull": false,
                 "elementType": "double",
                 "type": "array"
                }
               }
              ],
              "type": "struct"
             },
             "type": "udt"
            }
           },
           {
            "metadata": {
             "ml_attr": {
              "num_attrs": 2
             }
            },
            "name": "rawPrediction",
            "nullable": true,
            "type": {
             "class": "org.apache.spark.ml.linalg.VectorUDT",
             "pyClass": "pyspark.ml.linalg.VectorUDT",
             "sqlType": {
              "fields": [
               {
                "metadata": {},
                "name": "type",
                "nullable": false,
                "type": "byte"
               },
               {
                "metadata": {},
                "name": "size",
                "nullable": true,
                "type": "integer"
               },
               {
                "metadata": {},
                "name": "indices",
                "nullable": true,
                "type": {
                 "containsNull": false,
                 "elementType": "integer",
                 "type": "array"
                }
               },
               {
                "metadata": {},
                "name": "values",
                "nullable": true,
                "type": {
                 "containsNull": false,
                 "elementType": "double",
                 "type": "array"
                }
               }
              ],
              "type": "struct"
             },
             "type": "udt"
            }
           },
           {
            "metadata": {
             "ml_attr": {
              "num_attrs": 2
             }
            },
            "name": "probability",
            "nullable": true,
            "type": {
             "class": "org.apache.spark.ml.linalg.VectorUDT",
             "pyClass": "pyspark.ml.linalg.VectorUDT",
             "sqlType": {
              "fields": [
               {
                "metadata": {},
                "name": "type",
                "nullable": false,
                "type": "byte"
               },
               {
                "metadata": {},
                "name": "size",
                "nullable": true,
                "type": "integer"
               },
               {
                "metadata": {},
                "name": "indices",
                "nullable": true,
                "type": {
                 "containsNull": false,
                 "elementType": "integer",
                 "type": "array"
                }
               },
               {
                "metadata": {},
                "name": "values",
                "nullable": true,
                "type": {
                 "containsNull": false,
                 "elementType": "double",
                 "type": "array"
                }
               }
              ],
              "type": "struct"
             },
             "type": "udt"
            }
           },
           {
            "metadata": {
             "ml_attr": {
              "num_vals": 2,
              "type": "nominal"
             }
            },
            "name": "prediction",
            "nullable": false,
            "type": "double"
           }
          ],
          "type": "struct"
         },
         "tableIdentifier": null,
         "typeStr": "pyspark.sql.dataframe.DataFrame"
        }
       ],
       "removedWidgets": [],
       "type": "html"
      }
     },
     "output_type": "display_data"
    }
   ],
   "source": [
    "train_new01_results = cvModel1.transform(datatrain)\n",
    "test_new01_results = cvModel1.transform(datatest)\n",
    "\n",
    "AUC_test_new01 = AUC_eval.evaluate(test_new01_results)\n",
    "AUC_train_new01 = AUC_eval.evaluate(train_new01_results)\n",
    "\n",
    "Accu_test_new01 = Accu_evaluator.evaluate(test_new01_results, {Accu_evaluator.metricName: \"accuracy\"})\n",
    "Accu_train_new01 = Accu_evaluator.evaluate(train_new01_results, {Accu_evaluator.metricName: \"accuracy\"})"
   ]
  },
  {
   "cell_type": "code",
   "execution_count": 0,
   "metadata": {
    "application/vnd.databricks.v1+cell": {
     "inputWidgets": {},
     "nuid": "fe3640cc-51f2-4e73-b596-6ac5b8ba4564",
     "showTitle": false,
     "title": ""
    }
   },
   "outputs": [
    {
     "data": {
      "text/html": [
       "<style scoped>\n",
       "  .ansiout {\n",
       "    display: block;\n",
       "    unicode-bidi: embed;\n",
       "    white-space: pre-wrap;\n",
       "    word-wrap: break-word;\n",
       "    word-break: break-all;\n",
       "    font-family: \"Source Code Pro\", \"Menlo\", monospace;;\n",
       "    font-size: 13px;\n",
       "    color: #555;\n",
       "    margin-left: 4px;\n",
       "    line-height: 19px;\n",
       "  }\n",
       "</style>\n",
       "<div class=\"ansiout\">Test AUC with Label Encoding &amp; feature selection 0.7333074275164758\n",
       "Train AUC with Label Encoding &amp; feature selection 0.7645795124963434\n",
       "\n",
       "\n",
       "Accuracy: Test with Label Encoding &amp; feature selection 0.7331811759591349\n",
       "Accuracy: Train with Label Encoding &amp; feature selection 0.764611997798569\n",
       "</div>"
      ]
     },
     "metadata": {
      "application/vnd.databricks.v1+output": {
       "addedWidgets": {},
       "arguments": {},
       "data": "<div class=\"ansiout\">Test AUC with Label Encoding &amp; feature selection 0.7333074275164758\nTrain AUC with Label Encoding &amp; feature selection 0.7645795124963434\n\n\nAccuracy: Test with Label Encoding &amp; feature selection 0.7331811759591349\nAccuracy: Train with Label Encoding &amp; feature selection 0.764611997798569\n</div>",
       "datasetInfos": [],
       "removedWidgets": [],
       "type": "html"
      }
     },
     "output_type": "display_data"
    }
   ],
   "source": [
    "print(\"Test AUC with Label Encoding & feature selection\", AUC_test_new01)\n",
    "print(\"Train AUC with Label Encoding & feature selection\", AUC_train_new01)\n",
    "print(\"\\n\")\n",
    "print(\"Accuracy: Test with Label Encoding & feature selection\", Accu_test_new01)\n",
    "print(\"Accuracy: Train with Label Encoding & feature selection\", Accu_train_new01)"
   ]
  },
  {
   "cell_type": "markdown",
   "metadata": {
    "application/vnd.databricks.v1+cell": {
     "inputWidgets": {},
     "nuid": "d19a40c3-966d-44fe-9a81-c767de975929",
     "showTitle": true,
     "title": "Now we will try tuning the model（Random forest） with the ParamGridBuilder and the CrossValidator."
    }
   },
   "source": [
    "As we indicate 4 values for maxDepth, 3 values for maxBin, and 2 values for numTrees, this grid will have 4 x 3 x 2 = 24 parameter settings for CrossValidator to choose from. We will create a 5-fold CrossValidator."
   ]
  },
  {
   "cell_type": "code",
   "execution_count": 0,
   "metadata": {
    "application/vnd.databricks.v1+cell": {
     "inputWidgets": {},
     "nuid": "faad2732-9f00-402b-be07-f5ef3b853887",
     "showTitle": false,
     "title": ""
    }
   },
   "outputs": [
    {
     "data": {
      "text/html": [
       "<style scoped>\n",
       "  .ansiout {\n",
       "    display: block;\n",
       "    unicode-bidi: embed;\n",
       "    white-space: pre-wrap;\n",
       "    word-wrap: break-word;\n",
       "    word-break: break-all;\n",
       "    font-family: \"Source Code Pro\", \"Menlo\", monospace;;\n",
       "    font-size: 13px;\n",
       "    color: #555;\n",
       "    margin-left: 4px;\n",
       "    line-height: 19px;\n",
       "  }\n",
       "</style>\n",
       "<div class=\"ansiout\"></div>"
      ]
     },
     "metadata": {
      "application/vnd.databricks.v1+output": {
       "addedWidgets": {},
       "arguments": {},
       "data": "<div class=\"ansiout\"></div>",
       "datasetInfos": [],
       "removedWidgets": [],
       "type": "html"
      }
     },
     "output_type": "display_data"
    }
   ],
   "source": [
    "# Create ParamGrid for Cross Validation\n",
    "paramGrid2 = (ParamGridBuilder()\n",
    "             .addGrid(rf_df.maxDepth, [1, 2, 6, 10])\n",
    "             .addGrid(rf_df.maxBins, [20, 40, 80])\n",
    "             .addGrid(rf_df.numTrees, [5, 20])\n",
    "             .build())"
   ]
  },
  {
   "cell_type": "code",
   "execution_count": 0,
   "metadata": {
    "application/vnd.databricks.v1+cell": {
     "inputWidgets": {},
     "nuid": "9c556339-8008-45c0-bb34-08d82c977c3f",
     "showTitle": false,
     "title": ""
    }
   },
   "outputs": [
    {
     "data": {
      "text/html": [
       "<style scoped>\n",
       "  .ansiout {\n",
       "    display: block;\n",
       "    unicode-bidi: embed;\n",
       "    white-space: pre-wrap;\n",
       "    word-wrap: break-word;\n",
       "    word-break: break-all;\n",
       "    font-family: \"Source Code Pro\", \"Menlo\", monospace;;\n",
       "    font-size: 13px;\n",
       "    color: #555;\n",
       "    margin-left: 4px;\n",
       "    line-height: 19px;\n",
       "  }\n",
       "</style>\n",
       "<div class=\"ansiout\"></div>"
      ]
     },
     "metadata": {
      "application/vnd.databricks.v1+output": {
       "addedWidgets": {},
       "arguments": {},
       "data": "<div class=\"ansiout\"></div>",
       "datasetInfos": [],
       "removedWidgets": [],
       "type": "html"
      }
     },
     "output_type": "display_data"
    }
   ],
   "source": [
    "# Create 5-fold CrossValidator\n",
    "cv2 = CrossValidator(estimator=rf_df, estimatorParamMaps=paramGrid2, evaluator=BinaryClassificationEvaluator(rawPredictionCol='prediction', labelCol='Default'),numFolds=5)"
   ]
  },
  {
   "cell_type": "code",
   "execution_count": 0,
   "metadata": {
    "application/vnd.databricks.v1+cell": {
     "inputWidgets": {},
     "nuid": "919686ba-741d-428f-a23d-c906d998aed7",
     "showTitle": false,
     "title": ""
    }
   },
   "outputs": [
    {
     "data": {
      "text/html": [
       "<style scoped>\n",
       "  .ansiout {\n",
       "    display: block;\n",
       "    unicode-bidi: embed;\n",
       "    white-space: pre-wrap;\n",
       "    word-wrap: break-word;\n",
       "    word-break: break-all;\n",
       "    font-family: \"Source Code Pro\", \"Menlo\", monospace;;\n",
       "    font-size: 13px;\n",
       "    color: #555;\n",
       "    margin-left: 4px;\n",
       "    line-height: 19px;\n",
       "  }\n",
       "</style>\n",
       "<div class=\"ansiout\"></div>"
      ]
     },
     "metadata": {
      "application/vnd.databricks.v1+output": {
       "addedWidgets": {},
       "arguments": {},
       "data": "<div class=\"ansiout\"></div>",
       "datasetInfos": [],
       "removedWidgets": [],
       "type": "html"
      }
     },
     "output_type": "display_data"
    }
   ],
   "source": [
    "# Run cross validations\n",
    "cvModel2 = cv2.fit(datatrain)"
   ]
  },
  {
   "cell_type": "code",
   "execution_count": 0,
   "metadata": {
    "application/vnd.databricks.v1+cell": {
     "inputWidgets": {},
     "nuid": "5871f5d4-81c8-4678-bd8f-4ce2bd2e9380",
     "showTitle": false,
     "title": ""
    }
   },
   "outputs": [
    {
     "data": {
      "text/html": [
       "<style scoped>\n",
       "  .ansiout {\n",
       "    display: block;\n",
       "    unicode-bidi: embed;\n",
       "    white-space: pre-wrap;\n",
       "    word-wrap: break-word;\n",
       "    word-break: break-all;\n",
       "    font-family: \"Source Code Pro\", \"Menlo\", monospace;;\n",
       "    font-size: 13px;\n",
       "    color: #555;\n",
       "    margin-left: 4px;\n",
       "    line-height: 19px;\n",
       "  }\n",
       "</style>\n",
       "<div class=\"ansiout\"></div>"
      ]
     },
     "metadata": {
      "application/vnd.databricks.v1+output": {
       "addedWidgets": {},
       "arguments": {},
       "data": "<div class=\"ansiout\"></div>",
       "datasetInfos": [
        {
         "name": "train_new02_results",
         "schema": {
          "fields": [
           {
            "metadata": {},
            "name": "PAY_1",
            "nullable": true,
            "type": "integer"
           },
           {
            "metadata": {},
            "name": "PAY_2",
            "nullable": true,
            "type": "integer"
           },
           {
            "metadata": {},
            "name": "PAY_3",
            "nullable": true,
            "type": "integer"
           },
           {
            "metadata": {},
            "name": "PAY_4",
            "nullable": true,
            "type": "integer"
           },
           {
            "metadata": {},
            "name": "LIMIT_BAL",
            "nullable": true,
            "type": "double"
           },
           {
            "metadata": {},
            "name": "PAY_6",
            "nullable": true,
            "type": "integer"
           },
           {
            "metadata": {},
            "name": "PAY_5",
            "nullable": true,
            "type": "integer"
           },
           {
            "metadata": {},
            "name": "PAY_AMT2",
            "nullable": true,
            "type": "double"
           },
           {
            "metadata": {},
            "name": "PAY_AMT1",
            "nullable": true,
            "type": "double"
           },
           {
            "metadata": {},
            "name": "BILL_AMT1",
            "nullable": true,
            "type": "double"
           },
           {
            "metadata": {},
            "name": "PAY_AMT3",
            "nullable": true,
            "type": "double"
           },
           {
            "metadata": {},
            "name": "BILL_AMT4",
            "nullable": true,
            "type": "double"
           },
           {
            "metadata": {},
            "name": "PAY_AMT6",
            "nullable": true,
            "type": "double"
           },
           {
            "metadata": {},
            "name": "PAY_AMT4",
            "nullable": true,
            "type": "double"
           },
           {
            "metadata": {},
            "name": "BILL_AMT2",
            "nullable": true,
            "type": "double"
           },
           {
            "metadata": {},
            "name": "BILL_AMT3",
            "nullable": true,
            "type": "double"
           },
           {
            "metadata": {},
            "name": "BILL_AMT5",
            "nullable": true,
            "type": "double"
           },
           {
            "metadata": {},
            "name": "BILL_AMT6",
            "nullable": true,
            "type": "double"
           },
           {
            "metadata": {},
            "name": "AGE",
            "nullable": true,
            "type": "integer"
           },
           {
            "metadata": {},
            "name": "PAY_AMT5",
            "nullable": true,
            "type": "double"
           },
           {
            "metadata": {
             "ml_attr": {
              "name": "MARRIAGEIndex",
              "type": "nominal",
              "vals": [
               "2",
               "1"
              ]
             }
            },
            "name": "MARRIAGEIndex",
            "nullable": false,
            "type": "double"
           },
           {
            "metadata": {},
            "name": "Default",
            "nullable": true,
            "type": "integer"
           },
           {
            "metadata": {
             "ml_attr": {
              "attrs": {
               "nominal": [
                {
                 "idx": 20,
                 "name": "MARRIAGEIndex",
                 "vals": [
                  "2",
                  "1"
                 ]
                }
               ],
               "numeric": [
                {
                 "idx": 0,
                 "name": "PAY_1"
                },
                {
                 "idx": 1,
                 "name": "PAY_2"
                },
                {
                 "idx": 2,
                 "name": "PAY_3"
                },
                {
                 "idx": 3,
                 "name": "PAY_4"
                },
                {
                 "idx": 4,
                 "name": "LIMIT_BAL"
                },
                {
                 "idx": 5,
                 "name": "PAY_6"
                },
                {
                 "idx": 6,
                 "name": "PAY_5"
                },
                {
                 "idx": 7,
                 "name": "PAY_AMT2"
                },
                {
                 "idx": 8,
                 "name": "PAY_AMT1"
                },
                {
                 "idx": 9,
                 "name": "BILL_AMT1"
                },
                {
                 "idx": 10,
                 "name": "PAY_AMT3"
                },
                {
                 "idx": 11,
                 "name": "BILL_AMT4"
                },
                {
                 "idx": 12,
                 "name": "PAY_AMT6"
                },
                {
                 "idx": 13,
                 "name": "PAY_AMT4"
                },
                {
                 "idx": 14,
                 "name": "BILL_AMT2"
                },
                {
                 "idx": 15,
                 "name": "BILL_AMT3"
                },
                {
                 "idx": 16,
                 "name": "BILL_AMT5"
                },
                {
                 "idx": 17,
                 "name": "BILL_AMT6"
                },
                {
                 "idx": 18,
                 "name": "AGE"
                },
                {
                 "idx": 19,
                 "name": "PAY_AMT5"
                }
               ]
              },
              "num_attrs": 21
             }
            },
            "name": "features",
            "nullable": true,
            "type": {
             "class": "org.apache.spark.ml.linalg.VectorUDT",
             "pyClass": "pyspark.ml.linalg.VectorUDT",
             "sqlType": {
              "fields": [
               {
                "metadata": {},
                "name": "type",
                "nullable": false,
                "type": "byte"
               },
               {
                "metadata": {},
                "name": "size",
                "nullable": true,
                "type": "integer"
               },
               {
                "metadata": {},
                "name": "indices",
                "nullable": true,
                "type": {
                 "containsNull": false,
                 "elementType": "integer",
                 "type": "array"
                }
               },
               {
                "metadata": {},
                "name": "values",
                "nullable": true,
                "type": {
                 "containsNull": false,
                 "elementType": "double",
                 "type": "array"
                }
               }
              ],
              "type": "struct"
             },
             "type": "udt"
            }
           },
           {
            "metadata": {
             "ml_attr": {
              "num_attrs": 2
             }
            },
            "name": "rawPrediction",
            "nullable": true,
            "type": {
             "class": "org.apache.spark.ml.linalg.VectorUDT",
             "pyClass": "pyspark.ml.linalg.VectorUDT",
             "sqlType": {
              "fields": [
               {
                "metadata": {},
                "name": "type",
                "nullable": false,
                "type": "byte"
               },
               {
                "metadata": {},
                "name": "size",
                "nullable": true,
                "type": "integer"
               },
               {
                "metadata": {},
                "name": "indices",
                "nullable": true,
                "type": {
                 "containsNull": false,
                 "elementType": "integer",
                 "type": "array"
                }
               },
               {
                "metadata": {},
                "name": "values",
                "nullable": true,
                "type": {
                 "containsNull": false,
                 "elementType": "double",
                 "type": "array"
                }
               }
              ],
              "type": "struct"
             },
             "type": "udt"
            }
           },
           {
            "metadata": {
             "ml_attr": {
              "num_attrs": 2
             }
            },
            "name": "probability",
            "nullable": true,
            "type": {
             "class": "org.apache.spark.ml.linalg.VectorUDT",
             "pyClass": "pyspark.ml.linalg.VectorUDT",
             "sqlType": {
              "fields": [
               {
                "metadata": {},
                "name": "type",
                "nullable": false,
                "type": "byte"
               },
               {
                "metadata": {},
                "name": "size",
                "nullable": true,
                "type": "integer"
               },
               {
                "metadata": {},
                "name": "indices",
                "nullable": true,
                "type": {
                 "containsNull": false,
                 "elementType": "integer",
                 "type": "array"
                }
               },
               {
                "metadata": {},
                "name": "values",
                "nullable": true,
                "type": {
                 "containsNull": false,
                 "elementType": "double",
                 "type": "array"
                }
               }
              ],
              "type": "struct"
             },
             "type": "udt"
            }
           },
           {
            "metadata": {
             "ml_attr": {
              "num_vals": 2,
              "type": "nominal"
             }
            },
            "name": "prediction",
            "nullable": false,
            "type": "double"
           }
          ],
          "type": "struct"
         },
         "tableIdentifier": null,
         "typeStr": "pyspark.sql.dataframe.DataFrame"
        },
        {
         "name": "test_new02_results",
         "schema": {
          "fields": [
           {
            "metadata": {},
            "name": "PAY_1",
            "nullable": true,
            "type": "integer"
           },
           {
            "metadata": {},
            "name": "PAY_2",
            "nullable": true,
            "type": "integer"
           },
           {
            "metadata": {},
            "name": "PAY_3",
            "nullable": true,
            "type": "integer"
           },
           {
            "metadata": {},
            "name": "PAY_4",
            "nullable": true,
            "type": "integer"
           },
           {
            "metadata": {},
            "name": "LIMIT_BAL",
            "nullable": true,
            "type": "double"
           },
           {
            "metadata": {},
            "name": "PAY_6",
            "nullable": true,
            "type": "integer"
           },
           {
            "metadata": {},
            "name": "PAY_5",
            "nullable": true,
            "type": "integer"
           },
           {
            "metadata": {},
            "name": "PAY_AMT2",
            "nullable": true,
            "type": "double"
           },
           {
            "metadata": {},
            "name": "PAY_AMT1",
            "nullable": true,
            "type": "double"
           },
           {
            "metadata": {},
            "name": "BILL_AMT1",
            "nullable": true,
            "type": "double"
           },
           {
            "metadata": {},
            "name": "PAY_AMT3",
            "nullable": true,
            "type": "double"
           },
           {
            "metadata": {},
            "name": "BILL_AMT4",
            "nullable": true,
            "type": "double"
           },
           {
            "metadata": {},
            "name": "PAY_AMT6",
            "nullable": true,
            "type": "double"
           },
           {
            "metadata": {},
            "name": "PAY_AMT4",
            "nullable": true,
            "type": "double"
           },
           {
            "metadata": {},
            "name": "BILL_AMT2",
            "nullable": true,
            "type": "double"
           },
           {
            "metadata": {},
            "name": "BILL_AMT3",
            "nullable": true,
            "type": "double"
           },
           {
            "metadata": {},
            "name": "BILL_AMT5",
            "nullable": true,
            "type": "double"
           },
           {
            "metadata": {},
            "name": "BILL_AMT6",
            "nullable": true,
            "type": "double"
           },
           {
            "metadata": {},
            "name": "AGE",
            "nullable": true,
            "type": "integer"
           },
           {
            "metadata": {},
            "name": "PAY_AMT5",
            "nullable": true,
            "type": "double"
           },
           {
            "metadata": {
             "ml_attr": {
              "name": "MARRIAGEIndex",
              "type": "nominal",
              "vals": [
               "2",
               "1"
              ]
             }
            },
            "name": "MARRIAGEIndex",
            "nullable": false,
            "type": "double"
           },
           {
            "metadata": {},
            "name": "Default",
            "nullable": true,
            "type": "integer"
           },
           {
            "metadata": {
             "ml_attr": {
              "attrs": {
               "nominal": [
                {
                 "idx": 20,
                 "name": "MARRIAGEIndex",
                 "vals": [
                  "2",
                  "1"
                 ]
                }
               ],
               "numeric": [
                {
                 "idx": 0,
                 "name": "PAY_1"
                },
                {
                 "idx": 1,
                 "name": "PAY_2"
                },
                {
                 "idx": 2,
                 "name": "PAY_3"
                },
                {
                 "idx": 3,
                 "name": "PAY_4"
                },
                {
                 "idx": 4,
                 "name": "LIMIT_BAL"
                },
                {
                 "idx": 5,
                 "name": "PAY_6"
                },
                {
                 "idx": 6,
                 "name": "PAY_5"
                },
                {
                 "idx": 7,
                 "name": "PAY_AMT2"
                },
                {
                 "idx": 8,
                 "name": "PAY_AMT1"
                },
                {
                 "idx": 9,
                 "name": "BILL_AMT1"
                },
                {
                 "idx": 10,
                 "name": "PAY_AMT3"
                },
                {
                 "idx": 11,
                 "name": "BILL_AMT4"
                },
                {
                 "idx": 12,
                 "name": "PAY_AMT6"
                },
                {
                 "idx": 13,
                 "name": "PAY_AMT4"
                },
                {
                 "idx": 14,
                 "name": "BILL_AMT2"
                },
                {
                 "idx": 15,
                 "name": "BILL_AMT3"
                },
                {
                 "idx": 16,
                 "name": "BILL_AMT5"
                },
                {
                 "idx": 17,
                 "name": "BILL_AMT6"
                },
                {
                 "idx": 18,
                 "name": "AGE"
                },
                {
                 "idx": 19,
                 "name": "PAY_AMT5"
                }
               ]
              },
              "num_attrs": 21
             }
            },
            "name": "features",
            "nullable": true,
            "type": {
             "class": "org.apache.spark.ml.linalg.VectorUDT",
             "pyClass": "pyspark.ml.linalg.VectorUDT",
             "sqlType": {
              "fields": [
               {
                "metadata": {},
                "name": "type",
                "nullable": false,
                "type": "byte"
               },
               {
                "metadata": {},
                "name": "size",
                "nullable": true,
                "type": "integer"
               },
               {
                "metadata": {},
                "name": "indices",
                "nullable": true,
                "type": {
                 "containsNull": false,
                 "elementType": "integer",
                 "type": "array"
                }
               },
               {
                "metadata": {},
                "name": "values",
                "nullable": true,
                "type": {
                 "containsNull": false,
                 "elementType": "double",
                 "type": "array"
                }
               }
              ],
              "type": "struct"
             },
             "type": "udt"
            }
           },
           {
            "metadata": {
             "ml_attr": {
              "num_attrs": 2
             }
            },
            "name": "rawPrediction",
            "nullable": true,
            "type": {
             "class": "org.apache.spark.ml.linalg.VectorUDT",
             "pyClass": "pyspark.ml.linalg.VectorUDT",
             "sqlType": {
              "fields": [
               {
                "metadata": {},
                "name": "type",
                "nullable": false,
                "type": "byte"
               },
               {
                "metadata": {},
                "name": "size",
                "nullable": true,
                "type": "integer"
               },
               {
                "metadata": {},
                "name": "indices",
                "nullable": true,
                "type": {
                 "containsNull": false,
                 "elementType": "integer",
                 "type": "array"
                }
               },
               {
                "metadata": {},
                "name": "values",
                "nullable": true,
                "type": {
                 "containsNull": false,
                 "elementType": "double",
                 "type": "array"
                }
               }
              ],
              "type": "struct"
             },
             "type": "udt"
            }
           },
           {
            "metadata": {
             "ml_attr": {
              "num_attrs": 2
             }
            },
            "name": "probability",
            "nullable": true,
            "type": {
             "class": "org.apache.spark.ml.linalg.VectorUDT",
             "pyClass": "pyspark.ml.linalg.VectorUDT",
             "sqlType": {
              "fields": [
               {
                "metadata": {},
                "name": "type",
                "nullable": false,
                "type": "byte"
               },
               {
                "metadata": {},
                "name": "size",
                "nullable": true,
                "type": "integer"
               },
               {
                "metadata": {},
                "name": "indices",
                "nullable": true,
                "type": {
                 "containsNull": false,
                 "elementType": "integer",
                 "type": "array"
                }
               },
               {
                "metadata": {},
                "name": "values",
                "nullable": true,
                "type": {
                 "containsNull": false,
                 "elementType": "double",
                 "type": "array"
                }
               }
              ],
              "type": "struct"
             },
             "type": "udt"
            }
           },
           {
            "metadata": {
             "ml_attr": {
              "num_vals": 2,
              "type": "nominal"
             }
            },
            "name": "prediction",
            "nullable": false,
            "type": "double"
           }
          ],
          "type": "struct"
         },
         "tableIdentifier": null,
         "typeStr": "pyspark.sql.dataframe.DataFrame"
        }
       ],
       "removedWidgets": [],
       "type": "html"
      }
     },
     "output_type": "display_data"
    }
   ],
   "source": [
    "train_new02_results = cvModel2.transform(datatrain)\n",
    "test_new02_results = cvModel2.transform(datatest)\n",
    "\n",
    "AUC_test_new02 = AUC_eval.evaluate(test_new02_results)\n",
    "AUC_train_new02 = AUC_eval.evaluate(train_new02_results)\n",
    "\n",
    "Accu_test_new02 = Accu_evaluator.evaluate(test_new02_results, {Accu_evaluator.metricName: \"accuracy\"})\n",
    "Accu_train_new02 = Accu_evaluator.evaluate(train_new02_results, {Accu_evaluator.metricName: \"accuracy\"})"
   ]
  },
  {
   "cell_type": "code",
   "execution_count": 0,
   "metadata": {
    "application/vnd.databricks.v1+cell": {
     "inputWidgets": {},
     "nuid": "377d7f03-2668-4caa-a7b0-d1165f7d4a32",
     "showTitle": false,
     "title": ""
    }
   },
   "outputs": [
    {
     "data": {
      "text/html": [
       "<style scoped>\n",
       "  .ansiout {\n",
       "    display: block;\n",
       "    unicode-bidi: embed;\n",
       "    white-space: pre-wrap;\n",
       "    word-wrap: break-word;\n",
       "    word-break: break-all;\n",
       "    font-family: \"Source Code Pro\", \"Menlo\", monospace;;\n",
       "    font-size: 13px;\n",
       "    color: #555;\n",
       "    margin-left: 4px;\n",
       "    line-height: 19px;\n",
       "  }\n",
       "</style>\n",
       "<div class=\"ansiout\">Test AUC with Label Encoding &amp; feature selection 0.761141312513927\n",
       "Train AUC with Label Encoding &amp; feature selection 0.781501063980174\n",
       "\n",
       "\n",
       "Accuracy: Test with Label Encoding &amp; feature selection 0.7606781871535703\n",
       "Accuracy: Train with Label Encoding &amp; feature selection 0.7815905338470005\n",
       "</div>"
      ]
     },
     "metadata": {
      "application/vnd.databricks.v1+output": {
       "addedWidgets": {},
       "arguments": {},
       "data": "<div class=\"ansiout\">Test AUC with Label Encoding &amp; feature selection 0.761141312513927\nTrain AUC with Label Encoding &amp; feature selection 0.781501063980174\n\n\nAccuracy: Test with Label Encoding &amp; feature selection 0.7606781871535703\nAccuracy: Train with Label Encoding &amp; feature selection 0.7815905338470005\n</div>",
       "datasetInfos": [],
       "removedWidgets": [],
       "type": "html"
      }
     },
     "output_type": "display_data"
    }
   ],
   "source": [
    "print(\"Test AUC with Label Encoding & feature selection\", AUC_test_new02)\n",
    "print(\"Train AUC with Label Encoding & feature selection\", AUC_train_new02)\n",
    "print(\"\\n\")\n",
    "print(\"Accuracy: Test with Label Encoding & feature selection\", Accu_test_new02)\n",
    "print(\"Accuracy: Train with Label Encoding & feature selection\", Accu_train_new02)"
   ]
  },
  {
   "cell_type": "markdown",
   "metadata": {
    "application/vnd.databricks.v1+cell": {
     "inputWidgets": {},
     "nuid": "a4730d1f-c320-4faf-9881-e97a0e775257",
     "showTitle": true,
     "title": "Conclusion"
    }
   },
   "source": [
    "The best model is Random forest（tuning with the ParamGridBuilder and the CrossValidator.）\n",
    "- Test AUC with Label Encoding & feature selection 0.761141312513927\n",
    "\n",
    "- Accuracy: Test with Label Encoding & feature selection 0.7606781871535703"
   ]
  }
 ],
 "metadata": {
  "application/vnd.databricks.v1+notebook": {
   "dashboards": [],
   "language": "python",
   "notebookName": "Final Project-Credit Card Default Prediction",
   "notebookOrigID": 440590990647715,
   "widgets": {}
  },
  "kernelspec": {
   "display_name": "Python 3",
   "language": "python",
   "name": "python3"
  },
  "language_info": {
   "codemirror_mode": {
    "name": "ipython",
    "version": 3
   },
   "file_extension": ".py",
   "mimetype": "text/x-python",
   "name": "python",
   "nbconvert_exporter": "python",
   "pygments_lexer": "ipython3",
   "version": "3.8.3"
  }
 },
 "nbformat": 4,
 "nbformat_minor": 1
}
