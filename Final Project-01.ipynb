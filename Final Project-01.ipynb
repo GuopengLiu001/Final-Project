{
 "cells": [
  {
   "cell_type": "code",
   "execution_count": 0,
   "metadata": {
    "application/vnd.databricks.v1+cell": {
     "inputWidgets": {},
     "nuid": "f347c640-17a4-41b3-896b-0a221fdbb741",
     "showTitle": false,
     "title": ""
    }
   },
   "outputs": [
    {
     "data": {
      "text/html": [
       "<style scoped>\n",
       "  .ansiout {\n",
       "    display: block;\n",
       "    unicode-bidi: embed;\n",
       "    white-space: pre-wrap;\n",
       "    word-wrap: break-word;\n",
       "    word-break: break-all;\n",
       "    font-family: \"Source Code Pro\", \"Menlo\", monospace;;\n",
       "    font-size: 13px;\n",
       "    color: #555;\n",
       "    margin-left: 4px;\n",
       "    line-height: 19px;\n",
       "  }\n",
       "</style>\n",
       "<div class=\"ansiout\">root\n",
       "-- ID: integer (nullable = true)\n",
       "-- LIMIT_BAL: double (nullable = true)\n",
       "-- SEX: integer (nullable = true)\n",
       "-- EDUCATION: integer (nullable = true)\n",
       "-- MARRIAGE: integer (nullable = true)\n",
       "-- AGE: integer (nullable = true)\n",
       "-- PAY_0: integer (nullable = true)\n",
       "-- PAY_2: integer (nullable = true)\n",
       "-- PAY_3: integer (nullable = true)\n",
       "-- PAY_4: integer (nullable = true)\n",
       "-- PAY_5: integer (nullable = true)\n",
       "-- PAY_6: integer (nullable = true)\n",
       "-- BILL_AMT1: double (nullable = true)\n",
       "-- BILL_AMT2: double (nullable = true)\n",
       "-- BILL_AMT3: double (nullable = true)\n",
       "-- BILL_AMT4: double (nullable = true)\n",
       "-- BILL_AMT5: double (nullable = true)\n",
       "-- BILL_AMT6: double (nullable = true)\n",
       "-- PAY_AMT1: double (nullable = true)\n",
       "-- PAY_AMT2: double (nullable = true)\n",
       "-- PAY_AMT3: double (nullable = true)\n",
       "-- PAY_AMT4: double (nullable = true)\n",
       "-- PAY_AMT5: double (nullable = true)\n",
       "-- PAY_AMT6: double (nullable = true)\n",
       "-- default.payment.next.month: integer (nullable = true)\n",
       "\n",
       "</div>"
      ]
     },
     "metadata": {
      "application/vnd.databricks.v1+output": {
       "addedWidgets": {},
       "arguments": {},
       "data": "<div class=\"ansiout\">root\n |-- ID: integer (nullable = true)\n |-- LIMIT_BAL: double (nullable = true)\n |-- SEX: integer (nullable = true)\n |-- EDUCATION: integer (nullable = true)\n |-- MARRIAGE: integer (nullable = true)\n |-- AGE: integer (nullable = true)\n |-- PAY_0: integer (nullable = true)\n |-- PAY_2: integer (nullable = true)\n |-- PAY_3: integer (nullable = true)\n |-- PAY_4: integer (nullable = true)\n |-- PAY_5: integer (nullable = true)\n |-- PAY_6: integer (nullable = true)\n |-- BILL_AMT1: double (nullable = true)\n |-- BILL_AMT2: double (nullable = true)\n |-- BILL_AMT3: double (nullable = true)\n |-- BILL_AMT4: double (nullable = true)\n |-- BILL_AMT5: double (nullable = true)\n |-- BILL_AMT6: double (nullable = true)\n |-- PAY_AMT1: double (nullable = true)\n |-- PAY_AMT2: double (nullable = true)\n |-- PAY_AMT3: double (nullable = true)\n |-- PAY_AMT4: double (nullable = true)\n |-- PAY_AMT5: double (nullable = true)\n |-- PAY_AMT6: double (nullable = true)\n |-- default.payment.next.month: integer (nullable = true)\n\n</div>",
       "datasetInfos": [
        {
         "name": "data",
         "schema": {
          "fields": [
           {
            "metadata": {},
            "name": "ID",
            "nullable": true,
            "type": "integer"
           },
           {
            "metadata": {},
            "name": "LIMIT_BAL",
            "nullable": true,
            "type": "double"
           },
           {
            "metadata": {},
            "name": "SEX",
            "nullable": true,
            "type": "integer"
           },
           {
            "metadata": {},
            "name": "EDUCATION",
            "nullable": true,
            "type": "integer"
           },
           {
            "metadata": {},
            "name": "MARRIAGE",
            "nullable": true,
            "type": "integer"
           },
           {
            "metadata": {},
            "name": "AGE",
            "nullable": true,
            "type": "integer"
           },
           {
            "metadata": {},
            "name": "PAY_0",
            "nullable": true,
            "type": "integer"
           },
           {
            "metadata": {},
            "name": "PAY_2",
            "nullable": true,
            "type": "integer"
           },
           {
            "metadata": {},
            "name": "PAY_3",
            "nullable": true,
            "type": "integer"
           },
           {
            "metadata": {},
            "name": "PAY_4",
            "nullable": true,
            "type": "integer"
           },
           {
            "metadata": {},
            "name": "PAY_5",
            "nullable": true,
            "type": "integer"
           },
           {
            "metadata": {},
            "name": "PAY_6",
            "nullable": true,
            "type": "integer"
           },
           {
            "metadata": {},
            "name": "BILL_AMT1",
            "nullable": true,
            "type": "double"
           },
           {
            "metadata": {},
            "name": "BILL_AMT2",
            "nullable": true,
            "type": "double"
           },
           {
            "metadata": {},
            "name": "BILL_AMT3",
            "nullable": true,
            "type": "double"
           },
           {
            "metadata": {},
            "name": "BILL_AMT4",
            "nullable": true,
            "type": "double"
           },
           {
            "metadata": {},
            "name": "BILL_AMT5",
            "nullable": true,
            "type": "double"
           },
           {
            "metadata": {},
            "name": "BILL_AMT6",
            "nullable": true,
            "type": "double"
           },
           {
            "metadata": {},
            "name": "PAY_AMT1",
            "nullable": true,
            "type": "double"
           },
           {
            "metadata": {},
            "name": "PAY_AMT2",
            "nullable": true,
            "type": "double"
           },
           {
            "metadata": {},
            "name": "PAY_AMT3",
            "nullable": true,
            "type": "double"
           },
           {
            "metadata": {},
            "name": "PAY_AMT4",
            "nullable": true,
            "type": "double"
           },
           {
            "metadata": {},
            "name": "PAY_AMT5",
            "nullable": true,
            "type": "double"
           },
           {
            "metadata": {},
            "name": "PAY_AMT6",
            "nullable": true,
            "type": "double"
           },
           {
            "metadata": {},
            "name": "default.payment.next.month",
            "nullable": true,
            "type": "integer"
           }
          ],
          "type": "struct"
         },
         "tableIdentifier": null,
         "typeStr": "pyspark.sql.dataframe.DataFrame"
        }
       ],
       "removedWidgets": [],
       "type": "html"
      }
     },
     "output_type": "display_data"
    }
   ],
   "source": [
    "from pyspark.sql import SparkSession\n",
    "spark = SparkSession.builder.appName('myproj').getOrCreate()\n",
    "data = spark.read.csv('/FileStore/tables/UCI_Credit_Card.csv',inferSchema=True,header=True)\n",
    "data.printSchema()"
   ]
  },
  {
   "cell_type": "markdown",
   "metadata": {
    "application/vnd.databricks.v1+cell": {
     "inputWidgets": {},
     "nuid": "547e8d0a-30fb-4a52-9a47-2883f6b18ac9",
     "showTitle": true,
     "title": "Data Understanding"
    }
   },
   "source": [
    "Data Dictionary\n",
    "1.\tID: ID of each client\n",
    "2.\tLIMIT_BAL: Amount of given credit in NT dollars (includes individual and family/supplementary credit)\n",
    "3.\tSEX: Gender (1=male, 2=female)\n",
    "4.\tEDUCATION: (1=graduate school, 2=university, 3=high school, 4=others, 5=unknown, 6=unknown)\n",
    "5.\tMARRIAGE: Marital status (1=married, 2=single, 3=others)\n",
    "6.\tAge: Age in years\n",
    "7.\tPAY_0 ------ PAY_6 (6 features): Repayment status from April, 2005 to September, 2005(-1=pay duly, 0=not delay, other number = the number of months for payment delay)\n",
    "8.\tBILL_AMT1 ------ BILL_AMT6 (6 features): Amount of bill statement from April, 2005 to September 2005(NT dollar)\n",
    "9.\tPAY_AMT1: Amount of previous payment from April, 2005 to September 2005(NT dollar)\n",
    "10.\tDefault. Payment. next. Month: default payment (1=yes, 2=no)"
   ]
  },
  {
   "cell_type": "code",
   "execution_count": 0,
   "metadata": {
    "application/vnd.databricks.v1+cell": {
     "inputWidgets": {},
     "nuid": "127db9ec-a80c-417d-bed6-e68eee7cb7ef",
     "showTitle": false,
     "title": ""
    }
   },
   "outputs": [
    {
     "data": {
      "text/html": [
       "<style scoped>\n",
       "  .ansiout {\n",
       "    display: block;\n",
       "    unicode-bidi: embed;\n",
       "    white-space: pre-wrap;\n",
       "    word-wrap: break-word;\n",
       "    word-break: break-all;\n",
       "    font-family: \"Source Code Pro\", \"Menlo\", monospace;;\n",
       "    font-size: 13px;\n",
       "    color: #555;\n",
       "    margin-left: 4px;\n",
       "    line-height: 19px;\n",
       "  }\n",
       "</style>\n",
       "<div class=\"ansiout\"></div>"
      ]
     },
     "metadata": {
      "application/vnd.databricks.v1+output": {
       "addedWidgets": {},
       "arguments": {},
       "data": "<div class=\"ansiout\"></div>",
       "datasetInfos": [
        {
         "name": "data",
         "schema": {
          "fields": [
           {
            "metadata": {},
            "name": "ID",
            "nullable": true,
            "type": "integer"
           },
           {
            "metadata": {},
            "name": "LIMIT_BAL",
            "nullable": true,
            "type": "double"
           },
           {
            "metadata": {},
            "name": "SEX",
            "nullable": true,
            "type": "integer"
           },
           {
            "metadata": {},
            "name": "EDUCATION",
            "nullable": true,
            "type": "integer"
           },
           {
            "metadata": {},
            "name": "MARRIAGE",
            "nullable": true,
            "type": "integer"
           },
           {
            "metadata": {},
            "name": "AGE",
            "nullable": true,
            "type": "integer"
           },
           {
            "metadata": {},
            "name": "PAY_1",
            "nullable": true,
            "type": "integer"
           },
           {
            "metadata": {},
            "name": "PAY_2",
            "nullable": true,
            "type": "integer"
           },
           {
            "metadata": {},
            "name": "PAY_3",
            "nullable": true,
            "type": "integer"
           },
           {
            "metadata": {},
            "name": "PAY_4",
            "nullable": true,
            "type": "integer"
           },
           {
            "metadata": {},
            "name": "PAY_5",
            "nullable": true,
            "type": "integer"
           },
           {
            "metadata": {},
            "name": "PAY_6",
            "nullable": true,
            "type": "integer"
           },
           {
            "metadata": {},
            "name": "BILL_AMT1",
            "nullable": true,
            "type": "double"
           },
           {
            "metadata": {},
            "name": "BILL_AMT2",
            "nullable": true,
            "type": "double"
           },
           {
            "metadata": {},
            "name": "BILL_AMT3",
            "nullable": true,
            "type": "double"
           },
           {
            "metadata": {},
            "name": "BILL_AMT4",
            "nullable": true,
            "type": "double"
           },
           {
            "metadata": {},
            "name": "BILL_AMT5",
            "nullable": true,
            "type": "double"
           },
           {
            "metadata": {},
            "name": "BILL_AMT6",
            "nullable": true,
            "type": "double"
           },
           {
            "metadata": {},
            "name": "PAY_AMT1",
            "nullable": true,
            "type": "double"
           },
           {
            "metadata": {},
            "name": "PAY_AMT2",
            "nullable": true,
            "type": "double"
           },
           {
            "metadata": {},
            "name": "PAY_AMT3",
            "nullable": true,
            "type": "double"
           },
           {
            "metadata": {},
            "name": "PAY_AMT4",
            "nullable": true,
            "type": "double"
           },
           {
            "metadata": {},
            "name": "PAY_AMT5",
            "nullable": true,
            "type": "double"
           },
           {
            "metadata": {},
            "name": "PAY_AMT6",
            "nullable": true,
            "type": "double"
           },
           {
            "metadata": {},
            "name": "Default",
            "nullable": true,
            "type": "integer"
           }
          ],
          "type": "struct"
         },
         "tableIdentifier": null,
         "typeStr": "pyspark.sql.dataframe.DataFrame"
        }
       ],
       "removedWidgets": [],
       "type": "html"
      }
     },
     "output_type": "display_data"
    }
   ],
   "source": [
    "data = data.withColumnRenamed(\"PAY_0\", \"PAY_1\")\n",
    "data = data.withColumnRenamed(\"default.payment.next.month\", \"Default\")"
   ]
  },
  {
   "cell_type": "markdown",
   "metadata": {
    "application/vnd.databricks.v1+cell": {
     "inputWidgets": {},
     "nuid": "3cc634fc-e747-48bc-b80d-aae2a98cdcb7",
     "showTitle": false,
     "title": ""
    }
   },
   "source": [
    "Change data types"
   ]
  },
  {
   "cell_type": "code",
   "execution_count": 0,
   "metadata": {
    "application/vnd.databricks.v1+cell": {
     "inputWidgets": {},
     "nuid": "0f0c274d-5f07-4d03-970a-1e68b23e4adc",
     "showTitle": false,
     "title": ""
    }
   },
   "outputs": [
    {
     "data": {
      "text/html": [
       "<style scoped>\n",
       "  .ansiout {\n",
       "    display: block;\n",
       "    unicode-bidi: embed;\n",
       "    white-space: pre-wrap;\n",
       "    word-wrap: break-word;\n",
       "    word-break: break-all;\n",
       "    font-family: \"Source Code Pro\", \"Menlo\", monospace;;\n",
       "    font-size: 13px;\n",
       "    color: #555;\n",
       "    margin-left: 4px;\n",
       "    line-height: 19px;\n",
       "  }\n",
       "</style>\n",
       "<div class=\"ansiout\">root\n",
       "-- ID: string (nullable = true)\n",
       "-- LIMIT_BAL: double (nullable = true)\n",
       "-- SEX: string (nullable = true)\n",
       "-- EDUCATION: string (nullable = true)\n",
       "-- MARRIAGE: string (nullable = true)\n",
       "-- AGE: integer (nullable = true)\n",
       "-- PAY_1: integer (nullable = true)\n",
       "-- PAY_2: integer (nullable = true)\n",
       "-- PAY_3: integer (nullable = true)\n",
       "-- PAY_4: integer (nullable = true)\n",
       "-- PAY_5: integer (nullable = true)\n",
       "-- PAY_6: integer (nullable = true)\n",
       "-- BILL_AMT1: double (nullable = true)\n",
       "-- BILL_AMT2: double (nullable = true)\n",
       "-- BILL_AMT3: double (nullable = true)\n",
       "-- BILL_AMT4: double (nullable = true)\n",
       "-- BILL_AMT5: double (nullable = true)\n",
       "-- BILL_AMT6: double (nullable = true)\n",
       "-- PAY_AMT1: double (nullable = true)\n",
       "-- PAY_AMT2: double (nullable = true)\n",
       "-- PAY_AMT3: double (nullable = true)\n",
       "-- PAY_AMT4: double (nullable = true)\n",
       "-- PAY_AMT5: double (nullable = true)\n",
       "-- PAY_AMT6: double (nullable = true)\n",
       "-- Default: integer (nullable = true)\n",
       "\n",
       "</div>"
      ]
     },
     "metadata": {
      "application/vnd.databricks.v1+output": {
       "addedWidgets": {},
       "arguments": {},
       "data": "<div class=\"ansiout\">root\n |-- ID: string (nullable = true)\n |-- LIMIT_BAL: double (nullable = true)\n |-- SEX: string (nullable = true)\n |-- EDUCATION: string (nullable = true)\n |-- MARRIAGE: string (nullable = true)\n |-- AGE: integer (nullable = true)\n |-- PAY_1: integer (nullable = true)\n |-- PAY_2: integer (nullable = true)\n |-- PAY_3: integer (nullable = true)\n |-- PAY_4: integer (nullable = true)\n |-- PAY_5: integer (nullable = true)\n |-- PAY_6: integer (nullable = true)\n |-- BILL_AMT1: double (nullable = true)\n |-- BILL_AMT2: double (nullable = true)\n |-- BILL_AMT3: double (nullable = true)\n |-- BILL_AMT4: double (nullable = true)\n |-- BILL_AMT5: double (nullable = true)\n |-- BILL_AMT6: double (nullable = true)\n |-- PAY_AMT1: double (nullable = true)\n |-- PAY_AMT2: double (nullable = true)\n |-- PAY_AMT3: double (nullable = true)\n |-- PAY_AMT4: double (nullable = true)\n |-- PAY_AMT5: double (nullable = true)\n |-- PAY_AMT6: double (nullable = true)\n |-- Default: integer (nullable = true)\n\n</div>",
       "datasetInfos": [
        {
         "name": "data",
         "schema": {
          "fields": [
           {
            "metadata": {},
            "name": "ID",
            "nullable": true,
            "type": "string"
           },
           {
            "metadata": {},
            "name": "LIMIT_BAL",
            "nullable": true,
            "type": "double"
           },
           {
            "metadata": {},
            "name": "SEX",
            "nullable": true,
            "type": "string"
           },
           {
            "metadata": {},
            "name": "EDUCATION",
            "nullable": true,
            "type": "string"
           },
           {
            "metadata": {},
            "name": "MARRIAGE",
            "nullable": true,
            "type": "string"
           },
           {
            "metadata": {},
            "name": "AGE",
            "nullable": true,
            "type": "integer"
           },
           {
            "metadata": {},
            "name": "PAY_1",
            "nullable": true,
            "type": "integer"
           },
           {
            "metadata": {},
            "name": "PAY_2",
            "nullable": true,
            "type": "integer"
           },
           {
            "metadata": {},
            "name": "PAY_3",
            "nullable": true,
            "type": "integer"
           },
           {
            "metadata": {},
            "name": "PAY_4",
            "nullable": true,
            "type": "integer"
           },
           {
            "metadata": {},
            "name": "PAY_5",
            "nullable": true,
            "type": "integer"
           },
           {
            "metadata": {},
            "name": "PAY_6",
            "nullable": true,
            "type": "integer"
           },
           {
            "metadata": {},
            "name": "BILL_AMT1",
            "nullable": true,
            "type": "double"
           },
           {
            "metadata": {},
            "name": "BILL_AMT2",
            "nullable": true,
            "type": "double"
           },
           {
            "metadata": {},
            "name": "BILL_AMT3",
            "nullable": true,
            "type": "double"
           },
           {
            "metadata": {},
            "name": "BILL_AMT4",
            "nullable": true,
            "type": "double"
           },
           {
            "metadata": {},
            "name": "BILL_AMT5",
            "nullable": true,
            "type": "double"
           },
           {
            "metadata": {},
            "name": "BILL_AMT6",
            "nullable": true,
            "type": "double"
           },
           {
            "metadata": {},
            "name": "PAY_AMT1",
            "nullable": true,
            "type": "double"
           },
           {
            "metadata": {},
            "name": "PAY_AMT2",
            "nullable": true,
            "type": "double"
           },
           {
            "metadata": {},
            "name": "PAY_AMT3",
            "nullable": true,
            "type": "double"
           },
           {
            "metadata": {},
            "name": "PAY_AMT4",
            "nullable": true,
            "type": "double"
           },
           {
            "metadata": {},
            "name": "PAY_AMT5",
            "nullable": true,
            "type": "double"
           },
           {
            "metadata": {},
            "name": "PAY_AMT6",
            "nullable": true,
            "type": "double"
           },
           {
            "metadata": {},
            "name": "Default",
            "nullable": true,
            "type": "integer"
           }
          ],
          "type": "struct"
         },
         "tableIdentifier": null,
         "typeStr": "pyspark.sql.dataframe.DataFrame"
        }
       ],
       "removedWidgets": [],
       "type": "html"
      }
     },
     "output_type": "display_data"
    }
   ],
   "source": [
    "from pyspark.sql.types import StructField,StringType,IntegerType,DoubleType,StructType\n",
    "# if the second element is True means it could have null cells\n",
    "df_schema = StructType([\n",
    "    StructField('ID', StringType(), True),\n",
    "    StructField('LIMIT_BAL', DoubleType(), True),\n",
    "    StructField('SEX', StringType(), True),\n",
    "    StructField('EDUCATION', StringType(), True),\n",
    "    StructField('MARRIAGE', StringType(), True),\n",
    "    StructField('AGE', IntegerType(), True),\n",
    "    StructField('PAY_1', IntegerType(), True),\n",
    "    StructField('PAY_2', IntegerType(), True),\n",
    "    StructField('PAY_3', IntegerType(), True),\n",
    "    StructField('PAY_4', IntegerType(), True),\n",
    "    StructField('PAY_5', IntegerType(), True),\n",
    "    StructField('PAY_6', IntegerType(), True),\n",
    "    StructField('BILL_AMT1', DoubleType(), True),\n",
    "    StructField('BILL_AMT2', DoubleType(), True),\n",
    "    StructField('BILL_AMT3', DoubleType(), True),\n",
    "    StructField('BILL_AMT4', DoubleType(), True),\n",
    "    StructField('BILL_AMT5', DoubleType(), True),\n",
    "    StructField('BILL_AMT6', DoubleType(), True),\n",
    "    StructField('PAY_AMT1', DoubleType(), True),\n",
    "    StructField('PAY_AMT2', DoubleType(), True),\n",
    "    StructField('PAY_AMT3', DoubleType(), True),\n",
    "    StructField('PAY_AMT4', DoubleType(), True),\n",
    "    StructField('PAY_AMT5', DoubleType(), True),\n",
    "    StructField('PAY_AMT6', DoubleType(), True),\n",
    "    StructField('Default', IntegerType(), True),\n",
    "    ])\n",
    "data = spark.createDataFrame(data.collect(),schema = df_schema)\n",
    "data.printSchema()"
   ]
  },
  {
   "cell_type": "code",
   "execution_count": 0,
   "metadata": {
    "application/vnd.databricks.v1+cell": {
     "inputWidgets": {},
     "nuid": "1522605a-bf52-48ca-87b2-cd06fea94d78",
     "showTitle": false,
     "title": ""
    }
   },
   "outputs": [
    {
     "data": {
      "text/html": [
       "<style scoped>\n",
       "  .ansiout {\n",
       "    display: block;\n",
       "    unicode-bidi: embed;\n",
       "    white-space: pre-wrap;\n",
       "    word-wrap: break-word;\n",
       "    word-break: break-all;\n",
       "    font-family: \"Source Code Pro\", \"Menlo\", monospace;;\n",
       "    font-size: 13px;\n",
       "    color: #555;\n",
       "    margin-left: 4px;\n",
       "    line-height: 19px;\n",
       "  }\n",
       "</style>\n",
       "<div class=\"ansiout\">Number of Rows:  30000    Number of Columns:  25\n",
       "+---+---------+---+---------+--------+---+-----+-----+-----+-----+-----+-----+---------+---------+---------+---------+---------+---------+--------+--------+--------+--------+--------+--------+-------+\n",
       " ID|LIMIT_BAL|SEX|EDUCATION|MARRIAGE|AGE|PAY_1|PAY_2|PAY_3|PAY_4|PAY_5|PAY_6|BILL_AMT1|BILL_AMT2|BILL_AMT3|BILL_AMT4|BILL_AMT5|BILL_AMT6|PAY_AMT1|PAY_AMT2|PAY_AMT3|PAY_AMT4|PAY_AMT5|PAY_AMT6|Default|\n",
       "+---+---------+---+---------+--------+---+-----+-----+-----+-----+-----+-----+---------+---------+---------+---------+---------+---------+--------+--------+--------+--------+--------+--------+-------+\n",
       "  0|        0|  0|        0|       0|  0|    0|    0|    0|    0|    0|    0|        0|        0|        0|        0|        0|        0|       0|       0|       0|       0|       0|       0|      0|\n",
       "+---+---------+---+---------+--------+---+-----+-----+-----+-----+-----+-----+---------+---------+---------+---------+---------+---------+--------+--------+--------+--------+--------+--------+-------+\n",
       "\n",
       "</div>"
      ]
     },
     "metadata": {
      "application/vnd.databricks.v1+output": {
       "addedWidgets": {},
       "arguments": {},
       "data": "<div class=\"ansiout\">Number of Rows:  30000    Number of Columns:  25\n+---+---------+---+---------+--------+---+-----+-----+-----+-----+-----+-----+---------+---------+---------+---------+---------+---------+--------+--------+--------+--------+--------+--------+-------+\n| ID|LIMIT_BAL|SEX|EDUCATION|MARRIAGE|AGE|PAY_1|PAY_2|PAY_3|PAY_4|PAY_5|PAY_6|BILL_AMT1|BILL_AMT2|BILL_AMT3|BILL_AMT4|BILL_AMT5|BILL_AMT6|PAY_AMT1|PAY_AMT2|PAY_AMT3|PAY_AMT4|PAY_AMT5|PAY_AMT6|Default|\n+---+---------+---+---------+--------+---+-----+-----+-----+-----+-----+-----+---------+---------+---------+---------+---------+---------+--------+--------+--------+--------+--------+--------+-------+\n|  0|        0|  0|        0|       0|  0|    0|    0|    0|    0|    0|    0|        0|        0|        0|        0|        0|        0|       0|       0|       0|       0|       0|       0|      0|\n+---+---------+---+---------+--------+---+-----+-----+-----+-----+-----+-----+---------+---------+---------+---------+---------+---------+--------+--------+--------+--------+--------+--------+-------+\n\n</div>",
       "datasetInfos": [
        {
         "name": "df",
         "schema": {
          "fields": [
           {
            "metadata": {},
            "name": "ID",
            "nullable": true,
            "type": "string"
           },
           {
            "metadata": {},
            "name": "LIMIT_BAL",
            "nullable": true,
            "type": "double"
           },
           {
            "metadata": {},
            "name": "SEX",
            "nullable": true,
            "type": "string"
           },
           {
            "metadata": {},
            "name": "EDUCATION",
            "nullable": true,
            "type": "string"
           },
           {
            "metadata": {},
            "name": "MARRIAGE",
            "nullable": true,
            "type": "string"
           },
           {
            "metadata": {},
            "name": "AGE",
            "nullable": true,
            "type": "integer"
           },
           {
            "metadata": {},
            "name": "PAY_1",
            "nullable": true,
            "type": "integer"
           },
           {
            "metadata": {},
            "name": "PAY_2",
            "nullable": true,
            "type": "integer"
           },
           {
            "metadata": {},
            "name": "PAY_3",
            "nullable": true,
            "type": "integer"
           },
           {
            "metadata": {},
            "name": "PAY_4",
            "nullable": true,
            "type": "integer"
           },
           {
            "metadata": {},
            "name": "PAY_5",
            "nullable": true,
            "type": "integer"
           },
           {
            "metadata": {},
            "name": "PAY_6",
            "nullable": true,
            "type": "integer"
           },
           {
            "metadata": {},
            "name": "BILL_AMT1",
            "nullable": true,
            "type": "double"
           },
           {
            "metadata": {},
            "name": "BILL_AMT2",
            "nullable": true,
            "type": "double"
           },
           {
            "metadata": {},
            "name": "BILL_AMT3",
            "nullable": true,
            "type": "double"
           },
           {
            "metadata": {},
            "name": "BILL_AMT4",
            "nullable": true,
            "type": "double"
           },
           {
            "metadata": {},
            "name": "BILL_AMT5",
            "nullable": true,
            "type": "double"
           },
           {
            "metadata": {},
            "name": "BILL_AMT6",
            "nullable": true,
            "type": "double"
           },
           {
            "metadata": {},
            "name": "PAY_AMT1",
            "nullable": true,
            "type": "double"
           },
           {
            "metadata": {},
            "name": "PAY_AMT2",
            "nullable": true,
            "type": "double"
           },
           {
            "metadata": {},
            "name": "PAY_AMT3",
            "nullable": true,
            "type": "double"
           },
           {
            "metadata": {},
            "name": "PAY_AMT4",
            "nullable": true,
            "type": "double"
           },
           {
            "metadata": {},
            "name": "PAY_AMT5",
            "nullable": true,
            "type": "double"
           },
           {
            "metadata": {},
            "name": "PAY_AMT6",
            "nullable": true,
            "type": "double"
           },
           {
            "metadata": {},
            "name": "Default",
            "nullable": true,
            "type": "integer"
           }
          ],
          "type": "struct"
         },
         "tableIdentifier": null,
         "typeStr": "pyspark.sql.dataframe.DataFrame"
        },
        {
         "name": "na_report",
         "schema": {
          "fields": [
           {
            "metadata": {},
            "name": "ID",
            "nullable": false,
            "type": "long"
           },
           {
            "metadata": {},
            "name": "LIMIT_BAL",
            "nullable": false,
            "type": "long"
           },
           {
            "metadata": {},
            "name": "SEX",
            "nullable": false,
            "type": "long"
           },
           {
            "metadata": {},
            "name": "EDUCATION",
            "nullable": false,
            "type": "long"
           },
           {
            "metadata": {},
            "name": "MARRIAGE",
            "nullable": false,
            "type": "long"
           },
           {
            "metadata": {},
            "name": "AGE",
            "nullable": false,
            "type": "long"
           },
           {
            "metadata": {},
            "name": "PAY_1",
            "nullable": false,
            "type": "long"
           },
           {
            "metadata": {},
            "name": "PAY_2",
            "nullable": false,
            "type": "long"
           },
           {
            "metadata": {},
            "name": "PAY_3",
            "nullable": false,
            "type": "long"
           },
           {
            "metadata": {},
            "name": "PAY_4",
            "nullable": false,
            "type": "long"
           },
           {
            "metadata": {},
            "name": "PAY_5",
            "nullable": false,
            "type": "long"
           },
           {
            "metadata": {},
            "name": "PAY_6",
            "nullable": false,
            "type": "long"
           },
           {
            "metadata": {},
            "name": "BILL_AMT1",
            "nullable": false,
            "type": "long"
           },
           {
            "metadata": {},
            "name": "BILL_AMT2",
            "nullable": false,
            "type": "long"
           },
           {
            "metadata": {},
            "name": "BILL_AMT3",
            "nullable": false,
            "type": "long"
           },
           {
            "metadata": {},
            "name": "BILL_AMT4",
            "nullable": false,
            "type": "long"
           },
           {
            "metadata": {},
            "name": "BILL_AMT5",
            "nullable": false,
            "type": "long"
           },
           {
            "metadata": {},
            "name": "BILL_AMT6",
            "nullable": false,
            "type": "long"
           },
           {
            "metadata": {},
            "name": "PAY_AMT1",
            "nullable": false,
            "type": "long"
           },
           {
            "metadata": {},
            "name": "PAY_AMT2",
            "nullable": false,
            "type": "long"
           },
           {
            "metadata": {},
            "name": "PAY_AMT3",
            "nullable": false,
            "type": "long"
           },
           {
            "metadata": {},
            "name": "PAY_AMT4",
            "nullable": false,
            "type": "long"
           },
           {
            "metadata": {},
            "name": "PAY_AMT5",
            "nullable": false,
            "type": "long"
           },
           {
            "metadata": {},
            "name": "PAY_AMT6",
            "nullable": false,
            "type": "long"
           },
           {
            "metadata": {},
            "name": "Default",
            "nullable": false,
            "type": "long"
           }
          ],
          "type": "struct"
         },
         "tableIdentifier": null,
         "typeStr": "pyspark.sql.dataframe.DataFrame"
        }
       ],
       "removedWidgets": [],
       "type": "html"
      }
     },
     "output_type": "display_data"
    }
   ],
   "source": [
    "from pyspark.sql.functions import *\n",
    "from pyspark.sql.functions import when, count, col\n",
    "df = data\n",
    "na_report=df.select([count(when(isnull(c), c)).alias(c) for c in df.columns])# dimensions of the dataframe\n",
    "print(\"Number of Rows: \",df.count() ,\"   Number of Columns: \", len(df.columns))\n",
    "# we should handle the missing values by imputation unless too many of them are emtpy\n",
    "# na.drop() method is not recommended for avoiding biased except for the dependent variable\n",
    "na_report.show()"
   ]
  },
  {
   "cell_type": "code",
   "execution_count": 0,
   "metadata": {
    "application/vnd.databricks.v1+cell": {
     "inputWidgets": {},
     "nuid": "63f2777b-33b3-4bf2-9f50-1e5454dc7631",
     "showTitle": false,
     "title": ""
    }
   },
   "outputs": [
    {
     "data": {
      "text/html": [
       "<style scoped>\n",
       "  .ansiout {\n",
       "    display: block;\n",
       "    unicode-bidi: embed;\n",
       "    white-space: pre-wrap;\n",
       "    word-wrap: break-word;\n",
       "    word-break: break-all;\n",
       "    font-family: \"Source Code Pro\", \"Menlo\", monospace;;\n",
       "    font-size: 13px;\n",
       "    color: #555;\n",
       "    margin-left: 4px;\n",
       "    line-height: 19px;\n",
       "  }\n",
       "</style>\n",
       "<div class=\"ansiout\">+-------+-----------------+------------------+------------------+------------------+------------------+----------------+------------------+--------------------+------------------+--------------------+------------------+------------------+-----------------+-----------------+-----------------+------------------+-----------------+-----------------+------------------+-----------------+------------------+-----------------+------------------+------------------+------------------+\n",
       "summary|               ID|         LIMIT_BAL|               SEX|         EDUCATION|          MARRIAGE|             AGE|             PAY_1|               PAY_2|             PAY_3|               PAY_4|             PAY_5|             PAY_6|        BILL_AMT1|        BILL_AMT2|        BILL_AMT3|         BILL_AMT4|        BILL_AMT5|        BILL_AMT6|          PAY_AMT1|         PAY_AMT2|          PAY_AMT3|         PAY_AMT4|          PAY_AMT5|          PAY_AMT6|           Default|\n",
       "+-------+-----------------+------------------+------------------+------------------+------------------+----------------+------------------+--------------------+------------------+--------------------+------------------+------------------+-----------------+-----------------+-----------------+------------------+-----------------+-----------------+------------------+-----------------+------------------+-----------------+------------------+------------------+------------------+\n",
       "  count|            30000|             30000|             30000|             30000|             30000|           30000|             30000|               30000|             30000|               30000|             30000|             30000|            30000|            30000|            30000|             30000|            30000|            30000|             30000|            30000|             30000|            30000|             30000|             30000|             30000|\n",
       "   mean|          15000.5|167484.32266666667|1.6037333333333332|1.8531333333333333|1.5518666666666667|         35.4855|           -0.0167|-0.13376666666666667|           -0.1662|-0.22066666666666668|           -0.2662|           -0.2911|       51223.3309|49179.07516666667|       47013.1548| 43262.94896666666|40311.40096666667|       38871.7604|         5663.5805|        5921.1635|         5225.6815|4826.076866666666| 4799.387633333334| 5215.502566666667|            0.2212|\n",
       " stddev|8660.398374208891|129747.66156720239|0.4891291960902606|0.7903486597207294|0.5219696006132485|9.21790406809019|1.1238015279973346|  1.1971859730345529|1.1968675684465735|  1.1691386224023377|1.1331874060027485|1.1499876256079022|73635.86057552954|71173.76878252836|69349.38742703685|64332.856133916335|60797.15577026485|59554.10753674574|16563.280354025774|23040.87040205723|17606.961469803104|  15666.159744032|15278.305679144783|17777.465775435303|0.4150618056909332|\n",
       "    min|                1|           10000.0|                 1|                 0|                 0|              21|                -2|                  -2|                -2|                  -2|                -2|                -2|        -165580.0|         -69777.0|        -157264.0|         -170000.0|         -81334.0|        -339603.0|               0.0|              0.0|               0.0|              0.0|               0.0|               0.0|                 0|\n",
       "    max|             9999|         1000000.0|                 2|                 6|                 3|              79|                 8|                   8|                 8|                   8|                 8|                 8|         964511.0|         983931.0|        1664089.0|          891586.0|         927171.0|         961664.0|          873552.0|        1684259.0|          896040.0|         621000.0|          426529.0|          528666.0|                 1|\n",
       "+-------+-----------------+------------------+------------------+------------------+------------------+----------------+------------------+--------------------+------------------+--------------------+------------------+------------------+-----------------+-----------------+-----------------+------------------+-----------------+-----------------+------------------+-----------------+------------------+-----------------+------------------+------------------+------------------+\n",
       "\n",
       "</div>"
      ]
     },
     "metadata": {
      "application/vnd.databricks.v1+output": {
       "addedWidgets": {},
       "arguments": {},
       "data": "<div class=\"ansiout\">+-------+-----------------+------------------+------------------+------------------+------------------+----------------+------------------+--------------------+------------------+--------------------+------------------+------------------+-----------------+-----------------+-----------------+------------------+-----------------+-----------------+------------------+-----------------+------------------+-----------------+------------------+------------------+------------------+\n|summary|               ID|         LIMIT_BAL|               SEX|         EDUCATION|          MARRIAGE|             AGE|             PAY_1|               PAY_2|             PAY_3|               PAY_4|             PAY_5|             PAY_6|        BILL_AMT1|        BILL_AMT2|        BILL_AMT3|         BILL_AMT4|        BILL_AMT5|        BILL_AMT6|          PAY_AMT1|         PAY_AMT2|          PAY_AMT3|         PAY_AMT4|          PAY_AMT5|          PAY_AMT6|           Default|\n+-------+-----------------+------------------+------------------+------------------+------------------+----------------+------------------+--------------------+------------------+--------------------+------------------+------------------+-----------------+-----------------+-----------------+------------------+-----------------+-----------------+------------------+-----------------+------------------+-----------------+------------------+------------------+------------------+\n|  count|            30000|             30000|             30000|             30000|             30000|           30000|             30000|               30000|             30000|               30000|             30000|             30000|            30000|            30000|            30000|             30000|            30000|            30000|             30000|            30000|             30000|            30000|             30000|             30000|             30000|\n|   mean|          15000.5|167484.32266666667|1.6037333333333332|1.8531333333333333|1.5518666666666667|         35.4855|           -0.0167|-0.13376666666666667|           -0.1662|-0.22066666666666668|           -0.2662|           -0.2911|       51223.3309|49179.07516666667|       47013.1548| 43262.94896666666|40311.40096666667|       38871.7604|         5663.5805|        5921.1635|         5225.6815|4826.076866666666| 4799.387633333334| 5215.502566666667|            0.2212|\n| stddev|8660.398374208891|129747.66156720239|0.4891291960902606|0.7903486597207294|0.5219696006132485|9.21790406809019|1.1238015279973346|  1.1971859730345529|1.1968675684465735|  1.1691386224023377|1.1331874060027485|1.1499876256079022|73635.86057552954|71173.76878252836|69349.38742703685|64332.856133916335|60797.15577026485|59554.10753674574|16563.280354025774|23040.87040205723|17606.961469803104|  15666.159744032|15278.305679144783|17777.465775435303|0.4150618056909332|\n|    min|                1|           10000.0|                 1|                 0|                 0|              21|                -2|                  -2|                -2|                  -2|                -2|                -2|        -165580.0|         -69777.0|        -157264.0|         -170000.0|         -81334.0|        -339603.0|               0.0|              0.0|               0.0|              0.0|               0.0|               0.0|                 0|\n|    max|             9999|         1000000.0|                 2|                 6|                 3|              79|                 8|                   8|                 8|                   8|                 8|                 8|         964511.0|         983931.0|        1664089.0|          891586.0|         927171.0|         961664.0|          873552.0|        1684259.0|          896040.0|         621000.0|          426529.0|          528666.0|                 1|\n+-------+-----------------+------------------+------------------+------------------+------------------+----------------+------------------+--------------------+------------------+--------------------+------------------+------------------+-----------------+-----------------+-----------------+------------------+-----------------+-----------------+------------------+-----------------+------------------+-----------------+------------------+------------------+------------------+\n\n</div>",
       "datasetInfos": [],
       "removedWidgets": [],
       "type": "html"
      }
     },
     "output_type": "display_data"
    }
   ],
   "source": [
    "df.describe().show()"
   ]
  },
  {
   "cell_type": "markdown",
   "metadata": {
    "application/vnd.databricks.v1+cell": {
     "inputWidgets": {},
     "nuid": "0989e93b-218a-4c5d-b4f3-c29a384e945b",
     "showTitle": true,
     "title": "Data Preparation"
    }
   },
   "source": [
    "Drop abnormal data in \"EDUCATION\" and \"MARRIAGE\" comlumns"
   ]
  },
  {
   "cell_type": "code",
   "execution_count": 0,
   "metadata": {
    "application/vnd.databricks.v1+cell": {
     "inputWidgets": {},
     "nuid": "fcf643c6-71d9-4377-96bc-1c0bf7cdeb8b",
     "showTitle": false,
     "title": ""
    }
   },
   "outputs": [
    {
     "data": {
      "text/html": [
       "<style scoped>\n",
       "  .ansiout {\n",
       "    display: block;\n",
       "    unicode-bidi: embed;\n",
       "    white-space: pre-wrap;\n",
       "    word-wrap: break-word;\n",
       "    word-break: break-all;\n",
       "    font-family: \"Source Code Pro\", \"Menlo\", monospace;;\n",
       "    font-size: 13px;\n",
       "    color: #555;\n",
       "    margin-left: 4px;\n",
       "    line-height: 19px;\n",
       "  }\n",
       "</style>\n",
       "<div class=\"ansiout\">+-------+------------------+------------------+\n",
       "summary|          MARRIAGE|         EDUCATION|\n",
       "+-------+------------------+------------------+\n",
       "  count|             30000|             30000|\n",
       "   mean|1.5518666666666667|1.8531333333333333|\n",
       " stddev|0.5219696006132485|0.7903486597207294|\n",
       "    min|                 0|                 0|\n",
       "    max|                 3|                 6|\n",
       "+-------+------------------+------------------+\n",
       "\n",
       "</div>"
      ]
     },
     "metadata": {
      "application/vnd.databricks.v1+output": {
       "addedWidgets": {},
       "arguments": {},
       "data": "<div class=\"ansiout\">+-------+------------------+------------------+\n|summary|          MARRIAGE|         EDUCATION|\n+-------+------------------+------------------+\n|  count|             30000|             30000|\n|   mean|1.5518666666666667|1.8531333333333333|\n| stddev|0.5219696006132485|0.7903486597207294|\n|    min|                 0|                 0|\n|    max|                 3|                 6|\n+-------+------------------+------------------+\n\n</div>",
       "datasetInfos": [],
       "removedWidgets": [],
       "type": "html"
      }
     },
     "output_type": "display_data"
    }
   ],
   "source": [
    "df.select('MARRIAGE','EDUCATION').describe().show()"
   ]
  },
  {
   "cell_type": "code",
   "execution_count": 0,
   "metadata": {
    "application/vnd.databricks.v1+cell": {
     "inputWidgets": {},
     "nuid": "949cc47f-06d4-40f3-b2f3-08d18f92b507",
     "showTitle": false,
     "title": ""
    }
   },
   "outputs": [
    {
     "data": {
      "text/html": [
       "<style scoped>\n",
       "  .ansiout {\n",
       "    display: block;\n",
       "    unicode-bidi: embed;\n",
       "    white-space: pre-wrap;\n",
       "    word-wrap: break-word;\n",
       "    word-break: break-all;\n",
       "    font-family: \"Source Code Pro\", \"Menlo\", monospace;;\n",
       "    font-size: 13px;\n",
       "    color: #555;\n",
       "    margin-left: 4px;\n",
       "    line-height: 19px;\n",
       "  }\n",
       "</style>\n",
       "<div class=\"ansiout\"></div>"
      ]
     },
     "metadata": {
      "application/vnd.databricks.v1+output": {
       "addedWidgets": {},
       "arguments": {},
       "data": "<div class=\"ansiout\"></div>",
       "datasetInfos": [
        {
         "name": "df",
         "schema": {
          "fields": [
           {
            "metadata": {},
            "name": "ID",
            "nullable": true,
            "type": "string"
           },
           {
            "metadata": {},
            "name": "LIMIT_BAL",
            "nullable": true,
            "type": "double"
           },
           {
            "metadata": {},
            "name": "SEX",
            "nullable": true,
            "type": "string"
           },
           {
            "metadata": {},
            "name": "EDUCATION",
            "nullable": true,
            "type": "string"
           },
           {
            "metadata": {},
            "name": "MARRIAGE",
            "nullable": true,
            "type": "string"
           },
           {
            "metadata": {},
            "name": "AGE",
            "nullable": true,
            "type": "integer"
           },
           {
            "metadata": {},
            "name": "PAY_1",
            "nullable": true,
            "type": "integer"
           },
           {
            "metadata": {},
            "name": "PAY_2",
            "nullable": true,
            "type": "integer"
           },
           {
            "metadata": {},
            "name": "PAY_3",
            "nullable": true,
            "type": "integer"
           },
           {
            "metadata": {},
            "name": "PAY_4",
            "nullable": true,
            "type": "integer"
           },
           {
            "metadata": {},
            "name": "PAY_5",
            "nullable": true,
            "type": "integer"
           },
           {
            "metadata": {},
            "name": "PAY_6",
            "nullable": true,
            "type": "integer"
           },
           {
            "metadata": {},
            "name": "BILL_AMT1",
            "nullable": true,
            "type": "double"
           },
           {
            "metadata": {},
            "name": "BILL_AMT2",
            "nullable": true,
            "type": "double"
           },
           {
            "metadata": {},
            "name": "BILL_AMT3",
            "nullable": true,
            "type": "double"
           },
           {
            "metadata": {},
            "name": "BILL_AMT4",
            "nullable": true,
            "type": "double"
           },
           {
            "metadata": {},
            "name": "BILL_AMT5",
            "nullable": true,
            "type": "double"
           },
           {
            "metadata": {},
            "name": "BILL_AMT6",
            "nullable": true,
            "type": "double"
           },
           {
            "metadata": {},
            "name": "PAY_AMT1",
            "nullable": true,
            "type": "double"
           },
           {
            "metadata": {},
            "name": "PAY_AMT2",
            "nullable": true,
            "type": "double"
           },
           {
            "metadata": {},
            "name": "PAY_AMT3",
            "nullable": true,
            "type": "double"
           },
           {
            "metadata": {},
            "name": "PAY_AMT4",
            "nullable": true,
            "type": "double"
           },
           {
            "metadata": {},
            "name": "PAY_AMT5",
            "nullable": true,
            "type": "double"
           },
           {
            "metadata": {},
            "name": "PAY_AMT6",
            "nullable": true,
            "type": "double"
           },
           {
            "metadata": {},
            "name": "Default",
            "nullable": true,
            "type": "integer"
           }
          ],
          "type": "struct"
         },
         "tableIdentifier": null,
         "typeStr": "pyspark.sql.dataframe.DataFrame"
        }
       ],
       "removedWidgets": [],
       "type": "html"
      }
     },
     "output_type": "display_data"
    }
   ],
   "source": [
    "df = df.filter((df.MARRIAGE != '3')&(df.MARRIAGE != '0') &(df.EDUCATION != '0') &  (df.EDUCATION != '5') & (df.EDUCATION != '6'))"
   ]
  },
  {
   "cell_type": "code",
   "execution_count": 0,
   "metadata": {
    "application/vnd.databricks.v1+cell": {
     "inputWidgets": {},
     "nuid": "f8600ddc-bbdd-4d85-8d7e-e88a3598c245",
     "showTitle": false,
     "title": ""
    }
   },
   "outputs": [
    {
     "data": {
      "text/html": [
       "<style scoped>\n",
       "  .ansiout {\n",
       "    display: block;\n",
       "    unicode-bidi: embed;\n",
       "    white-space: pre-wrap;\n",
       "    word-wrap: break-word;\n",
       "    word-break: break-all;\n",
       "    font-family: \"Source Code Pro\", \"Menlo\", monospace;;\n",
       "    font-size: 13px;\n",
       "    color: #555;\n",
       "    margin-left: 4px;\n",
       "    line-height: 19px;\n",
       "  }\n",
       "</style>\n",
       "<div class=\"ansiout\">+-------+------------------+------------------+\n",
       "summary|          MARRIAGE|         EDUCATION|\n",
       "+-------+------------------+------------------+\n",
       "  count|             29283|             29283|\n",
       "   mean|1.5397671003653997|   1.8114605743947|\n",
       " stddev|0.4984245794401454|0.7094951994131745|\n",
       "    min|                 1|                 1|\n",
       "    max|                 2|                 4|\n",
       "+-------+------------------+------------------+\n",
       "\n",
       "</div>"
      ]
     },
     "metadata": {
      "application/vnd.databricks.v1+output": {
       "addedWidgets": {},
       "arguments": {},
       "data": "<div class=\"ansiout\">+-------+------------------+------------------+\n|summary|          MARRIAGE|         EDUCATION|\n+-------+------------------+------------------+\n|  count|             29283|             29283|\n|   mean|1.5397671003653997|   1.8114605743947|\n| stddev|0.4984245794401454|0.7094951994131745|\n|    min|                 1|                 1|\n|    max|                 2|                 4|\n+-------+------------------+------------------+\n\n</div>",
       "datasetInfos": [],
       "removedWidgets": [],
       "type": "html"
      }
     },
     "output_type": "display_data"
    }
   ],
   "source": [
    "df.select('MARRIAGE','EDUCATION').describe().show()"
   ]
  },
  {
   "cell_type": "markdown",
   "metadata": {
    "application/vnd.databricks.v1+cell": {
     "inputWidgets": {},
     "nuid": "fd1113c8-64f5-4de5-b4ca-d648f02ca4fd",
     "showTitle": false,
     "title": ""
    }
   },
   "source": [
    "Visualizations"
   ]
  },
  {
   "cell_type": "code",
   "execution_count": 0,
   "metadata": {
    "application/vnd.databricks.v1+cell": {
     "inputWidgets": {},
     "nuid": "7202cddd-ef7e-4218-9b9e-47f757d7547f",
     "showTitle": false,
     "title": ""
    }
   },
   "outputs": [
    {
     "data": {
      "text/html": [
       "<style scoped>\n",
       "  .table-result-container {\n",
       "    max-height: 300px;\n",
       "    overflow: auto;\n",
       "  }\n",
       "  table, th, td {\n",
       "    border: 1px solid black;\n",
       "    border-collapse: collapse;\n",
       "  }\n",
       "  th, td {\n",
       "    padding: 5px;\n",
       "  }\n",
       "  th {\n",
       "    text-align: left;\n",
       "  }\n",
       "</style><div class='table-result-container'><table class='table-result'><thead style='background-color: white'><tr><th>EDUCATION</th><th>Default</th><th>count(ID)</th></tr></thead><tbody><tr><td>1</td><td>0</td><td>8508</td></tr><tr><td>1</td><td>1</td><td>2023</td></tr><tr><td>2</td><td>0</td><td>10577</td></tr><tr><td>2</td><td>1</td><td>3285</td></tr><tr><td>3</td><td>1</td><td>1206</td></tr><tr><td>3</td><td>0</td><td>3564</td></tr><tr><td>4</td><td>0</td><td>113</td></tr><tr><td>4</td><td>1</td><td>7</td></tr></tbody></table></div>"
      ]
     },
     "metadata": {
      "application/vnd.databricks.v1+output": {
       "addedWidgets": {},
       "aggData": [],
       "aggError": "",
       "aggOverflow": false,
       "aggSchema": [],
       "aggSeriesLimitReached": false,
       "aggType": "",
       "arguments": {},
       "columnCustomDisplayInfos": {},
       "data": [
        [
         "1",
         0,
         8508
        ],
        [
         "1",
         1,
         2023
        ],
        [
         "2",
         0,
         10577
        ],
        [
         "2",
         1,
         3285
        ],
        [
         "3",
         1,
         1206
        ],
        [
         "3",
         0,
         3564
        ],
        [
         "4",
         0,
         113
        ],
        [
         "4",
         1,
         7
        ]
       ],
       "datasetInfos": [],
       "dbfsResultPath": null,
       "isJsonSchema": true,
       "overflow": false,
       "plotOptions": {
        "customPlotOptions": {},
        "displayType": "table",
        "pivotAggregation": null,
        "pivotColumns": null,
        "xColumns": null,
        "yColumns": null
       },
       "removedWidgets": [],
       "schema": [
        {
         "metadata": "{}",
         "name": "EDUCATION",
         "type": "\"string\""
        },
        {
         "metadata": "{}",
         "name": "Default",
         "type": "\"integer\""
        },
        {
         "metadata": "{}",
         "name": "count(ID)",
         "type": "\"long\""
        }
       ],
       "type": "table"
      }
     },
     "output_type": "display_data"
    }
   ],
   "source": [
    "df.select(\"EDUCATION\",\"Default\",\"ID\").groupBy(\"EDUCATION\",\"Default\").agg(count(\"ID\")).orderBy('EDUCATION').display()"
   ]
  }
 ],
 "metadata": {
  "application/vnd.databricks.v1+notebook": {
   "dashboards": [],
   "language": "python",
   "notebookName": "Final Project-Credit Card Default Prediction",
   "notebookOrigID": 440590990647715,
   "widgets": {}
  },
  "kernelspec": {
   "display_name": "Python 3",
   "language": "python",
   "name": "python3"
  },
  "language_info": {
   "codemirror_mode": {
    "name": "ipython",
    "version": 3
   },
   "file_extension": ".py",
   "mimetype": "text/x-python",
   "name": "python",
   "nbconvert_exporter": "python",
   "pygments_lexer": "ipython3",
   "version": "3.8.3"
  }
 },
 "nbformat": 4,
 "nbformat_minor": 1
}
