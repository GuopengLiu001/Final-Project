{
 "cells": [
  {
   "cell_type": "code",
   "execution_count": 1,
   "metadata": {},
   "outputs": [],
   "source": [
    "from pyspark import SparkContext\n",
    "sc = SparkContext(\"local\",\"myproj\")\n",
    "from pyspark.sql import SQLContext\n",
    "sqlContext = SQLContext(sc)"
   ]
  },
  {
   "cell_type": "code",
   "execution_count": 3,
   "metadata": {
    "application/vnd.databricks.v1+cell": {
     "inputWidgets": {},
     "nuid": "f347c640-17a4-41b3-896b-0a221fdbb741",
     "showTitle": false,
     "title": ""
    }
   },
   "outputs": [
    {
     "name": "stdout",
     "output_type": "stream",
     "text": [
      "root\n",
      " |-- ID: integer (nullable = true)\n",
      " |-- LIMIT_BAL: double (nullable = true)\n",
      " |-- SEX: integer (nullable = true)\n",
      " |-- EDUCATION: integer (nullable = true)\n",
      " |-- MARRIAGE: integer (nullable = true)\n",
      " |-- AGE: integer (nullable = true)\n",
      " |-- PAY_0: integer (nullable = true)\n",
      " |-- PAY_2: integer (nullable = true)\n",
      " |-- PAY_3: integer (nullable = true)\n",
      " |-- PAY_4: integer (nullable = true)\n",
      " |-- PAY_5: integer (nullable = true)\n",
      " |-- PAY_6: integer (nullable = true)\n",
      " |-- BILL_AMT1: double (nullable = true)\n",
      " |-- BILL_AMT2: double (nullable = true)\n",
      " |-- BILL_AMT3: double (nullable = true)\n",
      " |-- BILL_AMT4: double (nullable = true)\n",
      " |-- BILL_AMT5: double (nullable = true)\n",
      " |-- BILL_AMT6: double (nullable = true)\n",
      " |-- PAY_AMT1: double (nullable = true)\n",
      " |-- PAY_AMT2: double (nullable = true)\n",
      " |-- PAY_AMT3: double (nullable = true)\n",
      " |-- PAY_AMT4: double (nullable = true)\n",
      " |-- PAY_AMT5: double (nullable = true)\n",
      " |-- PAY_AMT6: double (nullable = true)\n",
      " |-- default.payment.next.month: integer (nullable = true)\n",
      "\n"
     ]
    }
   ],
   "source": [
    "from pyspark.sql import SparkSession\n",
    "spark = SparkSession.builder.appName('myproj').getOrCreate()\n",
    "data = spark.read.csv('UCI_Credit_Card.csv',inferSchema=True,header=True)\n",
    "data.printSchema()\n",
    "spark.conf.set(\"spark.sql.repl.eagerEval.enabled\", True)"
   ]
  },
  {
   "cell_type": "markdown",
   "metadata": {
    "application/vnd.databricks.v1+cell": {
     "inputWidgets": {},
     "nuid": "547e8d0a-30fb-4a52-9a47-2883f6b18ac9",
     "showTitle": true,
     "title": "Data Understanding"
    }
   },
   "source": [
    "# Data Understanding\n",
    "Data Dictionary\n",
    "1.\tID: ID of each client\n",
    "2.\tLIMIT_BAL: Amount of given credit in NT dollars (includes individual and family/supplementary credit)\n",
    "3.\tSEX: Gender (1=male, 2=female)\n",
    "4.\tEDUCATION: (1=graduate school, 2=university, 3=high school, 4=others, 5=unknown, 6=unknown)\n",
    "5.\tMARRIAGE: Marital status (1=married, 2=single, 3=others)\n",
    "6.\tAge: Age in years\n",
    "7.\tPAY_0 ------ PAY_6 (6 features): Repayment status from April, 2005 to September, 2005(-1=pay duly, 0=not delay, other number = the number of months for payment delay)\n",
    "8.\tBILL_AMT1 ------ BILL_AMT6 (6 features): Amount of bill statement from April, 2005 to September 2005(NT dollar)\n",
    "9.\tPAY_AMT1: Amount of previous payment from April, 2005 to September 2005(NT dollar)\n",
    "10.\tDefault. Payment. next. Month: default payment (1=yes, 2=no)"
   ]
  },
  {
   "cell_type": "code",
   "execution_count": 4,
   "metadata": {
    "application/vnd.databricks.v1+cell": {
     "inputWidgets": {},
     "nuid": "127db9ec-a80c-417d-bed6-e68eee7cb7ef",
     "showTitle": false,
     "title": ""
    }
   },
   "outputs": [],
   "source": [
    "data = data.withColumnRenamed(\"PAY_0\", \"PAY_1\")\n",
    "data = data.withColumnRenamed(\"default.payment.next.month\", \"Default\")"
   ]
  },
  {
   "cell_type": "markdown",
   "metadata": {
    "application/vnd.databricks.v1+cell": {
     "inputWidgets": {},
     "nuid": "3cc634fc-e747-48bc-b80d-aae2a98cdcb7",
     "showTitle": false,
     "title": ""
    }
   },
   "source": [
    "## Change data types"
   ]
  },
  {
   "cell_type": "code",
   "execution_count": 5,
   "metadata": {
    "application/vnd.databricks.v1+cell": {
     "inputWidgets": {},
     "nuid": "0f0c274d-5f07-4d03-970a-1e68b23e4adc",
     "showTitle": false,
     "title": ""
    }
   },
   "outputs": [
    {
     "name": "stdout",
     "output_type": "stream",
     "text": [
      "root\n",
      " |-- ID: string (nullable = true)\n",
      " |-- LIMIT_BAL: double (nullable = true)\n",
      " |-- SEX: string (nullable = true)\n",
      " |-- EDUCATION: string (nullable = true)\n",
      " |-- MARRIAGE: string (nullable = true)\n",
      " |-- AGE: integer (nullable = true)\n",
      " |-- PAY_1: integer (nullable = true)\n",
      " |-- PAY_2: integer (nullable = true)\n",
      " |-- PAY_3: integer (nullable = true)\n",
      " |-- PAY_4: integer (nullable = true)\n",
      " |-- PAY_5: integer (nullable = true)\n",
      " |-- PAY_6: integer (nullable = true)\n",
      " |-- BILL_AMT1: double (nullable = true)\n",
      " |-- BILL_AMT2: double (nullable = true)\n",
      " |-- BILL_AMT3: double (nullable = true)\n",
      " |-- BILL_AMT4: double (nullable = true)\n",
      " |-- BILL_AMT5: double (nullable = true)\n",
      " |-- BILL_AMT6: double (nullable = true)\n",
      " |-- PAY_AMT1: double (nullable = true)\n",
      " |-- PAY_AMT2: double (nullable = true)\n",
      " |-- PAY_AMT3: double (nullable = true)\n",
      " |-- PAY_AMT4: double (nullable = true)\n",
      " |-- PAY_AMT5: double (nullable = true)\n",
      " |-- PAY_AMT6: double (nullable = true)\n",
      " |-- Default: integer (nullable = true)\n",
      "\n"
     ]
    }
   ],
   "source": [
    "from pyspark.sql.types import StructField,StringType,IntegerType,DoubleType,StructType\n",
    "# if the second element is True means it could have null cells\n",
    "df_schema = StructType([\n",
    "    StructField('ID', StringType(), True),\n",
    "    StructField('LIMIT_BAL', DoubleType(), True),\n",
    "    StructField('SEX', StringType(), True),\n",
    "    StructField('EDUCATION', StringType(), True),\n",
    "    StructField('MARRIAGE', StringType(), True),\n",
    "    StructField('AGE', IntegerType(), True),\n",
    "    StructField('PAY_1', IntegerType(), True),\n",
    "    StructField('PAY_2', IntegerType(), True),\n",
    "    StructField('PAY_3', IntegerType(), True),\n",
    "    StructField('PAY_4', IntegerType(), True),\n",
    "    StructField('PAY_5', IntegerType(), True),\n",
    "    StructField('PAY_6', IntegerType(), True),\n",
    "    StructField('BILL_AMT1', DoubleType(), True),\n",
    "    StructField('BILL_AMT2', DoubleType(), True),\n",
    "    StructField('BILL_AMT3', DoubleType(), True),\n",
    "    StructField('BILL_AMT4', DoubleType(), True),\n",
    "    StructField('BILL_AMT5', DoubleType(), True),\n",
    "    StructField('BILL_AMT6', DoubleType(), True),\n",
    "    StructField('PAY_AMT1', DoubleType(), True),\n",
    "    StructField('PAY_AMT2', DoubleType(), True),\n",
    "    StructField('PAY_AMT3', DoubleType(), True),\n",
    "    StructField('PAY_AMT4', DoubleType(), True),\n",
    "    StructField('PAY_AMT5', DoubleType(), True),\n",
    "    StructField('PAY_AMT6', DoubleType(), True),\n",
    "    StructField('Default', IntegerType(), True),\n",
    "    ])\n",
    "data = spark.createDataFrame(data.collect(),schema = df_schema)\n",
    "data.printSchema()"
   ]
  },
  {
   "cell_type": "code",
   "execution_count": 6,
   "metadata": {
    "application/vnd.databricks.v1+cell": {
     "inputWidgets": {},
     "nuid": "1522605a-bf52-48ca-87b2-cd06fea94d78",
     "showTitle": false,
     "title": ""
    }
   },
   "outputs": [
    {
     "name": "stdout",
     "output_type": "stream",
     "text": [
      "Number of Rows:  30000    Number of Columns:  25\n",
      "+---+---------+---+---------+--------+---+-----+-----+-----+-----+-----+-----+---------+---------+---------+---------+---------+---------+--------+--------+--------+--------+--------+--------+-------+\n",
      "| ID|LIMIT_BAL|SEX|EDUCATION|MARRIAGE|AGE|PAY_1|PAY_2|PAY_3|PAY_4|PAY_5|PAY_6|BILL_AMT1|BILL_AMT2|BILL_AMT3|BILL_AMT4|BILL_AMT5|BILL_AMT6|PAY_AMT1|PAY_AMT2|PAY_AMT3|PAY_AMT4|PAY_AMT5|PAY_AMT6|Default|\n",
      "+---+---------+---+---------+--------+---+-----+-----+-----+-----+-----+-----+---------+---------+---------+---------+---------+---------+--------+--------+--------+--------+--------+--------+-------+\n",
      "|  0|        0|  0|        0|       0|  0|    0|    0|    0|    0|    0|    0|        0|        0|        0|        0|        0|        0|       0|       0|       0|       0|       0|       0|      0|\n",
      "+---+---------+---+---------+--------+---+-----+-----+-----+-----+-----+-----+---------+---------+---------+---------+---------+---------+--------+--------+--------+--------+--------+--------+-------+\n",
      "\n"
     ]
    }
   ],
   "source": [
    "from pyspark.sql.functions import *\n",
    "from pyspark.sql.functions import when, count, col\n",
    "df = data\n",
    "na_report=df.select([count(when(isnull(c), c)).alias(c) for c in df.columns])# dimensions of the dataframe\n",
    "print(\"Number of Rows: \",df.count() ,\"   Number of Columns: \", len(df.columns))\n",
    "# we should handle the missing values by imputation unless too many of them are emtpy\n",
    "# na.drop() method is not recommended for avoiding biased except for the dependent variable\n",
    "na_report.show()"
   ]
  },
  {
   "cell_type": "code",
   "execution_count": 7,
   "metadata": {
    "application/vnd.databricks.v1+cell": {
     "inputWidgets": {},
     "nuid": "63f2777b-33b3-4bf2-9f50-1e5454dc7631",
     "showTitle": false,
     "title": ""
    }
   },
   "outputs": [
    {
     "name": "stdout",
     "output_type": "stream",
     "text": [
      "+-------+-----------------+------------------+------------------+------------------+------------------+-----------------+------------------+--------------------+------------------+--------------------+------------------+-----------------+-----------------+-----------------+-----------------+------------------+-----------------+----------------+-----------------+------------------+-----------------+------------------+------------------+-----------------+-------------------+\n",
      "|summary|               ID|         LIMIT_BAL|               SEX|         EDUCATION|          MARRIAGE|              AGE|             PAY_1|               PAY_2|             PAY_3|               PAY_4|             PAY_5|            PAY_6|        BILL_AMT1|        BILL_AMT2|        BILL_AMT3|         BILL_AMT4|        BILL_AMT5|       BILL_AMT6|         PAY_AMT1|          PAY_AMT2|         PAY_AMT3|          PAY_AMT4|          PAY_AMT5|         PAY_AMT6|            Default|\n",
      "+-------+-----------------+------------------+------------------+------------------+------------------+-----------------+------------------+--------------------+------------------+--------------------+------------------+-----------------+-----------------+-----------------+-----------------+------------------+-----------------+----------------+-----------------+------------------+-----------------+------------------+------------------+-----------------+-------------------+\n",
      "|  count|            30000|             30000|             30000|             30000|             30000|            30000|             30000|               30000|             30000|               30000|             30000|            30000|            30000|            30000|            30000|             30000|            30000|           30000|            30000|             30000|            30000|             30000|             30000|            30000|              30000|\n",
      "|   mean|          15000.5|167484.32266666667|1.6037333333333332|1.8531333333333333|1.5518666666666667|          35.4855|           -0.0167|-0.13376666666666667|           -0.1662|-0.22066666666666668|           -0.2662|          -0.2911|       51223.3309|49179.07516666667|       47013.1548| 43262.94896666666|40311.40096666667|      38871.7604|        5663.5805|         5921.1635|        5225.6815| 4826.076866666666| 4799.387633333334|5215.502566666667|             0.2212|\n",
      "| stddev|8660.398374208891|129747.66156720246|0.4891291960902602|0.7903486597207269|0.5219696006132467|9.217904068090155|1.1238015279973335|  1.1971859730345495|1.1968675684465686|  1.1691386224023357|1.1331874060027525|1.149987625607897|73635.86057552966|71173.76878252832|69349.38742703677|64332.856133916444|60797.15577026471|59554.1075367459|16563.28035402577|23040.870402057186|17606.96146980311|15666.159744032062|15278.305679144742|17777.46577543531|0.41506180569093254|\n",
      "|    min|                1|           10000.0|                 1|                 0|                 0|               21|                -2|                  -2|                -2|                  -2|                -2|               -2|        -165580.0|         -69777.0|        -157264.0|         -170000.0|         -81334.0|       -339603.0|              0.0|               0.0|              0.0|               0.0|               0.0|              0.0|                  0|\n",
      "|    max|             9999|         1000000.0|                 2|                 6|                 3|               79|                 8|                   8|                 8|                   8|                 8|                8|         964511.0|         983931.0|        1664089.0|          891586.0|         927171.0|        961664.0|         873552.0|         1684259.0|         896040.0|          621000.0|          426529.0|         528666.0|                  1|\n",
      "+-------+-----------------+------------------+------------------+------------------+------------------+-----------------+------------------+--------------------+------------------+--------------------+------------------+-----------------+-----------------+-----------------+-----------------+------------------+-----------------+----------------+-----------------+------------------+-----------------+------------------+------------------+-----------------+-------------------+\n",
      "\n"
     ]
    }
   ],
   "source": [
    "df.describe().show()"
   ]
  },
  {
   "cell_type": "markdown",
   "metadata": {
    "application/vnd.databricks.v1+cell": {
     "inputWidgets": {},
     "nuid": "0989e93b-218a-4c5d-b4f3-c29a384e945b",
     "showTitle": true,
     "title": "Data Preparation"
    }
   },
   "source": [
    "# Data Preparation\n",
    "Drop abnormal data in \"EDUCATION\" and \"MARRIAGE\" comlumns"
   ]
  },
  {
   "cell_type": "code",
   "execution_count": 8,
   "metadata": {
    "application/vnd.databricks.v1+cell": {
     "inputWidgets": {},
     "nuid": "fcf643c6-71d9-4377-96bc-1c0bf7cdeb8b",
     "showTitle": false,
     "title": ""
    }
   },
   "outputs": [
    {
     "name": "stdout",
     "output_type": "stream",
     "text": [
      "+-------+------------------+------------------+\n",
      "|summary|          MARRIAGE|         EDUCATION|\n",
      "+-------+------------------+------------------+\n",
      "|  count|             30000|             30000|\n",
      "|   mean|1.5518666666666667|1.8531333333333333|\n",
      "| stddev|0.5219696006132467|0.7903486597207269|\n",
      "|    min|                 0|                 0|\n",
      "|    max|                 3|                 6|\n",
      "+-------+------------------+------------------+\n",
      "\n"
     ]
    }
   ],
   "source": [
    "df.select('MARRIAGE','EDUCATION').describe().show()"
   ]
  },
  {
   "cell_type": "code",
   "execution_count": 9,
   "metadata": {
    "application/vnd.databricks.v1+cell": {
     "inputWidgets": {},
     "nuid": "949cc47f-06d4-40f3-b2f3-08d18f92b507",
     "showTitle": false,
     "title": ""
    }
   },
   "outputs": [],
   "source": [
    "df = df.filter((df.MARRIAGE != '3')&(df.MARRIAGE != '0') &(df.EDUCATION != '0') &  (df.EDUCATION != '5') & (df.EDUCATION != '6'))"
   ]
  },
  {
   "cell_type": "code",
   "execution_count": 10,
   "metadata": {
    "application/vnd.databricks.v1+cell": {
     "inputWidgets": {},
     "nuid": "f8600ddc-bbdd-4d85-8d7e-e88a3598c245",
     "showTitle": false,
     "title": ""
    }
   },
   "outputs": [
    {
     "name": "stdout",
     "output_type": "stream",
     "text": [
      "+-------+-------------------+------------------+\n",
      "|summary|           MARRIAGE|         EDUCATION|\n",
      "+-------+-------------------+------------------+\n",
      "|  count|              29283|             29283|\n",
      "|   mean| 1.5397671003653997|   1.8114605743947|\n",
      "| stddev|0.49842457944014473|0.7094951994131714|\n",
      "|    min|                  1|                 1|\n",
      "|    max|                  2|                 4|\n",
      "+-------+-------------------+------------------+\n",
      "\n"
     ]
    }
   ],
   "source": [
    "df.select('MARRIAGE','EDUCATION').describe().show()"
   ]
  },
  {
   "cell_type": "markdown",
   "metadata": {
    "application/vnd.databricks.v1+cell": {
     "inputWidgets": {},
     "nuid": "fd1113c8-64f5-4de5-b4ca-d648f02ca4fd",
     "showTitle": false,
     "title": ""
    }
   },
   "source": [
    "# Visualizations\n",
    "## We created some visualizations to explore story behind data based on the Databricks platform."
   ]
  },
  {
   "cell_type": "code",
   "execution_count": 11,
   "metadata": {
    "application/vnd.databricks.v1+cell": {
     "inputWidgets": {},
     "nuid": "7202cddd-ef7e-4218-9b9e-47f757d7547f",
     "showTitle": false,
     "title": ""
    }
   },
   "outputs": [
    {
     "data": {
      "text/html": [
       "<table border='1'>\n",
       "<tr><th>EDUCATION</th><th>Default</th><th>count(ID)</th></tr>\n",
       "<tr><td>1</td><td>0</td><td>8508</td></tr>\n",
       "<tr><td>1</td><td>1</td><td>2023</td></tr>\n",
       "<tr><td>2</td><td>0</td><td>10577</td></tr>\n",
       "<tr><td>2</td><td>1</td><td>3285</td></tr>\n",
       "<tr><td>3</td><td>1</td><td>1206</td></tr>\n",
       "<tr><td>3</td><td>0</td><td>3564</td></tr>\n",
       "<tr><td>4</td><td>1</td><td>7</td></tr>\n",
       "<tr><td>4</td><td>0</td><td>113</td></tr>\n",
       "</table>\n"
      ],
      "text/plain": [
       "+---------+-------+---------+\n",
       "|EDUCATION|Default|count(ID)|\n",
       "+---------+-------+---------+\n",
       "|        1|      0|     8508|\n",
       "|        1|      1|     2023|\n",
       "|        2|      0|    10577|\n",
       "|        2|      1|     3285|\n",
       "|        3|      1|     1206|\n",
       "|        3|      0|     3564|\n",
       "|        4|      1|        7|\n",
       "|        4|      0|      113|\n",
       "+---------+-------+---------+"
      ]
     },
     "metadata": {},
     "output_type": "display_data"
    }
   ],
   "source": [
    "display(df.select(\"EDUCATION\",\"Default\",\"ID\").groupBy(\"EDUCATION\",\"Default\").agg(count(\"ID\")).orderBy('EDUCATION'))"
   ]
  },
  {
   "cell_type": "code",
   "execution_count": 12,
   "metadata": {
    "application/vnd.databricks.v1+cell": {
     "inputWidgets": {},
     "nuid": "1514d989-4d53-473a-b561-c61ce4afca47",
     "showTitle": false,
     "title": ""
    }
   },
   "outputs": [
    {
     "data": {
      "text/html": [
       "<table border='1'>\n",
       "<tr><th>SEX</th><th>Default</th><th>count(ID)</th></tr>\n",
       "<tr><td>1</td><td>0</td><td>8795</td></tr>\n",
       "<tr><td>1</td><td>1</td><td>2821</td></tr>\n",
       "<tr><td>2</td><td>0</td><td>13967</td></tr>\n",
       "<tr><td>2</td><td>1</td><td>3700</td></tr>\n",
       "</table>\n"
      ],
      "text/plain": [
       "+---+-------+---------+\n",
       "|SEX|Default|count(ID)|\n",
       "+---+-------+---------+\n",
       "|  1|      0|     8795|\n",
       "|  1|      1|     2821|\n",
       "|  2|      0|    13967|\n",
       "|  2|      1|     3700|\n",
       "+---+-------+---------+"
      ]
     },
     "metadata": {},
     "output_type": "display_data"
    }
   ],
   "source": [
    "display(df.select(\"SEX\",\"Default\",\"ID\").groupBy(\"SEX\",\"Default\").agg(count(\"ID\")))"
   ]
  },
  {
   "cell_type": "code",
   "execution_count": 13,
   "metadata": {
    "application/vnd.databricks.v1+cell": {
     "inputWidgets": {},
     "nuid": "9f923162-c1ee-457f-8db6-882ddd102c37",
     "showTitle": false,
     "title": ""
    }
   },
   "outputs": [
    {
     "data": {
      "text/html": [
       "<table border='1'>\n",
       "<tr><th>AGE</th><th>Default</th><th>count(ID)</th></tr>\n",
       "<tr><td>21</td><td>1</td><td>14</td></tr>\n",
       "<tr><td>21</td><td>0</td><td>50</td></tr>\n",
       "<tr><td>22</td><td>0</td><td>383</td></tr>\n",
       "<tr><td>22</td><td>1</td><td>164</td></tr>\n",
       "<tr><td>23</td><td>1</td><td>246</td></tr>\n",
       "<tr><td>23</td><td>0</td><td>669</td></tr>\n",
       "<tr><td>24</td><td>0</td><td>815</td></tr>\n",
       "<tr><td>24</td><td>1</td><td>300</td></tr>\n",
       "<tr><td>25</td><td>0</td><td>873</td></tr>\n",
       "<tr><td>25</td><td>1</td><td>298</td></tr>\n",
       "<tr><td>26</td><td>0</td><td>992</td></tr>\n",
       "<tr><td>26</td><td>1</td><td>251</td></tr>\n",
       "<tr><td>27</td><td>1</td><td>312</td></tr>\n",
       "<tr><td>27</td><td>0</td><td>1136</td></tr>\n",
       "<tr><td>28</td><td>0</td><td>1111</td></tr>\n",
       "<tr><td>28</td><td>1</td><td>283</td></tr>\n",
       "<tr><td>29</td><td>1</td><td>312</td></tr>\n",
       "<tr><td>29</td><td>0</td><td>1274</td></tr>\n",
       "<tr><td>30</td><td>1</td><td>272</td></tr>\n",
       "<tr><td>30</td><td>0</td><td>1100</td></tr>\n",
       "</table>\n",
       "only showing top 20 rows\n"
      ],
      "text/plain": [
       "+---+-------+---------+\n",
       "|AGE|Default|count(ID)|\n",
       "+---+-------+---------+\n",
       "| 21|      1|       14|\n",
       "| 21|      0|       50|\n",
       "| 22|      0|      383|\n",
       "| 22|      1|      164|\n",
       "| 23|      1|      246|\n",
       "| 23|      0|      669|\n",
       "| 24|      0|      815|\n",
       "| 24|      1|      300|\n",
       "| 25|      0|      873|\n",
       "| 25|      1|      298|\n",
       "| 26|      0|      992|\n",
       "| 26|      1|      251|\n",
       "| 27|      1|      312|\n",
       "| 27|      0|     1136|\n",
       "| 28|      0|     1111|\n",
       "| 28|      1|      283|\n",
       "| 29|      1|      312|\n",
       "| 29|      0|     1274|\n",
       "| 30|      1|      272|\n",
       "| 30|      0|     1100|\n",
       "+---+-------+---------+\n",
       "only showing top 20 rows"
      ]
     },
     "metadata": {},
     "output_type": "display_data"
    }
   ],
   "source": [
    "display(df.select(\"AGE\",\"Default\",\"ID\").groupBy(\"AGE\",\"Default\").agg(count(\"ID\")).orderBy('AGE'))"
   ]
  },
  {
   "cell_type": "code",
   "execution_count": 14,
   "metadata": {
    "application/vnd.databricks.v1+cell": {
     "inputWidgets": {},
     "nuid": "76d4998b-0d79-4567-b1d8-eea0f7345dda",
     "showTitle": false,
     "title": ""
    }
   },
   "outputs": [
    {
     "data": {
      "text/html": [
       "<table border='1'>\n",
       "<tr><th>EDUCATION</th><th>count(ID)</th></tr>\n",
       "<tr><td>1</td><td>10531</td></tr>\n",
       "<tr><td>2</td><td>13862</td></tr>\n",
       "<tr><td>3</td><td>4770</td></tr>\n",
       "<tr><td>4</td><td>120</td></tr>\n",
       "</table>\n"
      ],
      "text/plain": [
       "+---------+---------+\n",
       "|EDUCATION|count(ID)|\n",
       "+---------+---------+\n",
       "|        1|    10531|\n",
       "|        2|    13862|\n",
       "|        3|     4770|\n",
       "|        4|      120|\n",
       "+---------+---------+"
      ]
     },
     "metadata": {},
     "output_type": "display_data"
    }
   ],
   "source": [
    "display(df.select(\"EDUCATION\",\"ID\").groupBy(\"EDUCATION\").agg(count(\"ID\")).orderBy('EDUCATION'))"
   ]
  },
  {
   "cell_type": "code",
   "execution_count": 15,
   "metadata": {
    "application/vnd.databricks.v1+cell": {
     "inputWidgets": {},
     "nuid": "cba4f21e-f057-4840-a7e9-40c27ef691da",
     "showTitle": false,
     "title": ""
    }
   },
   "outputs": [
    {
     "data": {
      "text/html": [
       "<table border='1'>\n",
       "<tr><th>MARRIAGE</th><th>count(ID)</th></tr>\n",
       "<tr><td>1</td><td>13477</td></tr>\n",
       "<tr><td>2</td><td>15806</td></tr>\n",
       "</table>\n"
      ],
      "text/plain": [
       "+--------+---------+\n",
       "|MARRIAGE|count(ID)|\n",
       "+--------+---------+\n",
       "|       1|    13477|\n",
       "|       2|    15806|\n",
       "+--------+---------+"
      ]
     },
     "metadata": {},
     "output_type": "display_data"
    }
   ],
   "source": [
    "display(df.select(\"MARRIAGE\",\"ID\").groupBy(\"MARRIAGE\").agg(count(\"ID\")))"
   ]
  },
  {
   "cell_type": "code",
   "execution_count": 16,
   "metadata": {
    "application/vnd.databricks.v1+cell": {
     "inputWidgets": {},
     "nuid": "41f9a38d-bfb6-400f-b5aa-3b7a4baa0a7a",
     "showTitle": false,
     "title": ""
    }
   },
   "outputs": [
    {
     "data": {
      "text/html": [
       "<table border='1'>\n",
       "<tr><th>Default</th><th>MARRIAGE</th><th>count(id)</th></tr>\n",
       "<tr><td>1</td><td>1</td><td>3192</td></tr>\n",
       "<tr><td>0</td><td>1</td><td>10285</td></tr>\n",
       "<tr><td>0</td><td>2</td><td>12477</td></tr>\n",
       "<tr><td>1</td><td>2</td><td>3329</td></tr>\n",
       "</table>\n"
      ],
      "text/plain": [
       "+-------+--------+---------+\n",
       "|Default|MARRIAGE|count(id)|\n",
       "+-------+--------+---------+\n",
       "|      1|       1|     3192|\n",
       "|      0|       1|    10285|\n",
       "|      0|       2|    12477|\n",
       "|      1|       2|     3329|\n",
       "+-------+--------+---------+"
      ]
     },
     "metadata": {},
     "output_type": "display_data"
    }
   ],
   "source": [
    "display(df.select(\"MARRIAGE\",\"ID\",\"Default\").groupBy(\"Default\",\"MARRIAGE\").agg(count(\"id\")).orderBy('MARRIAGE'))"
   ]
  },
  {
   "cell_type": "code",
   "execution_count": 17,
   "metadata": {
    "application/vnd.databricks.v1+cell": {
     "inputWidgets": {},
     "nuid": "f44b6ffc-35e7-4e35-a200-7a53c94644dc",
     "showTitle": false,
     "title": ""
    }
   },
   "outputs": [
    {
     "data": {
      "text/html": [
       "<table border='1'>\n",
       "<tr><th>Default</th><th>LIMIT_BAL</th><th>count(id)</th></tr>\n",
       "<tr><td>0</td><td>10000.0</td><td>284</td></tr>\n",
       "<tr><td>1</td><td>10000.0</td><td>189</td></tr>\n",
       "<tr><td>0</td><td>16000.0</td><td>1</td></tr>\n",
       "<tr><td>1</td><td>20000.0</td><td>679</td></tr>\n",
       "<tr><td>0</td><td>20000.0</td><td>1231</td></tr>\n",
       "<tr><td>1</td><td>30000.0</td><td>554</td></tr>\n",
       "<tr><td>0</td><td>30000.0</td><td>1003</td></tr>\n",
       "<tr><td>1</td><td>40000.0</td><td>92</td></tr>\n",
       "<tr><td>0</td><td>40000.0</td><td>132</td></tr>\n",
       "<tr><td>1</td><td>50000.0</td><td>864</td></tr>\n",
       "<tr><td>0</td><td>50000.0</td><td>2397</td></tr>\n",
       "<tr><td>0</td><td>60000.0</td><td>573</td></tr>\n",
       "<tr><td>1</td><td>60000.0</td><td>228</td></tr>\n",
       "<tr><td>1</td><td>70000.0</td><td>207</td></tr>\n",
       "<tr><td>0</td><td>70000.0</td><td>506</td></tr>\n",
       "<tr><td>1</td><td>80000.0</td><td>360</td></tr>\n",
       "<tr><td>0</td><td>80000.0</td><td>1166</td></tr>\n",
       "<tr><td>1</td><td>90000.0</td><td>161</td></tr>\n",
       "<tr><td>0</td><td>90000.0</td><td>472</td></tr>\n",
       "<tr><td>0</td><td>100000.0</td><td>759</td></tr>\n",
       "</table>\n",
       "only showing top 20 rows\n"
      ],
      "text/plain": [
       "+-------+---------+---------+\n",
       "|Default|LIMIT_BAL|count(id)|\n",
       "+-------+---------+---------+\n",
       "|      0|  10000.0|      284|\n",
       "|      1|  10000.0|      189|\n",
       "|      0|  16000.0|        1|\n",
       "|      1|  20000.0|      679|\n",
       "|      0|  20000.0|     1231|\n",
       "|      1|  30000.0|      554|\n",
       "|      0|  30000.0|     1003|\n",
       "|      1|  40000.0|       92|\n",
       "|      0|  40000.0|      132|\n",
       "|      1|  50000.0|      864|\n",
       "|      0|  50000.0|     2397|\n",
       "|      0|  60000.0|      573|\n",
       "|      1|  60000.0|      228|\n",
       "|      1|  70000.0|      207|\n",
       "|      0|  70000.0|      506|\n",
       "|      1|  80000.0|      360|\n",
       "|      0|  80000.0|     1166|\n",
       "|      1|  90000.0|      161|\n",
       "|      0|  90000.0|      472|\n",
       "|      0| 100000.0|      759|\n",
       "+-------+---------+---------+\n",
       "only showing top 20 rows"
      ]
     },
     "metadata": {},
     "output_type": "display_data"
    }
   ],
   "source": [
    "display(df.select(\"LIMIT_BAL\",\"ID\",\"Default\").groupBy(\"Default\",\"LIMIT_BAL\").agg(count(\"id\")).orderBy('LIMIT_BAL'))"
   ]
  },
  {
   "cell_type": "code",
   "execution_count": 18,
   "metadata": {
    "application/vnd.databricks.v1+cell": {
     "inputWidgets": {},
     "nuid": "1c10452e-9bf9-495a-bacd-a99aa120dc89",
     "showTitle": false,
     "title": ""
    }
   },
   "outputs": [
    {
     "data": {
      "text/html": [
       "<table border='1'>\n",
       "<tr><th>Default</th><th>count(ID)</th></tr>\n",
       "<tr><td>1</td><td>6521</td></tr>\n",
       "<tr><td>0</td><td>22762</td></tr>\n",
       "</table>\n"
      ],
      "text/plain": [
       "+-------+---------+\n",
       "|Default|count(ID)|\n",
       "+-------+---------+\n",
       "|      1|     6521|\n",
       "|      0|    22762|\n",
       "+-------+---------+"
      ]
     },
     "metadata": {},
     "output_type": "display_data"
    }
   ],
   "source": [
    "display(df.select(\"Default\",\"ID\").groupBy(\"Default\").agg(count(\"ID\")))"
   ]
  },
  {
   "cell_type": "markdown",
   "metadata": {
    "application/vnd.databricks.v1+cell": {
     "inputWidgets": {},
     "nuid": "7964a67b-0304-4561-8ddd-2b8de893c146",
     "showTitle": false,
     "title": ""
    }
   },
   "source": [
    "## Check outliers"
   ]
  },
  {
   "cell_type": "code",
   "execution_count": 19,
   "metadata": {
    "application/vnd.databricks.v1+cell": {
     "inputWidgets": {},
     "nuid": "7fdb5bb8-0f95-469e-899e-9e5301040b8b",
     "showTitle": false,
     "title": ""
    }
   },
   "outputs": [
    {
     "data": {
      "text/plain": [
       "{'LIMIT_BAL': {'q1': 50000.0, 'q3': 240000.0},\n",
       " 'AGE': {'q1': 28.0, 'q3': 41.0},\n",
       " 'PAY_1': {'q1': -1.0, 'q3': 0.0},\n",
       " 'PAY_2': {'q1': -1.0, 'q3': 0.0},\n",
       " 'PAY_3': {'q1': -1.0, 'q3': 0.0},\n",
       " 'PAY_4': {'q1': -1.0, 'q3': 0.0},\n",
       " 'PAY_5': {'q1': -1.0, 'q3': 0.0},\n",
       " 'PAY_6': {'q1': -1.0, 'q3': 0.0},\n",
       " 'BILL_AMT1': {'q1': 3491.0, 'q3': 66866.0},\n",
       " 'BILL_AMT2': {'q1': 2946.0, 'q3': 63774.0},\n",
       " 'BILL_AMT3': {'q1': 2618.0, 'q3': 60005.0},\n",
       " 'BILL_AMT4': {'q1': 2313.0, 'q3': 54574.0},\n",
       " 'BILL_AMT5': {'q1': 1770.0, 'q3': 50290.0},\n",
       " 'BILL_AMT6': {'q1': 1271.0, 'q3': 49327.0},\n",
       " 'PAY_AMT1': {'q1': 995.0, 'q3': 5007.0},\n",
       " 'PAY_AMT2': {'q1': 817.0, 'q3': 5000.0},\n",
       " 'PAY_AMT3': {'q1': 390.0, 'q3': 4508.0},\n",
       " 'PAY_AMT4': {'q1': 292.0, 'q3': 4038.0},\n",
       " 'PAY_AMT5': {'q1': 260.0, 'q3': 4086.0},\n",
       " 'PAY_AMT6': {'q1': 134.0, 'q3': 4003.0}}"
      ]
     },
     "execution_count": 19,
     "metadata": {},
     "output_type": "execute_result"
    }
   ],
   "source": [
    "quantiles = {\n",
    "    c: dict(\n",
    "        zip([\"q1\", \"q3\"], df.approxQuantile(c, [0.25, 0.75], 0))\n",
    "    )\n",
    "    for c in [\"LIMIT_BAL\", \"AGE\",\"PAY_1\",\"PAY_2\",\"PAY_3\",\"PAY_4\",\"PAY_5\",\"PAY_6\",\"BILL_AMT1\",\"BILL_AMT2\",\"BILL_AMT3\",\"BILL_AMT4\",\"BILL_AMT5\",\"BILL_AMT6\",\"PAY_AMT1\",\"PAY_AMT2\",\"PAY_AMT3\",\"PAY_AMT4\",\"PAY_AMT5\",\"PAY_AMT6\"]\n",
    "}\n",
    "quantiles"
   ]
  },
  {
   "cell_type": "code",
   "execution_count": 20,
   "metadata": {
    "application/vnd.databricks.v1+cell": {
     "inputWidgets": {},
     "nuid": "13163105-ac38-4c43-894e-9502bf941ba1",
     "showTitle": false,
     "title": ""
    }
   },
   "outputs": [
    {
     "name": "stdout",
     "output_type": "stream",
     "text": [
      "{'LIMIT_BAL': {'q1': 50000.0, 'q3': 240000.0, 'lower_bound': -235000.0, 'upper_bound': 525000.0}, 'AGE': {'q1': 28.0, 'q3': 41.0, 'lower_bound': 8.5, 'upper_bound': 60.5}, 'PAY_1': {'q1': -1.0, 'q3': 0.0, 'lower_bound': -2.5, 'upper_bound': 1.5}, 'PAY_2': {'q1': -1.0, 'q3': 0.0, 'lower_bound': -2.5, 'upper_bound': 1.5}, 'PAY_3': {'q1': -1.0, 'q3': 0.0, 'lower_bound': -2.5, 'upper_bound': 1.5}, 'PAY_4': {'q1': -1.0, 'q3': 0.0, 'lower_bound': -2.5, 'upper_bound': 1.5}, 'PAY_5': {'q1': -1.0, 'q3': 0.0, 'lower_bound': -2.5, 'upper_bound': 1.5}, 'PAY_6': {'q1': -1.0, 'q3': 0.0, 'lower_bound': -2.5, 'upper_bound': 1.5}, 'BILL_AMT1': {'q1': 3491.0, 'q3': 66866.0, 'lower_bound': -91571.5, 'upper_bound': 161928.5}, 'BILL_AMT2': {'q1': 2946.0, 'q3': 63774.0, 'lower_bound': -88296.0, 'upper_bound': 155016.0}, 'BILL_AMT3': {'q1': 2618.0, 'q3': 60005.0, 'lower_bound': -83462.5, 'upper_bound': 146085.5}, 'BILL_AMT4': {'q1': 2313.0, 'q3': 54574.0, 'lower_bound': -76078.5, 'upper_bound': 132965.5}, 'BILL_AMT5': {'q1': 1770.0, 'q3': 50290.0, 'lower_bound': -71010.0, 'upper_bound': 123070.0}, 'BILL_AMT6': {'q1': 1271.0, 'q3': 49327.0, 'lower_bound': -70813.0, 'upper_bound': 121411.0}, 'PAY_AMT1': {'q1': 995.0, 'q3': 5007.0, 'lower_bound': -5023.0, 'upper_bound': 11025.0}, 'PAY_AMT2': {'q1': 817.0, 'q3': 5000.0, 'lower_bound': -5457.5, 'upper_bound': 11274.5}, 'PAY_AMT3': {'q1': 390.0, 'q3': 4508.0, 'lower_bound': -5787.0, 'upper_bound': 10685.0}, 'PAY_AMT4': {'q1': 292.0, 'q3': 4038.0, 'lower_bound': -5327.0, 'upper_bound': 9657.0}, 'PAY_AMT5': {'q1': 260.0, 'q3': 4086.0, 'lower_bound': -5479.0, 'upper_bound': 9825.0}, 'PAY_AMT6': {'q1': 134.0, 'q3': 4003.0, 'lower_bound': -5669.5, 'upper_bound': 9806.5}}\n"
     ]
    }
   ],
   "source": [
    "for i in quantiles:\n",
    "    iqr = quantiles[i]['q3'] - quantiles[i]['q1']\n",
    "    quantiles[i]['lower_bound'] = quantiles[i]['q1'] - (iqr * 1.5)\n",
    "    quantiles[i]['upper_bound'] = quantiles[i]['q3'] + (iqr * 1.5)\n",
    "print(quantiles)"
   ]
  },
  {
   "cell_type": "code",
   "execution_count": 21,
   "metadata": {
    "application/vnd.databricks.v1+cell": {
     "inputWidgets": {},
     "nuid": "158048ce-6b7d-478e-beca-5b118b5b87b7",
     "showTitle": false,
     "title": ""
    }
   },
   "outputs": [],
   "source": [
    "\n",
    "import pyspark.sql.functions as f\n",
    "df_clean=df.select(\n",
    "    \"*\",\n",
    "    *[\n",
    "        f.when(\n",
    "            f.col(c).between(quantiles[c]['lower_bound'], quantiles[c]['upper_bound']),\n",
    "            0\n",
    "        ).otherwise(1).alias(c+\"_out\") \n",
    "        for c in [\"LIMIT_BAL\", \"AGE\",\"PAY_1\",\"PAY_2\",\"PAY_3\",\"PAY_4\",\"PAY_5\",\"PAY_6\",\"BILL_AMT1\",\"BILL_AMT2\",\"BILL_AMT3\",\"BILL_AMT4\",\"BILL_AMT5\",\"BILL_AMT6\",\"PAY_AMT1\",\"PAY_AMT2\",\"PAY_AMT3\",\"PAY_AMT4\",\"PAY_AMT5\",\"PAY_AMT6\"]\n",
    "    ]\n",
    ")"
   ]
  },
  {
   "cell_type": "code",
   "execution_count": 22,
   "metadata": {
    "application/vnd.databricks.v1+cell": {
     "inputWidgets": {},
     "nuid": "50333195-7ee0-46a1-a859-355bb3149c94",
     "showTitle": false,
     "title": ""
    }
   },
   "outputs": [],
   "source": [
    "from pyspark.sql.functions import col\n",
    "df_clean=df_clean.withColumn(\"outliers\", col(\"LIMIT_BAL_out\")+col(\"AGE_out\")+col(\"PAY_1_out\")+col(\"BILL_AMT1_out\")+col(\"PAY_AMT1_out\")+col(\"PAY_2_out\")+col(\"BILL_AMT2_out\")+col(\"PAY_AMT2_out\")+col(\"PAY_3_out\")+col(\"BILL_AMT3_out\")+col(\"PAY_AMT3_out\")+col(\"PAY_4_out\")+col(\"BILL_AMT4_out\")+col(\"PAY_AMT4_out\")+col(\"PAY_5_out\")+col(\"BILL_AMT5_out\")+col(\"PAY_AMT5_out\")+col(\"PAY_6_out\")+col(\"BILL_AMT6_out\")+col(\"PAY_AMT6_out\"))"
   ]
  },
  {
   "cell_type": "code",
   "execution_count": 23,
   "metadata": {
    "application/vnd.databricks.v1+cell": {
     "inputWidgets": {},
     "nuid": "72acb759-5c6d-49b1-a12f-3ffa298a9b87",
     "showTitle": false,
     "title": ""
    }
   },
   "outputs": [
    {
     "data": {
      "text/html": [
       "<table border='1'>\n",
       "<tr><th>outliers</th><th>count(id)</th></tr>\n",
       "<tr><td>0</td><td>12827</td></tr>\n",
       "<tr><td>1</td><td>5797</td></tr>\n",
       "<tr><td>2</td><td>3040</td></tr>\n",
       "<tr><td>3</td><td>2001</td></tr>\n",
       "<tr><td>4</td><td>1397</td></tr>\n",
       "<tr><td>5</td><td>1044</td></tr>\n",
       "<tr><td>6</td><td>1635</td></tr>\n",
       "<tr><td>7</td><td>454</td></tr>\n",
       "<tr><td>8</td><td>259</td></tr>\n",
       "<tr><td>9</td><td>188</td></tr>\n",
       "<tr><td>10</td><td>170</td></tr>\n",
       "<tr><td>11</td><td>147</td></tr>\n",
       "<tr><td>12</td><td>206</td></tr>\n",
       "<tr><td>13</td><td>82</td></tr>\n",
       "<tr><td>14</td><td>18</td></tr>\n",
       "<tr><td>15</td><td>6</td></tr>\n",
       "<tr><td>16</td><td>3</td></tr>\n",
       "<tr><td>17</td><td>4</td></tr>\n",
       "<tr><td>18</td><td>5</td></tr>\n",
       "</table>\n"
      ],
      "text/plain": [
       "+--------+---------+\n",
       "|outliers|count(id)|\n",
       "+--------+---------+\n",
       "|       0|    12827|\n",
       "|       1|     5797|\n",
       "|       2|     3040|\n",
       "|       3|     2001|\n",
       "|       4|     1397|\n",
       "|       5|     1044|\n",
       "|       6|     1635|\n",
       "|       7|      454|\n",
       "|       8|      259|\n",
       "|       9|      188|\n",
       "|      10|      170|\n",
       "|      11|      147|\n",
       "|      12|      206|\n",
       "|      13|       82|\n",
       "|      14|       18|\n",
       "|      15|        6|\n",
       "|      16|        3|\n",
       "|      17|        4|\n",
       "|      18|        5|\n",
       "+--------+---------+"
      ]
     },
     "metadata": {},
     "output_type": "display_data"
    }
   ],
   "source": [
    "display(df_clean.select(\"outliers\",\"ID\").groupBy(\"outliers\").agg(count(\"id\")).orderBy('outliers'))"
   ]
  },
  {
   "cell_type": "markdown",
   "metadata": {
    "application/vnd.databricks.v1+cell": {
     "inputWidgets": {},
     "nuid": "d0292a1b-391f-43b6-b553-2357dd7081e9",
     "showTitle": true,
     "title": "Data Preparation"
    }
   },
   "source": [
    "# Data Preparation\n",
    "# Data processing"
   ]
  },
  {
   "cell_type": "markdown",
   "metadata": {
    "application/vnd.databricks.v1+cell": {
     "inputWidgets": {},
     "nuid": "bb533c24-d793-48fa-ac55-c0053befd430",
     "showTitle": false,
     "title": ""
    }
   },
   "source": [
    "# Dealing with imbalanced labels（Try to improve the performance---Oversampling）"
   ]
  },
  {
   "cell_type": "code",
   "execution_count": 24,
   "metadata": {
    "application/vnd.databricks.v1+cell": {
     "inputWidgets": {},
     "nuid": "748dcf65-022b-47fd-b244-cb156c0eda32",
     "showTitle": false,
     "title": ""
    }
   },
   "outputs": [
    {
     "name": "stdout",
     "output_type": "stream",
     "text": [
      "ratio: 3.4905689311455297\n",
      "+---+---------+---+---------+--------+---+-----+-----+-----+-----+-----+-----+---------+---------+---------+---------+---------+---------+--------+--------+--------+--------+--------+--------+-------+\n",
      "| ID|LIMIT_BAL|SEX|EDUCATION|MARRIAGE|AGE|PAY_1|PAY_2|PAY_3|PAY_4|PAY_5|PAY_6|BILL_AMT1|BILL_AMT2|BILL_AMT3|BILL_AMT4|BILL_AMT5|BILL_AMT6|PAY_AMT1|PAY_AMT2|PAY_AMT3|PAY_AMT4|PAY_AMT5|PAY_AMT6|Default|\n",
      "+---+---------+---+---------+--------+---+-----+-----+-----+-----+-----+-----+---------+---------+---------+---------+---------+---------+--------+--------+--------+--------+--------+--------+-------+\n",
      "|  1|  20000.0|  2|        2|       1| 24|    2|    2|   -1|   -1|   -2|   -2|   3913.0|   3102.0|    689.0|      0.0|      0.0|      0.0|     0.0|   689.0|     0.0|     0.0|     0.0|     0.0|      1|\n",
      "|  1|  20000.0|  2|        2|       1| 24|    2|    2|   -1|   -1|   -2|   -2|   3913.0|   3102.0|    689.0|      0.0|      0.0|      0.0|     0.0|   689.0|     0.0|     0.0|     0.0|     0.0|      1|\n",
      "|  1|  20000.0|  2|        2|       1| 24|    2|    2|   -1|   -1|   -2|   -2|   3913.0|   3102.0|    689.0|      0.0|      0.0|      0.0|     0.0|   689.0|     0.0|     0.0|     0.0|     0.0|      1|\n",
      "|  2| 120000.0|  2|        2|       2| 26|   -1|    2|    0|    0|    0|    2|   2682.0|   1725.0|   2682.0|   3272.0|   3455.0|   3261.0|     0.0|  1000.0|  1000.0|  1000.0|     0.0|  2000.0|      1|\n",
      "|  2| 120000.0|  2|        2|       2| 26|   -1|    2|    0|    0|    0|    2|   2682.0|   1725.0|   2682.0|   3272.0|   3455.0|   3261.0|     0.0|  1000.0|  1000.0|  1000.0|     0.0|  2000.0|      1|\n",
      "|  2| 120000.0|  2|        2|       2| 26|   -1|    2|    0|    0|    0|    2|   2682.0|   1725.0|   2682.0|   3272.0|   3455.0|   3261.0|     0.0|  1000.0|  1000.0|  1000.0|     0.0|  2000.0|      1|\n",
      "|  2| 120000.0|  2|        2|       2| 26|   -1|    2|    0|    0|    0|    2|   2682.0|   1725.0|   2682.0|   3272.0|   3455.0|   3261.0|     0.0|  1000.0|  1000.0|  1000.0|     0.0|  2000.0|      1|\n",
      "| 14|  70000.0|  1|        2|       2| 30|    1|    2|    2|    0|    0|    2|  65802.0|  67369.0|  65701.0|  66782.0|  36137.0|  36894.0|  3200.0|     0.0|  3000.0|  3000.0|  1500.0|     0.0|      1|\n",
      "| 17|  20000.0|  1|        1|       2| 24|    0|    0|    2|    2|    2|    2|  15376.0|  18010.0|  17428.0|  18338.0|  17905.0|  19104.0|  3200.0|     0.0|  1500.0|     0.0|  1650.0|     0.0|      1|\n",
      "| 17|  20000.0|  1|        1|       2| 24|    0|    0|    2|    2|    2|    2|  15376.0|  18010.0|  17428.0|  18338.0|  17905.0|  19104.0|  3200.0|     0.0|  1500.0|     0.0|  1650.0|     0.0|      1|\n",
      "| 22| 120000.0|  2|        2|       1| 39|   -1|   -1|   -1|   -1|   -1|   -1|    316.0|    316.0|    316.0|      0.0|    632.0|    316.0|   316.0|   316.0|     0.0|   632.0|   316.0|     0.0|      1|\n",
      "| 23|  70000.0|  2|        2|       2| 26|    2|    0|    0|    2|    2|    2|  41087.0|  42445.0|  45020.0|  44006.0|  46905.0|  46012.0|  2007.0|  3582.0|     0.0|  3601.0|     0.0|  1820.0|      1|\n",
      "| 23|  70000.0|  2|        2|       2| 26|    2|    0|    0|    2|    2|    2|  41087.0|  42445.0|  45020.0|  44006.0|  46905.0|  46012.0|  2007.0|  3582.0|     0.0|  3601.0|     0.0|  1820.0|      1|\n",
      "| 23|  70000.0|  2|        2|       2| 26|    2|    0|    0|    2|    2|    2|  41087.0|  42445.0|  45020.0|  44006.0|  46905.0|  46012.0|  2007.0|  3582.0|     0.0|  3601.0|     0.0|  1820.0|      1|\n",
      "| 23|  70000.0|  2|        2|       2| 26|    2|    0|    0|    2|    2|    2|  41087.0|  42445.0|  45020.0|  44006.0|  46905.0|  46012.0|  2007.0|  3582.0|     0.0|  3601.0|     0.0|  1820.0|      1|\n",
      "| 23|  70000.0|  2|        2|       2| 26|    2|    0|    0|    2|    2|    2|  41087.0|  42445.0|  45020.0|  44006.0|  46905.0|  46012.0|  2007.0|  3582.0|     0.0|  3601.0|     0.0|  1820.0|      1|\n",
      "| 24| 450000.0|  2|        1|       1| 40|   -2|   -2|   -2|   -2|   -2|   -2|   5512.0|  19420.0|   1473.0|    560.0|      0.0|      0.0| 19428.0|  1473.0|   560.0|     0.0|     0.0|  1128.0|      1|\n",
      "| 24| 450000.0|  2|        1|       1| 40|   -2|   -2|   -2|   -2|   -2|   -2|   5512.0|  19420.0|   1473.0|    560.0|      0.0|      0.0| 19428.0|  1473.0|   560.0|     0.0|     0.0|  1128.0|      1|\n",
      "| 24| 450000.0|  2|        1|       1| 40|   -2|   -2|   -2|   -2|   -2|   -2|   5512.0|  19420.0|   1473.0|    560.0|      0.0|      0.0| 19428.0|  1473.0|   560.0|     0.0|     0.0|  1128.0|      1|\n",
      "| 24| 450000.0|  2|        1|       1| 40|   -2|   -2|   -2|   -2|   -2|   -2|   5512.0|  19420.0|   1473.0|    560.0|      0.0|      0.0| 19428.0|  1473.0|   560.0|     0.0|     0.0|  1128.0|      1|\n",
      "+---+---------+---+---------+--------+---+-----+-----+-----+-----+-----+-----+---------+---------+---------+---------+---------+---------+--------+--------+--------+--------+--------+--------+-------+\n",
      "only showing top 20 rows\n",
      "\n"
     ]
    }
   ],
   "source": [
    "majority = df.filter((df.Default == 0))\n",
    "minority = df.filter((df.Default == 1))\n",
    " \n",
    "majority_count = majority.count()\n",
    "minority_count = minority.count() \n",
    "ratio = majority_count / minority_count\n",
    "print(\"ratio: {}\".format(ratio))\n",
    "sampled_minority_df = minority.sample(withReplacement=True, fraction=ratio)\n",
    " \n",
    "df = sampled_minority_df.unionAll(majority)\n",
    "df.show()"
   ]
  },
  {
   "cell_type": "code",
   "execution_count": 25,
   "metadata": {
    "application/vnd.databricks.v1+cell": {
     "inputWidgets": {},
     "nuid": "1d27ccbe-2322-465c-865f-633b4422dd3e",
     "showTitle": false,
     "title": ""
    }
   },
   "outputs": [
    {
     "name": "stdout",
     "output_type": "stream",
     "text": [
      "+-------+------------------+\n",
      "|summary|           Default|\n",
      "+-------+------------------+\n",
      "|  count|             45464|\n",
      "|   mean|0.4993401372514517|\n",
      "| stddev|0.5000050635231267|\n",
      "|    min|                 0|\n",
      "|    max|                 1|\n",
      "+-------+------------------+\n",
      "\n"
     ]
    }
   ],
   "source": [
    "df.select('Default').describe().show()"
   ]
  },
  {
   "cell_type": "code",
   "execution_count": 26,
   "metadata": {
    "application/vnd.databricks.v1+cell": {
     "inputWidgets": {},
     "nuid": "2b67ad75-831b-4e71-a1a8-42a16943ffe9",
     "showTitle": false,
     "title": ""
    }
   },
   "outputs": [
    {
     "data": {
      "text/html": [
       "<table border='1'>\n",
       "<tr><th>Default</th><th>count(ID)</th></tr>\n",
       "<tr><td>1</td><td>22702</td></tr>\n",
       "<tr><td>0</td><td>22762</td></tr>\n",
       "</table>\n"
      ],
      "text/plain": [
       "+-------+---------+\n",
       "|Default|count(ID)|\n",
       "+-------+---------+\n",
       "|      1|    22702|\n",
       "|      0|    22762|\n",
       "+-------+---------+"
      ]
     },
     "metadata": {},
     "output_type": "display_data"
    }
   ],
   "source": [
    "display(df.select(\"Default\",\"ID\").groupBy(\"Default\").agg(count(\"ID\")))"
   ]
  },
  {
   "cell_type": "markdown",
   "metadata": {
    "application/vnd.databricks.v1+cell": {
     "inputWidgets": {},
     "nuid": "9e22183b-0697-4c5f-8924-ccdb49401392",
     "showTitle": false,
     "title": ""
    }
   },
   "source": [
    "## For statistical imputation we convert the pyspark dataframe into pandas to use functions of this library"
   ]
  },
  {
   "cell_type": "code",
   "execution_count": 27,
   "metadata": {
    "application/vnd.databricks.v1+cell": {
     "inputWidgets": {},
     "nuid": "f26f55ac-4e12-49d0-83f3-c6c8f13263b2",
     "showTitle": false,
     "title": ""
    }
   },
   "outputs": [],
   "source": [
    "from sklearn.impute import SimpleImputer\n",
    "import pandas as pd"
   ]
  },
  {
   "cell_type": "code",
   "execution_count": 28,
   "metadata": {
    "application/vnd.databricks.v1+cell": {
     "inputWidgets": {},
     "nuid": "b24d4fc9-55dd-4f58-9082-190d535bc31c",
     "showTitle": false,
     "title": ""
    }
   },
   "outputs": [],
   "source": [
    "sample=df.toPandas()"
   ]
  },
  {
   "cell_type": "code",
   "execution_count": 29,
   "metadata": {
    "application/vnd.databricks.v1+cell": {
     "inputWidgets": {},
     "nuid": "6fb339fb-22d2-4219-a9ae-192b68cc371c",
     "showTitle": false,
     "title": ""
    }
   },
   "outputs": [
    {
     "data": {
      "text/html": [
       "<div>\n",
       "<style scoped>\n",
       "    .dataframe tbody tr th:only-of-type {\n",
       "        vertical-align: middle;\n",
       "    }\n",
       "\n",
       "    .dataframe tbody tr th {\n",
       "        vertical-align: top;\n",
       "    }\n",
       "\n",
       "    .dataframe thead th {\n",
       "        text-align: right;\n",
       "    }\n",
       "</style>\n",
       "<table border=\"1\" class=\"dataframe\">\n",
       "  <thead>\n",
       "    <tr style=\"text-align: right;\">\n",
       "      <th></th>\n",
       "      <th>ID</th>\n",
       "      <th>LIMIT_BAL</th>\n",
       "      <th>SEX</th>\n",
       "      <th>EDUCATION</th>\n",
       "      <th>MARRIAGE</th>\n",
       "      <th>AGE</th>\n",
       "      <th>PAY_1</th>\n",
       "      <th>PAY_2</th>\n",
       "      <th>PAY_3</th>\n",
       "      <th>PAY_4</th>\n",
       "      <th>...</th>\n",
       "      <th>BILL_AMT4</th>\n",
       "      <th>BILL_AMT5</th>\n",
       "      <th>BILL_AMT6</th>\n",
       "      <th>PAY_AMT1</th>\n",
       "      <th>PAY_AMT2</th>\n",
       "      <th>PAY_AMT3</th>\n",
       "      <th>PAY_AMT4</th>\n",
       "      <th>PAY_AMT5</th>\n",
       "      <th>PAY_AMT6</th>\n",
       "      <th>Default</th>\n",
       "    </tr>\n",
       "  </thead>\n",
       "  <tbody>\n",
       "    <tr>\n",
       "      <th>0</th>\n",
       "      <td>1</td>\n",
       "      <td>20000.0</td>\n",
       "      <td>2</td>\n",
       "      <td>2</td>\n",
       "      <td>1</td>\n",
       "      <td>24</td>\n",
       "      <td>2</td>\n",
       "      <td>2</td>\n",
       "      <td>-1</td>\n",
       "      <td>-1</td>\n",
       "      <td>...</td>\n",
       "      <td>0.0</td>\n",
       "      <td>0.0</td>\n",
       "      <td>0.0</td>\n",
       "      <td>0.0</td>\n",
       "      <td>689.0</td>\n",
       "      <td>0.0</td>\n",
       "      <td>0.0</td>\n",
       "      <td>0.0</td>\n",
       "      <td>0.0</td>\n",
       "      <td>1</td>\n",
       "    </tr>\n",
       "    <tr>\n",
       "      <th>1</th>\n",
       "      <td>1</td>\n",
       "      <td>20000.0</td>\n",
       "      <td>2</td>\n",
       "      <td>2</td>\n",
       "      <td>1</td>\n",
       "      <td>24</td>\n",
       "      <td>2</td>\n",
       "      <td>2</td>\n",
       "      <td>-1</td>\n",
       "      <td>-1</td>\n",
       "      <td>...</td>\n",
       "      <td>0.0</td>\n",
       "      <td>0.0</td>\n",
       "      <td>0.0</td>\n",
       "      <td>0.0</td>\n",
       "      <td>689.0</td>\n",
       "      <td>0.0</td>\n",
       "      <td>0.0</td>\n",
       "      <td>0.0</td>\n",
       "      <td>0.0</td>\n",
       "      <td>1</td>\n",
       "    </tr>\n",
       "    <tr>\n",
       "      <th>2</th>\n",
       "      <td>1</td>\n",
       "      <td>20000.0</td>\n",
       "      <td>2</td>\n",
       "      <td>2</td>\n",
       "      <td>1</td>\n",
       "      <td>24</td>\n",
       "      <td>2</td>\n",
       "      <td>2</td>\n",
       "      <td>-1</td>\n",
       "      <td>-1</td>\n",
       "      <td>...</td>\n",
       "      <td>0.0</td>\n",
       "      <td>0.0</td>\n",
       "      <td>0.0</td>\n",
       "      <td>0.0</td>\n",
       "      <td>689.0</td>\n",
       "      <td>0.0</td>\n",
       "      <td>0.0</td>\n",
       "      <td>0.0</td>\n",
       "      <td>0.0</td>\n",
       "      <td>1</td>\n",
       "    </tr>\n",
       "    <tr>\n",
       "      <th>3</th>\n",
       "      <td>2</td>\n",
       "      <td>120000.0</td>\n",
       "      <td>2</td>\n",
       "      <td>2</td>\n",
       "      <td>2</td>\n",
       "      <td>26</td>\n",
       "      <td>-1</td>\n",
       "      <td>2</td>\n",
       "      <td>0</td>\n",
       "      <td>0</td>\n",
       "      <td>...</td>\n",
       "      <td>3272.0</td>\n",
       "      <td>3455.0</td>\n",
       "      <td>3261.0</td>\n",
       "      <td>0.0</td>\n",
       "      <td>1000.0</td>\n",
       "      <td>1000.0</td>\n",
       "      <td>1000.0</td>\n",
       "      <td>0.0</td>\n",
       "      <td>2000.0</td>\n",
       "      <td>1</td>\n",
       "    </tr>\n",
       "    <tr>\n",
       "      <th>4</th>\n",
       "      <td>2</td>\n",
       "      <td>120000.0</td>\n",
       "      <td>2</td>\n",
       "      <td>2</td>\n",
       "      <td>2</td>\n",
       "      <td>26</td>\n",
       "      <td>-1</td>\n",
       "      <td>2</td>\n",
       "      <td>0</td>\n",
       "      <td>0</td>\n",
       "      <td>...</td>\n",
       "      <td>3272.0</td>\n",
       "      <td>3455.0</td>\n",
       "      <td>3261.0</td>\n",
       "      <td>0.0</td>\n",
       "      <td>1000.0</td>\n",
       "      <td>1000.0</td>\n",
       "      <td>1000.0</td>\n",
       "      <td>0.0</td>\n",
       "      <td>2000.0</td>\n",
       "      <td>1</td>\n",
       "    </tr>\n",
       "    <tr>\n",
       "      <th>5</th>\n",
       "      <td>2</td>\n",
       "      <td>120000.0</td>\n",
       "      <td>2</td>\n",
       "      <td>2</td>\n",
       "      <td>2</td>\n",
       "      <td>26</td>\n",
       "      <td>-1</td>\n",
       "      <td>2</td>\n",
       "      <td>0</td>\n",
       "      <td>0</td>\n",
       "      <td>...</td>\n",
       "      <td>3272.0</td>\n",
       "      <td>3455.0</td>\n",
       "      <td>3261.0</td>\n",
       "      <td>0.0</td>\n",
       "      <td>1000.0</td>\n",
       "      <td>1000.0</td>\n",
       "      <td>1000.0</td>\n",
       "      <td>0.0</td>\n",
       "      <td>2000.0</td>\n",
       "      <td>1</td>\n",
       "    </tr>\n",
       "    <tr>\n",
       "      <th>6</th>\n",
       "      <td>2</td>\n",
       "      <td>120000.0</td>\n",
       "      <td>2</td>\n",
       "      <td>2</td>\n",
       "      <td>2</td>\n",
       "      <td>26</td>\n",
       "      <td>-1</td>\n",
       "      <td>2</td>\n",
       "      <td>0</td>\n",
       "      <td>0</td>\n",
       "      <td>...</td>\n",
       "      <td>3272.0</td>\n",
       "      <td>3455.0</td>\n",
       "      <td>3261.0</td>\n",
       "      <td>0.0</td>\n",
       "      <td>1000.0</td>\n",
       "      <td>1000.0</td>\n",
       "      <td>1000.0</td>\n",
       "      <td>0.0</td>\n",
       "      <td>2000.0</td>\n",
       "      <td>1</td>\n",
       "    </tr>\n",
       "    <tr>\n",
       "      <th>7</th>\n",
       "      <td>14</td>\n",
       "      <td>70000.0</td>\n",
       "      <td>1</td>\n",
       "      <td>2</td>\n",
       "      <td>2</td>\n",
       "      <td>30</td>\n",
       "      <td>1</td>\n",
       "      <td>2</td>\n",
       "      <td>2</td>\n",
       "      <td>0</td>\n",
       "      <td>...</td>\n",
       "      <td>66782.0</td>\n",
       "      <td>36137.0</td>\n",
       "      <td>36894.0</td>\n",
       "      <td>3200.0</td>\n",
       "      <td>0.0</td>\n",
       "      <td>3000.0</td>\n",
       "      <td>3000.0</td>\n",
       "      <td>1500.0</td>\n",
       "      <td>0.0</td>\n",
       "      <td>1</td>\n",
       "    </tr>\n",
       "    <tr>\n",
       "      <th>8</th>\n",
       "      <td>17</td>\n",
       "      <td>20000.0</td>\n",
       "      <td>1</td>\n",
       "      <td>1</td>\n",
       "      <td>2</td>\n",
       "      <td>24</td>\n",
       "      <td>0</td>\n",
       "      <td>0</td>\n",
       "      <td>2</td>\n",
       "      <td>2</td>\n",
       "      <td>...</td>\n",
       "      <td>18338.0</td>\n",
       "      <td>17905.0</td>\n",
       "      <td>19104.0</td>\n",
       "      <td>3200.0</td>\n",
       "      <td>0.0</td>\n",
       "      <td>1500.0</td>\n",
       "      <td>0.0</td>\n",
       "      <td>1650.0</td>\n",
       "      <td>0.0</td>\n",
       "      <td>1</td>\n",
       "    </tr>\n",
       "    <tr>\n",
       "      <th>9</th>\n",
       "      <td>17</td>\n",
       "      <td>20000.0</td>\n",
       "      <td>1</td>\n",
       "      <td>1</td>\n",
       "      <td>2</td>\n",
       "      <td>24</td>\n",
       "      <td>0</td>\n",
       "      <td>0</td>\n",
       "      <td>2</td>\n",
       "      <td>2</td>\n",
       "      <td>...</td>\n",
       "      <td>18338.0</td>\n",
       "      <td>17905.0</td>\n",
       "      <td>19104.0</td>\n",
       "      <td>3200.0</td>\n",
       "      <td>0.0</td>\n",
       "      <td>1500.0</td>\n",
       "      <td>0.0</td>\n",
       "      <td>1650.0</td>\n",
       "      <td>0.0</td>\n",
       "      <td>1</td>\n",
       "    </tr>\n",
       "    <tr>\n",
       "      <th>10</th>\n",
       "      <td>22</td>\n",
       "      <td>120000.0</td>\n",
       "      <td>2</td>\n",
       "      <td>2</td>\n",
       "      <td>1</td>\n",
       "      <td>39</td>\n",
       "      <td>-1</td>\n",
       "      <td>-1</td>\n",
       "      <td>-1</td>\n",
       "      <td>-1</td>\n",
       "      <td>...</td>\n",
       "      <td>0.0</td>\n",
       "      <td>632.0</td>\n",
       "      <td>316.0</td>\n",
       "      <td>316.0</td>\n",
       "      <td>316.0</td>\n",
       "      <td>0.0</td>\n",
       "      <td>632.0</td>\n",
       "      <td>316.0</td>\n",
       "      <td>0.0</td>\n",
       "      <td>1</td>\n",
       "    </tr>\n",
       "    <tr>\n",
       "      <th>11</th>\n",
       "      <td>23</td>\n",
       "      <td>70000.0</td>\n",
       "      <td>2</td>\n",
       "      <td>2</td>\n",
       "      <td>2</td>\n",
       "      <td>26</td>\n",
       "      <td>2</td>\n",
       "      <td>0</td>\n",
       "      <td>0</td>\n",
       "      <td>2</td>\n",
       "      <td>...</td>\n",
       "      <td>44006.0</td>\n",
       "      <td>46905.0</td>\n",
       "      <td>46012.0</td>\n",
       "      <td>2007.0</td>\n",
       "      <td>3582.0</td>\n",
       "      <td>0.0</td>\n",
       "      <td>3601.0</td>\n",
       "      <td>0.0</td>\n",
       "      <td>1820.0</td>\n",
       "      <td>1</td>\n",
       "    </tr>\n",
       "    <tr>\n",
       "      <th>12</th>\n",
       "      <td>23</td>\n",
       "      <td>70000.0</td>\n",
       "      <td>2</td>\n",
       "      <td>2</td>\n",
       "      <td>2</td>\n",
       "      <td>26</td>\n",
       "      <td>2</td>\n",
       "      <td>0</td>\n",
       "      <td>0</td>\n",
       "      <td>2</td>\n",
       "      <td>...</td>\n",
       "      <td>44006.0</td>\n",
       "      <td>46905.0</td>\n",
       "      <td>46012.0</td>\n",
       "      <td>2007.0</td>\n",
       "      <td>3582.0</td>\n",
       "      <td>0.0</td>\n",
       "      <td>3601.0</td>\n",
       "      <td>0.0</td>\n",
       "      <td>1820.0</td>\n",
       "      <td>1</td>\n",
       "    </tr>\n",
       "    <tr>\n",
       "      <th>13</th>\n",
       "      <td>23</td>\n",
       "      <td>70000.0</td>\n",
       "      <td>2</td>\n",
       "      <td>2</td>\n",
       "      <td>2</td>\n",
       "      <td>26</td>\n",
       "      <td>2</td>\n",
       "      <td>0</td>\n",
       "      <td>0</td>\n",
       "      <td>2</td>\n",
       "      <td>...</td>\n",
       "      <td>44006.0</td>\n",
       "      <td>46905.0</td>\n",
       "      <td>46012.0</td>\n",
       "      <td>2007.0</td>\n",
       "      <td>3582.0</td>\n",
       "      <td>0.0</td>\n",
       "      <td>3601.0</td>\n",
       "      <td>0.0</td>\n",
       "      <td>1820.0</td>\n",
       "      <td>1</td>\n",
       "    </tr>\n",
       "    <tr>\n",
       "      <th>14</th>\n",
       "      <td>23</td>\n",
       "      <td>70000.0</td>\n",
       "      <td>2</td>\n",
       "      <td>2</td>\n",
       "      <td>2</td>\n",
       "      <td>26</td>\n",
       "      <td>2</td>\n",
       "      <td>0</td>\n",
       "      <td>0</td>\n",
       "      <td>2</td>\n",
       "      <td>...</td>\n",
       "      <td>44006.0</td>\n",
       "      <td>46905.0</td>\n",
       "      <td>46012.0</td>\n",
       "      <td>2007.0</td>\n",
       "      <td>3582.0</td>\n",
       "      <td>0.0</td>\n",
       "      <td>3601.0</td>\n",
       "      <td>0.0</td>\n",
       "      <td>1820.0</td>\n",
       "      <td>1</td>\n",
       "    </tr>\n",
       "    <tr>\n",
       "      <th>15</th>\n",
       "      <td>23</td>\n",
       "      <td>70000.0</td>\n",
       "      <td>2</td>\n",
       "      <td>2</td>\n",
       "      <td>2</td>\n",
       "      <td>26</td>\n",
       "      <td>2</td>\n",
       "      <td>0</td>\n",
       "      <td>0</td>\n",
       "      <td>2</td>\n",
       "      <td>...</td>\n",
       "      <td>44006.0</td>\n",
       "      <td>46905.0</td>\n",
       "      <td>46012.0</td>\n",
       "      <td>2007.0</td>\n",
       "      <td>3582.0</td>\n",
       "      <td>0.0</td>\n",
       "      <td>3601.0</td>\n",
       "      <td>0.0</td>\n",
       "      <td>1820.0</td>\n",
       "      <td>1</td>\n",
       "    </tr>\n",
       "    <tr>\n",
       "      <th>16</th>\n",
       "      <td>24</td>\n",
       "      <td>450000.0</td>\n",
       "      <td>2</td>\n",
       "      <td>1</td>\n",
       "      <td>1</td>\n",
       "      <td>40</td>\n",
       "      <td>-2</td>\n",
       "      <td>-2</td>\n",
       "      <td>-2</td>\n",
       "      <td>-2</td>\n",
       "      <td>...</td>\n",
       "      <td>560.0</td>\n",
       "      <td>0.0</td>\n",
       "      <td>0.0</td>\n",
       "      <td>19428.0</td>\n",
       "      <td>1473.0</td>\n",
       "      <td>560.0</td>\n",
       "      <td>0.0</td>\n",
       "      <td>0.0</td>\n",
       "      <td>1128.0</td>\n",
       "      <td>1</td>\n",
       "    </tr>\n",
       "    <tr>\n",
       "      <th>17</th>\n",
       "      <td>24</td>\n",
       "      <td>450000.0</td>\n",
       "      <td>2</td>\n",
       "      <td>1</td>\n",
       "      <td>1</td>\n",
       "      <td>40</td>\n",
       "      <td>-2</td>\n",
       "      <td>-2</td>\n",
       "      <td>-2</td>\n",
       "      <td>-2</td>\n",
       "      <td>...</td>\n",
       "      <td>560.0</td>\n",
       "      <td>0.0</td>\n",
       "      <td>0.0</td>\n",
       "      <td>19428.0</td>\n",
       "      <td>1473.0</td>\n",
       "      <td>560.0</td>\n",
       "      <td>0.0</td>\n",
       "      <td>0.0</td>\n",
       "      <td>1128.0</td>\n",
       "      <td>1</td>\n",
       "    </tr>\n",
       "    <tr>\n",
       "      <th>18</th>\n",
       "      <td>24</td>\n",
       "      <td>450000.0</td>\n",
       "      <td>2</td>\n",
       "      <td>1</td>\n",
       "      <td>1</td>\n",
       "      <td>40</td>\n",
       "      <td>-2</td>\n",
       "      <td>-2</td>\n",
       "      <td>-2</td>\n",
       "      <td>-2</td>\n",
       "      <td>...</td>\n",
       "      <td>560.0</td>\n",
       "      <td>0.0</td>\n",
       "      <td>0.0</td>\n",
       "      <td>19428.0</td>\n",
       "      <td>1473.0</td>\n",
       "      <td>560.0</td>\n",
       "      <td>0.0</td>\n",
       "      <td>0.0</td>\n",
       "      <td>1128.0</td>\n",
       "      <td>1</td>\n",
       "    </tr>\n",
       "    <tr>\n",
       "      <th>19</th>\n",
       "      <td>24</td>\n",
       "      <td>450000.0</td>\n",
       "      <td>2</td>\n",
       "      <td>1</td>\n",
       "      <td>1</td>\n",
       "      <td>40</td>\n",
       "      <td>-2</td>\n",
       "      <td>-2</td>\n",
       "      <td>-2</td>\n",
       "      <td>-2</td>\n",
       "      <td>...</td>\n",
       "      <td>560.0</td>\n",
       "      <td>0.0</td>\n",
       "      <td>0.0</td>\n",
       "      <td>19428.0</td>\n",
       "      <td>1473.0</td>\n",
       "      <td>560.0</td>\n",
       "      <td>0.0</td>\n",
       "      <td>0.0</td>\n",
       "      <td>1128.0</td>\n",
       "      <td>1</td>\n",
       "    </tr>\n",
       "    <tr>\n",
       "      <th>20</th>\n",
       "      <td>27</td>\n",
       "      <td>60000.0</td>\n",
       "      <td>1</td>\n",
       "      <td>1</td>\n",
       "      <td>2</td>\n",
       "      <td>27</td>\n",
       "      <td>1</td>\n",
       "      <td>-2</td>\n",
       "      <td>-1</td>\n",
       "      <td>-1</td>\n",
       "      <td>...</td>\n",
       "      <td>-57.0</td>\n",
       "      <td>127.0</td>\n",
       "      <td>-189.0</td>\n",
       "      <td>0.0</td>\n",
       "      <td>1000.0</td>\n",
       "      <td>0.0</td>\n",
       "      <td>500.0</td>\n",
       "      <td>0.0</td>\n",
       "      <td>1000.0</td>\n",
       "      <td>1</td>\n",
       "    </tr>\n",
       "    <tr>\n",
       "      <th>21</th>\n",
       "      <td>27</td>\n",
       "      <td>60000.0</td>\n",
       "      <td>1</td>\n",
       "      <td>1</td>\n",
       "      <td>2</td>\n",
       "      <td>27</td>\n",
       "      <td>1</td>\n",
       "      <td>-2</td>\n",
       "      <td>-1</td>\n",
       "      <td>-1</td>\n",
       "      <td>...</td>\n",
       "      <td>-57.0</td>\n",
       "      <td>127.0</td>\n",
       "      <td>-189.0</td>\n",
       "      <td>0.0</td>\n",
       "      <td>1000.0</td>\n",
       "      <td>0.0</td>\n",
       "      <td>500.0</td>\n",
       "      <td>0.0</td>\n",
       "      <td>1000.0</td>\n",
       "      <td>1</td>\n",
       "    </tr>\n",
       "    <tr>\n",
       "      <th>22</th>\n",
       "      <td>27</td>\n",
       "      <td>60000.0</td>\n",
       "      <td>1</td>\n",
       "      <td>1</td>\n",
       "      <td>2</td>\n",
       "      <td>27</td>\n",
       "      <td>1</td>\n",
       "      <td>-2</td>\n",
       "      <td>-1</td>\n",
       "      <td>-1</td>\n",
       "      <td>...</td>\n",
       "      <td>-57.0</td>\n",
       "      <td>127.0</td>\n",
       "      <td>-189.0</td>\n",
       "      <td>0.0</td>\n",
       "      <td>1000.0</td>\n",
       "      <td>0.0</td>\n",
       "      <td>500.0</td>\n",
       "      <td>0.0</td>\n",
       "      <td>1000.0</td>\n",
       "      <td>1</td>\n",
       "    </tr>\n",
       "    <tr>\n",
       "      <th>23</th>\n",
       "      <td>27</td>\n",
       "      <td>60000.0</td>\n",
       "      <td>1</td>\n",
       "      <td>1</td>\n",
       "      <td>2</td>\n",
       "      <td>27</td>\n",
       "      <td>1</td>\n",
       "      <td>-2</td>\n",
       "      <td>-1</td>\n",
       "      <td>-1</td>\n",
       "      <td>...</td>\n",
       "      <td>-57.0</td>\n",
       "      <td>127.0</td>\n",
       "      <td>-189.0</td>\n",
       "      <td>0.0</td>\n",
       "      <td>1000.0</td>\n",
       "      <td>0.0</td>\n",
       "      <td>500.0</td>\n",
       "      <td>0.0</td>\n",
       "      <td>1000.0</td>\n",
       "      <td>1</td>\n",
       "    </tr>\n",
       "    <tr>\n",
       "      <th>24</th>\n",
       "      <td>32</td>\n",
       "      <td>50000.0</td>\n",
       "      <td>1</td>\n",
       "      <td>2</td>\n",
       "      <td>2</td>\n",
       "      <td>33</td>\n",
       "      <td>2</td>\n",
       "      <td>0</td>\n",
       "      <td>0</td>\n",
       "      <td>0</td>\n",
       "      <td>...</td>\n",
       "      <td>22734.0</td>\n",
       "      <td>23217.0</td>\n",
       "      <td>23680.0</td>\n",
       "      <td>1718.0</td>\n",
       "      <td>1500.0</td>\n",
       "      <td>1000.0</td>\n",
       "      <td>1000.0</td>\n",
       "      <td>1000.0</td>\n",
       "      <td>716.0</td>\n",
       "      <td>1</td>\n",
       "    </tr>\n",
       "    <tr>\n",
       "      <th>25</th>\n",
       "      <td>39</td>\n",
       "      <td>50000.0</td>\n",
       "      <td>1</td>\n",
       "      <td>1</td>\n",
       "      <td>2</td>\n",
       "      <td>25</td>\n",
       "      <td>1</td>\n",
       "      <td>-1</td>\n",
       "      <td>-1</td>\n",
       "      <td>-2</td>\n",
       "      <td>...</td>\n",
       "      <td>0.0</td>\n",
       "      <td>0.0</td>\n",
       "      <td>0.0</td>\n",
       "      <td>780.0</td>\n",
       "      <td>0.0</td>\n",
       "      <td>0.0</td>\n",
       "      <td>0.0</td>\n",
       "      <td>0.0</td>\n",
       "      <td>0.0</td>\n",
       "      <td>1</td>\n",
       "    </tr>\n",
       "    <tr>\n",
       "      <th>26</th>\n",
       "      <td>39</td>\n",
       "      <td>50000.0</td>\n",
       "      <td>1</td>\n",
       "      <td>1</td>\n",
       "      <td>2</td>\n",
       "      <td>25</td>\n",
       "      <td>1</td>\n",
       "      <td>-1</td>\n",
       "      <td>-1</td>\n",
       "      <td>-2</td>\n",
       "      <td>...</td>\n",
       "      <td>0.0</td>\n",
       "      <td>0.0</td>\n",
       "      <td>0.0</td>\n",
       "      <td>780.0</td>\n",
       "      <td>0.0</td>\n",
       "      <td>0.0</td>\n",
       "      <td>0.0</td>\n",
       "      <td>0.0</td>\n",
       "      <td>0.0</td>\n",
       "      <td>1</td>\n",
       "    </tr>\n",
       "    <tr>\n",
       "      <th>27</th>\n",
       "      <td>39</td>\n",
       "      <td>50000.0</td>\n",
       "      <td>1</td>\n",
       "      <td>1</td>\n",
       "      <td>2</td>\n",
       "      <td>25</td>\n",
       "      <td>1</td>\n",
       "      <td>-1</td>\n",
       "      <td>-1</td>\n",
       "      <td>-2</td>\n",
       "      <td>...</td>\n",
       "      <td>0.0</td>\n",
       "      <td>0.0</td>\n",
       "      <td>0.0</td>\n",
       "      <td>780.0</td>\n",
       "      <td>0.0</td>\n",
       "      <td>0.0</td>\n",
       "      <td>0.0</td>\n",
       "      <td>0.0</td>\n",
       "      <td>0.0</td>\n",
       "      <td>1</td>\n",
       "    </tr>\n",
       "    <tr>\n",
       "      <th>28</th>\n",
       "      <td>39</td>\n",
       "      <td>50000.0</td>\n",
       "      <td>1</td>\n",
       "      <td>1</td>\n",
       "      <td>2</td>\n",
       "      <td>25</td>\n",
       "      <td>1</td>\n",
       "      <td>-1</td>\n",
       "      <td>-1</td>\n",
       "      <td>-2</td>\n",
       "      <td>...</td>\n",
       "      <td>0.0</td>\n",
       "      <td>0.0</td>\n",
       "      <td>0.0</td>\n",
       "      <td>780.0</td>\n",
       "      <td>0.0</td>\n",
       "      <td>0.0</td>\n",
       "      <td>0.0</td>\n",
       "      <td>0.0</td>\n",
       "      <td>0.0</td>\n",
       "      <td>1</td>\n",
       "    </tr>\n",
       "    <tr>\n",
       "      <th>29</th>\n",
       "      <td>46</td>\n",
       "      <td>210000.0</td>\n",
       "      <td>1</td>\n",
       "      <td>1</td>\n",
       "      <td>2</td>\n",
       "      <td>29</td>\n",
       "      <td>-2</td>\n",
       "      <td>-2</td>\n",
       "      <td>-2</td>\n",
       "      <td>-2</td>\n",
       "      <td>...</td>\n",
       "      <td>0.0</td>\n",
       "      <td>0.0</td>\n",
       "      <td>0.0</td>\n",
       "      <td>0.0</td>\n",
       "      <td>0.0</td>\n",
       "      <td>0.0</td>\n",
       "      <td>0.0</td>\n",
       "      <td>0.0</td>\n",
       "      <td>0.0</td>\n",
       "      <td>1</td>\n",
       "    </tr>\n",
       "    <tr>\n",
       "      <th>...</th>\n",
       "      <td>...</td>\n",
       "      <td>...</td>\n",
       "      <td>...</td>\n",
       "      <td>...</td>\n",
       "      <td>...</td>\n",
       "      <td>...</td>\n",
       "      <td>...</td>\n",
       "      <td>...</td>\n",
       "      <td>...</td>\n",
       "      <td>...</td>\n",
       "      <td>...</td>\n",
       "      <td>...</td>\n",
       "      <td>...</td>\n",
       "      <td>...</td>\n",
       "      <td>...</td>\n",
       "      <td>...</td>\n",
       "      <td>...</td>\n",
       "      <td>...</td>\n",
       "      <td>...</td>\n",
       "      <td>...</td>\n",
       "      <td>...</td>\n",
       "    </tr>\n",
       "    <tr>\n",
       "      <th>45434</th>\n",
       "      <td>29961</td>\n",
       "      <td>10000.0</td>\n",
       "      <td>1</td>\n",
       "      <td>2</td>\n",
       "      <td>1</td>\n",
       "      <td>29</td>\n",
       "      <td>0</td>\n",
       "      <td>0</td>\n",
       "      <td>0</td>\n",
       "      <td>0</td>\n",
       "      <td>...</td>\n",
       "      <td>5163.0</td>\n",
       "      <td>780.0</td>\n",
       "      <td>0.0</td>\n",
       "      <td>3009.0</td>\n",
       "      <td>2000.0</td>\n",
       "      <td>2009.0</td>\n",
       "      <td>0.0</td>\n",
       "      <td>0.0</td>\n",
       "      <td>0.0</td>\n",
       "      <td>0</td>\n",
       "    </tr>\n",
       "    <tr>\n",
       "      <th>45435</th>\n",
       "      <td>29962</td>\n",
       "      <td>260000.0</td>\n",
       "      <td>1</td>\n",
       "      <td>1</td>\n",
       "      <td>2</td>\n",
       "      <td>33</td>\n",
       "      <td>-2</td>\n",
       "      <td>-2</td>\n",
       "      <td>-2</td>\n",
       "      <td>-2</td>\n",
       "      <td>...</td>\n",
       "      <td>1368.0</td>\n",
       "      <td>101.0</td>\n",
       "      <td>955.0</td>\n",
       "      <td>263.0</td>\n",
       "      <td>0.0</td>\n",
       "      <td>1368.0</td>\n",
       "      <td>101.0</td>\n",
       "      <td>955.0</td>\n",
       "      <td>0.0</td>\n",
       "      <td>0</td>\n",
       "    </tr>\n",
       "    <tr>\n",
       "      <th>45436</th>\n",
       "      <td>29963</td>\n",
       "      <td>50000.0</td>\n",
       "      <td>1</td>\n",
       "      <td>2</td>\n",
       "      <td>2</td>\n",
       "      <td>30</td>\n",
       "      <td>1</td>\n",
       "      <td>-1</td>\n",
       "      <td>2</td>\n",
       "      <td>-1</td>\n",
       "      <td>...</td>\n",
       "      <td>7300.0</td>\n",
       "      <td>0.0</td>\n",
       "      <td>0.0</td>\n",
       "      <td>528.0</td>\n",
       "      <td>0.0</td>\n",
       "      <td>7300.0</td>\n",
       "      <td>0.0</td>\n",
       "      <td>0.0</td>\n",
       "      <td>0.0</td>\n",
       "      <td>0</td>\n",
       "    </tr>\n",
       "    <tr>\n",
       "      <th>45437</th>\n",
       "      <td>29964</td>\n",
       "      <td>610000.0</td>\n",
       "      <td>1</td>\n",
       "      <td>1</td>\n",
       "      <td>2</td>\n",
       "      <td>31</td>\n",
       "      <td>0</td>\n",
       "      <td>-1</td>\n",
       "      <td>2</td>\n",
       "      <td>-1</td>\n",
       "      <td>...</td>\n",
       "      <td>347303.0</td>\n",
       "      <td>248893.0</td>\n",
       "      <td>269528.0</td>\n",
       "      <td>323014.0</td>\n",
       "      <td>1605.0</td>\n",
       "      <td>349395.0</td>\n",
       "      <td>250144.0</td>\n",
       "      <td>271099.0</td>\n",
       "      <td>220076.0</td>\n",
       "      <td>0</td>\n",
       "    </tr>\n",
       "    <tr>\n",
       "      <th>45438</th>\n",
       "      <td>29965</td>\n",
       "      <td>360000.0</td>\n",
       "      <td>1</td>\n",
       "      <td>1</td>\n",
       "      <td>2</td>\n",
       "      <td>31</td>\n",
       "      <td>-1</td>\n",
       "      <td>-1</td>\n",
       "      <td>-1</td>\n",
       "      <td>0</td>\n",
       "      <td>...</td>\n",
       "      <td>18498.0</td>\n",
       "      <td>18422.0</td>\n",
       "      <td>1842.0</td>\n",
       "      <td>51.0</td>\n",
       "      <td>20007.0</td>\n",
       "      <td>1590.0</td>\n",
       "      <td>1000.0</td>\n",
       "      <td>1842.0</td>\n",
       "      <td>390.0</td>\n",
       "      <td>0</td>\n",
       "    </tr>\n",
       "    <tr>\n",
       "      <th>45439</th>\n",
       "      <td>29966</td>\n",
       "      <td>140000.0</td>\n",
       "      <td>1</td>\n",
       "      <td>2</td>\n",
       "      <td>1</td>\n",
       "      <td>32</td>\n",
       "      <td>0</td>\n",
       "      <td>0</td>\n",
       "      <td>0</td>\n",
       "      <td>0</td>\n",
       "      <td>...</td>\n",
       "      <td>137450.0</td>\n",
       "      <td>135638.0</td>\n",
       "      <td>136375.0</td>\n",
       "      <td>6300.0</td>\n",
       "      <td>6500.0</td>\n",
       "      <td>6300.0</td>\n",
       "      <td>6000.0</td>\n",
       "      <td>5200.0</td>\n",
       "      <td>5000.0</td>\n",
       "      <td>0</td>\n",
       "    </tr>\n",
       "    <tr>\n",
       "      <th>45440</th>\n",
       "      <td>29968</td>\n",
       "      <td>50000.0</td>\n",
       "      <td>1</td>\n",
       "      <td>2</td>\n",
       "      <td>1</td>\n",
       "      <td>32</td>\n",
       "      <td>0</td>\n",
       "      <td>0</td>\n",
       "      <td>0</td>\n",
       "      <td>-1</td>\n",
       "      <td>...</td>\n",
       "      <td>50551.0</td>\n",
       "      <td>40590.0</td>\n",
       "      <td>39384.0</td>\n",
       "      <td>2686.0</td>\n",
       "      <td>0.0</td>\n",
       "      <td>50551.0</td>\n",
       "      <td>0.0</td>\n",
       "      <td>1600.0</td>\n",
       "      <td>1500.0</td>\n",
       "      <td>0</td>\n",
       "    </tr>\n",
       "    <tr>\n",
       "      <th>45441</th>\n",
       "      <td>29969</td>\n",
       "      <td>20000.0</td>\n",
       "      <td>1</td>\n",
       "      <td>2</td>\n",
       "      <td>2</td>\n",
       "      <td>34</td>\n",
       "      <td>0</td>\n",
       "      <td>0</td>\n",
       "      <td>0</td>\n",
       "      <td>0</td>\n",
       "      <td>...</td>\n",
       "      <td>13478.0</td>\n",
       "      <td>16978.0</td>\n",
       "      <td>12914.0</td>\n",
       "      <td>2000.0</td>\n",
       "      <td>2000.0</td>\n",
       "      <td>1000.0</td>\n",
       "      <td>5000.0</td>\n",
       "      <td>12914.0</td>\n",
       "      <td>600.0</td>\n",
       "      <td>0</td>\n",
       "    </tr>\n",
       "    <tr>\n",
       "      <th>45442</th>\n",
       "      <td>29970</td>\n",
       "      <td>200000.0</td>\n",
       "      <td>1</td>\n",
       "      <td>2</td>\n",
       "      <td>1</td>\n",
       "      <td>33</td>\n",
       "      <td>0</td>\n",
       "      <td>0</td>\n",
       "      <td>0</td>\n",
       "      <td>0</td>\n",
       "      <td>...</td>\n",
       "      <td>56768.0</td>\n",
       "      <td>58826.0</td>\n",
       "      <td>67577.0</td>\n",
       "      <td>5000.0</td>\n",
       "      <td>2183.0</td>\n",
       "      <td>2059.0</td>\n",
       "      <td>3000.0</td>\n",
       "      <td>9751.0</td>\n",
       "      <td>3000.0</td>\n",
       "      <td>0</td>\n",
       "    </tr>\n",
       "    <tr>\n",
       "      <th>45443</th>\n",
       "      <td>29971</td>\n",
       "      <td>360000.0</td>\n",
       "      <td>1</td>\n",
       "      <td>1</td>\n",
       "      <td>1</td>\n",
       "      <td>34</td>\n",
       "      <td>-1</td>\n",
       "      <td>-1</td>\n",
       "      <td>-1</td>\n",
       "      <td>0</td>\n",
       "      <td>...</td>\n",
       "      <td>49005.0</td>\n",
       "      <td>8676.0</td>\n",
       "      <td>19487.0</td>\n",
       "      <td>52951.0</td>\n",
       "      <td>64535.0</td>\n",
       "      <td>8907.0</td>\n",
       "      <td>53.0</td>\n",
       "      <td>19584.0</td>\n",
       "      <td>16080.0</td>\n",
       "      <td>0</td>\n",
       "    </tr>\n",
       "    <tr>\n",
       "      <th>45444</th>\n",
       "      <td>29972</td>\n",
       "      <td>80000.0</td>\n",
       "      <td>1</td>\n",
       "      <td>3</td>\n",
       "      <td>1</td>\n",
       "      <td>36</td>\n",
       "      <td>0</td>\n",
       "      <td>0</td>\n",
       "      <td>0</td>\n",
       "      <td>0</td>\n",
       "      <td>...</td>\n",
       "      <td>69674.0</td>\n",
       "      <td>71070.0</td>\n",
       "      <td>73612.0</td>\n",
       "      <td>2395.0</td>\n",
       "      <td>2500.0</td>\n",
       "      <td>2530.0</td>\n",
       "      <td>2556.0</td>\n",
       "      <td>3700.0</td>\n",
       "      <td>3000.0</td>\n",
       "      <td>0</td>\n",
       "    </tr>\n",
       "    <tr>\n",
       "      <th>45445</th>\n",
       "      <td>29973</td>\n",
       "      <td>190000.0</td>\n",
       "      <td>1</td>\n",
       "      <td>1</td>\n",
       "      <td>1</td>\n",
       "      <td>37</td>\n",
       "      <td>0</td>\n",
       "      <td>0</td>\n",
       "      <td>0</td>\n",
       "      <td>0</td>\n",
       "      <td>...</td>\n",
       "      <td>29223.0</td>\n",
       "      <td>19616.0</td>\n",
       "      <td>148482.0</td>\n",
       "      <td>2000.0</td>\n",
       "      <td>3869.0</td>\n",
       "      <td>25128.0</td>\n",
       "      <td>10115.0</td>\n",
       "      <td>148482.0</td>\n",
       "      <td>4800.0</td>\n",
       "      <td>0</td>\n",
       "    </tr>\n",
       "    <tr>\n",
       "      <th>45446</th>\n",
       "      <td>29976</td>\n",
       "      <td>220000.0</td>\n",
       "      <td>1</td>\n",
       "      <td>2</td>\n",
       "      <td>1</td>\n",
       "      <td>41</td>\n",
       "      <td>0</td>\n",
       "      <td>0</td>\n",
       "      <td>-1</td>\n",
       "      <td>-1</td>\n",
       "      <td>...</td>\n",
       "      <td>5924.0</td>\n",
       "      <td>1759.0</td>\n",
       "      <td>1824.0</td>\n",
       "      <td>8840.0</td>\n",
       "      <td>6643.0</td>\n",
       "      <td>5924.0</td>\n",
       "      <td>1759.0</td>\n",
       "      <td>1824.0</td>\n",
       "      <td>7022.0</td>\n",
       "      <td>0</td>\n",
       "    </tr>\n",
       "    <tr>\n",
       "      <th>45447</th>\n",
       "      <td>29978</td>\n",
       "      <td>420000.0</td>\n",
       "      <td>1</td>\n",
       "      <td>1</td>\n",
       "      <td>2</td>\n",
       "      <td>34</td>\n",
       "      <td>0</td>\n",
       "      <td>0</td>\n",
       "      <td>0</td>\n",
       "      <td>0</td>\n",
       "      <td>...</td>\n",
       "      <td>141695.0</td>\n",
       "      <td>144839.0</td>\n",
       "      <td>147954.0</td>\n",
       "      <td>7000.0</td>\n",
       "      <td>7000.0</td>\n",
       "      <td>5500.0</td>\n",
       "      <td>5500.0</td>\n",
       "      <td>5600.0</td>\n",
       "      <td>5000.0</td>\n",
       "      <td>0</td>\n",
       "    </tr>\n",
       "    <tr>\n",
       "      <th>45448</th>\n",
       "      <td>29979</td>\n",
       "      <td>310000.0</td>\n",
       "      <td>1</td>\n",
       "      <td>2</td>\n",
       "      <td>1</td>\n",
       "      <td>39</td>\n",
       "      <td>0</td>\n",
       "      <td>0</td>\n",
       "      <td>0</td>\n",
       "      <td>0</td>\n",
       "      <td>...</td>\n",
       "      <td>219409.0</td>\n",
       "      <td>216540.0</td>\n",
       "      <td>210675.0</td>\n",
       "      <td>10029.0</td>\n",
       "      <td>9218.0</td>\n",
       "      <td>10029.0</td>\n",
       "      <td>8049.0</td>\n",
       "      <td>8040.0</td>\n",
       "      <td>10059.0</td>\n",
       "      <td>0</td>\n",
       "    </tr>\n",
       "    <tr>\n",
       "      <th>45449</th>\n",
       "      <td>29980</td>\n",
       "      <td>180000.0</td>\n",
       "      <td>1</td>\n",
       "      <td>1</td>\n",
       "      <td>1</td>\n",
       "      <td>32</td>\n",
       "      <td>-2</td>\n",
       "      <td>-2</td>\n",
       "      <td>-2</td>\n",
       "      <td>-2</td>\n",
       "      <td>...</td>\n",
       "      <td>0.0</td>\n",
       "      <td>0.0</td>\n",
       "      <td>0.0</td>\n",
       "      <td>0.0</td>\n",
       "      <td>0.0</td>\n",
       "      <td>0.0</td>\n",
       "      <td>0.0</td>\n",
       "      <td>0.0</td>\n",
       "      <td>0.0</td>\n",
       "      <td>0</td>\n",
       "    </tr>\n",
       "    <tr>\n",
       "      <th>45450</th>\n",
       "      <td>29981</td>\n",
       "      <td>50000.0</td>\n",
       "      <td>1</td>\n",
       "      <td>3</td>\n",
       "      <td>2</td>\n",
       "      <td>42</td>\n",
       "      <td>0</td>\n",
       "      <td>0</td>\n",
       "      <td>0</td>\n",
       "      <td>0</td>\n",
       "      <td>...</td>\n",
       "      <td>50360.0</td>\n",
       "      <td>19971.0</td>\n",
       "      <td>19694.0</td>\n",
       "      <td>10000.0</td>\n",
       "      <td>4000.0</td>\n",
       "      <td>5000.0</td>\n",
       "      <td>3000.0</td>\n",
       "      <td>4500.0</td>\n",
       "      <td>2000.0</td>\n",
       "      <td>0</td>\n",
       "    </tr>\n",
       "    <tr>\n",
       "      <th>45451</th>\n",
       "      <td>29982</td>\n",
       "      <td>50000.0</td>\n",
       "      <td>1</td>\n",
       "      <td>2</td>\n",
       "      <td>1</td>\n",
       "      <td>44</td>\n",
       "      <td>1</td>\n",
       "      <td>2</td>\n",
       "      <td>2</td>\n",
       "      <td>2</td>\n",
       "      <td>...</td>\n",
       "      <td>28192.0</td>\n",
       "      <td>22676.0</td>\n",
       "      <td>14647.0</td>\n",
       "      <td>2300.0</td>\n",
       "      <td>1700.0</td>\n",
       "      <td>0.0</td>\n",
       "      <td>517.0</td>\n",
       "      <td>503.0</td>\n",
       "      <td>585.0</td>\n",
       "      <td>0</td>\n",
       "    </tr>\n",
       "    <tr>\n",
       "      <th>45452</th>\n",
       "      <td>29984</td>\n",
       "      <td>20000.0</td>\n",
       "      <td>1</td>\n",
       "      <td>2</td>\n",
       "      <td>1</td>\n",
       "      <td>44</td>\n",
       "      <td>-2</td>\n",
       "      <td>-2</td>\n",
       "      <td>-2</td>\n",
       "      <td>-2</td>\n",
       "      <td>...</td>\n",
       "      <td>2882.0</td>\n",
       "      <td>9235.0</td>\n",
       "      <td>1719.0</td>\n",
       "      <td>2890.0</td>\n",
       "      <td>2720.0</td>\n",
       "      <td>2890.0</td>\n",
       "      <td>9263.0</td>\n",
       "      <td>1824.0</td>\n",
       "      <td>1701.0</td>\n",
       "      <td>0</td>\n",
       "    </tr>\n",
       "    <tr>\n",
       "      <th>45453</th>\n",
       "      <td>29985</td>\n",
       "      <td>30000.0</td>\n",
       "      <td>1</td>\n",
       "      <td>2</td>\n",
       "      <td>2</td>\n",
       "      <td>38</td>\n",
       "      <td>-1</td>\n",
       "      <td>-1</td>\n",
       "      <td>-2</td>\n",
       "      <td>-1</td>\n",
       "      <td>...</td>\n",
       "      <td>1993.0</td>\n",
       "      <td>1907.0</td>\n",
       "      <td>3319.0</td>\n",
       "      <td>923.0</td>\n",
       "      <td>2977.0</td>\n",
       "      <td>1999.0</td>\n",
       "      <td>3057.0</td>\n",
       "      <td>3319.0</td>\n",
       "      <td>1000.0</td>\n",
       "      <td>0</td>\n",
       "    </tr>\n",
       "    <tr>\n",
       "      <th>45454</th>\n",
       "      <td>29986</td>\n",
       "      <td>240000.0</td>\n",
       "      <td>1</td>\n",
       "      <td>1</td>\n",
       "      <td>2</td>\n",
       "      <td>30</td>\n",
       "      <td>-2</td>\n",
       "      <td>-2</td>\n",
       "      <td>-2</td>\n",
       "      <td>-2</td>\n",
       "      <td>...</td>\n",
       "      <td>0.0</td>\n",
       "      <td>0.0</td>\n",
       "      <td>0.0</td>\n",
       "      <td>0.0</td>\n",
       "      <td>0.0</td>\n",
       "      <td>0.0</td>\n",
       "      <td>0.0</td>\n",
       "      <td>0.0</td>\n",
       "      <td>0.0</td>\n",
       "      <td>0</td>\n",
       "    </tr>\n",
       "    <tr>\n",
       "      <th>45455</th>\n",
       "      <td>29987</td>\n",
       "      <td>360000.0</td>\n",
       "      <td>1</td>\n",
       "      <td>1</td>\n",
       "      <td>2</td>\n",
       "      <td>35</td>\n",
       "      <td>-1</td>\n",
       "      <td>-1</td>\n",
       "      <td>-2</td>\n",
       "      <td>-2</td>\n",
       "      <td>...</td>\n",
       "      <td>0.0</td>\n",
       "      <td>0.0</td>\n",
       "      <td>0.0</td>\n",
       "      <td>0.0</td>\n",
       "      <td>0.0</td>\n",
       "      <td>0.0</td>\n",
       "      <td>0.0</td>\n",
       "      <td>0.0</td>\n",
       "      <td>0.0</td>\n",
       "      <td>0</td>\n",
       "    </tr>\n",
       "    <tr>\n",
       "      <th>45456</th>\n",
       "      <td>29988</td>\n",
       "      <td>130000.0</td>\n",
       "      <td>1</td>\n",
       "      <td>1</td>\n",
       "      <td>2</td>\n",
       "      <td>34</td>\n",
       "      <td>0</td>\n",
       "      <td>0</td>\n",
       "      <td>0</td>\n",
       "      <td>0</td>\n",
       "      <td>...</td>\n",
       "      <td>108047.0</td>\n",
       "      <td>93708.0</td>\n",
       "      <td>97353.0</td>\n",
       "      <td>3000.0</td>\n",
       "      <td>2000.0</td>\n",
       "      <td>93000.0</td>\n",
       "      <td>4000.0</td>\n",
       "      <td>5027.0</td>\n",
       "      <td>4005.0</td>\n",
       "      <td>0</td>\n",
       "    </tr>\n",
       "    <tr>\n",
       "      <th>45457</th>\n",
       "      <td>29989</td>\n",
       "      <td>250000.0</td>\n",
       "      <td>1</td>\n",
       "      <td>1</td>\n",
       "      <td>1</td>\n",
       "      <td>34</td>\n",
       "      <td>0</td>\n",
       "      <td>0</td>\n",
       "      <td>0</td>\n",
       "      <td>0</td>\n",
       "      <td>...</td>\n",
       "      <td>245750.0</td>\n",
       "      <td>175005.0</td>\n",
       "      <td>179687.0</td>\n",
       "      <td>65000.0</td>\n",
       "      <td>8800.0</td>\n",
       "      <td>9011.0</td>\n",
       "      <td>6000.0</td>\n",
       "      <td>7000.0</td>\n",
       "      <td>6009.0</td>\n",
       "      <td>0</td>\n",
       "    </tr>\n",
       "    <tr>\n",
       "      <th>45458</th>\n",
       "      <td>29990</td>\n",
       "      <td>150000.0</td>\n",
       "      <td>1</td>\n",
       "      <td>1</td>\n",
       "      <td>2</td>\n",
       "      <td>35</td>\n",
       "      <td>-1</td>\n",
       "      <td>-1</td>\n",
       "      <td>-1</td>\n",
       "      <td>-1</td>\n",
       "      <td>...</td>\n",
       "      <td>780.0</td>\n",
       "      <td>0.0</td>\n",
       "      <td>0.0</td>\n",
       "      <td>9054.0</td>\n",
       "      <td>0.0</td>\n",
       "      <td>783.0</td>\n",
       "      <td>0.0</td>\n",
       "      <td>0.0</td>\n",
       "      <td>0.0</td>\n",
       "      <td>0</td>\n",
       "    </tr>\n",
       "    <tr>\n",
       "      <th>45459</th>\n",
       "      <td>29991</td>\n",
       "      <td>140000.0</td>\n",
       "      <td>1</td>\n",
       "      <td>2</td>\n",
       "      <td>1</td>\n",
       "      <td>41</td>\n",
       "      <td>0</td>\n",
       "      <td>0</td>\n",
       "      <td>0</td>\n",
       "      <td>0</td>\n",
       "      <td>...</td>\n",
       "      <td>138262.0</td>\n",
       "      <td>49675.0</td>\n",
       "      <td>46121.0</td>\n",
       "      <td>6000.0</td>\n",
       "      <td>7000.0</td>\n",
       "      <td>4228.0</td>\n",
       "      <td>1505.0</td>\n",
       "      <td>2000.0</td>\n",
       "      <td>2000.0</td>\n",
       "      <td>0</td>\n",
       "    </tr>\n",
       "    <tr>\n",
       "      <th>45460</th>\n",
       "      <td>29993</td>\n",
       "      <td>10000.0</td>\n",
       "      <td>1</td>\n",
       "      <td>3</td>\n",
       "      <td>1</td>\n",
       "      <td>43</td>\n",
       "      <td>0</td>\n",
       "      <td>0</td>\n",
       "      <td>0</td>\n",
       "      <td>-2</td>\n",
       "      <td>...</td>\n",
       "      <td>0.0</td>\n",
       "      <td>0.0</td>\n",
       "      <td>0.0</td>\n",
       "      <td>2000.0</td>\n",
       "      <td>0.0</td>\n",
       "      <td>0.0</td>\n",
       "      <td>0.0</td>\n",
       "      <td>0.0</td>\n",
       "      <td>0.0</td>\n",
       "      <td>0</td>\n",
       "    </tr>\n",
       "    <tr>\n",
       "      <th>45461</th>\n",
       "      <td>29994</td>\n",
       "      <td>100000.0</td>\n",
       "      <td>1</td>\n",
       "      <td>1</td>\n",
       "      <td>2</td>\n",
       "      <td>38</td>\n",
       "      <td>0</td>\n",
       "      <td>-1</td>\n",
       "      <td>-1</td>\n",
       "      <td>0</td>\n",
       "      <td>...</td>\n",
       "      <td>70626.0</td>\n",
       "      <td>69473.0</td>\n",
       "      <td>55004.0</td>\n",
       "      <td>2000.0</td>\n",
       "      <td>111784.0</td>\n",
       "      <td>4000.0</td>\n",
       "      <td>3000.0</td>\n",
       "      <td>2000.0</td>\n",
       "      <td>2000.0</td>\n",
       "      <td>0</td>\n",
       "    </tr>\n",
       "    <tr>\n",
       "      <th>45462</th>\n",
       "      <td>29996</td>\n",
       "      <td>220000.0</td>\n",
       "      <td>1</td>\n",
       "      <td>3</td>\n",
       "      <td>1</td>\n",
       "      <td>39</td>\n",
       "      <td>0</td>\n",
       "      <td>0</td>\n",
       "      <td>0</td>\n",
       "      <td>0</td>\n",
       "      <td>...</td>\n",
       "      <td>88004.0</td>\n",
       "      <td>31237.0</td>\n",
       "      <td>15980.0</td>\n",
       "      <td>8500.0</td>\n",
       "      <td>20000.0</td>\n",
       "      <td>5003.0</td>\n",
       "      <td>3047.0</td>\n",
       "      <td>5000.0</td>\n",
       "      <td>1000.0</td>\n",
       "      <td>0</td>\n",
       "    </tr>\n",
       "    <tr>\n",
       "      <th>45463</th>\n",
       "      <td>29997</td>\n",
       "      <td>150000.0</td>\n",
       "      <td>1</td>\n",
       "      <td>3</td>\n",
       "      <td>2</td>\n",
       "      <td>43</td>\n",
       "      <td>-1</td>\n",
       "      <td>-1</td>\n",
       "      <td>-1</td>\n",
       "      <td>-1</td>\n",
       "      <td>...</td>\n",
       "      <td>8979.0</td>\n",
       "      <td>5190.0</td>\n",
       "      <td>0.0</td>\n",
       "      <td>1837.0</td>\n",
       "      <td>3526.0</td>\n",
       "      <td>8998.0</td>\n",
       "      <td>129.0</td>\n",
       "      <td>0.0</td>\n",
       "      <td>0.0</td>\n",
       "      <td>0</td>\n",
       "    </tr>\n",
       "  </tbody>\n",
       "</table>\n",
       "<p>45464 rows × 25 columns</p>\n",
       "</div>"
      ],
      "text/plain": [
       "          ID  LIMIT_BAL SEX EDUCATION MARRIAGE  AGE  PAY_1  PAY_2  PAY_3  \\\n",
       "0          1    20000.0   2         2        1   24      2      2     -1   \n",
       "1          1    20000.0   2         2        1   24      2      2     -1   \n",
       "2          1    20000.0   2         2        1   24      2      2     -1   \n",
       "3          2   120000.0   2         2        2   26     -1      2      0   \n",
       "4          2   120000.0   2         2        2   26     -1      2      0   \n",
       "5          2   120000.0   2         2        2   26     -1      2      0   \n",
       "6          2   120000.0   2         2        2   26     -1      2      0   \n",
       "7         14    70000.0   1         2        2   30      1      2      2   \n",
       "8         17    20000.0   1         1        2   24      0      0      2   \n",
       "9         17    20000.0   1         1        2   24      0      0      2   \n",
       "10        22   120000.0   2         2        1   39     -1     -1     -1   \n",
       "11        23    70000.0   2         2        2   26      2      0      0   \n",
       "12        23    70000.0   2         2        2   26      2      0      0   \n",
       "13        23    70000.0   2         2        2   26      2      0      0   \n",
       "14        23    70000.0   2         2        2   26      2      0      0   \n",
       "15        23    70000.0   2         2        2   26      2      0      0   \n",
       "16        24   450000.0   2         1        1   40     -2     -2     -2   \n",
       "17        24   450000.0   2         1        1   40     -2     -2     -2   \n",
       "18        24   450000.0   2         1        1   40     -2     -2     -2   \n",
       "19        24   450000.0   2         1        1   40     -2     -2     -2   \n",
       "20        27    60000.0   1         1        2   27      1     -2     -1   \n",
       "21        27    60000.0   1         1        2   27      1     -2     -1   \n",
       "22        27    60000.0   1         1        2   27      1     -2     -1   \n",
       "23        27    60000.0   1         1        2   27      1     -2     -1   \n",
       "24        32    50000.0   1         2        2   33      2      0      0   \n",
       "25        39    50000.0   1         1        2   25      1     -1     -1   \n",
       "26        39    50000.0   1         1        2   25      1     -1     -1   \n",
       "27        39    50000.0   1         1        2   25      1     -1     -1   \n",
       "28        39    50000.0   1         1        2   25      1     -1     -1   \n",
       "29        46   210000.0   1         1        2   29     -2     -2     -2   \n",
       "...      ...        ...  ..       ...      ...  ...    ...    ...    ...   \n",
       "45434  29961    10000.0   1         2        1   29      0      0      0   \n",
       "45435  29962   260000.0   1         1        2   33     -2     -2     -2   \n",
       "45436  29963    50000.0   1         2        2   30      1     -1      2   \n",
       "45437  29964   610000.0   1         1        2   31      0     -1      2   \n",
       "45438  29965   360000.0   1         1        2   31     -1     -1     -1   \n",
       "45439  29966   140000.0   1         2        1   32      0      0      0   \n",
       "45440  29968    50000.0   1         2        1   32      0      0      0   \n",
       "45441  29969    20000.0   1         2        2   34      0      0      0   \n",
       "45442  29970   200000.0   1         2        1   33      0      0      0   \n",
       "45443  29971   360000.0   1         1        1   34     -1     -1     -1   \n",
       "45444  29972    80000.0   1         3        1   36      0      0      0   \n",
       "45445  29973   190000.0   1         1        1   37      0      0      0   \n",
       "45446  29976   220000.0   1         2        1   41      0      0     -1   \n",
       "45447  29978   420000.0   1         1        2   34      0      0      0   \n",
       "45448  29979   310000.0   1         2        1   39      0      0      0   \n",
       "45449  29980   180000.0   1         1        1   32     -2     -2     -2   \n",
       "45450  29981    50000.0   1         3        2   42      0      0      0   \n",
       "45451  29982    50000.0   1         2        1   44      1      2      2   \n",
       "45452  29984    20000.0   1         2        1   44     -2     -2     -2   \n",
       "45453  29985    30000.0   1         2        2   38     -1     -1     -2   \n",
       "45454  29986   240000.0   1         1        2   30     -2     -2     -2   \n",
       "45455  29987   360000.0   1         1        2   35     -1     -1     -2   \n",
       "45456  29988   130000.0   1         1        2   34      0      0      0   \n",
       "45457  29989   250000.0   1         1        1   34      0      0      0   \n",
       "45458  29990   150000.0   1         1        2   35     -1     -1     -1   \n",
       "45459  29991   140000.0   1         2        1   41      0      0      0   \n",
       "45460  29993    10000.0   1         3        1   43      0      0      0   \n",
       "45461  29994   100000.0   1         1        2   38      0     -1     -1   \n",
       "45462  29996   220000.0   1         3        1   39      0      0      0   \n",
       "45463  29997   150000.0   1         3        2   43     -1     -1     -1   \n",
       "\n",
       "       PAY_4  ...  BILL_AMT4  BILL_AMT5  BILL_AMT6  PAY_AMT1  PAY_AMT2  \\\n",
       "0         -1  ...        0.0        0.0        0.0       0.0     689.0   \n",
       "1         -1  ...        0.0        0.0        0.0       0.0     689.0   \n",
       "2         -1  ...        0.0        0.0        0.0       0.0     689.0   \n",
       "3          0  ...     3272.0     3455.0     3261.0       0.0    1000.0   \n",
       "4          0  ...     3272.0     3455.0     3261.0       0.0    1000.0   \n",
       "5          0  ...     3272.0     3455.0     3261.0       0.0    1000.0   \n",
       "6          0  ...     3272.0     3455.0     3261.0       0.0    1000.0   \n",
       "7          0  ...    66782.0    36137.0    36894.0    3200.0       0.0   \n",
       "8          2  ...    18338.0    17905.0    19104.0    3200.0       0.0   \n",
       "9          2  ...    18338.0    17905.0    19104.0    3200.0       0.0   \n",
       "10        -1  ...        0.0      632.0      316.0     316.0     316.0   \n",
       "11         2  ...    44006.0    46905.0    46012.0    2007.0    3582.0   \n",
       "12         2  ...    44006.0    46905.0    46012.0    2007.0    3582.0   \n",
       "13         2  ...    44006.0    46905.0    46012.0    2007.0    3582.0   \n",
       "14         2  ...    44006.0    46905.0    46012.0    2007.0    3582.0   \n",
       "15         2  ...    44006.0    46905.0    46012.0    2007.0    3582.0   \n",
       "16        -2  ...      560.0        0.0        0.0   19428.0    1473.0   \n",
       "17        -2  ...      560.0        0.0        0.0   19428.0    1473.0   \n",
       "18        -2  ...      560.0        0.0        0.0   19428.0    1473.0   \n",
       "19        -2  ...      560.0        0.0        0.0   19428.0    1473.0   \n",
       "20        -1  ...      -57.0      127.0     -189.0       0.0    1000.0   \n",
       "21        -1  ...      -57.0      127.0     -189.0       0.0    1000.0   \n",
       "22        -1  ...      -57.0      127.0     -189.0       0.0    1000.0   \n",
       "23        -1  ...      -57.0      127.0     -189.0       0.0    1000.0   \n",
       "24         0  ...    22734.0    23217.0    23680.0    1718.0    1500.0   \n",
       "25        -2  ...        0.0        0.0        0.0     780.0       0.0   \n",
       "26        -2  ...        0.0        0.0        0.0     780.0       0.0   \n",
       "27        -2  ...        0.0        0.0        0.0     780.0       0.0   \n",
       "28        -2  ...        0.0        0.0        0.0     780.0       0.0   \n",
       "29        -2  ...        0.0        0.0        0.0       0.0       0.0   \n",
       "...      ...  ...        ...        ...        ...       ...       ...   \n",
       "45434      0  ...     5163.0      780.0        0.0    3009.0    2000.0   \n",
       "45435     -2  ...     1368.0      101.0      955.0     263.0       0.0   \n",
       "45436     -1  ...     7300.0        0.0        0.0     528.0       0.0   \n",
       "45437     -1  ...   347303.0   248893.0   269528.0  323014.0    1605.0   \n",
       "45438      0  ...    18498.0    18422.0     1842.0      51.0   20007.0   \n",
       "45439      0  ...   137450.0   135638.0   136375.0    6300.0    6500.0   \n",
       "45440     -1  ...    50551.0    40590.0    39384.0    2686.0       0.0   \n",
       "45441      0  ...    13478.0    16978.0    12914.0    2000.0    2000.0   \n",
       "45442      0  ...    56768.0    58826.0    67577.0    5000.0    2183.0   \n",
       "45443      0  ...    49005.0     8676.0    19487.0   52951.0   64535.0   \n",
       "45444      0  ...    69674.0    71070.0    73612.0    2395.0    2500.0   \n",
       "45445      0  ...    29223.0    19616.0   148482.0    2000.0    3869.0   \n",
       "45446     -1  ...     5924.0     1759.0     1824.0    8840.0    6643.0   \n",
       "45447      0  ...   141695.0   144839.0   147954.0    7000.0    7000.0   \n",
       "45448      0  ...   219409.0   216540.0   210675.0   10029.0    9218.0   \n",
       "45449     -2  ...        0.0        0.0        0.0       0.0       0.0   \n",
       "45450      0  ...    50360.0    19971.0    19694.0   10000.0    4000.0   \n",
       "45451      2  ...    28192.0    22676.0    14647.0    2300.0    1700.0   \n",
       "45452     -2  ...     2882.0     9235.0     1719.0    2890.0    2720.0   \n",
       "45453     -1  ...     1993.0     1907.0     3319.0     923.0    2977.0   \n",
       "45454     -2  ...        0.0        0.0        0.0       0.0       0.0   \n",
       "45455     -2  ...        0.0        0.0        0.0       0.0       0.0   \n",
       "45456      0  ...   108047.0    93708.0    97353.0    3000.0    2000.0   \n",
       "45457      0  ...   245750.0   175005.0   179687.0   65000.0    8800.0   \n",
       "45458     -1  ...      780.0        0.0        0.0    9054.0       0.0   \n",
       "45459      0  ...   138262.0    49675.0    46121.0    6000.0    7000.0   \n",
       "45460     -2  ...        0.0        0.0        0.0    2000.0       0.0   \n",
       "45461      0  ...    70626.0    69473.0    55004.0    2000.0  111784.0   \n",
       "45462      0  ...    88004.0    31237.0    15980.0    8500.0   20000.0   \n",
       "45463     -1  ...     8979.0     5190.0        0.0    1837.0    3526.0   \n",
       "\n",
       "       PAY_AMT3  PAY_AMT4  PAY_AMT5  PAY_AMT6  Default  \n",
       "0           0.0       0.0       0.0       0.0        1  \n",
       "1           0.0       0.0       0.0       0.0        1  \n",
       "2           0.0       0.0       0.0       0.0        1  \n",
       "3        1000.0    1000.0       0.0    2000.0        1  \n",
       "4        1000.0    1000.0       0.0    2000.0        1  \n",
       "5        1000.0    1000.0       0.0    2000.0        1  \n",
       "6        1000.0    1000.0       0.0    2000.0        1  \n",
       "7        3000.0    3000.0    1500.0       0.0        1  \n",
       "8        1500.0       0.0    1650.0       0.0        1  \n",
       "9        1500.0       0.0    1650.0       0.0        1  \n",
       "10          0.0     632.0     316.0       0.0        1  \n",
       "11          0.0    3601.0       0.0    1820.0        1  \n",
       "12          0.0    3601.0       0.0    1820.0        1  \n",
       "13          0.0    3601.0       0.0    1820.0        1  \n",
       "14          0.0    3601.0       0.0    1820.0        1  \n",
       "15          0.0    3601.0       0.0    1820.0        1  \n",
       "16        560.0       0.0       0.0    1128.0        1  \n",
       "17        560.0       0.0       0.0    1128.0        1  \n",
       "18        560.0       0.0       0.0    1128.0        1  \n",
       "19        560.0       0.0       0.0    1128.0        1  \n",
       "20          0.0     500.0       0.0    1000.0        1  \n",
       "21          0.0     500.0       0.0    1000.0        1  \n",
       "22          0.0     500.0       0.0    1000.0        1  \n",
       "23          0.0     500.0       0.0    1000.0        1  \n",
       "24       1000.0    1000.0    1000.0     716.0        1  \n",
       "25          0.0       0.0       0.0       0.0        1  \n",
       "26          0.0       0.0       0.0       0.0        1  \n",
       "27          0.0       0.0       0.0       0.0        1  \n",
       "28          0.0       0.0       0.0       0.0        1  \n",
       "29          0.0       0.0       0.0       0.0        1  \n",
       "...         ...       ...       ...       ...      ...  \n",
       "45434    2009.0       0.0       0.0       0.0        0  \n",
       "45435    1368.0     101.0     955.0       0.0        0  \n",
       "45436    7300.0       0.0       0.0       0.0        0  \n",
       "45437  349395.0  250144.0  271099.0  220076.0        0  \n",
       "45438    1590.0    1000.0    1842.0     390.0        0  \n",
       "45439    6300.0    6000.0    5200.0    5000.0        0  \n",
       "45440   50551.0       0.0    1600.0    1500.0        0  \n",
       "45441    1000.0    5000.0   12914.0     600.0        0  \n",
       "45442    2059.0    3000.0    9751.0    3000.0        0  \n",
       "45443    8907.0      53.0   19584.0   16080.0        0  \n",
       "45444    2530.0    2556.0    3700.0    3000.0        0  \n",
       "45445   25128.0   10115.0  148482.0    4800.0        0  \n",
       "45446    5924.0    1759.0    1824.0    7022.0        0  \n",
       "45447    5500.0    5500.0    5600.0    5000.0        0  \n",
       "45448   10029.0    8049.0    8040.0   10059.0        0  \n",
       "45449       0.0       0.0       0.0       0.0        0  \n",
       "45450    5000.0    3000.0    4500.0    2000.0        0  \n",
       "45451       0.0     517.0     503.0     585.0        0  \n",
       "45452    2890.0    9263.0    1824.0    1701.0        0  \n",
       "45453    1999.0    3057.0    3319.0    1000.0        0  \n",
       "45454       0.0       0.0       0.0       0.0        0  \n",
       "45455       0.0       0.0       0.0       0.0        0  \n",
       "45456   93000.0    4000.0    5027.0    4005.0        0  \n",
       "45457    9011.0    6000.0    7000.0    6009.0        0  \n",
       "45458     783.0       0.0       0.0       0.0        0  \n",
       "45459    4228.0    1505.0    2000.0    2000.0        0  \n",
       "45460       0.0       0.0       0.0       0.0        0  \n",
       "45461    4000.0    3000.0    2000.0    2000.0        0  \n",
       "45462    5003.0    3047.0    5000.0    1000.0        0  \n",
       "45463    8998.0     129.0       0.0       0.0        0  \n",
       "\n",
       "[45464 rows x 25 columns]"
      ]
     },
     "execution_count": 29,
     "metadata": {},
     "output_type": "execute_result"
    }
   ],
   "source": [
    "samplecopy=sample\n",
    "samplecopy"
   ]
  },
  {
   "cell_type": "markdown",
   "metadata": {
    "application/vnd.databricks.v1+cell": {
     "inputWidgets": {},
     "nuid": "bfde0795-d16c-45fb-ba42-fb24878fe106",
     "showTitle": true,
     "title": "Feature preprocessing"
    }
   },
   "source": [
    "# Feature preprocessing\n",
    "## Working with Categorical Columns"
   ]
  },
  {
   "cell_type": "code",
   "execution_count": 30,
   "metadata": {
    "application/vnd.databricks.v1+cell": {
     "inputWidgets": {},
     "nuid": "cca9ada3-09e3-41f9-a8da-b20380a8ec26",
     "showTitle": false,
     "title": ""
    }
   },
   "outputs": [],
   "source": [
    "from pyspark.ml.feature import (VectorAssembler,VectorIndexer,\n",
    "                                OneHotEncoder,StringIndexer)"
   ]
  },
  {
   "cell_type": "code",
   "execution_count": 31,
   "metadata": {
    "application/vnd.databricks.v1+cell": {
     "inputWidgets": {},
     "nuid": "fbefc3f0-b941-41e4-9b5a-833a4664b2e9",
     "showTitle": false,
     "title": ""
    }
   },
   "outputs": [],
   "source": [
    "# OneHot encoding of categorical variable to be able to enter into machine learning algorithms\n",
    "# we vectorize them to be able to use it\n",
    "# Indexer return the numrical equivalent it's could be used for label encoding\n",
    "# OneHotEncoder is for using returning dummy variables equivalent of the categorical variables\n",
    "SEX_indexer = StringIndexer(inputCol='SEX',outputCol='SEXIndex')\n",
    "SEX_encoder = OneHotEncoder(inputCol='SEXIndex',outputCol='SEXVec')\n",
    "\n",
    "EDUCATION_indexer = StringIndexer(inputCol='EDUCATION',outputCol='EDUCATIONIndex')\n",
    "EDUCATION_encoder = OneHotEncoder(inputCol='EDUCATIONIndex',outputCol='EDUCATIONVec')\n",
    "\n",
    "MARRIAGE_indexer = StringIndexer(inputCol='MARRIAGE',outputCol='MARRIAGEIndex')\n",
    "MARRIAGE_encoder = OneHotEncoder(inputCol='MARRIAGEIndex',outputCol='MARRIAGEVec')"
   ]
  },
  {
   "cell_type": "code",
   "execution_count": 32,
   "metadata": {
    "application/vnd.databricks.v1+cell": {
     "inputWidgets": {},
     "nuid": "583c88a7-58df-40b8-a70f-9172008367df",
     "showTitle": false,
     "title": ""
    }
   },
   "outputs": [],
   "source": [
    "input_cols_OneHot= ['LIMIT_BAL', 'SEXVec', 'EDUCATIONVec', 'MARRIAGEVec', 'AGE', 'PAY_1', 'PAY_2', 'PAY_3', 'PAY_4', 'PAY_5', 'PAY_6', 'BILL_AMT1', 'BILL_AMT2', 'BILL_AMT3', 'BILL_AMT4', 'BILL_AMT5', 'BILL_AMT6', 'PAY_AMT1', 'PAY_AMT2', 'PAY_AMT3', 'PAY_AMT4', 'PAY_AMT5', 'PAY_AMT6']\n",
    "assembler_OneHot = VectorAssembler(inputCols= input_cols_OneHot ,outputCol='features')\n",
    "\n",
    "input_cols_Label= ['LIMIT_BAL', 'SEXIndex', 'EDUCATIONIndex', 'MARRIAGEIndex', 'AGE', 'PAY_1', 'PAY_2', 'PAY_3', 'PAY_4', 'PAY_5', 'PAY_6', 'BILL_AMT1', 'BILL_AMT2', 'BILL_AMT3', 'BILL_AMT4', 'BILL_AMT5', 'BILL_AMT6', 'PAY_AMT1', 'PAY_AMT2', 'PAY_AMT3', 'PAY_AMT4', 'PAY_AMT5', 'PAY_AMT6']\n",
    "assembler_Label = VectorAssembler(inputCols=input_cols_Label,outputCol='features')"
   ]
  },
  {
   "cell_type": "markdown",
   "metadata": {
    "application/vnd.databricks.v1+cell": {
     "inputWidgets": {},
     "nuid": "505055b1-b2a6-4001-aeb0-4e146cf16d03",
     "showTitle": true,
     "title": "Model Building（LogisticRegression）"
    }
   },
   "source": [
    "# Model Building（LogisticRegression）\n",
    "## - LogisticRegression"
   ]
  },
  {
   "cell_type": "code",
   "execution_count": 33,
   "metadata": {
    "application/vnd.databricks.v1+cell": {
     "inputWidgets": {},
     "nuid": "b5e750ca-b862-4416-9d40-4a1030ddebfa",
     "showTitle": false,
     "title": ""
    }
   },
   "outputs": [],
   "source": [
    "from pyspark.ml.classification import LogisticRegression\n",
    "from pyspark.ml.classification import RandomForestClassifier"
   ]
  },
  {
   "cell_type": "markdown",
   "metadata": {
    "application/vnd.databricks.v1+cell": {
     "inputWidgets": {},
     "nuid": "063498d2-9e2e-4990-b301-12b7c85cf4ca",
     "showTitle": true,
     "title": "Defining a Pipeline "
    }
   },
   "source": [
    "# Defining a Pipeline \n",
    "## with pipeline we define the steps that we want to do"
   ]
  },
  {
   "cell_type": "code",
   "execution_count": 34,
   "metadata": {
    "application/vnd.databricks.v1+cell": {
     "inputWidgets": {},
     "nuid": "9c87950a-e027-4d88-8f0e-3704245f3759",
     "showTitle": false,
     "title": ""
    }
   },
   "outputs": [],
   "source": [
    "from pyspark.ml import Pipeline"
   ]
  },
  {
   "cell_type": "code",
   "execution_count": 35,
   "metadata": {
    "application/vnd.databricks.v1+cell": {
     "inputWidgets": {},
     "nuid": "139f3943-4011-4185-aa06-0982f63b891e",
     "showTitle": false,
     "title": ""
    }
   },
   "outputs": [],
   "source": [
    "log_reg_df = LogisticRegression(featuresCol='features',labelCol='Default')\n",
    "rf_df = RandomForestClassifier(featuresCol='features',labelCol='Default')"
   ]
  },
  {
   "cell_type": "code",
   "execution_count": 36,
   "metadata": {
    "application/vnd.databricks.v1+cell": {
     "inputWidgets": {},
     "nuid": "aab78ece-e083-4083-8127-dc3a9a62887e",
     "showTitle": false,
     "title": ""
    }
   },
   "outputs": [],
   "source": [
    "# a pipeline for logistic regression\n",
    "pipeline_lr_OneHot = Pipeline(stages=[SEX_indexer,EDUCATION_indexer,MARRIAGE_indexer,\n",
    "                            SEX_encoder,EDUCATION_encoder,MARRIAGE_encoder,\n",
    "                           assembler_OneHot,log_reg_df])\n",
    "\n",
    "pipeline_lr_Label = Pipeline(stages=[SEX_indexer,EDUCATION_indexer,MARRIAGE_indexer,\n",
    "                           assembler_Label,log_reg_df])\n",
    "\n",
    "pipeline_rf_Label = Pipeline(stages=[SEX_indexer,EDUCATION_indexer,MARRIAGE_indexer,\n",
    "                           assembler_Label,rf_df])"
   ]
  },
  {
   "cell_type": "code",
   "execution_count": 37,
   "metadata": {
    "application/vnd.databricks.v1+cell": {
     "inputWidgets": {},
     "nuid": "b8041df8-6461-4302-be81-f6abeda0e534",
     "showTitle": false,
     "title": ""
    }
   },
   "outputs": [],
   "source": [
    "# random split with a seed number to reproduce the results\n",
    "train_df, test_df = df.randomSplit([0.8,.2],110)"
   ]
  },
  {
   "cell_type": "code",
   "execution_count": 38,
   "metadata": {
    "application/vnd.databricks.v1+cell": {
     "inputWidgets": {},
     "nuid": "813eb4fd-adab-4f4d-bb80-02f8afe889eb",
     "showTitle": false,
     "title": ""
    }
   },
   "outputs": [],
   "source": [
    "fit_model_OneHot = pipeline_lr_OneHot.fit(train_df)\n",
    "fit_model_Label = pipeline_lr_Label.fit(train_df)\n",
    "fit_rf_Label = pipeline_rf_Label.fit(train_df)"
   ]
  },
  {
   "cell_type": "code",
   "execution_count": 39,
   "metadata": {
    "application/vnd.databricks.v1+cell": {
     "inputWidgets": {},
     "nuid": "d85e5899-094d-45ca-9384-6cd6cdf56d6c",
     "showTitle": false,
     "title": ""
    }
   },
   "outputs": [],
   "source": [
    "train_OneHot_results = fit_model_OneHot.transform(train_df)\n",
    "test_OneHot_results = fit_model_OneHot.transform(test_df)\n",
    "\n",
    "train_Label_results = fit_model_Label.transform(train_df)\n",
    "test_Label_results = fit_model_Label.transform(test_df)"
   ]
  },
  {
   "cell_type": "markdown",
   "metadata": {
    "application/vnd.databricks.v1+cell": {
     "inputWidgets": {},
     "nuid": "8b81d121-08ee-4ad6-ad20-fcb506e44147",
     "showTitle": true,
     "title": "Testing and Evaluation"
    }
   },
   "source": [
    "# Testing and Evaluation\n",
    "- AUC\n",
    "- Accuracy"
   ]
  },
  {
   "cell_type": "code",
   "execution_count": 40,
   "metadata": {
    "application/vnd.databricks.v1+cell": {
     "inputWidgets": {},
     "nuid": "17c18016-cd00-4890-b305-def16d35ac15",
     "showTitle": false,
     "title": ""
    }
   },
   "outputs": [],
   "source": [
    "from pyspark.ml.evaluation import BinaryClassificationEvaluator\n",
    "from pyspark.ml.evaluation import MulticlassClassificationEvaluator"
   ]
  },
  {
   "cell_type": "code",
   "execution_count": 41,
   "metadata": {
    "application/vnd.databricks.v1+cell": {
     "inputWidgets": {},
     "nuid": "b95a8235-83a5-4aec-9672-ce3833790c25",
     "showTitle": false,
     "title": ""
    }
   },
   "outputs": [
    {
     "data": {
      "text/plain": [
       "MulticlassClassificationEvaluator_a0e9f4579143"
      ]
     },
     "execution_count": 41,
     "metadata": {},
     "output_type": "execute_result"
    }
   ],
   "source": [
    "AUC_eval = BinaryClassificationEvaluator(rawPredictionCol='prediction', labelCol='Default')\n",
    "Accu_evaluator = MulticlassClassificationEvaluator()\n",
    "Accu_evaluator.setPredictionCol('prediction')\n",
    "Accu_evaluator.setLabelCol('Default')"
   ]
  },
  {
   "cell_type": "code",
   "execution_count": 42,
   "metadata": {
    "application/vnd.databricks.v1+cell": {
     "inputWidgets": {},
     "nuid": "c6dcf3b6-060c-4e21-b892-03a73344bc0f",
     "showTitle": false,
     "title": ""
    }
   },
   "outputs": [
    {
     "name": "stdout",
     "output_type": "stream",
     "text": [
      "+-------+----------+\n",
      "|Default|prediction|\n",
      "+-------+----------+\n",
      "|      1|       1.0|\n",
      "|      1|       1.0|\n",
      "|      1|       1.0|\n",
      "|      1|       0.0|\n",
      "|      1|       0.0|\n",
      "+-------+----------+\n",
      "only showing top 5 rows\n",
      "\n"
     ]
    }
   ],
   "source": [
    "test_Label_results.select('Default','prediction').show(5)"
   ]
  },
  {
   "cell_type": "code",
   "execution_count": 43,
   "metadata": {
    "application/vnd.databricks.v1+cell": {
     "inputWidgets": {},
     "nuid": "2fb4d294-e59d-463d-81d0-f04cf64d39a5",
     "showTitle": false,
     "title": ""
    }
   },
   "outputs": [],
   "source": [
    "AUC_test_Label = AUC_eval.evaluate(test_Label_results)\n",
    "AUC_train_Label = AUC_eval.evaluate(train_Label_results)\n",
    "\n",
    "AUC_test_OneHot = AUC_eval.evaluate(test_OneHot_results)\n",
    "AUC_train_OneHot = AUC_eval.evaluate(train_OneHot_results)"
   ]
  },
  {
   "cell_type": "code",
   "execution_count": 44,
   "metadata": {
    "application/vnd.databricks.v1+cell": {
     "inputWidgets": {},
     "nuid": "8e5ba6f9-2183-4ce7-98e7-d03cbf169fa2",
     "showTitle": false,
     "title": ""
    }
   },
   "outputs": [],
   "source": [
    "Accu_test_Label = Accu_evaluator.evaluate(test_Label_results, {Accu_evaluator.metricName: \"accuracy\"})\n",
    "Accu_train_Label = Accu_evaluator.evaluate(train_Label_results, {Accu_evaluator.metricName: \"accuracy\"})\n",
    "\n",
    "Accu_test_OneHot = Accu_evaluator.evaluate(test_OneHot_results, {Accu_evaluator.metricName: \"accuracy\"})\n",
    "Accu_train_OneHot = Accu_evaluator.evaluate(train_OneHot_results, {Accu_evaluator.metricName: \"accuracy\"})"
   ]
  },
  {
   "cell_type": "code",
   "execution_count": 45,
   "metadata": {
    "application/vnd.databricks.v1+cell": {
     "inputWidgets": {},
     "nuid": "6e283541-dec6-491e-bed4-c612571ab797",
     "showTitle": false,
     "title": ""
    }
   },
   "outputs": [
    {
     "name": "stdout",
     "output_type": "stream",
     "text": [
      "Test AUC with OneHot Encoding 0.672794660125935\n",
      "\n",
      "\n",
      "Train AUC with OneHot Encoding 0.6744880710701873\n"
     ]
    }
   ],
   "source": [
    "print(\"Test AUC with OneHot Encoding\", AUC_test_OneHot)\n",
    "print(\"\\n\")\n",
    "print(\"Train AUC with OneHot Encoding\", AUC_train_OneHot)"
   ]
  },
  {
   "cell_type": "code",
   "execution_count": 46,
   "metadata": {
    "application/vnd.databricks.v1+cell": {
     "inputWidgets": {},
     "nuid": "08463db7-2e2d-4175-b2da-a50555dcd41b",
     "showTitle": false,
     "title": ""
    }
   },
   "outputs": [
    {
     "name": "stdout",
     "output_type": "stream",
     "text": [
      "Accuracy: Test with OneHot Encoding 0.6728313518273888\n",
      "\n",
      "\n",
      "Accuracy: Train with OneHot Encoding 0.6745189664650907\n"
     ]
    }
   ],
   "source": [
    "print(\"Accuracy: Test with OneHot Encoding\", Accu_test_OneHot)\n",
    "print(\"\\n\")\n",
    "print(\"Accuracy: Train with OneHot Encoding\", Accu_train_OneHot)"
   ]
  },
  {
   "cell_type": "code",
   "execution_count": 47,
   "metadata": {
    "application/vnd.databricks.v1+cell": {
     "inputWidgets": {},
     "nuid": "b555b9a5-e59b-4e92-b3c3-6a43261667d4",
     "showTitle": false,
     "title": ""
    }
   },
   "outputs": [
    {
     "name": "stdout",
     "output_type": "stream",
     "text": [
      "Test AUC with Label Encoding 0.6710368061581119\n",
      "\n",
      "\n",
      "Train AUC with Label Encoding 0.6744896003457685\n"
     ]
    }
   ],
   "source": [
    "print(\"Test AUC with Label Encoding\", AUC_test_Label)\n",
    "print(\"\\n\")\n",
    "print(\"Train AUC with Label Encoding\", AUC_train_Label)"
   ]
  },
  {
   "cell_type": "code",
   "execution_count": 48,
   "metadata": {
    "application/vnd.databricks.v1+cell": {
     "inputWidgets": {},
     "nuid": "6721e42d-1efb-4783-b620-5b36be718fd2",
     "showTitle": false,
     "title": ""
    }
   },
   "outputs": [
    {
     "name": "stdout",
     "output_type": "stream",
     "text": [
      "Accuracy: Test with Label Encoding 0.6710700132100397\n",
      "\n",
      "\n",
      "Accuracy: Train with Label Encoding 0.6745189664650907\n"
     ]
    }
   ],
   "source": [
    "print(\"Accuracy: Test with Label Encoding\", Accu_test_Label)\n",
    "print(\"\\n\")\n",
    "print(\"Accuracy: Train with Label Encoding\", Accu_train_Label)"
   ]
  },
  {
   "cell_type": "markdown",
   "metadata": {
    "application/vnd.databricks.v1+cell": {
     "inputWidgets": {},
     "nuid": "c532c0fb-bd05-40b0-855d-cfc67b9260e5",
     "showTitle": true,
     "title": "1. Next Potential Steps -- try to improve the performance（Feature Selection）"
    }
   },
   "source": [
    "# 1. Next Potential Steps -- try to improve the performance（Feature Selection）\n",
    "## Feature Selection\n",
    "## - More generalizable more \n",
    "## - avoid over fitting\n",
    "## - prediction in train set and test set would be closer but it's not guaranteed"
   ]
  },
  {
   "cell_type": "code",
   "execution_count": 49,
   "metadata": {
    "application/vnd.databricks.v1+cell": {
     "inputWidgets": {},
     "nuid": "48b4195f-5eaf-4d41-bc3b-93546ab859a2",
     "showTitle": false,
     "title": ""
    }
   },
   "outputs": [
    {
     "data": {
      "text/plain": [
       "SparseVector(23, {0: 0.0153, 1: 0.0003, 2: 0.0005, 4: 0.001, 5: 0.3009, 6: 0.2204, 7: 0.0506, 8: 0.076, 9: 0.1496, 10: 0.028, 11: 0.0073, 12: 0.0038, 13: 0.0025, 14: 0.0053, 15: 0.0049, 16: 0.0016, 17: 0.0477, 18: 0.0304, 19: 0.0145, 20: 0.0245, 21: 0.0044, 22: 0.0104})"
      ]
     },
     "execution_count": 49,
     "metadata": {},
     "output_type": "execute_result"
    }
   ],
   "source": [
    "fit_rf_Label.stages[-1].featureImportances"
   ]
  },
  {
   "cell_type": "code",
   "execution_count": 50,
   "metadata": {
    "application/vnd.databricks.v1+cell": {
     "inputWidgets": {},
     "nuid": "e52744ba-b0cf-458a-99fc-04988902774f",
     "showTitle": false,
     "title": ""
    }
   },
   "outputs": [
    {
     "data": {
      "text/plain": [
       "['LIMIT_BAL',\n",
       " 'SEXIndex',\n",
       " 'EDUCATIONIndex',\n",
       " 'MARRIAGEIndex',\n",
       " 'AGE',\n",
       " 'PAY_1',\n",
       " 'PAY_2',\n",
       " 'PAY_3',\n",
       " 'PAY_4',\n",
       " 'PAY_5',\n",
       " 'PAY_6',\n",
       " 'BILL_AMT1',\n",
       " 'BILL_AMT2',\n",
       " 'BILL_AMT3',\n",
       " 'BILL_AMT4',\n",
       " 'BILL_AMT5',\n",
       " 'BILL_AMT6',\n",
       " 'PAY_AMT1',\n",
       " 'PAY_AMT2',\n",
       " 'PAY_AMT3',\n",
       " 'PAY_AMT4',\n",
       " 'PAY_AMT5',\n",
       " 'PAY_AMT6']"
      ]
     },
     "execution_count": 50,
     "metadata": {},
     "output_type": "execute_result"
    }
   ],
   "source": [
    "input_cols_Label"
   ]
  },
  {
   "cell_type": "code",
   "execution_count": 51,
   "metadata": {
    "application/vnd.databricks.v1+cell": {
     "inputWidgets": {},
     "nuid": "f71a405f-26f0-4be8-8b90-925600fe53e3",
     "showTitle": false,
     "title": ""
    }
   },
   "outputs": [],
   "source": [
    "df2=fit_rf_Label.transform(train_df)"
   ]
  },
  {
   "cell_type": "code",
   "execution_count": 52,
   "metadata": {
    "application/vnd.databricks.v1+cell": {
     "inputWidgets": {},
     "nuid": "5a1aa74e-b3c5-4166-86be-0c4a3626285d",
     "showTitle": false,
     "title": ""
    }
   },
   "outputs": [],
   "source": [
    "def ExtractFeatureImp(featureImp, dataset, featuresCol):\n",
    "    list_extract = []\n",
    "    for i in dataset.schema[featuresCol].metadata[\"ml_attr\"][\"attrs\"]:\n",
    "        list_extract = list_extract + dataset.schema[featuresCol].metadata[\"ml_attr\"][\"attrs\"][i]\n",
    "    varlist = pd.DataFrame(list_extract)\n",
    "    varlist['score'] = varlist['idx'].apply(lambda x: featureImp[x])\n",
    "    return(varlist.sort_values('score', ascending = False))"
   ]
  },
  {
   "cell_type": "code",
   "execution_count": 53,
   "metadata": {
    "application/vnd.databricks.v1+cell": {
     "inputWidgets": {},
     "nuid": "136159fd-66e8-4619-a182-7fc0fed49834",
     "showTitle": false,
     "title": ""
    }
   },
   "outputs": [
    {
     "data": {
      "text/html": [
       "<div>\n",
       "<style scoped>\n",
       "    .dataframe tbody tr th:only-of-type {\n",
       "        vertical-align: middle;\n",
       "    }\n",
       "\n",
       "    .dataframe tbody tr th {\n",
       "        vertical-align: top;\n",
       "    }\n",
       "\n",
       "    .dataframe thead th {\n",
       "        text-align: right;\n",
       "    }\n",
       "</style>\n",
       "<table border=\"1\" class=\"dataframe\">\n",
       "  <thead>\n",
       "    <tr style=\"text-align: right;\">\n",
       "      <th></th>\n",
       "      <th>idx</th>\n",
       "      <th>name</th>\n",
       "      <th>vals</th>\n",
       "      <th>score</th>\n",
       "    </tr>\n",
       "  </thead>\n",
       "  <tbody>\n",
       "    <tr>\n",
       "      <th>2</th>\n",
       "      <td>5</td>\n",
       "      <td>PAY_1</td>\n",
       "      <td>NaN</td>\n",
       "      <td>0.300939</td>\n",
       "    </tr>\n",
       "    <tr>\n",
       "      <th>3</th>\n",
       "      <td>6</td>\n",
       "      <td>PAY_2</td>\n",
       "      <td>NaN</td>\n",
       "      <td>0.220381</td>\n",
       "    </tr>\n",
       "    <tr>\n",
       "      <th>6</th>\n",
       "      <td>9</td>\n",
       "      <td>PAY_5</td>\n",
       "      <td>NaN</td>\n",
       "      <td>0.149564</td>\n",
       "    </tr>\n",
       "    <tr>\n",
       "      <th>5</th>\n",
       "      <td>8</td>\n",
       "      <td>PAY_4</td>\n",
       "      <td>NaN</td>\n",
       "      <td>0.075981</td>\n",
       "    </tr>\n",
       "    <tr>\n",
       "      <th>4</th>\n",
       "      <td>7</td>\n",
       "      <td>PAY_3</td>\n",
       "      <td>NaN</td>\n",
       "      <td>0.050620</td>\n",
       "    </tr>\n",
       "    <tr>\n",
       "      <th>14</th>\n",
       "      <td>17</td>\n",
       "      <td>PAY_AMT1</td>\n",
       "      <td>NaN</td>\n",
       "      <td>0.047747</td>\n",
       "    </tr>\n",
       "    <tr>\n",
       "      <th>15</th>\n",
       "      <td>18</td>\n",
       "      <td>PAY_AMT2</td>\n",
       "      <td>NaN</td>\n",
       "      <td>0.030381</td>\n",
       "    </tr>\n",
       "    <tr>\n",
       "      <th>7</th>\n",
       "      <td>10</td>\n",
       "      <td>PAY_6</td>\n",
       "      <td>NaN</td>\n",
       "      <td>0.027997</td>\n",
       "    </tr>\n",
       "    <tr>\n",
       "      <th>17</th>\n",
       "      <td>20</td>\n",
       "      <td>PAY_AMT4</td>\n",
       "      <td>NaN</td>\n",
       "      <td>0.024517</td>\n",
       "    </tr>\n",
       "    <tr>\n",
       "      <th>0</th>\n",
       "      <td>0</td>\n",
       "      <td>LIMIT_BAL</td>\n",
       "      <td>NaN</td>\n",
       "      <td>0.015326</td>\n",
       "    </tr>\n",
       "    <tr>\n",
       "      <th>16</th>\n",
       "      <td>19</td>\n",
       "      <td>PAY_AMT3</td>\n",
       "      <td>NaN</td>\n",
       "      <td>0.014496</td>\n",
       "    </tr>\n",
       "    <tr>\n",
       "      <th>19</th>\n",
       "      <td>22</td>\n",
       "      <td>PAY_AMT6</td>\n",
       "      <td>NaN</td>\n",
       "      <td>0.010371</td>\n",
       "    </tr>\n",
       "    <tr>\n",
       "      <th>8</th>\n",
       "      <td>11</td>\n",
       "      <td>BILL_AMT1</td>\n",
       "      <td>NaN</td>\n",
       "      <td>0.007258</td>\n",
       "    </tr>\n",
       "    <tr>\n",
       "      <th>11</th>\n",
       "      <td>14</td>\n",
       "      <td>BILL_AMT4</td>\n",
       "      <td>NaN</td>\n",
       "      <td>0.005331</td>\n",
       "    </tr>\n",
       "    <tr>\n",
       "      <th>12</th>\n",
       "      <td>15</td>\n",
       "      <td>BILL_AMT5</td>\n",
       "      <td>NaN</td>\n",
       "      <td>0.004949</td>\n",
       "    </tr>\n",
       "    <tr>\n",
       "      <th>18</th>\n",
       "      <td>21</td>\n",
       "      <td>PAY_AMT5</td>\n",
       "      <td>NaN</td>\n",
       "      <td>0.004450</td>\n",
       "    </tr>\n",
       "    <tr>\n",
       "      <th>9</th>\n",
       "      <td>12</td>\n",
       "      <td>BILL_AMT2</td>\n",
       "      <td>NaN</td>\n",
       "      <td>0.003806</td>\n",
       "    </tr>\n",
       "    <tr>\n",
       "      <th>10</th>\n",
       "      <td>13</td>\n",
       "      <td>BILL_AMT3</td>\n",
       "      <td>NaN</td>\n",
       "      <td>0.002478</td>\n",
       "    </tr>\n",
       "    <tr>\n",
       "      <th>13</th>\n",
       "      <td>16</td>\n",
       "      <td>BILL_AMT6</td>\n",
       "      <td>NaN</td>\n",
       "      <td>0.001582</td>\n",
       "    </tr>\n",
       "    <tr>\n",
       "      <th>1</th>\n",
       "      <td>4</td>\n",
       "      <td>AGE</td>\n",
       "      <td>NaN</td>\n",
       "      <td>0.001048</td>\n",
       "    </tr>\n",
       "    <tr>\n",
       "      <th>21</th>\n",
       "      <td>2</td>\n",
       "      <td>EDUCATIONIndex</td>\n",
       "      <td>[2, 1, 3, 4]</td>\n",
       "      <td>0.000481</td>\n",
       "    </tr>\n",
       "    <tr>\n",
       "      <th>20</th>\n",
       "      <td>1</td>\n",
       "      <td>SEXIndex</td>\n",
       "      <td>[2, 1]</td>\n",
       "      <td>0.000297</td>\n",
       "    </tr>\n",
       "    <tr>\n",
       "      <th>22</th>\n",
       "      <td>3</td>\n",
       "      <td>MARRIAGEIndex</td>\n",
       "      <td>[2, 1]</td>\n",
       "      <td>0.000000</td>\n",
       "    </tr>\n",
       "  </tbody>\n",
       "</table>\n",
       "</div>"
      ],
      "text/plain": [
       "    idx            name          vals     score\n",
       "2     5           PAY_1           NaN  0.300939\n",
       "3     6           PAY_2           NaN  0.220381\n",
       "6     9           PAY_5           NaN  0.149564\n",
       "5     8           PAY_4           NaN  0.075981\n",
       "4     7           PAY_3           NaN  0.050620\n",
       "14   17        PAY_AMT1           NaN  0.047747\n",
       "15   18        PAY_AMT2           NaN  0.030381\n",
       "7    10           PAY_6           NaN  0.027997\n",
       "17   20        PAY_AMT4           NaN  0.024517\n",
       "0     0       LIMIT_BAL           NaN  0.015326\n",
       "16   19        PAY_AMT3           NaN  0.014496\n",
       "19   22        PAY_AMT6           NaN  0.010371\n",
       "8    11       BILL_AMT1           NaN  0.007258\n",
       "11   14       BILL_AMT4           NaN  0.005331\n",
       "12   15       BILL_AMT5           NaN  0.004949\n",
       "18   21        PAY_AMT5           NaN  0.004450\n",
       "9    12       BILL_AMT2           NaN  0.003806\n",
       "10   13       BILL_AMT3           NaN  0.002478\n",
       "13   16       BILL_AMT6           NaN  0.001582\n",
       "1     4             AGE           NaN  0.001048\n",
       "21    2  EDUCATIONIndex  [2, 1, 3, 4]  0.000481\n",
       "20    1        SEXIndex        [2, 1]  0.000297\n",
       "22    3   MARRIAGEIndex        [2, 1]  0.000000"
      ]
     },
     "execution_count": 53,
     "metadata": {},
     "output_type": "execute_result"
    }
   ],
   "source": [
    "#with this you can extract the features, since the outcome is a pandas dataframe, we can use pandas related functions and methods\n",
    "# you can check it with this command: type()\n",
    "ExtractFeatureImp(fit_rf_Label.stages[-1].featureImportances, df2, \"features\")"
   ]
  },
  {
   "cell_type": "code",
   "execution_count": 54,
   "metadata": {
    "application/vnd.databricks.v1+cell": {
     "inputWidgets": {},
     "nuid": "07497d1c-0e2b-43d9-9bae-ccff08bd7406",
     "showTitle": false,
     "title": ""
    }
   },
   "outputs": [
    {
     "data": {
      "text/plain": [
       "['PAY_1',\n",
       " 'PAY_2',\n",
       " 'PAY_5',\n",
       " 'PAY_4',\n",
       " 'PAY_3',\n",
       " 'PAY_AMT1',\n",
       " 'PAY_AMT2',\n",
       " 'PAY_6',\n",
       " 'PAY_AMT4',\n",
       " 'LIMIT_BAL',\n",
       " 'PAY_AMT3',\n",
       " 'PAY_AMT6',\n",
       " 'BILL_AMT1',\n",
       " 'BILL_AMT4',\n",
       " 'BILL_AMT5',\n",
       " 'PAY_AMT5',\n",
       " 'BILL_AMT2',\n",
       " 'BILL_AMT3',\n",
       " 'BILL_AMT6',\n",
       " 'AGE',\n",
       " 'EDUCATIONIndex',\n",
       " 'Default']"
      ]
     },
     "execution_count": 54,
     "metadata": {},
     "output_type": "execute_result"
    }
   ],
   "source": [
    "features=ExtractFeatureImp(fit_rf_Label.stages[-1].featureImportances, df2, \"features\")\n",
    "\n",
    "features=features[features.score>0.00036].iloc[:,1].tolist()\n",
    "vars=features+['Default']\n",
    "vars"
   ]
  },
  {
   "cell_type": "code",
   "execution_count": 55,
   "metadata": {
    "application/vnd.databricks.v1+cell": {
     "inputWidgets": {},
     "nuid": "1fe47263-5911-4ac9-9dbe-37d968eccc95",
     "showTitle": false,
     "title": ""
    }
   },
   "outputs": [],
   "source": [
    "train_df_selected=fit_model_Label.transform(train_df).select(vars)\n",
    "test_df_selected=fit_model_Label.transform(test_df).select(vars)"
   ]
  },
  {
   "cell_type": "code",
   "execution_count": 56,
   "metadata": {
    "application/vnd.databricks.v1+cell": {
     "inputWidgets": {},
     "nuid": "e49d1563-99bb-46c0-9071-a4503fdaed7b",
     "showTitle": false,
     "title": ""
    }
   },
   "outputs": [],
   "source": [
    "# we don't need to apply whole of pipeline just the last step which training the model is enough\n",
    "assembler = VectorAssembler(inputCols= features, outputCol=\"features\")\n",
    "datatrain = assembler.transform(train_df_selected)\n",
    "datatest = assembler.transform(test_df_selected)\n",
    "\n",
    "log_reg_df = LogisticRegression(featuresCol='features',labelCol='Default')\n",
    "\n",
    "fit_new = log_reg_df.fit(datatrain)"
   ]
  },
  {
   "cell_type": "code",
   "execution_count": 57,
   "metadata": {
    "application/vnd.databricks.v1+cell": {
     "inputWidgets": {},
     "nuid": "d81e01b8-cc46-4055-8c47-066e3d6a4b2c",
     "showTitle": false,
     "title": ""
    }
   },
   "outputs": [],
   "source": [
    "train_new_results = fit_new.transform(datatrain)\n",
    "test_new_results = fit_new.transform(datatest)"
   ]
  },
  {
   "cell_type": "code",
   "execution_count": 58,
   "metadata": {
    "application/vnd.databricks.v1+cell": {
     "inputWidgets": {},
     "nuid": "86c39f99-3cfd-46e3-963e-a8541581f6c8",
     "showTitle": false,
     "title": ""
    }
   },
   "outputs": [],
   "source": [
    "AUC_test_new = AUC_eval.evaluate(test_new_results)\n",
    "AUC_train_new = AUC_eval.evaluate(train_new_results)\n",
    "\n",
    "Accu_test_new = Accu_evaluator.evaluate(test_new_results, {Accu_evaluator.metricName: \"accuracy\"})\n",
    "Accu_train_new = Accu_evaluator.evaluate(train_new_results, {Accu_evaluator.metricName: \"accuracy\"})"
   ]
  },
  {
   "cell_type": "code",
   "execution_count": 59,
   "metadata": {
    "application/vnd.databricks.v1+cell": {
     "inputWidgets": {},
     "nuid": "ade286c2-808d-4578-ba94-3591489bd68f",
     "showTitle": false,
     "title": ""
    }
   },
   "outputs": [
    {
     "name": "stdout",
     "output_type": "stream",
     "text": [
      "Test AUC with Label Encoding & feature selection 0.6765270459580119\n",
      "Train AUC with Label Encoding & feature selection 0.6725869336953496\n",
      "\n",
      "\n",
      "Accuracy: Test with Label Encoding & feature selection 0.6765741963892559\n",
      "Accuracy: Train with Label Encoding & feature selection 0.6726223199560198\n"
     ]
    }
   ],
   "source": [
    "print(\"Test AUC with Label Encoding & feature selection\", AUC_test_new)\n",
    "print(\"Train AUC with Label Encoding & feature selection\", AUC_train_new)\n",
    "print(\"\\n\")\n",
    "print(\"Accuracy: Test with Label Encoding & feature selection\", Accu_test_new)\n",
    "print(\"Accuracy: Train with Label Encoding & feature selection\", Accu_train_new)"
   ]
  },
  {
   "cell_type": "markdown",
   "metadata": {
    "application/vnd.databricks.v1+cell": {
     "inputWidgets": {},
     "nuid": "a20a9108-5602-4f24-a2f1-d9c9b41b582f",
     "showTitle": true,
     "title": "2. Next Potential Steps -- try to improve the performance（Tuning the algorithms --CrossValidator）"
    }
   },
   "source": [
    "# 2. Next Potential Steps -- try to improve the performance（Tuning the algorithms --CrossValidator）\n",
    "## - Tuning the algorithms (CrossValidator) for LogisticRegression\n",
    "## - As we indicate 3 values for regParam, 3 values for maxIter, and 3 values for elasticNetParam, this grid will have 3 x 3 x 3 = 27 parameter settings for CrossValidator to choose from. We will create a 5-fold cross validator."
   ]
  },
  {
   "cell_type": "code",
   "execution_count": 60,
   "metadata": {
    "application/vnd.databricks.v1+cell": {
     "inputWidgets": {},
     "nuid": "d23d924f-7d0e-46d6-a4c4-9476290751ad",
     "showTitle": false,
     "title": ""
    }
   },
   "outputs": [],
   "source": [
    "import pyspark.ml.tuning as tune\n",
    "from pyspark.ml.tuning import ParamGridBuilder, CrossValidator"
   ]
  },
  {
   "cell_type": "code",
   "execution_count": 61,
   "metadata": {
    "application/vnd.databricks.v1+cell": {
     "inputWidgets": {},
     "nuid": "3ec86f3f-e248-4dee-bcec-6d3026d6d724",
     "showTitle": false,
     "title": ""
    }
   },
   "outputs": [],
   "source": [
    "lc_df = LogisticRegression(featuresCol='features',labelCol='Default')"
   ]
  },
  {
   "cell_type": "code",
   "execution_count": 62,
   "metadata": {
    "application/vnd.databricks.v1+cell": {
     "inputWidgets": {},
     "nuid": "ebaaf161-0114-41a1-a3c8-02aaeb089c88",
     "showTitle": false,
     "title": ""
    }
   },
   "outputs": [],
   "source": [
    "# Create ParamGrid for Cross Validation\n",
    "paramGrid = (ParamGridBuilder()\n",
    "             .addGrid(lc_df.regParam, [0.01, 0.5, 2.0])\n",
    "             .addGrid(lc_df.elasticNetParam, [0.0, 0.5, 1.0])\n",
    "             .addGrid(lc_df.maxIter, [1, 5, 10])\n",
    "             .build())"
   ]
  },
  {
   "cell_type": "code",
   "execution_count": 63,
   "metadata": {
    "application/vnd.databricks.v1+cell": {
     "inputWidgets": {},
     "nuid": "f2a8c699-1c2e-475d-bf15-8a1ad7180e9a",
     "showTitle": false,
     "title": ""
    }
   },
   "outputs": [],
   "source": [
    "cv = CrossValidator(estimator=lc_df, estimatorParamMaps=paramGrid, evaluator=BinaryClassificationEvaluator(rawPredictionCol='prediction', labelCol='Default'),numFolds=5)"
   ]
  },
  {
   "cell_type": "code",
   "execution_count": 64,
   "metadata": {
    "application/vnd.databricks.v1+cell": {
     "inputWidgets": {},
     "nuid": "74c50c36-d4a1-4710-af9b-803fa10da4d9",
     "showTitle": false,
     "title": ""
    }
   },
   "outputs": [],
   "source": [
    "cvModel = cv.fit(datatrain)"
   ]
  },
  {
   "cell_type": "code",
   "execution_count": 65,
   "metadata": {
    "application/vnd.databricks.v1+cell": {
     "inputWidgets": {},
     "nuid": "c3f4ec97-a85c-417b-97a2-703669556481",
     "showTitle": false,
     "title": ""
    }
   },
   "outputs": [],
   "source": [
    "train_new0_results = cvModel.transform(datatrain)\n",
    "test_new0_results = cvModel.transform(datatest)\n",
    "\n",
    "AUC_test_new0 = AUC_eval.evaluate(test_new0_results)\n",
    "AUC_train_new0 = AUC_eval.evaluate(train_new0_results)\n",
    "\n",
    "Accu_test_new0 = Accu_evaluator.evaluate(test_new0_results, {Accu_evaluator.metricName: \"accuracy\"})\n",
    "Accu_train_new0 = Accu_evaluator.evaluate(train_new0_results, {Accu_evaluator.metricName: \"accuracy\"})"
   ]
  },
  {
   "cell_type": "code",
   "execution_count": 66,
   "metadata": {
    "application/vnd.databricks.v1+cell": {
     "inputWidgets": {},
     "nuid": "e5b3f54b-ede3-48e4-b5e0-20d36ede0745",
     "showTitle": false,
     "title": ""
    }
   },
   "outputs": [
    {
     "name": "stdout",
     "output_type": "stream",
     "text": [
      "Test AUC with Label Encoding & feature selection 0.6871444083045317\n",
      "Train AUC with Label Encoding & feature selection 0.6841121710219951\n",
      "\n",
      "\n",
      "Accuracy: Test with Label Encoding & feature selection 0.6874724790841039\n",
      "Accuracy: Train with Label Encoding & feature selection 0.6843320505772402\n"
     ]
    }
   ],
   "source": [
    "print(\"Test AUC with Label Encoding & feature selection\", AUC_test_new0)\n",
    "print(\"Train AUC with Label Encoding & feature selection\", AUC_train_new0)\n",
    "print(\"\\n\")\n",
    "print(\"Accuracy: Test with Label Encoding & feature selection\", Accu_test_new0)\n",
    "print(\"Accuracy: Train with Label Encoding & feature selection\", Accu_train_new0)"
   ]
  },
  {
   "cell_type": "markdown",
   "metadata": {
    "application/vnd.databricks.v1+cell": {
     "inputWidgets": {},
     "nuid": "f2ee8f9a-ca3c-4974-8a94-442cced868e2",
     "showTitle": true,
     "title": "3. Next Potential Steps -- try to improve the performance（Trying other algorithms）"
    }
   },
   "source": [
    "# 3. Next Potential Steps -- try to improve the performance（Trying other algorithms）\n",
    "## Trying other algorithms\n",
    "## - Decision tree\n",
    "## - Random forest\n",
    "## - Gradient boosting tree\n",
    "## - SVM"
   ]
  },
  {
   "cell_type": "markdown",
   "metadata": {},
   "source": [
    "# Decision tree"
   ]
  },
  {
   "cell_type": "code",
   "execution_count": 67,
   "metadata": {
    "application/vnd.databricks.v1+cell": {
     "inputWidgets": {},
     "nuid": "2d12f0b7-2ca4-4bfa-ab2e-bae3085f0427",
     "showTitle": true,
     "title": "Decision tree"
    }
   },
   "outputs": [],
   "source": [
    "from pyspark.ml.classification import DecisionTreeClassifier"
   ]
  },
  {
   "cell_type": "code",
   "execution_count": 68,
   "metadata": {
    "application/vnd.databricks.v1+cell": {
     "inputWidgets": {},
     "nuid": "7f397e68-c997-4bdf-bdc5-3a895bfa3303",
     "showTitle": false,
     "title": ""
    }
   },
   "outputs": [],
   "source": [
    "dt_df = DecisionTreeClassifier(featuresCol='features',labelCol='Default')\n",
    "\n",
    "fit_new1 = dt_df.fit(datatrain)"
   ]
  },
  {
   "cell_type": "code",
   "execution_count": 69,
   "metadata": {
    "application/vnd.databricks.v1+cell": {
     "inputWidgets": {},
     "nuid": "3a4d7114-cd16-4468-8834-fe7c9dd7512f",
     "showTitle": false,
     "title": ""
    }
   },
   "outputs": [],
   "source": [
    "train_new1_results = fit_new1.transform(datatrain)\n",
    "test_new1_results = fit_new1.transform(datatest)"
   ]
  },
  {
   "cell_type": "code",
   "execution_count": 70,
   "metadata": {
    "application/vnd.databricks.v1+cell": {
     "inputWidgets": {},
     "nuid": "b2119f61-647a-49da-b9b4-640b3995f933",
     "showTitle": false,
     "title": ""
    }
   },
   "outputs": [],
   "source": [
    "AUC_test_new1 = AUC_eval.evaluate(test_new1_results)\n",
    "AUC_train_new1 = AUC_eval.evaluate(train_new1_results)\n",
    "\n",
    "Accu_test_new1 = Accu_evaluator.evaluate(test_new1_results, {Accu_evaluator.metricName: \"accuracy\"})\n",
    "Accu_train_new1 = Accu_evaluator.evaluate(train_new1_results, {Accu_evaluator.metricName: \"accuracy\"})"
   ]
  },
  {
   "cell_type": "code",
   "execution_count": 71,
   "metadata": {
    "application/vnd.databricks.v1+cell": {
     "inputWidgets": {},
     "nuid": "796cf8c7-f025-40fd-8d86-5f8c77d34af8",
     "showTitle": false,
     "title": ""
    }
   },
   "outputs": [
    {
     "name": "stdout",
     "output_type": "stream",
     "text": [
      "Test AUC with Label Encoding & feature selection 0.7097990760893275\n",
      "Train AUC with Label Encoding & feature selection 0.710971926078711\n",
      "\n",
      "\n",
      "Accuracy: Test with Label Encoding & feature selection 0.7100396301188904\n",
      "Accuracy: Train with Label Encoding & feature selection 0.7111324903793294\n"
     ]
    }
   ],
   "source": [
    "print(\"Test AUC with Label Encoding & feature selection\", AUC_test_new1)\n",
    "print(\"Train AUC with Label Encoding & feature selection\", AUC_train_new1)\n",
    "print(\"\\n\")\n",
    "print(\"Accuracy: Test with Label Encoding & feature selection\", Accu_test_new1)\n",
    "print(\"Accuracy: Train with Label Encoding & feature selection\", Accu_train_new1)"
   ]
  },
  {
   "cell_type": "markdown",
   "metadata": {},
   "source": [
    "# Random forest"
   ]
  },
  {
   "cell_type": "code",
   "execution_count": 72,
   "metadata": {
    "application/vnd.databricks.v1+cell": {
     "inputWidgets": {},
     "nuid": "ee0e6137-7e56-456f-b0dc-6c5f48014185",
     "showTitle": true,
     "title": "Random forest"
    }
   },
   "outputs": [],
   "source": [
    "from pyspark.ml.classification import RandomForestClassifier"
   ]
  },
  {
   "cell_type": "code",
   "execution_count": 73,
   "metadata": {
    "application/vnd.databricks.v1+cell": {
     "inputWidgets": {},
     "nuid": "53389b63-8c4a-48b0-ad03-0c11c34ca875",
     "showTitle": false,
     "title": ""
    }
   },
   "outputs": [],
   "source": [
    "rf_df = RandomForestClassifier(featuresCol='features',labelCol='Default')\n",
    "fit_new2 = rf_df.fit(datatrain)"
   ]
  },
  {
   "cell_type": "code",
   "execution_count": 74,
   "metadata": {
    "application/vnd.databricks.v1+cell": {
     "inputWidgets": {},
     "nuid": "612a6c40-b906-426e-8572-9ce67b97d6df",
     "showTitle": false,
     "title": ""
    }
   },
   "outputs": [],
   "source": [
    "train_new2_results = fit_new2.transform(datatrain)\n",
    "test_new2_results = fit_new2.transform(datatest)"
   ]
  },
  {
   "cell_type": "code",
   "execution_count": 75,
   "metadata": {
    "application/vnd.databricks.v1+cell": {
     "inputWidgets": {},
     "nuid": "7c13a566-89bb-4372-85af-62a61959c17f",
     "showTitle": false,
     "title": ""
    }
   },
   "outputs": [],
   "source": [
    "AUC_test_new2 = AUC_eval.evaluate(test_new2_results)\n",
    "AUC_train_new2 = AUC_eval.evaluate(train_new2_results)\n",
    "\n",
    "Accu_test_new2 = Accu_evaluator.evaluate(test_new2_results, {Accu_evaluator.metricName: \"accuracy\"})\n",
    "Accu_train_new2 = Accu_evaluator.evaluate(train_new2_results, {Accu_evaluator.metricName: \"accuracy\"})"
   ]
  },
  {
   "cell_type": "code",
   "execution_count": 76,
   "metadata": {
    "application/vnd.databricks.v1+cell": {
     "inputWidgets": {},
     "nuid": "eb5f4a08-7fa4-4230-b72f-cfd25ba956de",
     "showTitle": false,
     "title": ""
    }
   },
   "outputs": [
    {
     "name": "stdout",
     "output_type": "stream",
     "text": [
      "Test AUC with Label Encoding & feature selection 0.716123307658376\n",
      "Train AUC with Label Encoding & feature selection 0.7187003227218774\n",
      "\n",
      "\n",
      "Accuracy: Test with Label Encoding & feature selection 0.7163143989431968\n",
      "Accuracy: Train with Label Encoding & feature selection 0.718829026937878\n"
     ]
    }
   ],
   "source": [
    "print(\"Test AUC with Label Encoding & feature selection\", AUC_test_new2)\n",
    "print(\"Train AUC with Label Encoding & feature selection\", AUC_train_new2)\n",
    "print(\"\\n\")\n",
    "print(\"Accuracy: Test with Label Encoding & feature selection\", Accu_test_new2)\n",
    "print(\"Accuracy: Train with Label Encoding & feature selection\", Accu_train_new2)"
   ]
  },
  {
   "cell_type": "markdown",
   "metadata": {},
   "source": [
    "# Gradient boosting tree"
   ]
  },
  {
   "cell_type": "code",
   "execution_count": 77,
   "metadata": {
    "application/vnd.databricks.v1+cell": {
     "inputWidgets": {},
     "nuid": "3653419e-8713-499a-9b89-ce7032040f49",
     "showTitle": true,
     "title": "Gradient boosting tree"
    }
   },
   "outputs": [],
   "source": [
    "from pyspark.ml.classification import GBTClassifier"
   ]
  },
  {
   "cell_type": "code",
   "execution_count": 78,
   "metadata": {
    "application/vnd.databricks.v1+cell": {
     "inputWidgets": {},
     "nuid": "a8378ac9-bd03-4d46-b119-79e0c133c264",
     "showTitle": false,
     "title": ""
    }
   },
   "outputs": [],
   "source": [
    "gbt_df = GBTClassifier(featuresCol='features',labelCol='Default')\n",
    "fit_new3 = gbt_df.fit(datatrain)"
   ]
  },
  {
   "cell_type": "code",
   "execution_count": 79,
   "metadata": {
    "application/vnd.databricks.v1+cell": {
     "inputWidgets": {},
     "nuid": "df1b9f17-2bf6-4fda-9a34-37e724d07589",
     "showTitle": false,
     "title": ""
    }
   },
   "outputs": [],
   "source": [
    "train_new3_results = fit_new3.transform(datatrain)\n",
    "test_new3_results = fit_new3.transform(datatest)\n",
    "\n",
    "AUC_test_new3 = AUC_eval.evaluate(test_new3_results)\n",
    "AUC_train_new3 = AUC_eval.evaluate(train_new3_results)\n",
    "\n",
    "Accu_test_new3 = Accu_evaluator.evaluate(test_new3_results, {Accu_evaluator.metricName: \"accuracy\"})\n",
    "Accu_train_new3 = Accu_evaluator.evaluate(train_new3_results, {Accu_evaluator.metricName: \"accuracy\"})"
   ]
  },
  {
   "cell_type": "code",
   "execution_count": 80,
   "metadata": {
    "application/vnd.databricks.v1+cell": {
     "inputWidgets": {},
     "nuid": "b67ab518-5180-4d16-9650-237c5980d084",
     "showTitle": false,
     "title": ""
    }
   },
   "outputs": [
    {
     "name": "stdout",
     "output_type": "stream",
     "text": [
      "Test AUC with Label Encoding & feature selection 0.7230400345133472\n",
      "Train AUC with Label Encoding & feature selection 0.7326079658889098\n",
      "\n",
      "\n",
      "Accuracy: Test with Label Encoding & feature selection 0.723139586085425\n",
      "Accuracy: Train with Label Encoding & feature selection 0.7326827927432655\n"
     ]
    }
   ],
   "source": [
    "print(\"Test AUC with Label Encoding & feature selection\", AUC_test_new3)\n",
    "print(\"Train AUC with Label Encoding & feature selection\", AUC_train_new3)\n",
    "print(\"\\n\")\n",
    "print(\"Accuracy: Test with Label Encoding & feature selection\", Accu_test_new3)\n",
    "print(\"Accuracy: Train with Label Encoding & feature selection\", Accu_train_new3)"
   ]
  },
  {
   "cell_type": "markdown",
   "metadata": {},
   "source": [
    "# SVM"
   ]
  },
  {
   "cell_type": "code",
   "execution_count": 81,
   "metadata": {
    "application/vnd.databricks.v1+cell": {
     "inputWidgets": {},
     "nuid": "9b24b70c-e346-4fc4-88b1-ad17a84aa424",
     "showTitle": true,
     "title": "SVM"
    }
   },
   "outputs": [],
   "source": [
    "from pyspark.ml.classification import LinearSVC"
   ]
  },
  {
   "cell_type": "code",
   "execution_count": 82,
   "metadata": {
    "application/vnd.databricks.v1+cell": {
     "inputWidgets": {},
     "nuid": "cd210e6f-bc11-4c1a-9965-5566ed21dab3",
     "showTitle": false,
     "title": ""
    }
   },
   "outputs": [],
   "source": [
    "svm_df = LinearSVC(featuresCol='features',labelCol='Default')\n",
    "fit_new4 = svm_df.fit(datatrain)"
   ]
  },
  {
   "cell_type": "code",
   "execution_count": 83,
   "metadata": {
    "application/vnd.databricks.v1+cell": {
     "inputWidgets": {},
     "nuid": "b81a97f6-2690-4c3f-9651-87bf129da01f",
     "showTitle": false,
     "title": ""
    }
   },
   "outputs": [],
   "source": [
    "train_new4_results = fit_new4.transform(datatrain)\n",
    "test_new4_results = fit_new4.transform(datatest)\n",
    "\n",
    "AUC_test_new4 = AUC_eval.evaluate(test_new4_results)\n",
    "AUC_train_new4 = AUC_eval.evaluate(train_new4_results)\n",
    "\n",
    "Accu_test_new4 = Accu_evaluator.evaluate(test_new4_results, {Accu_evaluator.metricName: \"accuracy\"})\n",
    "Accu_train_new4 = Accu_evaluator.evaluate(train_new4_results, {Accu_evaluator.metricName: \"accuracy\"})"
   ]
  },
  {
   "cell_type": "code",
   "execution_count": 84,
   "metadata": {
    "application/vnd.databricks.v1+cell": {
     "inputWidgets": {},
     "nuid": "2cb2bad0-5c49-45e5-83e4-3aec1dec1fc0",
     "showTitle": false,
     "title": ""
    }
   },
   "outputs": [
    {
     "name": "stdout",
     "output_type": "stream",
     "text": [
      "Test AUC with Label Encoding & feature selection 0.6831246212984191\n",
      "Train AUC with Label Encoding & feature selection 0.6841975988946856\n",
      "\n",
      "\n",
      "Accuracy: Test with Label Encoding & feature selection 0.6833993835314839\n",
      "Accuracy: Train with Label Encoding & feature selection 0.6843870258383727\n"
     ]
    }
   ],
   "source": [
    "print(\"Test AUC with Label Encoding & feature selection\", AUC_test_new4)\n",
    "print(\"Train AUC with Label Encoding & feature selection\", AUC_train_new4)\n",
    "print(\"\\n\")\n",
    "print(\"Accuracy: Test with Label Encoding & feature selection\", Accu_test_new4)\n",
    "print(\"Accuracy: Train with Label Encoding & feature selection\", Accu_train_new4)"
   ]
  },
  {
   "cell_type": "markdown",
   "metadata": {},
   "source": [
    "# Now we will try tuning the model（Decision tree） with the ParamGridBuilder and the CrossValidator."
   ]
  },
  {
   "cell_type": "markdown",
   "metadata": {
    "application/vnd.databricks.v1+cell": {
     "inputWidgets": {},
     "nuid": "060996d8-8dab-4e7b-8e94-93525cbcfd95",
     "showTitle": true,
     "title": "Now we will try tuning the model（Decision tree） with the ParamGridBuilder and the CrossValidator."
    }
   },
   "source": [
    "## As we indicate 4 values for maxDepth and 3 values for maxBin, this grid will have 4 x 3 = 12 parameter settings for CrossValidator to choose from. We will create a 5-fold CrossValidator."
   ]
  },
  {
   "cell_type": "code",
   "execution_count": 85,
   "metadata": {
    "application/vnd.databricks.v1+cell": {
     "inputWidgets": {},
     "nuid": "c2f186c8-e3fd-4741-b861-54a6866d0688",
     "showTitle": false,
     "title": ""
    }
   },
   "outputs": [],
   "source": [
    "# Create ParamGrid for Cross Validation\n",
    "paramGrid1 = (ParamGridBuilder()\n",
    "             .addGrid(dt_df.maxDepth, [1, 2, 6, 10])\n",
    "             .addGrid(dt_df.maxBins, [20, 40, 80])\n",
    "             .build())"
   ]
  },
  {
   "cell_type": "code",
   "execution_count": 86,
   "metadata": {
    "application/vnd.databricks.v1+cell": {
     "inputWidgets": {},
     "nuid": "d5087951-3bc8-40d9-9eb9-286e8d6986b9",
     "showTitle": false,
     "title": ""
    }
   },
   "outputs": [],
   "source": [
    "# Create 5-fold CrossValidator\n",
    "cv1 = CrossValidator(estimator=dt_df, estimatorParamMaps=paramGrid1, evaluator=BinaryClassificationEvaluator(rawPredictionCol='prediction', labelCol='Default'),numFolds=5)"
   ]
  },
  {
   "cell_type": "code",
   "execution_count": 87,
   "metadata": {
    "application/vnd.databricks.v1+cell": {
     "inputWidgets": {},
     "nuid": "503a1572-4940-4052-b1aa-94b18aa01f1a",
     "showTitle": false,
     "title": ""
    }
   },
   "outputs": [],
   "source": [
    "# Run cross validations\n",
    "cvModel1 = cv1.fit(datatrain)"
   ]
  },
  {
   "cell_type": "code",
   "execution_count": 88,
   "metadata": {
    "application/vnd.databricks.v1+cell": {
     "inputWidgets": {},
     "nuid": "67b5ed1b-e375-4ed8-aa7e-66555f3d47b5",
     "showTitle": false,
     "title": ""
    }
   },
   "outputs": [],
   "source": [
    "train_new01_results = cvModel1.transform(datatrain)\n",
    "test_new01_results = cvModel1.transform(datatest)\n",
    "\n",
    "AUC_test_new01 = AUC_eval.evaluate(test_new01_results)\n",
    "AUC_train_new01 = AUC_eval.evaluate(train_new01_results)\n",
    "\n",
    "Accu_test_new01 = Accu_evaluator.evaluate(test_new01_results, {Accu_evaluator.metricName: \"accuracy\"})\n",
    "Accu_train_new01 = Accu_evaluator.evaluate(train_new01_results, {Accu_evaluator.metricName: \"accuracy\"})"
   ]
  },
  {
   "cell_type": "code",
   "execution_count": 89,
   "metadata": {
    "application/vnd.databricks.v1+cell": {
     "inputWidgets": {},
     "nuid": "fe3640cc-51f2-4e73-b596-6ac5b8ba4564",
     "showTitle": false,
     "title": ""
    }
   },
   "outputs": [
    {
     "name": "stdout",
     "output_type": "stream",
     "text": [
      "Test AUC with Label Encoding & feature selection 0.7346890163211293\n",
      "Train AUC with Label Encoding & feature selection 0.7673559178201877\n",
      "\n",
      "\n",
      "Accuracy: Test with Label Encoding & feature selection 0.7346983707617789\n",
      "Accuracy: Train with Label Encoding & feature selection 0.767372182517867\n"
     ]
    }
   ],
   "source": [
    "print(\"Test AUC with Label Encoding & feature selection\", AUC_test_new01)\n",
    "print(\"Train AUC with Label Encoding & feature selection\", AUC_train_new01)\n",
    "print(\"\\n\")\n",
    "print(\"Accuracy: Test with Label Encoding & feature selection\", Accu_test_new01)\n",
    "print(\"Accuracy: Train with Label Encoding & feature selection\", Accu_train_new01)"
   ]
  },
  {
   "cell_type": "markdown",
   "metadata": {},
   "source": [
    "# Now we will try tuning the model（Random forest） with the ParamGridBuilder and the CrossValidator."
   ]
  },
  {
   "cell_type": "markdown",
   "metadata": {
    "application/vnd.databricks.v1+cell": {
     "inputWidgets": {},
     "nuid": "d19a40c3-966d-44fe-9a81-c767de975929",
     "showTitle": true,
     "title": "Now we will try tuning the model（Random forest） with the ParamGridBuilder and the CrossValidator."
    }
   },
   "source": [
    "## As we indicate 4 values for maxDepth, 3 values for maxBin, and 2 values for numTrees, this grid will have 4 x 3 x 2 = 24 parameter settings for CrossValidator to choose from. We will create a 5-fold CrossValidator."
   ]
  },
  {
   "cell_type": "code",
   "execution_count": 90,
   "metadata": {
    "application/vnd.databricks.v1+cell": {
     "inputWidgets": {},
     "nuid": "faad2732-9f00-402b-be07-f5ef3b853887",
     "showTitle": false,
     "title": ""
    }
   },
   "outputs": [],
   "source": [
    "# Create ParamGrid for Cross Validation\n",
    "paramGrid2 = (ParamGridBuilder()\n",
    "             .addGrid(rf_df.maxDepth, [1, 2, 6, 10])\n",
    "             .addGrid(rf_df.maxBins, [20, 40, 80])\n",
    "             .addGrid(rf_df.numTrees, [5, 20])\n",
    "             .build())"
   ]
  },
  {
   "cell_type": "code",
   "execution_count": 91,
   "metadata": {
    "application/vnd.databricks.v1+cell": {
     "inputWidgets": {},
     "nuid": "9c556339-8008-45c0-bb34-08d82c977c3f",
     "showTitle": false,
     "title": ""
    }
   },
   "outputs": [],
   "source": [
    "# Create 5-fold CrossValidator\n",
    "cv2 = CrossValidator(estimator=rf_df, estimatorParamMaps=paramGrid2, evaluator=BinaryClassificationEvaluator(rawPredictionCol='prediction', labelCol='Default'),numFolds=5)"
   ]
  },
  {
   "cell_type": "code",
   "execution_count": 92,
   "metadata": {
    "application/vnd.databricks.v1+cell": {
     "inputWidgets": {},
     "nuid": "919686ba-741d-428f-a23d-c906d998aed7",
     "showTitle": false,
     "title": ""
    }
   },
   "outputs": [],
   "source": [
    "# Run cross validations\n",
    "cvModel2 = cv2.fit(datatrain)"
   ]
  },
  {
   "cell_type": "code",
   "execution_count": 93,
   "metadata": {
    "application/vnd.databricks.v1+cell": {
     "inputWidgets": {},
     "nuid": "5871f5d4-81c8-4678-bd8f-4ce2bd2e9380",
     "showTitle": false,
     "title": ""
    }
   },
   "outputs": [],
   "source": [
    "train_new02_results = cvModel2.transform(datatrain)\n",
    "test_new02_results = cvModel2.transform(datatest)\n",
    "\n",
    "AUC_test_new02 = AUC_eval.evaluate(test_new02_results)\n",
    "AUC_train_new02 = AUC_eval.evaluate(train_new02_results)\n",
    "\n",
    "Accu_test_new02 = Accu_evaluator.evaluate(test_new02_results, {Accu_evaluator.metricName: \"accuracy\"})\n",
    "Accu_train_new02 = Accu_evaluator.evaluate(train_new02_results, {Accu_evaluator.metricName: \"accuracy\"})"
   ]
  },
  {
   "cell_type": "code",
   "execution_count": 94,
   "metadata": {
    "application/vnd.databricks.v1+cell": {
     "inputWidgets": {},
     "nuid": "377d7f03-2668-4caa-a7b0-d1165f7d4a32",
     "showTitle": false,
     "title": ""
    }
   },
   "outputs": [
    {
     "name": "stdout",
     "output_type": "stream",
     "text": [
      "Test AUC with Label Encoding & feature selection 0.7546095192853022\n",
      "Train AUC with Label Encoding & feature selection 0.7767887918340891\n",
      "\n",
      "\n",
      "Accuracy: Test with Label Encoding & feature selection 0.7547335975341259\n",
      "Accuracy: Train with Label Encoding & feature selection 0.7768829026937878\n"
     ]
    }
   ],
   "source": [
    "print(\"Test AUC with Label Encoding & feature selection\", AUC_test_new02)\n",
    "print(\"Train AUC with Label Encoding & feature selection\", AUC_train_new02)\n",
    "print(\"\\n\")\n",
    "print(\"Accuracy: Test with Label Encoding & feature selection\", Accu_test_new02)\n",
    "print(\"Accuracy: Train with Label Encoding & feature selection\", Accu_train_new02)"
   ]
  },
  {
   "cell_type": "markdown",
   "metadata": {},
   "source": [
    "# Conclusion"
   ]
  },
  {
   "cell_type": "markdown",
   "metadata": {
    "application/vnd.databricks.v1+cell": {
     "inputWidgets": {},
     "nuid": "a4730d1f-c320-4faf-9881-e97a0e775257",
     "showTitle": true,
     "title": "Conclusion"
    }
   },
   "source": [
    "# The best model is Random forest（tuning with the ParamGridBuilder and the CrossValidator.）\n",
    "# - Test AUC with Label Encoding & feature selection 0.7546095192853022\n",
    "\n",
    "# - Accuracy: Test with Label Encoding & feature selection 0.7547335975341259"
   ]
  }
 ],
 "metadata": {
  "application/vnd.databricks.v1+notebook": {
   "dashboards": [],
   "language": "python",
   "notebookName": "Final Project-Credit Card Default Prediction",
   "notebookOrigID": 440590990647715,
   "widgets": {}
  },
  "kernelspec": {
   "display_name": "Python 3",
   "language": "python",
   "name": "python3"
  },
  "language_info": {
   "codemirror_mode": {
    "name": "ipython",
    "version": 3
   },
   "file_extension": ".py",
   "mimetype": "text/x-python",
   "name": "python",
   "nbconvert_exporter": "python",
   "pygments_lexer": "ipython3",
   "version": "3.8.3"
  }
 },
 "nbformat": 4,
 "nbformat_minor": 1
}
